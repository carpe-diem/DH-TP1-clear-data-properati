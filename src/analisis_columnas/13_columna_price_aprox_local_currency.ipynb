{
 "cells": [
  {
   "cell_type": "code",
   "execution_count": 13,
   "metadata": {},
   "outputs": [],
   "source": [
    "# Lo primero que hacemos es importar todas las librerias necesarias.\n",
    "#importamos librerias para tratamiento de datos\n",
    "import numpy as np\n",
    "import pandas as pd\n",
    "import re\n",
    "import math as mat\n",
    "\n",
    "#importamos librerias la visualizacion de datos\n",
    "import matplotlib.pyplot as plt\n",
    "import seaborn as sns\n",
    "import os\n",
    "%matplotlib inline"
   ]
  },
  {
   "cell_type": "code",
   "execution_count": 14,
   "metadata": {},
   "outputs": [
    {
     "data": {
      "text/html": [
       "<div>\n",
       "<style scoped>\n",
       "    .dataframe tbody tr th:only-of-type {\n",
       "        vertical-align: middle;\n",
       "    }\n",
       "\n",
       "    .dataframe tbody tr th {\n",
       "        vertical-align: top;\n",
       "    }\n",
       "\n",
       "    .dataframe thead th {\n",
       "        text-align: right;\n",
       "    }\n",
       "</style>\n",
       "<table border=\"1\" class=\"dataframe\">\n",
       "  <thead>\n",
       "    <tr style=\"text-align: right;\">\n",
       "      <th></th>\n",
       "      <th>Unnamed: 0</th>\n",
       "      <th>operation</th>\n",
       "      <th>property_type</th>\n",
       "      <th>place_name</th>\n",
       "      <th>place_with_parent_names</th>\n",
       "      <th>country_name</th>\n",
       "      <th>state_name</th>\n",
       "      <th>geonames_id</th>\n",
       "      <th>lat-lon</th>\n",
       "      <th>lat</th>\n",
       "      <th>...</th>\n",
       "      <th>surface_covered_in_m2</th>\n",
       "      <th>price_usd_per_m2</th>\n",
       "      <th>price_per_m2</th>\n",
       "      <th>floor</th>\n",
       "      <th>rooms</th>\n",
       "      <th>expenses</th>\n",
       "      <th>properati_url</th>\n",
       "      <th>description</th>\n",
       "      <th>title</th>\n",
       "      <th>image_thumbnail</th>\n",
       "    </tr>\n",
       "  </thead>\n",
       "  <tbody>\n",
       "    <tr>\n",
       "      <th>55873</th>\n",
       "      <td>55873</td>\n",
       "      <td>sell</td>\n",
       "      <td>apartment</td>\n",
       "      <td>Tigre</td>\n",
       "      <td>|Argentina|Bs.As. G.B.A. Zona Norte|Tigre|</td>\n",
       "      <td>Argentina</td>\n",
       "      <td>Bs.As. G.B.A. Zona Norte</td>\n",
       "      <td>3427753.0</td>\n",
       "      <td>NaN</td>\n",
       "      <td>NaN</td>\n",
       "      <td>...</td>\n",
       "      <td>36.0</td>\n",
       "      <td>2175.000000</td>\n",
       "      <td>2416.666667</td>\n",
       "      <td>3.0</td>\n",
       "      <td>NaN</td>\n",
       "      <td>2000.0</td>\n",
       "      <td>http://www.properati.com.ar/19pst_venta_depart...</td>\n",
       "      <td>Complejo La Mora - calle Güemes al 2000, Rincó...</td>\n",
       "      <td>DEPARTAMENTO EN VENTA</td>\n",
       "      <td>https://thumbs4.properati.com/3/r05G6GAS2vYsfB...</td>\n",
       "    </tr>\n",
       "    <tr>\n",
       "      <th>80126</th>\n",
       "      <td>80126</td>\n",
       "      <td>sell</td>\n",
       "      <td>apartment</td>\n",
       "      <td>La Lucila</td>\n",
       "      <td>|Argentina|Bs.As. G.B.A. Zona Norte|Vicente Ló...</td>\n",
       "      <td>Argentina</td>\n",
       "      <td>Bs.As. G.B.A. Zona Norte</td>\n",
       "      <td>3432310.0</td>\n",
       "      <td>-34.5010361,-58.4958178</td>\n",
       "      <td>-34.501036</td>\n",
       "      <td>...</td>\n",
       "      <td>64.0</td>\n",
       "      <td>NaN</td>\n",
       "      <td>3668.437500</td>\n",
       "      <td>NaN</td>\n",
       "      <td>NaN</td>\n",
       "      <td>2213.0</td>\n",
       "      <td>http://www.properati.com.ar/1awgf_venta_depart...</td>\n",
       "      <td>Torre Debenedetti Construi­do por Damonte Dona...</td>\n",
       "      <td>Departamento en venta - 3 ambientes - La Lucila</td>\n",
       "      <td>https://thumbs4.properati.com/2/l_AXDteSkwiFTZ...</td>\n",
       "    </tr>\n",
       "    <tr>\n",
       "      <th>91400</th>\n",
       "      <td>91400</td>\n",
       "      <td>sell</td>\n",
       "      <td>apartment</td>\n",
       "      <td>Vicente López</td>\n",
       "      <td>|Argentina|Bs.As. G.B.A. Zona Norte|Vicente Ló...</td>\n",
       "      <td>Argentina</td>\n",
       "      <td>Bs.As. G.B.A. Zona Norte</td>\n",
       "      <td>NaN</td>\n",
       "      <td>NaN</td>\n",
       "      <td>NaN</td>\n",
       "      <td>...</td>\n",
       "      <td>56.0</td>\n",
       "      <td>NaN</td>\n",
       "      <td>2139.285714</td>\n",
       "      <td>NaN</td>\n",
       "      <td>NaN</td>\n",
       "      <td>700.0</td>\n",
       "      <td>http://www.properati.com.ar/1bbit_venta_depart...</td>\n",
       "      <td>Muy buen departamento en piso 3. Ubicado en el...</td>\n",
       "      <td>Departamento cerca del Río de Vicente López, V...</td>\n",
       "      <td>https://thumbs4.properati.com/3/RSB6j9bvYxMr8k...</td>\n",
       "    </tr>\n",
       "    <tr>\n",
       "      <th>66728</th>\n",
       "      <td>66728</td>\n",
       "      <td>sell</td>\n",
       "      <td>apartment</td>\n",
       "      <td>Remedios de Escalada</td>\n",
       "      <td>|Argentina|Bs.As. G.B.A. Zona Sur|Lanús|Remedi...</td>\n",
       "      <td>Argentina</td>\n",
       "      <td>Bs.As. G.B.A. Zona Sur</td>\n",
       "      <td>3429582.0</td>\n",
       "      <td>NaN</td>\n",
       "      <td>NaN</td>\n",
       "      <td>...</td>\n",
       "      <td>45.0</td>\n",
       "      <td>1088.888889</td>\n",
       "      <td>1088.888889</td>\n",
       "      <td>NaN</td>\n",
       "      <td>NaN</td>\n",
       "      <td>150.0</td>\n",
       "      <td>http://www.properati.com.ar/1ae9q_venta_depart...</td>\n",
       "      <td>Living comedor, cocina con desayunador, dormit...</td>\n",
       "      <td>Departamento en Remedios De Escalada</td>\n",
       "      <td>https://thumbs4.properati.com/7/DOIOOj9taXq1u9...</td>\n",
       "    </tr>\n",
       "    <tr>\n",
       "      <th>23006</th>\n",
       "      <td>23006</td>\n",
       "      <td>sell</td>\n",
       "      <td>apartment</td>\n",
       "      <td>Villa del Parque</td>\n",
       "      <td>|Argentina|Capital Federal|Villa del Parque|</td>\n",
       "      <td>Argentina</td>\n",
       "      <td>Capital Federal</td>\n",
       "      <td>3427455.0</td>\n",
       "      <td>-34.6061279,-58.4973985</td>\n",
       "      <td>-34.606128</td>\n",
       "      <td>...</td>\n",
       "      <td>35.0</td>\n",
       "      <td>2050.000000</td>\n",
       "      <td>2342.857143</td>\n",
       "      <td>NaN</td>\n",
       "      <td>NaN</td>\n",
       "      <td>1400.0</td>\n",
       "      <td>http://www.properati.com.ar/17kbf_venta_depart...</td>\n",
       "      <td>CODIGO: 580-nogoya3600 ubicado en: NOGOYA 3600...</td>\n",
       "      <td>DEPTO 1 AMB. NOGOYA. 3600. VILLA DEL PARQUE</td>\n",
       "      <td>https://thumbs4.properati.com/0/LaVGNZ-mPLD4yR...</td>\n",
       "    </tr>\n",
       "    <tr>\n",
       "      <th>105668</th>\n",
       "      <td>105668</td>\n",
       "      <td>sell</td>\n",
       "      <td>house</td>\n",
       "      <td>Córdoba</td>\n",
       "      <td>|Argentina|Córdoba|Córdoba|</td>\n",
       "      <td>Argentina</td>\n",
       "      <td>Córdoba</td>\n",
       "      <td>3860259.0</td>\n",
       "      <td>NaN</td>\n",
       "      <td>NaN</td>\n",
       "      <td>...</td>\n",
       "      <td>140.0</td>\n",
       "      <td>165.046214</td>\n",
       "      <td>2942.857143</td>\n",
       "      <td>NaN</td>\n",
       "      <td>NaN</td>\n",
       "      <td>NaN</td>\n",
       "      <td>http://www.properati.com.ar/1bv28_venta_casa_c...</td>\n",
       "      <td>TENÉS FAMILIA NUMEROSA ??? Necesitás comodidad...</td>\n",
       "      <td>Casa - Mauller</td>\n",
       "      <td>https://thumbs4.properati.com/1/V2PkgezYwxx2E4...</td>\n",
       "    </tr>\n",
       "  </tbody>\n",
       "</table>\n",
       "<p>6 rows × 26 columns</p>\n",
       "</div>"
      ],
      "text/plain": [
       "        Unnamed: 0 operation property_type            place_name  \\\n",
       "55873        55873      sell     apartment                 Tigre   \n",
       "80126        80126      sell     apartment             La Lucila   \n",
       "91400        91400      sell     apartment         Vicente López   \n",
       "66728        66728      sell     apartment  Remedios de Escalada   \n",
       "23006        23006      sell     apartment      Villa del Parque   \n",
       "105668      105668      sell         house               Córdoba   \n",
       "\n",
       "                                  place_with_parent_names country_name  \\\n",
       "55873          |Argentina|Bs.As. G.B.A. Zona Norte|Tigre|    Argentina   \n",
       "80126   |Argentina|Bs.As. G.B.A. Zona Norte|Vicente Ló...    Argentina   \n",
       "91400   |Argentina|Bs.As. G.B.A. Zona Norte|Vicente Ló...    Argentina   \n",
       "66728   |Argentina|Bs.As. G.B.A. Zona Sur|Lanús|Remedi...    Argentina   \n",
       "23006        |Argentina|Capital Federal|Villa del Parque|    Argentina   \n",
       "105668                        |Argentina|Córdoba|Córdoba|    Argentina   \n",
       "\n",
       "                      state_name  geonames_id                  lat-lon  \\\n",
       "55873   Bs.As. G.B.A. Zona Norte    3427753.0                      NaN   \n",
       "80126   Bs.As. G.B.A. Zona Norte    3432310.0  -34.5010361,-58.4958178   \n",
       "91400   Bs.As. G.B.A. Zona Norte          NaN                      NaN   \n",
       "66728     Bs.As. G.B.A. Zona Sur    3429582.0                      NaN   \n",
       "23006            Capital Federal    3427455.0  -34.6061279,-58.4973985   \n",
       "105668                   Córdoba    3860259.0                      NaN   \n",
       "\n",
       "              lat  ...  surface_covered_in_m2  price_usd_per_m2 price_per_m2  \\\n",
       "55873         NaN  ...                   36.0       2175.000000  2416.666667   \n",
       "80126  -34.501036  ...                   64.0               NaN  3668.437500   \n",
       "91400         NaN  ...                   56.0               NaN  2139.285714   \n",
       "66728         NaN  ...                   45.0       1088.888889  1088.888889   \n",
       "23006  -34.606128  ...                   35.0       2050.000000  2342.857143   \n",
       "105668        NaN  ...                  140.0        165.046214  2942.857143   \n",
       "\n",
       "        floor  rooms  expenses  \\\n",
       "55873     3.0    NaN    2000.0   \n",
       "80126     NaN    NaN    2213.0   \n",
       "91400     NaN    NaN     700.0   \n",
       "66728     NaN    NaN     150.0   \n",
       "23006     NaN    NaN    1400.0   \n",
       "105668    NaN    NaN       NaN   \n",
       "\n",
       "                                            properati_url  \\\n",
       "55873   http://www.properati.com.ar/19pst_venta_depart...   \n",
       "80126   http://www.properati.com.ar/1awgf_venta_depart...   \n",
       "91400   http://www.properati.com.ar/1bbit_venta_depart...   \n",
       "66728   http://www.properati.com.ar/1ae9q_venta_depart...   \n",
       "23006   http://www.properati.com.ar/17kbf_venta_depart...   \n",
       "105668  http://www.properati.com.ar/1bv28_venta_casa_c...   \n",
       "\n",
       "                                              description  \\\n",
       "55873   Complejo La Mora - calle Güemes al 2000, Rincó...   \n",
       "80126   Torre Debenedetti Construi­do por Damonte Dona...   \n",
       "91400   Muy buen departamento en piso 3. Ubicado en el...   \n",
       "66728   Living comedor, cocina con desayunador, dormit...   \n",
       "23006   CODIGO: 580-nogoya3600 ubicado en: NOGOYA 3600...   \n",
       "105668  TENÉS FAMILIA NUMEROSA ??? Necesitás comodidad...   \n",
       "\n",
       "                                                    title  \\\n",
       "55873                               DEPARTAMENTO EN VENTA   \n",
       "80126     Departamento en venta - 3 ambientes - La Lucila   \n",
       "91400   Departamento cerca del Río de Vicente López, V...   \n",
       "66728                Departamento en Remedios De Escalada   \n",
       "23006         DEPTO 1 AMB. NOGOYA. 3600. VILLA DEL PARQUE   \n",
       "105668                                     Casa - Mauller   \n",
       "\n",
       "                                          image_thumbnail  \n",
       "55873   https://thumbs4.properati.com/3/r05G6GAS2vYsfB...  \n",
       "80126   https://thumbs4.properati.com/2/l_AXDteSkwiFTZ...  \n",
       "91400   https://thumbs4.properati.com/3/RSB6j9bvYxMr8k...  \n",
       "66728   https://thumbs4.properati.com/7/DOIOOj9taXq1u9...  \n",
       "23006   https://thumbs4.properati.com/0/LaVGNZ-mPLD4yR...  \n",
       "105668  https://thumbs4.properati.com/1/V2PkgezYwxx2E4...  \n",
       "\n",
       "[6 rows x 26 columns]"
      ]
     },
     "metadata": {},
     "output_type": "display_data"
    },
    {
     "name": "stdout",
     "output_type": "stream",
     "text": [
      "(Cantidad de Filas, Cantidad de columnas) -> (121220, 26)\n"
     ]
    }
   ],
   "source": [
    "# Abrimos el dataset y hacemos un chequeo rápido para saber cantidad de registros y miramos la composición del mismo.\n",
    "filename = \"../../dataset/properati.csv\"\n",
    "data = pd.read_csv(filename)\n",
    "\n",
    "display(data.sample(n=6))\n",
    "print(f\"(Cantidad de Filas, Cantidad de columnas) -> {data.shape}\")"
   ]
  },
  {
   "cell_type": "code",
   "execution_count": 15,
   "metadata": {},
   "outputs": [
    {
     "name": "stdout",
     "output_type": "stream",
     "text": [
      "Cantidad de registros con NaN: 20410\n",
      "Porcentaje de registros con NaN: 16.837155584886982\n",
      "Contamos cantidad de registros unicos:\n",
      "       price_aprox_local_currency  count\n",
      "0                    0.000000e+00      1\n",
      "1                    8.234017e+04      1\n",
      "2                    8.738350e+04      1\n",
      "3                    8.822250e+04      2\n",
      "4                    8.906114e+04      5\n",
      "...                           ...    ...\n",
      "10359                2.823120e+08      1\n",
      "10360                3.440678e+08      1\n",
      "10361                4.054773e+08      1\n",
      "10362                4.411125e+08      1\n",
      "10363                8.212711e+08      1\n",
      "\n",
      "[10364 rows x 2 columns]\n"
     ]
    }
   ],
   "source": [
    "# Columna price_aprox_local_currency: revisamos que opciones tiene, o si se repite lo mismo.\n",
    "print(f'Cantidad de registros con NaN: {data.price_aprox_local_currency.isnull().sum()}')\n",
    "print(f'Porcentaje de registros con NaN: {data.price_aprox_local_currency.isnull().mean()*100}')\n",
    "print(\"Contamos cantidad de registros unicos:\")\n",
    "print(data.groupby(['price_aprox_local_currency']).size().reset_index(name='count'))"
   ]
  },
  {
   "cell_type": "code",
   "execution_count": 16,
   "metadata": {},
   "outputs": [
    {
     "data": {
      "text/plain": [
       "<AxesSubplot:xlabel='property_type'>"
      ]
     },
     "execution_count": 16,
     "metadata": {},
     "output_type": "execute_result"
    },
    {
     "data": {
      "image/png": "[encoded data removed]",
      "text/plain": [
       "<Figure size 432x288 with 1 Axes>"
      ]
     },
     "metadata": {
      "needs_background": "light"
     },
     "output_type": "display_data"
    }
   ],
   "source": [
    "#graficamos el dato por tipo de propiedad con el fin de observar los rangos de precios. Sin embargo vemos que hay unos valores muy altos lo que eleva la dimensión del eje y a numeros exponenciales.\n",
    "data.groupby('property_type')['price_aprox_local_currency'].mean().plot.bar()"
   ]
  },
  {
   "cell_type": "code",
   "execution_count": 17,
   "metadata": {},
   "outputs": [
    {
     "data": {
      "image/png": "[encoded data removed]",
      "text/plain": [
       "<Figure size 432x288 with 1 Axes>"
      ]
     },
     "metadata": {
      "needs_background": "light"
     },
     "output_type": "display_data"
    }
   ],
   "source": [
    "#graficamos un plot para visualizar la dispersión de los precios en dolares por longitud y latitud\n",
    "my_plot_precios_aprox_usd = data.plot(\"lon\", \"lat\", kind=\"scatter\")\n",
    "plt.show()"
   ]
  },
  {
   "cell_type": "code",
   "execution_count": 18,
   "metadata": {},
   "outputs": [
    {
     "data": {
      "text/plain": [
       "count    1.008100e+05\n",
       "mean     4.229397e+06\n",
       "std      6.904714e+06\n",
       "min      0.000000e+00\n",
       "25%      1.583309e+06\n",
       "50%      2.558452e+06\n",
       "75%      4.675792e+06\n",
       "max      8.212711e+08\n",
       "Name: price_aprox_local_currency, dtype: float64"
      ]
     },
     "execution_count": 18,
     "metadata": {},
     "output_type": "execute_result"
    }
   ],
   "source": [
    "data.price_aprox_local_currency.describe()"
   ]
  },
  {
   "cell_type": "markdown",
   "metadata": {},
   "source": [
    "Detalle de análisis de columnas:\n",
    "* `price_aprox_local_currency` -> Esta columna tiene 20.410 datos nulos o su equivalente 16,83%. Consideramos que esta variable es relevante para la proyección, observamos un valor máximo de 821.271.104 alejado significativamente de la media que es de 4.229.397.\n",
    "\n",
    "Esta columna podriamos completarla Multiplicando el precio en dolares que se logre rellenar por la tasa de cambio empleada que en este caso es de 17.6445 pesos argentinos por dolar. (valor calculado al dividir price_aprox_local_currency entre price_aprox_usd)\n"
   ]
  },
  {
   "cell_type": "markdown",
   "metadata": {},
   "source": [
    "### Detalle de valores extremos en la  columna `price_aprox_local_currency`:\n",
    "\n",
    "En el catplot elaborado para esta variable comparada por tipo de propiedad podemos observar como en apartamentos se evidencias valores muy por encima de los valores medios, en el caso de las casas se observan algunas propiedades alejadas de la media."
   ]
  },
  {
   "cell_type": "code",
   "execution_count": 19,
   "metadata": {},
   "outputs": [
    {
     "data": {
      "text/plain": [
       "<seaborn.axisgrid.FacetGrid at 0x249e0186a30>"
      ]
     },
     "execution_count": 19,
     "metadata": {},
     "output_type": "execute_result"
    },
    {
     "data": {
      "image/png": "[encoded data removed]",
      "text/plain": [
       "<Figure size 1800x360 with 1 Axes>"
      ]
     },
     "metadata": {
      "needs_background": "light"
     },
     "output_type": "display_data"
    }
   ],
   "source": [
    "sns.catplot(data=data, x= 'price_aprox_local_currency', y=\"property_type\", kind=\"box\", height=5, aspect=5,)"
   ]
  },
  {
   "cell_type": "markdown",
   "metadata": {},
   "source": [
    "### Regex para rellenar la columna `price_aprox_local_currency`:\n",
    "\n",
    "Vamos a extraer datos de las columnas title y description"
   ]
  },
  {
   "cell_type": "code",
   "execution_count": 20,
   "metadata": {},
   "outputs": [],
   "source": [
    "# Buscamos precio aproximado en moneda local en los titulos y en la descripción\n",
    "data[['description', 'title']] = data[['description', 'title']].apply(lambda x: x.astype(str))\n",
    "\n",
    "#Valor minimo en moneda local $82.340 pesos argentinos, trae pesos con los simbolos tambien? cómo quitariamos los simbolos y los . o cambiamos los . por ,\n",
    "\n",
    "patron = r'[$]([0-9]*\\.?\\,?[0-9]*\\.?\\,?[0-9]*)'\n",
    "\n",
    "regex = re.compile(patron, flags = re.IGNORECASE)\n",
    "\n",
    "precio_aprox_local_currency_titulo=data['title'].replace(np.NAN,\"\").apply(lambda x: regex.findall(x)[0] if regex.findall(x) else np.NaN)\n",
    "data['price_aprox_local_currency'].fillna(precio_aprox_local_currency_titulo, inplace=True)\n",
    "\n",
    "precio_aprox_local_currency_descripcion=data['description'].replace(np.NAN,\"\").apply(lambda x: regex.findall(x)[0] if regex.findall(x) else np.NaN)\n",
    "data['price_aprox_local_currency'].fillna(precio_aprox_local_currency_descripcion, inplace=True)\n"
   ]
  },
  {
   "cell_type": "code",
   "execution_count": 21,
   "metadata": {},
   "outputs": [
    {
     "name": "stdout",
     "output_type": "stream",
     "text": [
      "% de valores nulos que quedan luego de aplicar regex: 13.620689655172413\n",
      "entradas: 121220\n"
     ]
    }
   ],
   "source": [
    "#Al aplicar regex a la columna, se lograron reducir los nan pasando del 16.83% al 13.62%. \n",
    "print (f'% de valores nulos que quedan luego de aplicar regex: {data.price_aprox_local_currency.isna().sum()/data.price_aprox_local_currency.shape[0]*100}')\n",
    "print (f'entradas: {data.price_aprox_local_currency.shape[0]}')"
   ]
  },
  {
   "cell_type": "code",
   "execution_count": 22,
   "metadata": {},
   "outputs": [
    {
     "data": {
      "text/plain": [
       "101064"
      ]
     },
     "execution_count": 22,
     "metadata": {},
     "output_type": "execute_result"
    }
   ],
   "source": [
    "#Vamos a transformar los datos de la columna ya que al extraer datos de regex se convirtieron en tipo object\n",
    "data['price_aprox_local_currency'] = pd.to_numeric(data['price_aprox_local_currency'],errors = 'coerce')\n",
    "data['price_aprox_local_currency'].notnull().sum()"
   ]
  },
  {
   "cell_type": "code",
   "execution_count": 23,
   "metadata": {},
   "outputs": [
    {
     "name": "stdout",
     "output_type": "stream",
     "text": [
      "% de valores nulos que quedan luego de aplicar regex: 16.627619204751692\n",
      "entradas: 121220\n"
     ]
    }
   ],
   "source": [
    "print (f'% de valores nulos que quedan luego de aplicar regex: {data.price_aprox_local_currency.isna().sum()/data.price_aprox_local_currency.shape[0]*100}')\n",
    "print (f'entradas: {data.price_aprox_local_currency.shape[0]}')"
   ]
  }
 ],
 "metadata": {
  "kernelspec": {
   "display_name": "Python 3.8.13 ('dhdsblend2021')",
   "language": "python",
   "name": "python3"
  },
  "language_info": {
   "codemirror_mode": {
    "name": "ipython",
    "version": 3
   },
   "file_extension": ".py",
   "mimetype": "text/x-python",
   "name": "python",
   "nbconvert_exporter": "python",
   "pygments_lexer": "ipython3",
   "version": "3.8.13"
  },
  "orig_nbformat": 4,
  "vscode": {
   "interpreter": {
    "hash": "efc208fdaa12fe71d644c382e37592789e7715eab6097afaedaaf3f1e1734556"
   }
  }
 },
 "nbformat": 4,
 "nbformat_minor": 2
}
