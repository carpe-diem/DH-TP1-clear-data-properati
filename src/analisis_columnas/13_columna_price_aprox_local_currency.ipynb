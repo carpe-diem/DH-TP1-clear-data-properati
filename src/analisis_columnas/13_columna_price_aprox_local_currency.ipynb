{
 "cells": [
  {
   "cell_type": "code",
   "execution_count": 2,
   "metadata": {},
   "outputs": [],
   "source": [
    "# Lo primero que hacemos es importar todas las librerias necesarias.\n",
    "#importamos librerias para tratamiento de datos\n",
    "import numpy as np\n",
    "import pandas as pd\n",
    "import re\n",
    "import math as mat\n",
    "\n",
    "#importamos librerias la visualizacion de datos\n",
    "import matplotlib.pyplot as plt\n",
    "import seaborn as sns\n",
    "import os\n",
    "%matplotlib inline"
   ]
  },
  {
   "cell_type": "code",
   "execution_count": 3,
   "metadata": {},
   "outputs": [
    {
     "data": {
      "text/html": [
       "<div>\n",
       "<style scoped>\n",
       "    .dataframe tbody tr th:only-of-type {\n",
       "        vertical-align: middle;\n",
       "    }\n",
       "\n",
       "    .dataframe tbody tr th {\n",
       "        vertical-align: top;\n",
       "    }\n",
       "\n",
       "    .dataframe thead th {\n",
       "        text-align: right;\n",
       "    }\n",
       "</style>\n",
       "<table border=\"1\" class=\"dataframe\">\n",
       "  <thead>\n",
       "    <tr style=\"text-align: right;\">\n",
       "      <th></th>\n",
       "      <th>Unnamed: 0</th>\n",
       "      <th>operation</th>\n",
       "      <th>property_type</th>\n",
       "      <th>place_name</th>\n",
       "      <th>place_with_parent_names</th>\n",
       "      <th>country_name</th>\n",
       "      <th>state_name</th>\n",
       "      <th>geonames_id</th>\n",
       "      <th>lat-lon</th>\n",
       "      <th>lat</th>\n",
       "      <th>...</th>\n",
       "      <th>surface_covered_in_m2</th>\n",
       "      <th>price_usd_per_m2</th>\n",
       "      <th>price_per_m2</th>\n",
       "      <th>floor</th>\n",
       "      <th>rooms</th>\n",
       "      <th>expenses</th>\n",
       "      <th>properati_url</th>\n",
       "      <th>description</th>\n",
       "      <th>title</th>\n",
       "      <th>image_thumbnail</th>\n",
       "    </tr>\n",
       "  </thead>\n",
       "  <tbody>\n",
       "    <tr>\n",
       "      <th>38493</th>\n",
       "      <td>38493</td>\n",
       "      <td>sell</td>\n",
       "      <td>apartment</td>\n",
       "      <td>Mar del Plata</td>\n",
       "      <td>|Argentina|Buenos Aires Costa Atlántica|Mar de...</td>\n",
       "      <td>Argentina</td>\n",
       "      <td>Buenos Aires Costa Atlántica</td>\n",
       "      <td>3430863.0</td>\n",
       "      <td>-38.0083656,-57.5626231</td>\n",
       "      <td>-38.008366</td>\n",
       "      <td>...</td>\n",
       "      <td>65.0</td>\n",
       "      <td>1676.923077</td>\n",
       "      <td>1676.923077</td>\n",
       "      <td>NaN</td>\n",
       "      <td>3.0</td>\n",
       "      <td>NaN</td>\n",
       "      <td>http://www.properati.com.ar/18l89_venta_depart...</td>\n",
       "      <td>Excelente departamento de 3 ambientes interno ...</td>\n",
       "      <td>Depto. 3 amb. zona Güemes</td>\n",
       "      <td>https://thumbs4.properati.com/9/PW9tmY0YVdmNbs...</td>\n",
       "    </tr>\n",
       "    <tr>\n",
       "      <th>91377</th>\n",
       "      <td>91377</td>\n",
       "      <td>sell</td>\n",
       "      <td>PH</td>\n",
       "      <td>Vicente López</td>\n",
       "      <td>|Argentina|Bs.As. G.B.A. Zona Norte|Vicente Ló...</td>\n",
       "      <td>Argentina</td>\n",
       "      <td>Bs.As. G.B.A. Zona Norte</td>\n",
       "      <td>3427504.0</td>\n",
       "      <td>NaN</td>\n",
       "      <td>NaN</td>\n",
       "      <td>...</td>\n",
       "      <td>53.0</td>\n",
       "      <td>2264.150943</td>\n",
       "      <td>2264.150943</td>\n",
       "      <td>NaN</td>\n",
       "      <td>NaN</td>\n",
       "      <td>NaN</td>\n",
       "      <td>http://www.properati.com.ar/1bbhw_venta_ph_vic...</td>\n",
       "      <td>Muy buen ph 3 amb, 1  piso x escalera, 2 dorm ...</td>\n",
       "      <td>PH en Vicente López</td>\n",
       "      <td>https://thumbs4.properati.com/8/9H6cxmv7ZI4F4-...</td>\n",
       "    </tr>\n",
       "    <tr>\n",
       "      <th>81230</th>\n",
       "      <td>81230</td>\n",
       "      <td>sell</td>\n",
       "      <td>apartment</td>\n",
       "      <td>Flores</td>\n",
       "      <td>|Argentina|Capital Federal|Flores|</td>\n",
       "      <td>Argentina</td>\n",
       "      <td>Capital Federal</td>\n",
       "      <td>3433918.0</td>\n",
       "      <td>NaN</td>\n",
       "      <td>NaN</td>\n",
       "      <td>...</td>\n",
       "      <td>58.0</td>\n",
       "      <td>2318.032787</td>\n",
       "      <td>2437.931034</td>\n",
       "      <td>NaN</td>\n",
       "      <td>NaN</td>\n",
       "      <td>NaN</td>\n",
       "      <td>http://www.properati.com.ar/1axrf_venta_depart...</td>\n",
       "      <td>* Departamento de 2 ambientes a Estrenar con C...</td>\n",
       "      <td>Departamento - Flores</td>\n",
       "      <td>https://thumbs4.properati.com/6/pYfPliKlh5uv8l...</td>\n",
       "    </tr>\n",
       "    <tr>\n",
       "      <th>42942</th>\n",
       "      <td>42942</td>\n",
       "      <td>sell</td>\n",
       "      <td>house</td>\n",
       "      <td>Rosario</td>\n",
       "      <td>|Argentina|Santa Fe|Rosario|</td>\n",
       "      <td>Argentina</td>\n",
       "      <td>Santa Fe</td>\n",
       "      <td>3838574.0</td>\n",
       "      <td>-32.8925454,-60.6892734</td>\n",
       "      <td>-32.892545</td>\n",
       "      <td>...</td>\n",
       "      <td>NaN</td>\n",
       "      <td>NaN</td>\n",
       "      <td>NaN</td>\n",
       "      <td>NaN</td>\n",
       "      <td>NaN</td>\n",
       "      <td>NaN</td>\n",
       "      <td>http://www.properati.com.ar/18xea_venta_casa_r...</td>\n",
       "      <td>Maza Freyre excepcional Chalet sobre lote 760m...</td>\n",
       "      <td>Maza  2100</td>\n",
       "      <td>https://thumbs4.properati.com/1/SDFFkANRMw3Uns...</td>\n",
       "    </tr>\n",
       "    <tr>\n",
       "      <th>79866</th>\n",
       "      <td>79866</td>\n",
       "      <td>sell</td>\n",
       "      <td>apartment</td>\n",
       "      <td>Caballito</td>\n",
       "      <td>|Argentina|Capital Federal|Caballito|</td>\n",
       "      <td>Argentina</td>\n",
       "      <td>Capital Federal</td>\n",
       "      <td>3435874.0</td>\n",
       "      <td>-34.629417228,-58.452102359</td>\n",
       "      <td>-34.629417</td>\n",
       "      <td>...</td>\n",
       "      <td>30.0</td>\n",
       "      <td>2342.857143</td>\n",
       "      <td>2733.333333</td>\n",
       "      <td>NaN</td>\n",
       "      <td>NaN</td>\n",
       "      <td>NaN</td>\n",
       "      <td>http://www.properati.com.ar/1aw40_venta_depart...</td>\n",
       "      <td>* MONO-AMBIENTE DIVISIBLES. Apto Profesional c...</td>\n",
       "      <td>Departamento - Caballito</td>\n",
       "      <td>https://thumbs4.properati.com/6/gYsrjB1onfTh9t...</td>\n",
       "    </tr>\n",
       "    <tr>\n",
       "      <th>28755</th>\n",
       "      <td>28755</td>\n",
       "      <td>sell</td>\n",
       "      <td>apartment</td>\n",
       "      <td>Barrio Norte</td>\n",
       "      <td>|Argentina|Capital Federal|Barrio Norte|</td>\n",
       "      <td>Argentina</td>\n",
       "      <td>Capital Federal</td>\n",
       "      <td>3436109.0</td>\n",
       "      <td>-34.5883093539,-58.411826071</td>\n",
       "      <td>-34.588309</td>\n",
       "      <td>...</td>\n",
       "      <td>160.0</td>\n",
       "      <td>3000.000000</td>\n",
       "      <td>3618.750000</td>\n",
       "      <td>NaN</td>\n",
       "      <td>4.0</td>\n",
       "      <td>NaN</td>\n",
       "      <td>http://www.properati.com.ar/17x4j_venta_depart...</td>\n",
       "      <td>Excelente 3/4 amb y dep reciclado a nuevo! Coc...</td>\n",
       "      <td>Excelente 3/4 Amb y Dep Reciclado a Nuevo! Coc...</td>\n",
       "      <td>https://thumbs4.properati.com/9/WiFNjYDPOnG-x2...</td>\n",
       "    </tr>\n",
       "  </tbody>\n",
       "</table>\n",
       "<p>6 rows × 26 columns</p>\n",
       "</div>"
      ],
      "text/plain": [
       "       Unnamed: 0 operation property_type     place_name  \\\n",
       "38493       38493      sell     apartment  Mar del Plata   \n",
       "91377       91377      sell            PH  Vicente López   \n",
       "81230       81230      sell     apartment         Flores   \n",
       "42942       42942      sell         house        Rosario   \n",
       "79866       79866      sell     apartment      Caballito   \n",
       "28755       28755      sell     apartment   Barrio Norte   \n",
       "\n",
       "                                 place_with_parent_names country_name  \\\n",
       "38493  |Argentina|Buenos Aires Costa Atlántica|Mar de...    Argentina   \n",
       "91377  |Argentina|Bs.As. G.B.A. Zona Norte|Vicente Ló...    Argentina   \n",
       "81230                 |Argentina|Capital Federal|Flores|    Argentina   \n",
       "42942                       |Argentina|Santa Fe|Rosario|    Argentina   \n",
       "79866              |Argentina|Capital Federal|Caballito|    Argentina   \n",
       "28755           |Argentina|Capital Federal|Barrio Norte|    Argentina   \n",
       "\n",
       "                         state_name  geonames_id  \\\n",
       "38493  Buenos Aires Costa Atlántica    3430863.0   \n",
       "91377      Bs.As. G.B.A. Zona Norte    3427504.0   \n",
       "81230               Capital Federal    3433918.0   \n",
       "42942                      Santa Fe    3838574.0   \n",
       "79866               Capital Federal    3435874.0   \n",
       "28755               Capital Federal    3436109.0   \n",
       "\n",
       "                            lat-lon        lat  ...  surface_covered_in_m2  \\\n",
       "38493       -38.0083656,-57.5626231 -38.008366  ...                   65.0   \n",
       "91377                           NaN        NaN  ...                   53.0   \n",
       "81230                           NaN        NaN  ...                   58.0   \n",
       "42942       -32.8925454,-60.6892734 -32.892545  ...                    NaN   \n",
       "79866   -34.629417228,-58.452102359 -34.629417  ...                   30.0   \n",
       "28755  -34.5883093539,-58.411826071 -34.588309  ...                  160.0   \n",
       "\n",
       "       price_usd_per_m2 price_per_m2  floor  rooms  expenses  \\\n",
       "38493       1676.923077  1676.923077    NaN    3.0       NaN   \n",
       "91377       2264.150943  2264.150943    NaN    NaN       NaN   \n",
       "81230       2318.032787  2437.931034    NaN    NaN       NaN   \n",
       "42942               NaN          NaN    NaN    NaN       NaN   \n",
       "79866       2342.857143  2733.333333    NaN    NaN       NaN   \n",
       "28755       3000.000000  3618.750000    NaN    4.0       NaN   \n",
       "\n",
       "                                           properati_url  \\\n",
       "38493  http://www.properati.com.ar/18l89_venta_depart...   \n",
       "91377  http://www.properati.com.ar/1bbhw_venta_ph_vic...   \n",
       "81230  http://www.properati.com.ar/1axrf_venta_depart...   \n",
       "42942  http://www.properati.com.ar/18xea_venta_casa_r...   \n",
       "79866  http://www.properati.com.ar/1aw40_venta_depart...   \n",
       "28755  http://www.properati.com.ar/17x4j_venta_depart...   \n",
       "\n",
       "                                             description  \\\n",
       "38493  Excelente departamento de 3 ambientes interno ...   \n",
       "91377  Muy buen ph 3 amb, 1  piso x escalera, 2 dorm ...   \n",
       "81230  * Departamento de 2 ambientes a Estrenar con C...   \n",
       "42942  Maza Freyre excepcional Chalet sobre lote 760m...   \n",
       "79866  * MONO-AMBIENTE DIVISIBLES. Apto Profesional c...   \n",
       "28755  Excelente 3/4 amb y dep reciclado a nuevo! Coc...   \n",
       "\n",
       "                                                   title  \\\n",
       "38493                         Depto. 3 amb. zona Güemes    \n",
       "91377                                PH en Vicente López   \n",
       "81230                              Departamento - Flores   \n",
       "42942                                         Maza  2100   \n",
       "79866                           Departamento - Caballito   \n",
       "28755  Excelente 3/4 Amb y Dep Reciclado a Nuevo! Coc...   \n",
       "\n",
       "                                         image_thumbnail  \n",
       "38493  https://thumbs4.properati.com/9/PW9tmY0YVdmNbs...  \n",
       "91377  https://thumbs4.properati.com/8/9H6cxmv7ZI4F4-...  \n",
       "81230  https://thumbs4.properati.com/6/pYfPliKlh5uv8l...  \n",
       "42942  https://thumbs4.properati.com/1/SDFFkANRMw3Uns...  \n",
       "79866  https://thumbs4.properati.com/6/gYsrjB1onfTh9t...  \n",
       "28755  https://thumbs4.properati.com/9/WiFNjYDPOnG-x2...  \n",
       "\n",
       "[6 rows x 26 columns]"
      ]
     },
     "metadata": {},
     "output_type": "display_data"
    },
    {
     "name": "stdout",
     "output_type": "stream",
     "text": [
      "(Cantidad de Filas, Cantidad de columnas) -> (121220, 26)\n"
     ]
    }
   ],
   "source": [
    "# Abrimos el dataset y hacemos un chequeo rápido para saber cantidad de registros y miramos la composición del mismo.\n",
    "filename = \"../../dataset/properati.csv\"\n",
    "data = pd.read_csv(filename)\n",
    "\n",
    "display(data.sample(n=6))\n",
    "print(f\"(Cantidad de Filas, Cantidad de columnas) -> {data.shape}\")"
   ]
  },
  {
   "cell_type": "code",
   "execution_count": 4,
   "metadata": {},
   "outputs": [
    {
     "name": "stdout",
     "output_type": "stream",
     "text": [
      "Cantidad de registros con NaN: 20410\n",
      "Porcentaje de registros con NaN: 16.837155584886982\n",
      "Contamos cantidad de registros unicos:\n",
      "       price_aprox_local_currency  count\n",
      "0                    0.000000e+00      1\n",
      "1                    8.234017e+04      1\n",
      "2                    8.738350e+04      1\n",
      "3                    8.822250e+04      2\n",
      "4                    8.906114e+04      5\n",
      "...                           ...    ...\n",
      "10359                2.823120e+08      1\n",
      "10360                3.440678e+08      1\n",
      "10361                4.054773e+08      1\n",
      "10362                4.411125e+08      1\n",
      "10363                8.212711e+08      1\n",
      "\n",
      "[10364 rows x 2 columns]\n"
     ]
    }
   ],
   "source": [
    "# Columna price_aprox_local_currency: revisamos que opciones tiene, o si se repite lo mismo.\n",
    "print(f'Cantidad de registros con NaN: {data.price_aprox_local_currency.isnull().sum()}')\n",
    "print(f'Porcentaje de registros con NaN: {data.price_aprox_local_currency.isnull().mean()*100}')\n",
    "print(\"Contamos cantidad de registros unicos:\")\n",
    "print(data.groupby(['price_aprox_local_currency']).size().reset_index(name='count'))"
   ]
  },
  {
   "cell_type": "code",
   "execution_count": 5,
   "metadata": {},
   "outputs": [
    {
     "data": {
      "text/plain": [
       "<AxesSubplot:xlabel='property_type'>"
      ]
     },
     "execution_count": 5,
     "metadata": {},
     "output_type": "execute_result"
    },
    {
     "data": {
      "image/png": "[encoded data removed]",
      "text/plain": [
       "<Figure size 432x288 with 1 Axes>"
      ]
     },
     "metadata": {
      "needs_background": "light"
     },
     "output_type": "display_data"
    }
   ],
   "source": [
    "#graficamos el dato por tipo de propiedad con el fin de observar los rangos de precios. Sin embargo vemos que hay unos valores muy altos lo que eleva la dimensión del eje y a numeros exponenciales.\n",
    "data.groupby('property_type')['price_aprox_local_currency'].mean().plot.bar()"
   ]
  },
  {
   "cell_type": "code",
   "execution_count": 6,
   "metadata": {},
   "outputs": [
    {
     "data": {
      "text/plain": [
       "count    1.008100e+05\n",
       "mean     4.229397e+06\n",
       "std      6.904714e+06\n",
       "min      0.000000e+00\n",
       "25%      1.583309e+06\n",
       "50%      2.558452e+06\n",
       "75%      4.675792e+06\n",
       "max      8.212711e+08\n",
       "Name: price_aprox_local_currency, dtype: float64"
      ]
     },
     "execution_count": 6,
     "metadata": {},
     "output_type": "execute_result"
    }
   ],
   "source": [
    "data.price_aprox_local_currency.describe()"
   ]
  },
  {
   "cell_type": "markdown",
   "metadata": {},
   "source": [
    "Detalle de análisis de columnas:\n",
    "* `price_aprox_local_currency` -> Esta columna tiene 20.410 datos nulos o su equivalente 16,83%. Consideramos que esta variable es relevante para la proyección, observamos un valor máximo de 821.271.104 alejado significativamente de la media que es de 4.229.397.\n",
    "\n",
    "Esta columna podriamos completarla Multiplicando el precio en dolares que se logre rellenar por la tasa de cambio empleada que en este caso es de 17.6445 pesos argentinos por dolar. (valor calculado al dividir price_aprox_local_currency entre price_aprox_usd)\n"
   ]
  },
  {
   "cell_type": "markdown",
   "metadata": {},
   "source": [
    "### Detalle de valores extremos en la  columna `price_aprox_local_currency`:\n",
    "\n",
    "En el catplot elaborado para esta variable comparada por tipo de propiedad podemos observar como en apartamentos se evidencias valores muy por encima de los valores medios, en el caso de las casas se observan algunas propiedades alejadas de la media."
   ]
  },
  {
   "cell_type": "code",
   "execution_count": 7,
   "metadata": {},
   "outputs": [
    {
     "data": {
      "text/plain": [
       "<seaborn.axisgrid.FacetGrid at 0x249da732f40>"
      ]
     },
     "execution_count": 7,
     "metadata": {},
     "output_type": "execute_result"
    },
    {
     "data": {
      "image/png": "[encoded data removed]",
      "text/plain": [
       "<Figure size 1800x360 with 1 Axes>"
      ]
     },
     "metadata": {
      "needs_background": "light"
     },
     "output_type": "display_data"
    }
   ],
   "source": [
    "sns.catplot(data=data, x= 'price_aprox_local_currency', y=\"property_type\", kind=\"box\", height=5, aspect=5,)"
   ]
  },
  {
   "cell_type": "markdown",
   "metadata": {},
   "source": [
    "### Regex para rellenar la columna `price_aprox_local_currency`:\n",
    "\n",
    "Vamos a extraer datos de las columnas title y description"
   ]
  },
  {
   "cell_type": "code",
   "execution_count": 8,
   "metadata": {},
   "outputs": [],
   "source": [
    "# Buscamos precio aproximado en moneda local en los titulos y en la descripción\n",
    "data[['description', 'title']] = data[['description', 'title']].apply(lambda x: x.astype(str))\n",
    "\n",
    "#Valor minimo en moneda local $82.340 pesos argentinos, trae pesos con los simbolos tambien? cómo quitariamos los simbolos y los . o cambiamos los . por ,\n",
    "\n",
    "patron = r'[$]([0-9]*\\.?\\,?[0-9]*\\.?\\,?[0-9]*)'\n",
    "\n",
    "regex = re.compile(patron, flags = re.IGNORECASE)\n",
    "\n",
    "precio_aprox_local_currency_titulo=data['title'].replace(np.NAN,\"\").apply(lambda x: regex.findall(x)[0] if regex.findall(x) else np.NaN)\n",
    "data['price_aprox_local_currency'].fillna(precio_aprox_local_currency_titulo, inplace=True)\n",
    "\n",
    "precio_aprox_local_currency_descripcion=data['description'].replace(np.NAN,\"\").apply(lambda x: regex.findall(x)[0] if regex.findall(x) else np.NaN)\n",
    "data['price_aprox_local_currency'].fillna(precio_aprox_local_currency_descripcion, inplace=True)\n"
   ]
  },
  {
   "cell_type": "code",
   "execution_count": 9,
   "metadata": {},
   "outputs": [
    {
     "name": "stdout",
     "output_type": "stream",
     "text": [
      "% de valores nulos que quedan luego de aplicar regex: 13.620689655172413\n",
      "entradas: 121220\n"
     ]
    }
   ],
   "source": [
    "#Al aplicar regex a la columna, se lograron reducir los nan pasando del 16.83% al 13.62%. \n",
    "print (f'% de valores nulos que quedan luego de aplicar regex: {data.price_aprox_local_currency.isna().sum()/data.price_aprox_local_currency.shape[0]*100}')\n",
    "print (f'entradas: {data.price_aprox_local_currency.shape[0]}')"
   ]
  },
  {
   "cell_type": "code",
   "execution_count": 12,
   "metadata": {},
   "outputs": [
    {
     "data": {
      "text/plain": [
       "101064"
      ]
     },
     "execution_count": 12,
     "metadata": {},
     "output_type": "execute_result"
    }
   ],
   "source": [
    "#Vamos a transformar los datos de la columna ya que al extraer datos de regex se convirtieron en tipo object\n",
    "data['price_aprox_local_currency'] = pd.to_numeric(data['price_aprox_local_currency'],errors = 'coerce')\n",
    "data['price_aprox_local_currency'].notnull().sum()"
   ]
  },
  {
   "cell_type": "code",
   "execution_count": 15,
   "metadata": {},
   "outputs": [
    {
     "name": "stdout",
     "output_type": "stream",
     "text": [
      "% de valores nulos que quedan luego de aplicar regex: 16.627619204751692\n",
      "entradas: 121220\n"
     ]
    }
   ],
   "source": [
    "print (f'% de valores nulos que quedan luego de aplicar regex: {data.price_aprox_local_currency.isna().sum()/data.price_aprox_local_currency.shape[0]*100}')\n",
    "print (f'entradas: {data.price_aprox_local_currency.shape[0]}')"
   ]
  }
 ],
 "metadata": {
  "kernelspec": {
   "display_name": "Python 3.8.13 ('dhdsblend2021')",
   "language": "python",
   "name": "python3"
  },
  "language_info": {
   "codemirror_mode": {
    "name": "ipython",
    "version": 3
   },
   "file_extension": ".py",
   "mimetype": "text/x-python",
   "name": "python",
   "nbconvert_exporter": "python",
   "pygments_lexer": "ipython3",
   "version": "3.8.13"
  },
  "orig_nbformat": 4,
  "vscode": {
   "interpreter": {
    "hash": "efc208fdaa12fe71d644c382e37592789e7715eab6097afaedaaf3f1e1734556"
   }
  }
 },
 "nbformat": 4,
 "nbformat_minor": 2
}
