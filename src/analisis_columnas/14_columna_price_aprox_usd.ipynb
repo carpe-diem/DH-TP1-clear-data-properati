{
 "cells": [
  {
   "cell_type": "code",
   "execution_count": 2,
   "metadata": {},
   "outputs": [],
   "source": [
    "# Lo primero que hacemos es importar todas las librerias necesarias.\n",
    "#importamos librerias para tratamiento de datos\n",
    "import numpy as np\n",
    "import pandas as pd\n",
    "import re\n",
    "import math as mat\n",
    "\n",
    "#importamos librerias la visualizacion de datos\n",
    "import matplotlib.pyplot as plt\n",
    "import seaborn as sns\n",
    "import os\n",
    "%matplotlib inline"
   ]
  },
  {
   "cell_type": "code",
   "execution_count": 3,
   "metadata": {},
   "outputs": [
    {
     "data": {
      "text/html": [
       "<div>\n",
       "<style scoped>\n",
       "    .dataframe tbody tr th:only-of-type {\n",
       "        vertical-align: middle;\n",
       "    }\n",
       "\n",
       "    .dataframe tbody tr th {\n",
       "        vertical-align: top;\n",
       "    }\n",
       "\n",
       "    .dataframe thead th {\n",
       "        text-align: right;\n",
       "    }\n",
       "</style>\n",
       "<table border=\"1\" class=\"dataframe\">\n",
       "  <thead>\n",
       "    <tr style=\"text-align: right;\">\n",
       "      <th></th>\n",
       "      <th>Unnamed: 0</th>\n",
       "      <th>operation</th>\n",
       "      <th>property_type</th>\n",
       "      <th>place_name</th>\n",
       "      <th>place_with_parent_names</th>\n",
       "      <th>country_name</th>\n",
       "      <th>state_name</th>\n",
       "      <th>geonames_id</th>\n",
       "      <th>lat-lon</th>\n",
       "      <th>lat</th>\n",
       "      <th>...</th>\n",
       "      <th>surface_covered_in_m2</th>\n",
       "      <th>price_usd_per_m2</th>\n",
       "      <th>price_per_m2</th>\n",
       "      <th>floor</th>\n",
       "      <th>rooms</th>\n",
       "      <th>expenses</th>\n",
       "      <th>properati_url</th>\n",
       "      <th>description</th>\n",
       "      <th>title</th>\n",
       "      <th>image_thumbnail</th>\n",
       "    </tr>\n",
       "  </thead>\n",
       "  <tbody>\n",
       "    <tr>\n",
       "      <th>102585</th>\n",
       "      <td>102585</td>\n",
       "      <td>sell</td>\n",
       "      <td>PH</td>\n",
       "      <td>Mar del Plata</td>\n",
       "      <td>|Argentina|Buenos Aires Costa Atlántica|Mar de...</td>\n",
       "      <td>Argentina</td>\n",
       "      <td>Buenos Aires Costa Atlántica</td>\n",
       "      <td>3430863.0</td>\n",
       "      <td>NaN</td>\n",
       "      <td>NaN</td>\n",
       "      <td>...</td>\n",
       "      <td>70.0</td>\n",
       "      <td>1000.000000</td>\n",
       "      <td>1571.428571</td>\n",
       "      <td>NaN</td>\n",
       "      <td>NaN</td>\n",
       "      <td>NaN</td>\n",
       "      <td>http://www.properati.com.ar/1bqsa_venta_ph_mar...</td>\n",
       "      <td>PH UNICO MEDIA CUADRA DEL MAR AL FONDO TIPO CH...</td>\n",
       "      <td>PH - La Perla Norte</td>\n",
       "      <td>https://thumbs4.properati.com/5/c52R9ghZeFgRMw...</td>\n",
       "    </tr>\n",
       "    <tr>\n",
       "      <th>3422</th>\n",
       "      <td>3422</td>\n",
       "      <td>sell</td>\n",
       "      <td>apartment</td>\n",
       "      <td>Moreno</td>\n",
       "      <td>|Argentina|Bs.As. G.B.A. Zona Oeste|Moreno|</td>\n",
       "      <td>Argentina</td>\n",
       "      <td>Bs.As. G.B.A. Zona Oeste</td>\n",
       "      <td>3430550.0</td>\n",
       "      <td>-34.65460968,-58.78455734</td>\n",
       "      <td>-34.654610</td>\n",
       "      <td>...</td>\n",
       "      <td>1.0</td>\n",
       "      <td>NaN</td>\n",
       "      <td>NaN</td>\n",
       "      <td>4.0</td>\n",
       "      <td>1.0</td>\n",
       "      <td>NaN</td>\n",
       "      <td>http://www.properati.com.ar/15l54_venta_depart...</td>\n",
       "      <td>XINTEL(LIS-LCI-144) Venta Departamento de 3 am...</td>\n",
       "      <td>U$D 110.000 - Departamento en Venta - Del Vall...</td>\n",
       "      <td>https://thumbs4.properati.com/0/4NjtHlfrewaZkR...</td>\n",
       "    </tr>\n",
       "    <tr>\n",
       "      <th>56232</th>\n",
       "      <td>56232</td>\n",
       "      <td>sell</td>\n",
       "      <td>apartment</td>\n",
       "      <td>Flores</td>\n",
       "      <td>|Argentina|Capital Federal|Flores|</td>\n",
       "      <td>Argentina</td>\n",
       "      <td>Capital Federal</td>\n",
       "      <td>3433918.0</td>\n",
       "      <td>-34.6171222,-58.467658</td>\n",
       "      <td>-34.617122</td>\n",
       "      <td>...</td>\n",
       "      <td>41.0</td>\n",
       "      <td>2267.471765</td>\n",
       "      <td>50291.170732</td>\n",
       "      <td>NaN</td>\n",
       "      <td>NaN</td>\n",
       "      <td>NaN</td>\n",
       "      <td>http://www.properati.com.ar/19qfx_venta_depart...</td>\n",
       "      <td>Venta de Departamento 3 AMBIENTES en FLORES, C...</td>\n",
       "      <td>DEPARTAMENTO EN VENTA</td>\n",
       "      <td>https://thumbs4.properati.com/8/YR7TABIBR7LC8Q...</td>\n",
       "    </tr>\n",
       "    <tr>\n",
       "      <th>110385</th>\n",
       "      <td>110385</td>\n",
       "      <td>sell</td>\n",
       "      <td>apartment</td>\n",
       "      <td>Constitución</td>\n",
       "      <td>|Argentina|Capital Federal|Constitución|</td>\n",
       "      <td>Argentina</td>\n",
       "      <td>Capital Federal</td>\n",
       "      <td>3435257.0</td>\n",
       "      <td>-34.6262089,-58.384167</td>\n",
       "      <td>-34.626209</td>\n",
       "      <td>...</td>\n",
       "      <td>26.0</td>\n",
       "      <td>1500.000000</td>\n",
       "      <td>1500.000000</td>\n",
       "      <td>NaN</td>\n",
       "      <td>1.0</td>\n",
       "      <td>NaN</td>\n",
       "      <td>http://www.properati.com.ar/1c3le_venta_depart...</td>\n",
       "      <td>Departamento MONOAMBIENTE, divido muy luminoso...</td>\n",
       "      <td>MUY LUMINOSO // PAVON 1300</td>\n",
       "      <td>https://thumbs4.properati.com/8/uy-6EOXt2qo8U6...</td>\n",
       "    </tr>\n",
       "    <tr>\n",
       "      <th>70130</th>\n",
       "      <td>70130</td>\n",
       "      <td>sell</td>\n",
       "      <td>apartment</td>\n",
       "      <td>Remedios de Escalada</td>\n",
       "      <td>|Argentina|Bs.As. G.B.A. Zona Sur|Lanús|Remedi...</td>\n",
       "      <td>Argentina</td>\n",
       "      <td>Bs.As. G.B.A. Zona Sur</td>\n",
       "      <td>3429582.0</td>\n",
       "      <td>NaN</td>\n",
       "      <td>NaN</td>\n",
       "      <td>...</td>\n",
       "      <td>66.0</td>\n",
       "      <td>1577.464789</td>\n",
       "      <td>1696.969697</td>\n",
       "      <td>NaN</td>\n",
       "      <td>NaN</td>\n",
       "      <td>NaN</td>\n",
       "      <td>http://www.properati.com.ar/1aj4i_venta_depart...</td>\n",
       "      <td>Muy buen depto de 3 dormitorios a 1 cuadra de ...</td>\n",
       "      <td>3 dormitorios a mts de la Avda.</td>\n",
       "      <td>https://thumbs4.properati.com/2/rFxYaWQzwEKpLu...</td>\n",
       "    </tr>\n",
       "    <tr>\n",
       "      <th>24116</th>\n",
       "      <td>24116</td>\n",
       "      <td>sell</td>\n",
       "      <td>house</td>\n",
       "      <td>Capitán Bermúdez</td>\n",
       "      <td>|Argentina|Santa Fe|Capitán Bermúdez|</td>\n",
       "      <td>Argentina</td>\n",
       "      <td>Santa Fe</td>\n",
       "      <td>3862738.0</td>\n",
       "      <td>-32.8233849,-60.710477</td>\n",
       "      <td>-32.823385</td>\n",
       "      <td>...</td>\n",
       "      <td>80.0</td>\n",
       "      <td>1000.000000</td>\n",
       "      <td>1000.000000</td>\n",
       "      <td>NaN</td>\n",
       "      <td>NaN</td>\n",
       "      <td>NaN</td>\n",
       "      <td>http://www.properati.com.ar/17nk1_venta_casa_c...</td>\n",
       "      <td>Brasil 360 (Capitán Bermúdez)Casa inmaculada d...</td>\n",
       "      <td>Casa perfecta!</td>\n",
       "      <td>https://thumbs4.properati.com/1/Rle4oZ81CvFxzi...</td>\n",
       "    </tr>\n",
       "  </tbody>\n",
       "</table>\n",
       "<p>6 rows × 26 columns</p>\n",
       "</div>"
      ],
      "text/plain": [
       "        Unnamed: 0 operation property_type            place_name  \\\n",
       "102585      102585      sell            PH         Mar del Plata   \n",
       "3422          3422      sell     apartment                Moreno   \n",
       "56232        56232      sell     apartment                Flores   \n",
       "110385      110385      sell     apartment          Constitución   \n",
       "70130        70130      sell     apartment  Remedios de Escalada   \n",
       "24116        24116      sell         house      Capitán Bermúdez   \n",
       "\n",
       "                                  place_with_parent_names country_name  \\\n",
       "102585  |Argentina|Buenos Aires Costa Atlántica|Mar de...    Argentina   \n",
       "3422          |Argentina|Bs.As. G.B.A. Zona Oeste|Moreno|    Argentina   \n",
       "56232                  |Argentina|Capital Federal|Flores|    Argentina   \n",
       "110385           |Argentina|Capital Federal|Constitución|    Argentina   \n",
       "70130   |Argentina|Bs.As. G.B.A. Zona Sur|Lanús|Remedi...    Argentina   \n",
       "24116               |Argentina|Santa Fe|Capitán Bermúdez|    Argentina   \n",
       "\n",
       "                          state_name  geonames_id                    lat-lon  \\\n",
       "102585  Buenos Aires Costa Atlántica    3430863.0                        NaN   \n",
       "3422        Bs.As. G.B.A. Zona Oeste    3430550.0  -34.65460968,-58.78455734   \n",
       "56232                Capital Federal    3433918.0     -34.6171222,-58.467658   \n",
       "110385               Capital Federal    3435257.0     -34.6262089,-58.384167   \n",
       "70130         Bs.As. G.B.A. Zona Sur    3429582.0                        NaN   \n",
       "24116                       Santa Fe    3862738.0     -32.8233849,-60.710477   \n",
       "\n",
       "              lat  ...  surface_covered_in_m2  price_usd_per_m2  price_per_m2  \\\n",
       "102585        NaN  ...                   70.0       1000.000000   1571.428571   \n",
       "3422   -34.654610  ...                    1.0               NaN           NaN   \n",
       "56232  -34.617122  ...                   41.0       2267.471765  50291.170732   \n",
       "110385 -34.626209  ...                   26.0       1500.000000   1500.000000   \n",
       "70130         NaN  ...                   66.0       1577.464789   1696.969697   \n",
       "24116  -32.823385  ...                   80.0       1000.000000   1000.000000   \n",
       "\n",
       "        floor  rooms  expenses  \\\n",
       "102585    NaN    NaN       NaN   \n",
       "3422      4.0    1.0       NaN   \n",
       "56232     NaN    NaN       NaN   \n",
       "110385    NaN    1.0       NaN   \n",
       "70130     NaN    NaN       NaN   \n",
       "24116     NaN    NaN       NaN   \n",
       "\n",
       "                                            properati_url  \\\n",
       "102585  http://www.properati.com.ar/1bqsa_venta_ph_mar...   \n",
       "3422    http://www.properati.com.ar/15l54_venta_depart...   \n",
       "56232   http://www.properati.com.ar/19qfx_venta_depart...   \n",
       "110385  http://www.properati.com.ar/1c3le_venta_depart...   \n",
       "70130   http://www.properati.com.ar/1aj4i_venta_depart...   \n",
       "24116   http://www.properati.com.ar/17nk1_venta_casa_c...   \n",
       "\n",
       "                                              description  \\\n",
       "102585  PH UNICO MEDIA CUADRA DEL MAR AL FONDO TIPO CH...   \n",
       "3422    XINTEL(LIS-LCI-144) Venta Departamento de 3 am...   \n",
       "56232   Venta de Departamento 3 AMBIENTES en FLORES, C...   \n",
       "110385  Departamento MONOAMBIENTE, divido muy luminoso...   \n",
       "70130   Muy buen depto de 3 dormitorios a 1 cuadra de ...   \n",
       "24116   Brasil 360 (Capitán Bermúdez)Casa inmaculada d...   \n",
       "\n",
       "                                                    title  \\\n",
       "102585                                PH - La Perla Norte   \n",
       "3422    U$D 110.000 - Departamento en Venta - Del Vall...   \n",
       "56232                               DEPARTAMENTO EN VENTA   \n",
       "110385                         MUY LUMINOSO // PAVON 1300   \n",
       "70130                     3 dormitorios a mts de la Avda.   \n",
       "24116                                      Casa perfecta!   \n",
       "\n",
       "                                          image_thumbnail  \n",
       "102585  https://thumbs4.properati.com/5/c52R9ghZeFgRMw...  \n",
       "3422    https://thumbs4.properati.com/0/4NjtHlfrewaZkR...  \n",
       "56232   https://thumbs4.properati.com/8/YR7TABIBR7LC8Q...  \n",
       "110385  https://thumbs4.properati.com/8/uy-6EOXt2qo8U6...  \n",
       "70130   https://thumbs4.properati.com/2/rFxYaWQzwEKpLu...  \n",
       "24116   https://thumbs4.properati.com/1/Rle4oZ81CvFxzi...  \n",
       "\n",
       "[6 rows x 26 columns]"
      ]
     },
     "metadata": {},
     "output_type": "display_data"
    },
    {
     "name": "stdout",
     "output_type": "stream",
     "text": [
      "(Cantidad de Filas, Cantidad de columnas) -> (121220, 26)\n"
     ]
    }
   ],
   "source": [
    "# Abrimos el dataset y hacemos un chequeo rápido para saber cantidad de registros y miramos la composición del mismo.\n",
    "filename = \"../../dataset/properati.csv\"\n",
    "data = pd.read_csv(filename)\n",
    "\n",
    "display(data.sample(n=6))\n",
    "print(f\"(Cantidad de Filas, Cantidad de columnas) -> {data.shape}\")"
   ]
  },
  {
   "cell_type": "code",
   "execution_count": 4,
   "metadata": {},
   "outputs": [
    {
     "name": "stdout",
     "output_type": "stream",
     "text": [
      "Cantidad de registros con NaN: 20410\n",
      "Porcentaje de registros con NaN: 16.837155584886982\n",
      "Contamos cantidad de registros unicos:\n",
      "       price_aprox_usd  count\n",
      "0                 0.00      1\n",
      "1              4666.62      1\n",
      "2              4952.45      1\n",
      "3              5000.00      2\n",
      "4              5047.53      5\n",
      "...                ...    ...\n",
      "10359      16000000.00      1\n",
      "10360      19500000.00      1\n",
      "10361      22980378.29      1\n",
      "10362      25000000.00      1\n",
      "10363      46545445.00      1\n",
      "\n",
      "[10364 rows x 2 columns]\n"
     ]
    }
   ],
   "source": [
    "# Columna price_aprox_usd: revisamos que opciones tiene, o si se repite lo mismo.\n",
    "print(f'Cantidad de registros con NaN: {data.price_aprox_usd.isnull().sum()}')\n",
    "print(f'Porcentaje de registros con NaN: {data.price_aprox_usd.isnull().mean()*100}')\n",
    "print(\"Contamos cantidad de registros unicos:\")\n",
    "print(data.groupby(['price_aprox_usd']).size().reset_index(name='count'))"
   ]
  },
  {
   "cell_type": "code",
   "execution_count": 5,
   "metadata": {},
   "outputs": [
    {
     "data": {
      "text/plain": [
       "<AxesSubplot:xlabel='property_type'>"
      ]
     },
     "execution_count": 5,
     "metadata": {},
     "output_type": "execute_result"
    },
    {
     "data": {
      "image/png": "[encoded data removed]",
      "text/plain": [
       "<Figure size 432x288 with 1 Axes>"
      ]
     },
     "metadata": {
      "needs_background": "light"
     },
     "output_type": "display_data"
    }
   ],
   "source": [
    "#graficamos el dato por tipo de propiedad con el fin de observar los rangos de precios. En esta grafica podemos observar la variación en la media de los precios que existe de acuerdo al tipo de vivienda.\n",
    "data.groupby('property_type')['price_aprox_usd'].mean().plot.bar()"
   ]
  },
  {
   "cell_type": "code",
   "execution_count": 92,
   "metadata": {},
   "outputs": [
    {
     "data": {
      "image/png": "[encoded data removed]",
      "text/plain": [
       "<Figure size 432x288 with 1 Axes>"
      ]
     },
     "metadata": {
      "needs_background": "light"
     },
     "output_type": "display_data"
    }
   ],
   "source": [
    "#graficamos un plot para visualizar la dispersión de los precios en dolares por latitud \n",
    "# y observamos como los valores extremos se ubican en la latitud cercana a -35\n",
    "my_plot_precios_aprox_usd = data.plot(\"lat\", \"price_aprox_usd\", kind=\"scatter\")\n",
    "plt.show()"
   ]
  },
  {
   "cell_type": "code",
   "execution_count": 93,
   "metadata": {},
   "outputs": [
    {
     "data": {
      "image/png": "[encoded data removed]",
      "text/plain": [
       "<Figure size 432x288 with 1 Axes>"
      ]
     },
     "metadata": {
      "needs_background": "light"
     },
     "output_type": "display_data"
    }
   ],
   "source": [
    "#graficamos un plot para visualizar la dispersión de los precios en dolares por longitud \n",
    "# y observamos como los valores extremos y una gran variedad de precios se ubican en la latitud cercana a -58\n",
    "my_plot_precios_aprox_usd = data.plot(\"lon\", \"price_aprox_usd\", kind=\"scatter\")\n",
    "plt.show()"
   ]
  },
  {
   "cell_type": "code",
   "execution_count": 6,
   "metadata": {},
   "outputs": [
    {
     "data": {
      "text/plain": [
       "count    1.008100e+05\n",
       "mean     2.397006e+05\n",
       "std      3.913239e+05\n",
       "min      0.000000e+00\n",
       "25%      8.973388e+04\n",
       "50%      1.450000e+05\n",
       "75%      2.650000e+05\n",
       "max      4.654544e+07\n",
       "Name: price_aprox_usd, dtype: float64"
      ]
     },
     "execution_count": 6,
     "metadata": {},
     "output_type": "execute_result"
    }
   ],
   "source": [
    "data.price_aprox_usd.describe()"
   ]
  },
  {
   "cell_type": "markdown",
   "metadata": {},
   "source": [
    "### Detalle de análisis de columna `price_aprox_usd`:\n",
    "\n",
    "* `price_aprox_usd` -> Esta columna tiene 20.410 datos nulos o su equivalente 16,83%. Consideramos que esta variable es relevante para la proyección, teniendo en cuenta que el valor por metro cuadrado cubierto y total estan calculados en esta moneda, observamos un valor máximo de 46,545,445 alejado significativamente de la media que es de 239,700.\n",
    "Esta columna podriamos completarla realizando diferentes operaciones:\n",
    " \n",
    "1. Extrayendo este dato de las columnas description y title\n",
    "2. Diviendo el precio total en usd por el precio del metro cuadrado"
   ]
  },
  {
   "cell_type": "markdown",
   "metadata": {},
   "source": [
    "### Detalle de valores extremos en la  columna `price_aprox_usd`:\n",
    "\n",
    "En el catplot elaborado para esta variable comparada por tipo de propiedad podemos observar como en apartamentos se evidencias valores muy por encima de los valores medios, en el caso de las casas se observan algunas propiedades alejadas de la media."
   ]
  },
  {
   "cell_type": "code",
   "execution_count": 7,
   "metadata": {},
   "outputs": [
    {
     "data": {
      "text/plain": [
       "<seaborn.axisgrid.FacetGrid at 0x217b3d61eb0>"
      ]
     },
     "execution_count": 7,
     "metadata": {},
     "output_type": "execute_result"
    },
    {
     "data": {
      "image/png": "[encoded data removed]",
      "text/plain": [
       "<Figure size 1800x360 with 1 Axes>"
      ]
     },
     "metadata": {
      "needs_background": "light"
     },
     "output_type": "display_data"
    }
   ],
   "source": [
    "sns.catplot(data=data, x= 'price_aprox_usd', y=\"property_type\", kind=\"box\", height=5, aspect=5,)\n"
   ]
  },
  {
   "cell_type": "markdown",
   "metadata": {},
   "source": [
    "### Regex para rellenar la columna `price_aprox_USD`:\n",
    "\n",
    "Vamos a extraer datos de las columnas title y description para esto tomamos las diferentes expresiones de la moneda U$D, USD, usd, us$, U$S"
   ]
  },
  {
   "cell_type": "code",
   "execution_count": 8,
   "metadata": {},
   "outputs": [],
   "source": [
    "data[['description', 'title']] = data[['description', 'title']].apply(lambda x: x.astype(str))\n",
    "\n",
    "#Que pasa si la propiedad vale más de 4 digitos? el valor minimo de propiedad lleno es de 4,666.62 usd, trae tambien el dato dolares y debemos cambiar . por ,\n",
    "\n",
    "patron = r'U\\$D\\s?([0-9]*\\.?\\,?[0-9]*\\.?\\,?[0-9]*)|USD\\s?([0-9]*\\.?\\,?[0-9]*\\.?\\,?[0-9]*)|usd\\s?([0-9]*\\.?\\,?[0-9]*\\.?\\,?[0-9]*)|us\\$d\\s?([0-9]*\\.?\\,?[0-9]*\\.?\\,?[0-9]*)|U\\$S\\s?([0-9]*\\.?\\,?[0-9]*\\.?\\,?[0-9]*)'\n",
    "\n",
    "regex = re.compile(patron, flags = re.IGNORECASE)\n",
    "\n",
    "precio_aprox_usd_titulo=data['title'].replace(np.NAN,\"\").apply(lambda x: regex.findall(x)[0] if regex.findall(x) else np.NaN)\n",
    "data['price_aprox_usd'].fillna(precio_aprox_usd_titulo, inplace=True)\n",
    "\n",
    "precio_aprox_usd_descripcion=data['description'].replace(np.NAN,\"\").apply(lambda x: regex.findall(x)[0] if regex.findall(x) else np.NaN)\n",
    "data['price_aprox_usd'].fillna(precio_aprox_usd_descripcion, inplace=True)\n"
   ]
  },
  {
   "cell_type": "code",
   "execution_count": 84,
   "metadata": {},
   "outputs": [
    {
     "data": {
      "text/plain": [
       "array([nan, ('20.000', '', '', '', ''), nan, ...,\n",
       "       ('', '20.000', '', '', ''), ('', '', '', '', '95.900'), nan],\n",
       "      dtype=object)"
      ]
     },
     "execution_count": 84,
     "metadata": {},
     "output_type": "execute_result"
    }
   ],
   "source": [
    "precio_aprox_usd_descripcion.values"
   ]
  },
  {
   "cell_type": "code",
   "execution_count": 83,
   "metadata": {},
   "outputs": [
    {
     "data": {
      "text/plain": [
       "58382       92000.00\n",
       "66885       60000.00\n",
       "58250      239000.00\n",
       "36929      596081.00\n",
       "58571       75000.00\n",
       "34474      450000.00\n",
       "32701      135000.00\n",
       "78238      155000.00\n",
       "19256      220000.00\n",
       "28020      130000.00\n",
       "104163           NaN\n",
       "80678      125000.00\n",
       "17851            NaN\n",
       "66770       92000.00\n",
       "114149     165000.00\n",
       "90565      159000.00\n",
       "111689      90575.13\n",
       "45836      100000.00\n",
       "109640     120000.00\n",
       "117273           NaN\n",
       "26530      587600.00\n",
       "25051     2600000.00\n",
       "38738      165000.00\n",
       "49225      495000.00\n",
       "33483      140000.00\n",
       "50413       70104.59\n",
       "36103       49353.63\n",
       "40556     1380000.00\n",
       "109466           NaN\n",
       "33260      370000.00\n",
       "112421     260000.00\n",
       "8377       420000.00\n",
       "11546       89000.00\n",
       "30624      228150.00\n",
       "50230      390000.00\n",
       "64907      405000.00\n",
       "89018      790000.00\n",
       "26091       37000.00\n",
       "31145       98000.00\n",
       "51448      240000.00\n",
       "64948            NaN\n",
       "73085      380000.00\n",
       "39756            NaN\n",
       "64593      134680.00\n",
       "107854     250000.00\n",
       "6972       125000.00\n",
       "79105      550000.00\n",
       "15430      100000.00\n",
       "103540           NaN\n",
       "115887           NaN\n",
       "Name: price_aprox_usd, dtype: float64"
      ]
     },
     "execution_count": 83,
     "metadata": {},
     "output_type": "execute_result"
    }
   ],
   "source": [
    "data.price_aprox_usd.sample(50)\n",
    "\n",
    "#precio_aprox_usd_descripcion.dtype(object)"
   ]
  },
  {
   "cell_type": "code",
   "execution_count": 10,
   "metadata": {},
   "outputs": [
    {
     "name": "stdout",
     "output_type": "stream",
     "text": [
      "% de valores nulos que quedan luego de aplicar regex: 14.02986305890117\n",
      "entradas: 121220\n"
     ]
    }
   ],
   "source": [
    "#luego de aplicar el regex se logran recucir el porcentaje de nans al pasar del 16.84% al 14.029%\n",
    "print (f'% de valores nulos que quedan luego de aplicar regex: {data.price_aprox_usd.isna().sum()/data.price_aprox_usd.shape[0]*100}')\n",
    "print (f'entradas: {data.price_aprox_usd.shape[0]}')"
   ]
  },
  {
   "cell_type": "code",
   "execution_count": 11,
   "metadata": {},
   "outputs": [],
   "source": [
    "#Vamos a transformar los datos de la columna ya que al extraer datos de regex se convirtieron en tipo object\n",
    "data['price_aprox_usd'] = pd.to_numeric(data['price_aprox_usd'],errors = 'coerce')"
   ]
  },
  {
   "cell_type": "code",
   "execution_count": 12,
   "metadata": {},
   "outputs": [
    {
     "name": "stdout",
     "output_type": "stream",
     "text": [
      "% de valores nulos que quedan luego de aplicar regex: 16.837155584886982\n",
      "entradas: 121220\n"
     ]
    }
   ],
   "source": [
    "print (f'% de valores nulos que quedan luego de aplicar regex: {data.price_aprox_usd.isna().sum()/data.price_aprox_usd.shape[0]*100}')\n",
    "print (f'entradas: {data.price_aprox_usd.shape[0]}')"
   ]
  }
 ],
 "metadata": {
  "kernelspec": {
   "display_name": "Python 3.8.13 ('dhdsblend2021')",
   "language": "python",
   "name": "python3"
  },
  "language_info": {
   "codemirror_mode": {
    "name": "ipython",
    "version": 3
   },
   "file_extension": ".py",
   "mimetype": "text/x-python",
   "name": "python",
   "nbconvert_exporter": "python",
   "pygments_lexer": "ipython3",
   "version": "3.8.13"
  },
  "orig_nbformat": 4,
  "vscode": {
   "interpreter": {
    "hash": "efc208fdaa12fe71d644c382e37592789e7715eab6097afaedaaf3f1e1734556"
   }
  }
 },
 "nbformat": 4,
 "nbformat_minor": 2
}
