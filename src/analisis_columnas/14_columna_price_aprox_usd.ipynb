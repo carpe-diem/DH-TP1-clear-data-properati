{
 "cells": [
  {
   "cell_type": "code",
   "execution_count": 1,
   "metadata": {},
   "outputs": [],
   "source": [
    "# Lo primero que hacemos es importar todas las librerias necesarias.\n",
    "#importamos librerias para tratamiento de datos\n",
    "import numpy as np\n",
    "import pandas as pd\n",
    "import re\n",
    "import math as mat\n",
    "\n",
    "#importamos librerias la visualizacion de datos\n",
    "import matplotlib.pyplot as plt\n",
    "import seaborn as sns\n",
    "import os\n",
    "%matplotlib inline"
   ]
  },
  {
   "cell_type": "code",
   "execution_count": 2,
   "metadata": {},
   "outputs": [
    {
     "data": {
      "text/html": [
       "<div>\n",
       "<style scoped>\n",
       "    .dataframe tbody tr th:only-of-type {\n",
       "        vertical-align: middle;\n",
       "    }\n",
       "\n",
       "    .dataframe tbody tr th {\n",
       "        vertical-align: top;\n",
       "    }\n",
       "\n",
       "    .dataframe thead th {\n",
       "        text-align: right;\n",
       "    }\n",
       "</style>\n",
       "<table border=\"1\" class=\"dataframe\">\n",
       "  <thead>\n",
       "    <tr style=\"text-align: right;\">\n",
       "      <th></th>\n",
       "      <th>Unnamed: 0</th>\n",
       "      <th>operation</th>\n",
       "      <th>property_type</th>\n",
       "      <th>place_name</th>\n",
       "      <th>place_with_parent_names</th>\n",
       "      <th>country_name</th>\n",
       "      <th>state_name</th>\n",
       "      <th>geonames_id</th>\n",
       "      <th>lat-lon</th>\n",
       "      <th>lat</th>\n",
       "      <th>...</th>\n",
       "      <th>surface_covered_in_m2</th>\n",
       "      <th>price_usd_per_m2</th>\n",
       "      <th>price_per_m2</th>\n",
       "      <th>floor</th>\n",
       "      <th>rooms</th>\n",
       "      <th>expenses</th>\n",
       "      <th>properati_url</th>\n",
       "      <th>description</th>\n",
       "      <th>title</th>\n",
       "      <th>image_thumbnail</th>\n",
       "    </tr>\n",
       "  </thead>\n",
       "  <tbody>\n",
       "    <tr>\n",
       "      <th>86376</th>\n",
       "      <td>86376</td>\n",
       "      <td>sell</td>\n",
       "      <td>apartment</td>\n",
       "      <td>Córdoba</td>\n",
       "      <td>|Argentina|Córdoba|Córdoba|</td>\n",
       "      <td>Argentina</td>\n",
       "      <td>Córdoba</td>\n",
       "      <td>3860259.0</td>\n",
       "      <td>NaN</td>\n",
       "      <td>NaN</td>\n",
       "      <td>...</td>\n",
       "      <td>55.0</td>\n",
       "      <td>NaN</td>\n",
       "      <td>25454.545455</td>\n",
       "      <td>NaN</td>\n",
       "      <td>NaN</td>\n",
       "      <td>NaN</td>\n",
       "      <td>http://www.properati.com.ar/1b4bk_venta_depart...</td>\n",
       "      <td>DEPARTAMENTO EN BARRIO ALBERDI UBICADO EN CALL...</td>\n",
       "      <td>ALBERDI</td>\n",
       "      <td>https://thumbs4.properati.com/1/SUjXqOJjED5pGM...</td>\n",
       "    </tr>\n",
       "    <tr>\n",
       "      <th>116909</th>\n",
       "      <td>116909</td>\n",
       "      <td>sell</td>\n",
       "      <td>apartment</td>\n",
       "      <td>Abasto</td>\n",
       "      <td>|Argentina|Capital Federal|Abasto|</td>\n",
       "      <td>Argentina</td>\n",
       "      <td>Capital Federal</td>\n",
       "      <td>NaN</td>\n",
       "      <td>-34.603329,-58.410789</td>\n",
       "      <td>-34.603329</td>\n",
       "      <td>...</td>\n",
       "      <td>28.0</td>\n",
       "      <td>2321.428571</td>\n",
       "      <td>2321.428571</td>\n",
       "      <td>NaN</td>\n",
       "      <td>2.0</td>\n",
       "      <td>NaN</td>\n",
       "      <td>http://www.properati.com.ar/1ccua_venta_depart...</td>\n",
       "      <td>APTO CREDITO HIPOTECARIO DPTO 2 AMBIENTES   in...</td>\n",
       "      <td>Salguero 740 / APTO CREDITO HIPOTECARIO DPTO 2...</td>\n",
       "      <td>https://thumbs4.properati.com/5/AC2fFBN2eKptCs...</td>\n",
       "    </tr>\n",
       "    <tr>\n",
       "      <th>74940</th>\n",
       "      <td>74940</td>\n",
       "      <td>sell</td>\n",
       "      <td>apartment</td>\n",
       "      <td>Capital Federal</td>\n",
       "      <td>|Argentina|Capital Federal|</td>\n",
       "      <td>Argentina</td>\n",
       "      <td>Capital Federal</td>\n",
       "      <td>3433955.0</td>\n",
       "      <td>-34.6081925827,-58.4637142203</td>\n",
       "      <td>-34.608193</td>\n",
       "      <td>...</td>\n",
       "      <td>73.0</td>\n",
       "      <td>1768.292683</td>\n",
       "      <td>1986.301370</td>\n",
       "      <td>NaN</td>\n",
       "      <td>NaN</td>\n",
       "      <td>1500.0</td>\n",
       "      <td>http://www.properati.com.ar/1apng_venta_depart...</td>\n",
       "      <td>DEPARTAMENTO DE 3 AMBIENTES CON DEP.DE SERVICI...</td>\n",
       "      <td>Departamento - Villa Gral.Mitre</td>\n",
       "      <td>https://thumbs4.properati.com/3/_k8C0sliP05Vwy...</td>\n",
       "    </tr>\n",
       "    <tr>\n",
       "      <th>11829</th>\n",
       "      <td>11829</td>\n",
       "      <td>sell</td>\n",
       "      <td>apartment</td>\n",
       "      <td>Roosevelt</td>\n",
       "      <td>|Argentina|Buenos Aires Interior|Rivadavia|Roo...</td>\n",
       "      <td>Argentina</td>\n",
       "      <td>Buenos Aires Interior</td>\n",
       "      <td>3838609.0</td>\n",
       "      <td>NaN</td>\n",
       "      <td>NaN</td>\n",
       "      <td>...</td>\n",
       "      <td>NaN</td>\n",
       "      <td>NaN</td>\n",
       "      <td>NaN</td>\n",
       "      <td>NaN</td>\n",
       "      <td>NaN</td>\n",
       "      <td>NaN</td>\n",
       "      <td>http://www.properati.com.ar/16d57_venta_depart...</td>\n",
       "      <td>Hermoso y comodo apartamento a estrenar.  Idea...</td>\n",
       "      <td>Apartamentos en Roosevelt</td>\n",
       "      <td>https://thumbs4.properati.com/2/BqoNsGwv2JobYy...</td>\n",
       "    </tr>\n",
       "    <tr>\n",
       "      <th>18310</th>\n",
       "      <td>18310</td>\n",
       "      <td>sell</td>\n",
       "      <td>apartment</td>\n",
       "      <td>La Lucila</td>\n",
       "      <td>|Argentina|Bs.As. G.B.A. Zona Norte|Vicente Ló...</td>\n",
       "      <td>Argentina</td>\n",
       "      <td>Bs.As. G.B.A. Zona Norte</td>\n",
       "      <td>3432310.0</td>\n",
       "      <td>-34.505208,-58.493394</td>\n",
       "      <td>-34.505208</td>\n",
       "      <td>...</td>\n",
       "      <td>60.0</td>\n",
       "      <td>NaN</td>\n",
       "      <td>2803.333333</td>\n",
       "      <td>NaN</td>\n",
       "      <td>2.0</td>\n",
       "      <td>NaN</td>\n",
       "      <td>http://www.properati.com.ar/175u7_venta_depart...</td>\n",
       "      <td>Venta - Departamento - Argentina, Buenos Aires...</td>\n",
       "      <td>Departamento en Venta ubicado en La Lucila</td>\n",
       "      <td>https://thumbs4.properati.com/2/MN3_D7Az8zCt9J...</td>\n",
       "    </tr>\n",
       "    <tr>\n",
       "      <th>1275</th>\n",
       "      <td>1275</td>\n",
       "      <td>sell</td>\n",
       "      <td>apartment</td>\n",
       "      <td>Nordelta</td>\n",
       "      <td>|Argentina|Bs.As. G.B.A. Zona Norte|Tigre|Nord...</td>\n",
       "      <td>Argentina</td>\n",
       "      <td>Bs.As. G.B.A. Zona Norte</td>\n",
       "      <td>NaN</td>\n",
       "      <td>-34.40014,-58.64985</td>\n",
       "      <td>-34.400140</td>\n",
       "      <td>...</td>\n",
       "      <td>102.0</td>\n",
       "      <td>2927.927928</td>\n",
       "      <td>3186.274510</td>\n",
       "      <td>NaN</td>\n",
       "      <td>3.0</td>\n",
       "      <td>NaN</td>\n",
       "      <td>http://www.properati.com.ar/15hrj_venta_depart...</td>\n",
       "      <td>Departamento de 3 ambientes ubicado en el 6º p...</td>\n",
       "      <td>EL PORTAL | Antares | Legno - Departamento en ...</td>\n",
       "      <td>https://thumbs4.properati.com/5/TT2kr0XLfO3ebs...</td>\n",
       "    </tr>\n",
       "  </tbody>\n",
       "</table>\n",
       "<p>6 rows × 26 columns</p>\n",
       "</div>"
      ],
      "text/plain": [
       "        Unnamed: 0 operation property_type       place_name  \\\n",
       "86376        86376      sell     apartment          Córdoba   \n",
       "116909      116909      sell     apartment           Abasto   \n",
       "74940        74940      sell     apartment  Capital Federal   \n",
       "11829        11829      sell     apartment        Roosevelt   \n",
       "18310        18310      sell     apartment        La Lucila   \n",
       "1275          1275      sell     apartment         Nordelta   \n",
       "\n",
       "                                  place_with_parent_names country_name  \\\n",
       "86376                         |Argentina|Córdoba|Córdoba|    Argentina   \n",
       "116909                 |Argentina|Capital Federal|Abasto|    Argentina   \n",
       "74940                         |Argentina|Capital Federal|    Argentina   \n",
       "11829   |Argentina|Buenos Aires Interior|Rivadavia|Roo...    Argentina   \n",
       "18310   |Argentina|Bs.As. G.B.A. Zona Norte|Vicente Ló...    Argentina   \n",
       "1275    |Argentina|Bs.As. G.B.A. Zona Norte|Tigre|Nord...    Argentina   \n",
       "\n",
       "                      state_name  geonames_id                        lat-lon  \\\n",
       "86376                    Córdoba    3860259.0                            NaN   \n",
       "116909           Capital Federal          NaN          -34.603329,-58.410789   \n",
       "74940            Capital Federal    3433955.0  -34.6081925827,-58.4637142203   \n",
       "11829      Buenos Aires Interior    3838609.0                            NaN   \n",
       "18310   Bs.As. G.B.A. Zona Norte    3432310.0          -34.505208,-58.493394   \n",
       "1275    Bs.As. G.B.A. Zona Norte          NaN            -34.40014,-58.64985   \n",
       "\n",
       "              lat  ...  surface_covered_in_m2  price_usd_per_m2  price_per_m2  \\\n",
       "86376         NaN  ...                   55.0               NaN  25454.545455   \n",
       "116909 -34.603329  ...                   28.0       2321.428571   2321.428571   \n",
       "74940  -34.608193  ...                   73.0       1768.292683   1986.301370   \n",
       "11829         NaN  ...                    NaN               NaN           NaN   \n",
       "18310  -34.505208  ...                   60.0               NaN   2803.333333   \n",
       "1275   -34.400140  ...                  102.0       2927.927928   3186.274510   \n",
       "\n",
       "        floor  rooms  expenses  \\\n",
       "86376     NaN    NaN       NaN   \n",
       "116909    NaN    2.0       NaN   \n",
       "74940     NaN    NaN    1500.0   \n",
       "11829     NaN    NaN       NaN   \n",
       "18310     NaN    2.0       NaN   \n",
       "1275      NaN    3.0       NaN   \n",
       "\n",
       "                                            properati_url  \\\n",
       "86376   http://www.properati.com.ar/1b4bk_venta_depart...   \n",
       "116909  http://www.properati.com.ar/1ccua_venta_depart...   \n",
       "74940   http://www.properati.com.ar/1apng_venta_depart...   \n",
       "11829   http://www.properati.com.ar/16d57_venta_depart...   \n",
       "18310   http://www.properati.com.ar/175u7_venta_depart...   \n",
       "1275    http://www.properati.com.ar/15hrj_venta_depart...   \n",
       "\n",
       "                                              description  \\\n",
       "86376   DEPARTAMENTO EN BARRIO ALBERDI UBICADO EN CALL...   \n",
       "116909  APTO CREDITO HIPOTECARIO DPTO 2 AMBIENTES   in...   \n",
       "74940   DEPARTAMENTO DE 3 AMBIENTES CON DEP.DE SERVICI...   \n",
       "11829   Hermoso y comodo apartamento a estrenar.  Idea...   \n",
       "18310   Venta - Departamento - Argentina, Buenos Aires...   \n",
       "1275    Departamento de 3 ambientes ubicado en el 6º p...   \n",
       "\n",
       "                                                    title  \\\n",
       "86376                                             ALBERDI   \n",
       "116909  Salguero 740 / APTO CREDITO HIPOTECARIO DPTO 2...   \n",
       "74940                     Departamento - Villa Gral.Mitre   \n",
       "11829                           Apartamentos en Roosevelt   \n",
       "18310          Departamento en Venta ubicado en La Lucila   \n",
       "1275    EL PORTAL | Antares | Legno - Departamento en ...   \n",
       "\n",
       "                                          image_thumbnail  \n",
       "86376   https://thumbs4.properati.com/1/SUjXqOJjED5pGM...  \n",
       "116909  https://thumbs4.properati.com/5/AC2fFBN2eKptCs...  \n",
       "74940   https://thumbs4.properati.com/3/_k8C0sliP05Vwy...  \n",
       "11829   https://thumbs4.properati.com/2/BqoNsGwv2JobYy...  \n",
       "18310   https://thumbs4.properati.com/2/MN3_D7Az8zCt9J...  \n",
       "1275    https://thumbs4.properati.com/5/TT2kr0XLfO3ebs...  \n",
       "\n",
       "[6 rows x 26 columns]"
      ]
     },
     "metadata": {},
     "output_type": "display_data"
    },
    {
     "name": "stdout",
     "output_type": "stream",
     "text": [
      "(Cantidad de Filas, Cantidad de columnas) -> (121220, 26)\n"
     ]
    }
   ],
   "source": [
    "# Abrimos el dataset y hacemos un chequeo rápido para saber cantidad de registros y miramos la composición del mismo.\n",
    "filename = \"../../dataset/properati.csv\"\n",
    "data = pd.read_csv(filename)\n",
    "\n",
    "display(data.sample(n=6))\n",
    "print(f\"(Cantidad de Filas, Cantidad de columnas) -> {data.shape}\")"
   ]
  },
  {
   "cell_type": "code",
   "execution_count": 3,
   "metadata": {},
   "outputs": [
    {
     "name": "stdout",
     "output_type": "stream",
     "text": [
      "Cantidad de registros con NaN: 20410\n",
      "Porcentaje de registros con NaN: 16.837155584886982\n",
      "Contamos cantidad de registros unicos:\n",
      "       price_aprox_usd  count\n",
      "0                 0.00      1\n",
      "1              4666.62      1\n",
      "2              4952.45      1\n",
      "3              5000.00      2\n",
      "4              5047.53      5\n",
      "...                ...    ...\n",
      "10359      16000000.00      1\n",
      "10360      19500000.00      1\n",
      "10361      22980378.29      1\n",
      "10362      25000000.00      1\n",
      "10363      46545445.00      1\n",
      "\n",
      "[10364 rows x 2 columns]\n"
     ]
    }
   ],
   "source": [
    "# Columna price_aprox_usd: revisamos que opciones tiene, o si se repite lo mismo.\n",
    "print(f'Cantidad de registros con NaN: {data.price_aprox_usd.isnull().sum()}')\n",
    "print(f'Porcentaje de registros con NaN: {data.price_aprox_usd.isnull().mean()*100}')\n",
    "print(\"Contamos cantidad de registros unicos:\")\n",
    "print(data.groupby(['price_aprox_usd']).size().reset_index(name='count'))"
   ]
  },
  {
   "cell_type": "code",
   "execution_count": 4,
   "metadata": {},
   "outputs": [
    {
     "data": {
      "text/plain": [
       "<AxesSubplot:xlabel='property_type'>"
      ]
     },
     "execution_count": 4,
     "metadata": {},
     "output_type": "execute_result"
    },
    {
     "data": {
      "image/png": "[encoded data removed]",
      "text/plain": [
       "<Figure size 432x288 with 1 Axes>"
      ]
     },
     "metadata": {
      "needs_background": "light"
     },
     "output_type": "display_data"
    }
   ],
   "source": [
    "#graficamos el dato por tipo de propiedad con el fin de observar los rangos de precios. En esta grafica podemos observar la variación en la media de los precios que existe de acuerdo al tipo de vivienda.\n",
    "data.groupby('property_type')['price_aprox_usd'].mean().plot.bar()"
   ]
  },
  {
   "cell_type": "code",
   "execution_count": 5,
   "metadata": {},
   "outputs": [
    {
     "data": {
      "text/plain": [
       "count    1.008100e+05\n",
       "mean     2.397006e+05\n",
       "std      3.913239e+05\n",
       "min      0.000000e+00\n",
       "25%      8.973388e+04\n",
       "50%      1.450000e+05\n",
       "75%      2.650000e+05\n",
       "max      4.654544e+07\n",
       "Name: price_aprox_usd, dtype: float64"
      ]
     },
     "execution_count": 5,
     "metadata": {},
     "output_type": "execute_result"
    }
   ],
   "source": [
    "data.price_aprox_usd.describe()"
   ]
  },
  {
   "cell_type": "markdown",
   "metadata": {},
   "source": [
    "### Detalle de análisis de columna `price_aprox_usd`:\n",
    "\n",
    "* `price_aprox_usd` -> Esta columna tiene 20.410 datos nulos o su equivalente 16,83%. Consideramos que esta variable es relevante para la proyección, teniendo en cuenta que el valor por metro cuadrado cubierto y total estan calculados en esta moneda, observamos un valor máximo de 46,545,445 alejado significativamente de la media que es de 239,700.\n",
    "Esta columna podriamos completarla realizando diferentes operaciones:\n",
    " \n",
    "1. Extrayendo este dato de las columnas description y title\n",
    "2. Diviendo el precio total en usd por el precio del metro cuadrado"
   ]
  },
  {
   "cell_type": "markdown",
   "metadata": {},
   "source": [
    "### Detalle de valores extremos en la  columna `price_aprox_usd`:\n",
    "\n",
    "En el catplot elaborado para esta variable comparada por tipo de propiedad podemos observar como en apartamentos se evidencias valores muy por encima de los valores medios, en el caso de las casas se observan algunas propiedades alejadas de la media."
   ]
  },
  {
   "cell_type": "code",
   "execution_count": 6,
   "metadata": {},
   "outputs": [
    {
     "data": {
      "text/plain": [
       "<seaborn.axisgrid.FacetGrid at 0x27756599bb0>"
      ]
     },
     "execution_count": 6,
     "metadata": {},
     "output_type": "execute_result"
    },
    {
     "data": {
      "image/png": "[encoded data removed]",
      "text/plain": [
       "<Figure size 1800x360 with 1 Axes>"
      ]
     },
     "metadata": {
      "needs_background": "light"
     },
     "output_type": "display_data"
    }
   ],
   "source": [
    "sns.catplot(data=data, x= 'price_aprox_usd', y=\"property_type\", kind=\"box\", height=5, aspect=5,)\n"
   ]
  },
  {
   "cell_type": "markdown",
   "metadata": {},
   "source": [
    "### Regex para rellenar la columna `price_aprox_USD`:\n",
    "\n",
    "Vamos a extraer datos de las columnas title y description para esto tomamos las diferentes expresiones de la moneda U$D, USD, usd, us$, U$S"
   ]
  },
  {
   "cell_type": "code",
   "execution_count": 7,
   "metadata": {},
   "outputs": [],
   "source": [
    "data[['description', 'title']] = data[['description', 'title']].apply(lambda x: x.astype(str))\n",
    "\n",
    "#Que pasa si la propiedad vale más de 4 digitos? el valor minimo de propiedad lleno es de 4,666.62 usd, trae tambien el dato dolares y debemos cambiar . por ,\n",
    "\n",
    "patron = r'U\\$D\\s?([0-9]*\\.?\\,?[0-9]*\\.?\\,?[0-9]*)|USD\\s?([0-9]*\\.?\\,?[0-9]*\\.?\\,?[0-9]*)|usd\\s?([0-9]*\\.?\\,?[0-9]*\\.?\\,?[0-9]*)|us\\$d\\s?([0-9]*\\.?\\,?[0-9]*\\.?\\,?[0-9]*)|U\\$S\\s?([0-9]*\\.?\\,?[0-9]*\\.?\\,?[0-9]*)'\n",
    "\n",
    "regex = re.compile(patron, flags = re.IGNORECASE)\n",
    "\n",
    "precio_aprox_usd_titulo=data['title'].replace(np.NAN,\"\").apply(lambda x: regex.findall(x)[0] if regex.findall(x) else np.NaN)\n",
    "data['price_aprox_usd'].fillna(precio_aprox_usd_titulo, inplace=True)\n",
    "\n",
    "precio_aprox_usd_descripcion=data['description'].replace(np.NAN,\"\").apply(lambda x: regex.findall(x)[0] if regex.findall(x) else np.NaN)\n",
    "data['price_aprox_usd'].fillna(precio_aprox_usd_descripcion, inplace=True)\n"
   ]
  },
  {
   "cell_type": "code",
   "execution_count": 9,
   "metadata": {},
   "outputs": [
    {
     "name": "stdout",
     "output_type": "stream",
     "text": [
      "% de valores nulos que quedan luego de aplicar regex: 14.02986305890117\n",
      "entradas: 121220\n"
     ]
    }
   ],
   "source": [
    "#luego de aplicar el regex se logran recucir el porcentaje de nans al pasar del 16.84% al 14.029%\n",
    "print (f'% de valores nulos que quedan luego de aplicar regex: {data.price_aprox_usd.isna().sum()/data.price_aprox_usd.shape[0]*100}')\n",
    "print (f'entradas: {data.price_aprox_usd.shape[0]}')"
   ]
  },
  {
   "cell_type": "code",
   "execution_count": 10,
   "metadata": {},
   "outputs": [],
   "source": [
    "#Vamos a transformar los datos de la columna ya que al extraer datos de regex se convirtieron en tipo object\n",
    "data['price_aprox_usd'] = pd.to_numeric(data['price_aprox_usd'],errors = 'coerce')"
   ]
  },
  {
   "cell_type": "code",
   "execution_count": 12,
   "metadata": {},
   "outputs": [
    {
     "name": "stdout",
     "output_type": "stream",
     "text": [
      "% de valores nulos que quedan luego de aplicar regex: 16.837155584886982\n",
      "entradas: 121220\n"
     ]
    }
   ],
   "source": [
    "print (f'% de valores nulos que quedan luego de aplicar regex: {data.price_aprox_usd.isna().sum()/data.price_aprox_usd.shape[0]*100}')\n",
    "print (f'entradas: {data.price_aprox_usd.shape[0]}')"
   ]
  }
 ],
 "metadata": {
  "kernelspec": {
   "display_name": "Python 3.8.13 ('dhdsblend2021')",
   "language": "python",
   "name": "python3"
  },
  "language_info": {
   "codemirror_mode": {
    "name": "ipython",
    "version": 3
   },
   "file_extension": ".py",
   "mimetype": "text/x-python",
   "name": "python",
   "nbconvert_exporter": "python",
   "pygments_lexer": "ipython3",
   "version": "3.8.13"
  },
  "orig_nbformat": 4,
  "vscode": {
   "interpreter": {
    "hash": "efc208fdaa12fe71d644c382e37592789e7715eab6097afaedaaf3f1e1734556"
   }
  }
 },
 "nbformat": 4,
 "nbformat_minor": 2
}
