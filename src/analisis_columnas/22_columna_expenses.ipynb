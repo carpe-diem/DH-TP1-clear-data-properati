{
 "cells": [
  {
   "cell_type": "markdown",
   "metadata": {},
   "source": [
    "Análisis de la Columna 1: \"expenses\""
   ]
  },
  {
   "cell_type": "code",
   "execution_count": 1,
   "metadata": {},
   "outputs": [],
   "source": [
    "# Lo primero que hacemos es importar todas las librerias necesarias.\n",
    "import pandas as pd\n",
    "import numpy as np"
   ]
  },
  {
   "cell_type": "code",
   "execution_count": 2,
   "metadata": {},
   "outputs": [
    {
     "data": {
      "text/plain": [
       "88917        NaN\n",
       "107184       NaN\n",
       "22054        NaN\n",
       "67073        NaN\n",
       "87412        NaN\n",
       "90021        NaN\n",
       "76864     4500.0\n",
       "107486       NaN\n",
       "57924        NaN\n",
       "44194        NaN\n",
       "Name: expenses, dtype: float64"
      ]
     },
     "metadata": {},
     "output_type": "display_data"
    }
   ],
   "source": [
    "# Abrimos el dataset y hacemos un chequeo rápido para saber cantidad de registros y miramos la composición del mismo.\n",
    "filename = \"../../dataset/properati.csv\"\n",
    "data = pd.read_csv(filename)\n",
    "\n",
    "display(data.sample(n=10).expenses)"
   ]
  },
  {
   "cell_type": "markdown",
   "metadata": {},
   "source": [
    "Los valores NaN los Reemplazamos por 0.\n",
    "\n",
    "#TODO ver si con regex se puede recuperar info de otras columnas."
   ]
  },
  {
   "cell_type": "code",
   "execution_count": 3,
   "metadata": {},
   "outputs": [
    {
     "name": "stdout",
     "output_type": "stream",
     "text": [
      "Cantidad de registros con NaN Antes: 106958\n",
      "Cantidad de registros con NaN Después: 0\n"
     ]
    }
   ],
   "source": [
    "print(f'Cantidad de registros con NaN Antes: {data.expenses.isnull().sum()}')\n",
    "data['expenses'] = data['expenses'].fillna(0)\n",
    "print(f'Cantidad de registros con NaN Después: {data.expenses.isnull().sum()}')"
   ]
  },
  {
   "cell_type": "markdown",
   "metadata": {},
   "source": [
    "Al ser un valor muy variable, ya que el valor de las expensas depende de muchos factores, y los valores pueden ser muy distintos, Lo primero que hacemos es analizar los rangos de valores."
   ]
  },
  {
   "cell_type": "code",
   "execution_count": 4,
   "metadata": {},
   "outputs": [
    {
     "data": {
      "text/html": [
       "<div>\n",
       "<style scoped>\n",
       "    .dataframe tbody tr th:only-of-type {\n",
       "        vertical-align: middle;\n",
       "    }\n",
       "\n",
       "    .dataframe tbody tr th {\n",
       "        vertical-align: top;\n",
       "    }\n",
       "\n",
       "    .dataframe thead tr th {\n",
       "        text-align: left;\n",
       "    }\n",
       "\n",
       "    .dataframe thead tr:last-of-type th {\n",
       "        text-align: right;\n",
       "    }\n",
       "</style>\n",
       "<table border=\"1\" class=\"dataframe\">\n",
       "  <thead>\n",
       "    <tr>\n",
       "      <th></th>\n",
       "      <th colspan=\"4\" halign=\"left\">expenses</th>\n",
       "    </tr>\n",
       "    <tr>\n",
       "      <th></th>\n",
       "      <th>count</th>\n",
       "      <th>mean</th>\n",
       "      <th>max</th>\n",
       "      <th>min</th>\n",
       "    </tr>\n",
       "    <tr>\n",
       "      <th>property_type</th>\n",
       "      <th></th>\n",
       "      <th></th>\n",
       "      <th></th>\n",
       "      <th></th>\n",
       "    </tr>\n",
       "  </thead>\n",
       "  <tbody>\n",
       "    <tr>\n",
       "      <th>PH</th>\n",
       "      <td>5751</td>\n",
       "      <td>47.320814</td>\n",
       "      <td>6000.0</td>\n",
       "      <td>0.0</td>\n",
       "    </tr>\n",
       "    <tr>\n",
       "      <th>apartment</th>\n",
       "      <td>71065</td>\n",
       "      <td>788.850517</td>\n",
       "      <td>10001500.0</td>\n",
       "      <td>0.0</td>\n",
       "    </tr>\n",
       "    <tr>\n",
       "      <th>house</th>\n",
       "      <td>40268</td>\n",
       "      <td>353.069211</td>\n",
       "      <td>1250000.0</td>\n",
       "      <td>0.0</td>\n",
       "    </tr>\n",
       "    <tr>\n",
       "      <th>store</th>\n",
       "      <td>4136</td>\n",
       "      <td>215.789894</td>\n",
       "      <td>19000.0</td>\n",
       "      <td>0.0</td>\n",
       "    </tr>\n",
       "  </tbody>\n",
       "</table>\n",
       "</div>"
      ],
      "text/plain": [
       "              expenses                             \n",
       "                 count        mean         max  min\n",
       "property_type                                      \n",
       "PH                5751   47.320814      6000.0  0.0\n",
       "apartment        71065  788.850517  10001500.0  0.0\n",
       "house            40268  353.069211   1250000.0  0.0\n",
       "store             4136  215.789894     19000.0  0.0"
      ]
     },
     "metadata": {},
     "output_type": "display_data"
    }
   ],
   "source": [
    "display(data.groupby('property_type').agg({'expenses':['count', 'mean', 'max', 'min']}))"
   ]
  },
  {
   "cell_type": "markdown",
   "metadata": {},
   "source": [
    "Ahora verificamos los datos excluyendo los valores extremos."
   ]
  },
  {
   "cell_type": "code",
   "execution_count": 5,
   "metadata": {},
   "outputs": [
    {
     "data": {
      "image/png": "[encoded data removed]",
      "text/plain": [
       "<Figure size 640x480 with 1 Axes>"
      ]
     },
     "metadata": {},
     "output_type": "display_data"
    }
   ],
   "source": [
    "mask_expenses_max_min = data.expenses.between(100, 10000)\n",
    "df = pd.DataFrame(data[mask_expenses_max_min],\n",
    "                  columns=['expenses'])\n",
    "boxplot = df.boxplot(column=['expenses'])  \n"
   ]
  },
  {
   "cell_type": "code",
   "execution_count": 6,
   "metadata": {},
   "outputs": [
    {
     "data": {
      "text/html": [
       "<div>\n",
       "<style scoped>\n",
       "    .dataframe tbody tr th:only-of-type {\n",
       "        vertical-align: middle;\n",
       "    }\n",
       "\n",
       "    .dataframe tbody tr th {\n",
       "        vertical-align: top;\n",
       "    }\n",
       "\n",
       "    .dataframe thead tr th {\n",
       "        text-align: left;\n",
       "    }\n",
       "\n",
       "    .dataframe thead tr:last-of-type th {\n",
       "        text-align: right;\n",
       "    }\n",
       "</style>\n",
       "<table border=\"1\" class=\"dataframe\">\n",
       "  <thead>\n",
       "    <tr>\n",
       "      <th></th>\n",
       "      <th colspan=\"4\" halign=\"left\">expenses</th>\n",
       "    </tr>\n",
       "    <tr>\n",
       "      <th></th>\n",
       "      <th>count</th>\n",
       "      <th>mean</th>\n",
       "      <th>max</th>\n",
       "      <th>min</th>\n",
       "    </tr>\n",
       "    <tr>\n",
       "      <th>property_type</th>\n",
       "      <th></th>\n",
       "      <th></th>\n",
       "      <th></th>\n",
       "      <th></th>\n",
       "    </tr>\n",
       "  </thead>\n",
       "  <tbody>\n",
       "    <tr>\n",
       "      <th>PH</th>\n",
       "      <td>299</td>\n",
       "      <td>910.006689</td>\n",
       "      <td>6000.0</td>\n",
       "      <td>100.0</td>\n",
       "    </tr>\n",
       "    <tr>\n",
       "      <th>apartment</th>\n",
       "      <td>9484</td>\n",
       "      <td>2160.670392</td>\n",
       "      <td>7000.0</td>\n",
       "      <td>100.0</td>\n",
       "    </tr>\n",
       "    <tr>\n",
       "      <th>house</th>\n",
       "      <td>1699</td>\n",
       "      <td>4132.544438</td>\n",
       "      <td>7000.0</td>\n",
       "      <td>100.0</td>\n",
       "    </tr>\n",
       "    <tr>\n",
       "      <th>store</th>\n",
       "      <td>323</td>\n",
       "      <td>1926.501548</td>\n",
       "      <td>7000.0</td>\n",
       "      <td>100.0</td>\n",
       "    </tr>\n",
       "  </tbody>\n",
       "</table>\n",
       "</div>"
      ],
      "text/plain": [
       "              expenses                            \n",
       "                 count         mean     max    min\n",
       "property_type                                     \n",
       "PH                 299   910.006689  6000.0  100.0\n",
       "apartment         9484  2160.670392  7000.0  100.0\n",
       "house             1699  4132.544438  7000.0  100.0\n",
       "store              323  1926.501548  7000.0  100.0"
      ]
     },
     "metadata": {},
     "output_type": "display_data"
    }
   ],
   "source": [
    "mask_expenses_max_min = data.expenses.between(100, 7000)\n",
    "display(data[mask_expenses_max_min].groupby('property_type').agg({'expenses':['count', 'mean', 'max', 'min']}))"
   ]
  },
  {
   "cell_type": "markdown",
   "metadata": {},
   "source": [
    "Lo que se observa es que existen valores mínimos y máximos muy alejados de la realidad.\n",
    "\n",
    "Vamos a categorizar esta columna para tener rangos:\n",
    "\n",
    "    0 -> Sin Expensas\n",
    "    1 -> Expensas Bajas\n",
    "    2 -> Expensas Normales\n",
    "    3 -> Expensas Altas\n",
    "\n",
    "Para ello tenemos que buscar los valores límites de cada categoría independizados por `property_type`."
   ]
  },
  {
   "cell_type": "code",
   "execution_count": 7,
   "metadata": {},
   "outputs": [
    {
     "name": "stdout",
     "output_type": "stream",
     "text": [
      "1750.0\n",
      "3500.0\n",
      "5250.0\n",
      "7000\n"
     ]
    }
   ],
   "source": [
    "max = 7000\n",
    "mitad = max / 2\n",
    "un_cuarto = max / 4\n",
    "tres_cuartos = max * 3/4\n",
    "\n",
    "# Compruebo en que cuartil se encuentra y pongo su columna a 1\n",
    "print(un_cuarto)\n",
    "print(mitad)\n",
    "print(tres_cuartos)\n",
    "print(max)"
   ]
  },
  {
   "cell_type": "markdown",
   "metadata": {},
   "source": [
    "ahora que tenemos los valores limite, vamos a agregarlos en una columna nueva.\n",
    "\n",
    "    0 -> Sin Expensas (expenses = 0]\n",
    "    1 -> Expensas Bajas (0 < expenses <= un_cuarto]\n",
    "    2 -> Expensas Normales (un_cuarto < expenses <= tres_cuartos]\n",
    "    3 -> Expensas Altas (tres_cuartos < expenses)"
   ]
  },
  {
   "cell_type": "code",
   "execution_count": 8,
   "metadata": {},
   "outputs": [],
   "source": [
    "def get_category(value):\n",
    "    if value == 0:\n",
    "        return 'Sin Expensas'\n",
    "    elif value <= un_cuarto:\n",
    "        return 'Expensas Bajas'\n",
    "    elif value <= tres_cuartos:\n",
    "        return 'Expensas Normales'\n",
    "    else:\n",
    "        return 'Expensas Altas'\n",
    "\n",
    "data['expenses_category'] = data.apply(lambda x: get_category(x.expenses), axis=1)"
   ]
  },
  {
   "cell_type": "code",
   "execution_count": 9,
   "metadata": {},
   "outputs": [
    {
     "data": {
      "text/html": [
       "<div>\n",
       "<style scoped>\n",
       "    .dataframe tbody tr th:only-of-type {\n",
       "        vertical-align: middle;\n",
       "    }\n",
       "\n",
       "    .dataframe tbody tr th {\n",
       "        vertical-align: top;\n",
       "    }\n",
       "\n",
       "    .dataframe thead th {\n",
       "        text-align: right;\n",
       "    }\n",
       "</style>\n",
       "<table border=\"1\" class=\"dataframe\">\n",
       "  <thead>\n",
       "    <tr style=\"text-align: right;\">\n",
       "      <th></th>\n",
       "      <th>expenses</th>\n",
       "      <th>expenses_category</th>\n",
       "    </tr>\n",
       "  </thead>\n",
       "  <tbody>\n",
       "    <tr>\n",
       "      <th>38355</th>\n",
       "      <td>0.0</td>\n",
       "      <td>Sin Expensas</td>\n",
       "    </tr>\n",
       "    <tr>\n",
       "      <th>99369</th>\n",
       "      <td>0.0</td>\n",
       "      <td>Sin Expensas</td>\n",
       "    </tr>\n",
       "    <tr>\n",
       "      <th>919</th>\n",
       "      <td>0.0</td>\n",
       "      <td>Sin Expensas</td>\n",
       "    </tr>\n",
       "    <tr>\n",
       "      <th>109046</th>\n",
       "      <td>0.0</td>\n",
       "      <td>Sin Expensas</td>\n",
       "    </tr>\n",
       "    <tr>\n",
       "      <th>77917</th>\n",
       "      <td>2500.0</td>\n",
       "      <td>Expensas Normales</td>\n",
       "    </tr>\n",
       "  </tbody>\n",
       "</table>\n",
       "</div>"
      ],
      "text/plain": [
       "        expenses  expenses_category\n",
       "38355        0.0       Sin Expensas\n",
       "99369        0.0       Sin Expensas\n",
       "919          0.0       Sin Expensas\n",
       "109046       0.0       Sin Expensas\n",
       "77917     2500.0  Expensas Normales"
      ]
     },
     "execution_count": 9,
     "metadata": {},
     "output_type": "execute_result"
    }
   ],
   "source": [
    "data[['expenses', 'expenses_category']].sample(5, random_state=1212)"
   ]
  },
  {
   "cell_type": "code",
   "execution_count": 10,
   "metadata": {},
   "outputs": [
    {
     "data": {
      "text/plain": [
       "expenses_category\n",
       "Expensas Altas         2254\n",
       "Expensas Bajas         6528\n",
       "Expensas Normales      5480\n",
       "Sin Expensas         106958\n",
       "dtype: int64"
      ]
     },
     "metadata": {},
     "output_type": "display_data"
    }
   ],
   "source": [
    "display(data.groupby('expenses_category').size())"
   ]
  },
  {
   "cell_type": "code",
   "execution_count": 15,
   "metadata": {},
   "outputs": [
    {
     "data": {
      "text/plain": [
       "property_type  expenses_category\n",
       "PH             Expensas Altas           1\n",
       "               Expensas Bajas         306\n",
       "               Expensas Normales       41\n",
       "               Sin Expensas          5403\n",
       "apartment      Expensas Altas        1353\n",
       "               Expensas Bajas        5641\n",
       "               Expensas Normales     4210\n",
       "               Sin Expensas         59861\n",
       "house          Expensas Altas         862\n",
       "               Expensas Bajas         330\n",
       "               Expensas Normales     1116\n",
       "               Sin Expensas         37960\n",
       "store          Expensas Altas          38\n",
       "               Expensas Bajas         251\n",
       "               Expensas Normales      113\n",
       "               Sin Expensas          3734\n",
       "dtype: int64"
      ]
     },
     "metadata": {},
     "output_type": "display_data"
    }
   ],
   "source": [
    "#display(data.groupby('property_type').agg({'expenses_category':['count']}))\n",
    "display(data[['property_type','expenses_category']].value_counts().sort_index())"
   ]
  }
 ],
 "metadata": {
  "kernelspec": {
   "display_name": "Python 3.9.13 ('DH-TP1-clear-data-properati-1CZPKj1j')",
   "language": "python",
   "name": "python3"
  },
  "language_info": {
   "codemirror_mode": {
    "name": "ipython",
    "version": 3
   },
   "file_extension": ".py",
   "mimetype": "text/x-python",
   "name": "python",
   "nbconvert_exporter": "python",
   "pygments_lexer": "ipython3",
   "version": "3.9.13"
  },
  "orig_nbformat": 4,
  "vscode": {
   "interpreter": {
    "hash": "90f0a836a3448f30c7aca2e2a74571b042914736f1e7cb400854b0a44c3f2e02"
   }
  }
 },
 "nbformat": 4,
 "nbformat_minor": 2
}
