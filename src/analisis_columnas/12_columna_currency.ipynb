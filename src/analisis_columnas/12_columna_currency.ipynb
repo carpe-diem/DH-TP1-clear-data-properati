{
 "cells": [
  {
   "cell_type": "markdown",
   "metadata": {},
   "source": [
    "Análisis de la Columna 12: \"currency\""
   ]
  },
  {
   "cell_type": "code",
   "execution_count": 1,
   "metadata": {},
   "outputs": [],
   "source": [
    "# Lo primero que hacemos es importar todas las librerias necesarias.\n",
    "import pandas as pd"
   ]
  },
  {
   "cell_type": "code",
   "execution_count": 2,
   "metadata": {},
   "outputs": [
    {
     "data": {
      "text/plain": [
       "117136    NaN\n",
       "58210     USD\n",
       "1216      USD\n",
       "39878     ARS\n",
       "81965     USD\n",
       "4793      USD\n",
       "Name: currency, dtype: object"
      ]
     },
     "metadata": {},
     "output_type": "display_data"
    }
   ],
   "source": [
    "# Abrimos el dataset y hacemos un chequeo rápido para saber cantidad de registros y miramos la composición del mismo.\n",
    "filename = \"../../dataset/properati.csv\"\n",
    "data = pd.read_csv(filename)\n",
    "\n",
    "display(data['currency'].sample(n=6))"
   ]
  },
  {
   "cell_type": "markdown",
   "metadata": {},
   "source": [
    "# Columna `currency`: \n",
    "Esta columna nos dice el precio original del aviso. Puede servirnos para calcular otros valores faltantes. pero luego vamos a eliminarla, ya que el precio que la moneda esta implicita en los campos que usamos de precios (price_aprox_usd y price_aprox_local_currency)"
   ]
  },
  {
   "cell_type": "code",
   "execution_count": 6,
   "metadata": {},
   "outputs": [],
   "source": [
    "data.drop(['currency'], axis=1, inplace=True)"
   ]
  }
 ],
 "metadata": {
  "kernelspec": {
   "display_name": "Python 3.9.13 ('DH-TP1-clear-data-properati-1CZPKj1j')",
   "language": "python",
   "name": "python3"
  },
  "language_info": {
   "codemirror_mode": {
    "name": "ipython",
    "version": 3
   },
   "file_extension": ".py",
   "mimetype": "text/x-python",
   "name": "python",
   "nbconvert_exporter": "python",
   "pygments_lexer": "ipython3",
   "version": "3.9.13"
  },
  "orig_nbformat": 4,
  "vscode": {
   "interpreter": {
    "hash": "90f0a836a3448f30c7aca2e2a74571b042914736f1e7cb400854b0a44c3f2e02"
   }
  }
 },
 "nbformat": 4,
 "nbformat_minor": 2
}
