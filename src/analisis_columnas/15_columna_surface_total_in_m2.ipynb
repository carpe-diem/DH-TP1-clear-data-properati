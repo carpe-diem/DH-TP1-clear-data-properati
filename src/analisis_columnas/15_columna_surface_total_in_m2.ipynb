{
 "cells": [
  {
   "cell_type": "code",
   "execution_count": 1,
   "metadata": {},
   "outputs": [],
   "source": [
    "# Lo primero que hacemos es importar todas las librerias necesarias.\n",
    "#importamos librerias para tratamiento de datos\n",
    "import numpy as np\n",
    "import pandas as pd\n",
    "import re\n",
    "import math as mat\n",
    "\n",
    "#importamos librerias la visualizacion de datos\n",
    "import matplotlib.pyplot as plt\n",
    "import seaborn as sns\n",
    "import os\n",
    "%matplotlib inline"
   ]
  },
  {
   "cell_type": "code",
   "execution_count": 2,
   "metadata": {},
   "outputs": [
    {
     "data": {
      "text/html": [
       "<div>\n",
       "<style scoped>\n",
       "    .dataframe tbody tr th:only-of-type {\n",
       "        vertical-align: middle;\n",
       "    }\n",
       "\n",
       "    .dataframe tbody tr th {\n",
       "        vertical-align: top;\n",
       "    }\n",
       "\n",
       "    .dataframe thead th {\n",
       "        text-align: right;\n",
       "    }\n",
       "</style>\n",
       "<table border=\"1\" class=\"dataframe\">\n",
       "  <thead>\n",
       "    <tr style=\"text-align: right;\">\n",
       "      <th></th>\n",
       "      <th>Unnamed: 0</th>\n",
       "      <th>operation</th>\n",
       "      <th>property_type</th>\n",
       "      <th>place_name</th>\n",
       "      <th>place_with_parent_names</th>\n",
       "      <th>country_name</th>\n",
       "      <th>state_name</th>\n",
       "      <th>geonames_id</th>\n",
       "      <th>lat-lon</th>\n",
       "      <th>lat</th>\n",
       "      <th>...</th>\n",
       "      <th>surface_covered_in_m2</th>\n",
       "      <th>price_usd_per_m2</th>\n",
       "      <th>price_per_m2</th>\n",
       "      <th>floor</th>\n",
       "      <th>rooms</th>\n",
       "      <th>expenses</th>\n",
       "      <th>properati_url</th>\n",
       "      <th>description</th>\n",
       "      <th>title</th>\n",
       "      <th>image_thumbnail</th>\n",
       "    </tr>\n",
       "  </thead>\n",
       "  <tbody>\n",
       "    <tr>\n",
       "      <th>90158</th>\n",
       "      <td>90158</td>\n",
       "      <td>sell</td>\n",
       "      <td>apartment</td>\n",
       "      <td>Santos Lugares</td>\n",
       "      <td>|Argentina|Bs.As. G.B.A. Zona Oeste|Tres de Fe...</td>\n",
       "      <td>Argentina</td>\n",
       "      <td>Bs.As. G.B.A. Zona Oeste</td>\n",
       "      <td>3428075.0</td>\n",
       "      <td>NaN</td>\n",
       "      <td>NaN</td>\n",
       "      <td>...</td>\n",
       "      <td>33.0</td>\n",
       "      <td>1589.743590</td>\n",
       "      <td>1878.787879</td>\n",
       "      <td>NaN</td>\n",
       "      <td>NaN</td>\n",
       "      <td>1600.0</td>\n",
       "      <td>http://www.properati.com.ar/1b9qe_venta_depart...</td>\n",
       "      <td>EXCELENTE!!! AL FRENTE CON BALCÓN VISTA LIBRED...</td>\n",
       "      <td>Departamento - Santos Lugares</td>\n",
       "      <td>https://thumbs4.properati.com/1/BrQ305JhCh-hdB...</td>\n",
       "    </tr>\n",
       "    <tr>\n",
       "      <th>104618</th>\n",
       "      <td>104618</td>\n",
       "      <td>sell</td>\n",
       "      <td>apartment</td>\n",
       "      <td>Villa Luzuriaga</td>\n",
       "      <td>|Argentina|Bs.As. G.B.A. Zona Oeste|La Matanza...</td>\n",
       "      <td>Argentina</td>\n",
       "      <td>Bs.As. G.B.A. Zona Oeste</td>\n",
       "      <td>3427406.0</td>\n",
       "      <td>-34.6382582,-58.5778693</td>\n",
       "      <td>-34.638258</td>\n",
       "      <td>...</td>\n",
       "      <td>53.0</td>\n",
       "      <td>1190.476190</td>\n",
       "      <td>1415.094340</td>\n",
       "      <td>NaN</td>\n",
       "      <td>NaN</td>\n",
       "      <td>NaN</td>\n",
       "      <td>http://www.properati.com.ar/1btis_venta_depart...</td>\n",
       "      <td>CODIGO: 494-260 ubicado en: AV. PTE. PERON 900...</td>\n",
       "      <td>SE VENDE DEPARTAMENTO 2 AMBIENTES EN VILLA LUZ...</td>\n",
       "      <td>https://thumbs4.properati.com/2/Lag7nna_H58Ezm...</td>\n",
       "    </tr>\n",
       "    <tr>\n",
       "      <th>56454</th>\n",
       "      <td>56454</td>\n",
       "      <td>sell</td>\n",
       "      <td>house</td>\n",
       "      <td>Salta</td>\n",
       "      <td>|Argentina|Salta|Salta|</td>\n",
       "      <td>Argentina</td>\n",
       "      <td>Salta</td>\n",
       "      <td>3838233.0</td>\n",
       "      <td>-24.788351,-65.42588</td>\n",
       "      <td>-24.788351</td>\n",
       "      <td>...</td>\n",
       "      <td>NaN</td>\n",
       "      <td>NaN</td>\n",
       "      <td>NaN</td>\n",
       "      <td>NaN</td>\n",
       "      <td>5.0</td>\n",
       "      <td>NaN</td>\n",
       "      <td>http://www.properati.com.ar/19r3j_venta_casa_s...</td>\n",
       "      <td>Corredor Responsable: Pablo Castañeda - C.U.C....</td>\n",
       "      <td>Casa a la Venta Macrocentro Maipu 100</td>\n",
       "      <td>https://thumbs4.properati.com/7/YAWeUZWlKdDuQX...</td>\n",
       "    </tr>\n",
       "    <tr>\n",
       "      <th>116587</th>\n",
       "      <td>116587</td>\n",
       "      <td>sell</td>\n",
       "      <td>apartment</td>\n",
       "      <td>Nuñez</td>\n",
       "      <td>|Argentina|Capital Federal|Nuñez|</td>\n",
       "      <td>Argentina</td>\n",
       "      <td>Capital Federal</td>\n",
       "      <td>3430348.0</td>\n",
       "      <td>NaN</td>\n",
       "      <td>NaN</td>\n",
       "      <td>...</td>\n",
       "      <td>71.0</td>\n",
       "      <td>2865.853659</td>\n",
       "      <td>3309.859155</td>\n",
       "      <td>NaN</td>\n",
       "      <td>NaN</td>\n",
       "      <td>NaN</td>\n",
       "      <td>http://www.properati.com.ar/1ccik_venta_depart...</td>\n",
       "      <td>EMPRENDIMIENTO EN POZO. ENTREGA DICIEMBRE  201...</td>\n",
       "      <td>Gran 3 ambientes con 2 baños al frente en cons...</td>\n",
       "      <td>https://thumbs4.properati.com/7/VEOOLkcjK4jAch...</td>\n",
       "    </tr>\n",
       "    <tr>\n",
       "      <th>39811</th>\n",
       "      <td>39811</td>\n",
       "      <td>sell</td>\n",
       "      <td>apartment</td>\n",
       "      <td>Muñiz</td>\n",
       "      <td>|Argentina|Bs.As. G.B.A. Zona Norte|San Miguel...</td>\n",
       "      <td>Argentina</td>\n",
       "      <td>Bs.As. G.B.A. Zona Norte</td>\n",
       "      <td>3430513.0</td>\n",
       "      <td>-34.5542751,-58.710272</td>\n",
       "      <td>-34.554275</td>\n",
       "      <td>...</td>\n",
       "      <td>42.0</td>\n",
       "      <td>1476.190476</td>\n",
       "      <td>1476.190476</td>\n",
       "      <td>NaN</td>\n",
       "      <td>NaN</td>\n",
       "      <td>NaN</td>\n",
       "      <td>http://www.properati.com.ar/18pem_venta_depart...</td>\n",
       "      <td>DEPARTAMENTO DOS AMBIENTES A LA VENTA EN MUÑIZ...</td>\n",
       "      <td>DEPARTAMENTO EN VENTA</td>\n",
       "      <td>https://thumbs4.properati.com/9/tLoor4_jfqGHZ4...</td>\n",
       "    </tr>\n",
       "    <tr>\n",
       "      <th>42427</th>\n",
       "      <td>42427</td>\n",
       "      <td>sell</td>\n",
       "      <td>apartment</td>\n",
       "      <td>Puerto Madero</td>\n",
       "      <td>|Argentina|Capital Federal|Puerto Madero|</td>\n",
       "      <td>Argentina</td>\n",
       "      <td>Capital Federal</td>\n",
       "      <td>3429760.0</td>\n",
       "      <td>-34.6185289,-58.361047</td>\n",
       "      <td>-34.618529</td>\n",
       "      <td>...</td>\n",
       "      <td>64.0</td>\n",
       "      <td>NaN</td>\n",
       "      <td>NaN</td>\n",
       "      <td>NaN</td>\n",
       "      <td>2.0</td>\n",
       "      <td>NaN</td>\n",
       "      <td>http://www.properati.com.ar/18wfy_venta_depart...</td>\n",
       "      <td>Departamento de 2 ambientes en Zencity, domito...</td>\n",
       "      <td>Venta Zencity 2 ambientes Puerto Madero</td>\n",
       "      <td>https://thumbs4.properati.com/0/wLkYOm4gDnvFja...</td>\n",
       "    </tr>\n",
       "  </tbody>\n",
       "</table>\n",
       "<p>6 rows × 26 columns</p>\n",
       "</div>"
      ],
      "text/plain": [
       "        Unnamed: 0 operation property_type       place_name  \\\n",
       "90158        90158      sell     apartment   Santos Lugares   \n",
       "104618      104618      sell     apartment  Villa Luzuriaga   \n",
       "56454        56454      sell         house            Salta   \n",
       "116587      116587      sell     apartment            Nuñez   \n",
       "39811        39811      sell     apartment            Muñiz   \n",
       "42427        42427      sell     apartment    Puerto Madero   \n",
       "\n",
       "                                  place_with_parent_names country_name  \\\n",
       "90158   |Argentina|Bs.As. G.B.A. Zona Oeste|Tres de Fe...    Argentina   \n",
       "104618  |Argentina|Bs.As. G.B.A. Zona Oeste|La Matanza...    Argentina   \n",
       "56454                             |Argentina|Salta|Salta|    Argentina   \n",
       "116587                  |Argentina|Capital Federal|Nuñez|    Argentina   \n",
       "39811   |Argentina|Bs.As. G.B.A. Zona Norte|San Miguel...    Argentina   \n",
       "42427           |Argentina|Capital Federal|Puerto Madero|    Argentina   \n",
       "\n",
       "                      state_name  geonames_id                  lat-lon  \\\n",
       "90158   Bs.As. G.B.A. Zona Oeste    3428075.0                      NaN   \n",
       "104618  Bs.As. G.B.A. Zona Oeste    3427406.0  -34.6382582,-58.5778693   \n",
       "56454                      Salta    3838233.0     -24.788351,-65.42588   \n",
       "116587           Capital Federal    3430348.0                      NaN   \n",
       "39811   Bs.As. G.B.A. Zona Norte    3430513.0   -34.5542751,-58.710272   \n",
       "42427            Capital Federal    3429760.0   -34.6185289,-58.361047   \n",
       "\n",
       "              lat  ...  surface_covered_in_m2  price_usd_per_m2 price_per_m2  \\\n",
       "90158         NaN  ...                   33.0       1589.743590  1878.787879   \n",
       "104618 -34.638258  ...                   53.0       1190.476190  1415.094340   \n",
       "56454  -24.788351  ...                    NaN               NaN          NaN   \n",
       "116587        NaN  ...                   71.0       2865.853659  3309.859155   \n",
       "39811  -34.554275  ...                   42.0       1476.190476  1476.190476   \n",
       "42427  -34.618529  ...                   64.0               NaN          NaN   \n",
       "\n",
       "        floor  rooms  expenses  \\\n",
       "90158     NaN    NaN    1600.0   \n",
       "104618    NaN    NaN       NaN   \n",
       "56454     NaN    5.0       NaN   \n",
       "116587    NaN    NaN       NaN   \n",
       "39811     NaN    NaN       NaN   \n",
       "42427     NaN    2.0       NaN   \n",
       "\n",
       "                                            properati_url  \\\n",
       "90158   http://www.properati.com.ar/1b9qe_venta_depart...   \n",
       "104618  http://www.properati.com.ar/1btis_venta_depart...   \n",
       "56454   http://www.properati.com.ar/19r3j_venta_casa_s...   \n",
       "116587  http://www.properati.com.ar/1ccik_venta_depart...   \n",
       "39811   http://www.properati.com.ar/18pem_venta_depart...   \n",
       "42427   http://www.properati.com.ar/18wfy_venta_depart...   \n",
       "\n",
       "                                              description  \\\n",
       "90158   EXCELENTE!!! AL FRENTE CON BALCÓN VISTA LIBRED...   \n",
       "104618  CODIGO: 494-260 ubicado en: AV. PTE. PERON 900...   \n",
       "56454   Corredor Responsable: Pablo Castañeda - C.U.C....   \n",
       "116587  EMPRENDIMIENTO EN POZO. ENTREGA DICIEMBRE  201...   \n",
       "39811   DEPARTAMENTO DOS AMBIENTES A LA VENTA EN MUÑIZ...   \n",
       "42427   Departamento de 2 ambientes en Zencity, domito...   \n",
       "\n",
       "                                                    title  \\\n",
       "90158                       Departamento - Santos Lugares   \n",
       "104618  SE VENDE DEPARTAMENTO 2 AMBIENTES EN VILLA LUZ...   \n",
       "56454               Casa a la Venta Macrocentro Maipu 100   \n",
       "116587  Gran 3 ambientes con 2 baños al frente en cons...   \n",
       "39811                               DEPARTAMENTO EN VENTA   \n",
       "42427             Venta Zencity 2 ambientes Puerto Madero   \n",
       "\n",
       "                                          image_thumbnail  \n",
       "90158   https://thumbs4.properati.com/1/BrQ305JhCh-hdB...  \n",
       "104618  https://thumbs4.properati.com/2/Lag7nna_H58Ezm...  \n",
       "56454   https://thumbs4.properati.com/7/YAWeUZWlKdDuQX...  \n",
       "116587  https://thumbs4.properati.com/7/VEOOLkcjK4jAch...  \n",
       "39811   https://thumbs4.properati.com/9/tLoor4_jfqGHZ4...  \n",
       "42427   https://thumbs4.properati.com/0/wLkYOm4gDnvFja...  \n",
       "\n",
       "[6 rows x 26 columns]"
      ]
     },
     "metadata": {},
     "output_type": "display_data"
    },
    {
     "name": "stdout",
     "output_type": "stream",
     "text": [
      "(Cantidad de Filas, Cantidad de columnas) -> (121220, 26)\n"
     ]
    }
   ],
   "source": [
    "# Abrimos el dataset y hacemos un chequeo rápido para saber cantidad de registros y miramos la composición del mismo.\n",
    "filename = \"../../dataset/properati.csv\"\n",
    "data = pd.read_csv(filename)\n",
    "\n",
    "display(data.sample(n=6))\n",
    "print(f\"(Cantidad de Filas, Cantidad de columnas) -> {data.shape}\")"
   ]
  },
  {
   "cell_type": "code",
   "execution_count": 3,
   "metadata": {},
   "outputs": [
    {
     "name": "stdout",
     "output_type": "stream",
     "text": [
      "Unnamed: 0                     0.000000\n",
      "operation                      0.000000\n",
      "property_type                  0.000000\n",
      "place_name                     0.018974\n",
      "place_with_parent_names        0.000000\n",
      "country_name                   0.000000\n",
      "state_name                     0.000000\n",
      "geonames_id                   15.440521\n",
      "lat-lon                       42.525986\n",
      "lat                           42.525986\n",
      "lon                           42.525986\n",
      "price                         16.837156\n",
      "currency                      16.837981\n",
      "price_aprox_local_currency    16.837156\n",
      "price_aprox_usd               16.837156\n",
      "surface_total_in_m2           32.443491\n",
      "surface_covered_in_m2         16.422208\n",
      "price_usd_per_m2              43.394654\n",
      "price_per_m2                  27.686850\n",
      "floor                         93.483749\n",
      "rooms                         60.905791\n",
      "expenses                      88.234615\n",
      "properati_url                  0.000000\n",
      "description                    0.001650\n",
      "title                          0.000000\n",
      "image_thumbnail                2.567233\n",
      "dtype: float64\n"
     ]
    }
   ],
   "source": [
    "print (data.isna().sum()/data.shape[0]*100)"
   ]
  },
  {
   "cell_type": "code",
   "execution_count": 4,
   "metadata": {},
   "outputs": [
    {
     "name": "stdout",
     "output_type": "stream",
     "text": [
      "Cantidad de registros con NaN: 39328\n",
      "Porcentaje de registros con NaN: 32.44349117307375\n",
      "Contamos cantidad de registros unicos:\n",
      "      surface_total_in_m2  count\n",
      "0                     0.0    383\n",
      "1                    10.0     21\n",
      "2                    11.0      8\n",
      "3                    12.0     12\n",
      "4                    13.0      6\n",
      "...                   ...    ...\n",
      "1682             100350.0      1\n",
      "1683             107000.0      4\n",
      "1684             110000.0      3\n",
      "1685             154438.0      1\n",
      "1686             200000.0      2\n",
      "\n",
      "[1687 rows x 2 columns]\n"
     ]
    }
   ],
   "source": [
    "# Columna surface_total_in_m2: revisamos que opciones tiene, o si se repite lo mismo.\n",
    "print(f'Cantidad de registros con NaN: {data.surface_total_in_m2.isnull().sum()}')\n",
    "print(f'Porcentaje de registros con NaN: {data.surface_total_in_m2.isnull().mean()*100}')\n",
    "print(\"Contamos cantidad de registros unicos:\")\n",
    "print(data.groupby(['surface_total_in_m2']).size().reset_index(name='count'))"
   ]
  },
  {
   "cell_type": "code",
   "execution_count": 5,
   "metadata": {},
   "outputs": [
    {
     "data": {
      "text/plain": [
       "<AxesSubplot:xlabel='state_name'>"
      ]
     },
     "execution_count": 5,
     "metadata": {},
     "output_type": "execute_result"
    },
    {
     "data": {
      "image/png": "[encoded data removed]",
      "text/plain": [
       "<Figure size 432x288 with 1 Axes>"
      ]
     },
     "metadata": {
      "needs_background": "light"
     },
     "output_type": "display_data"
    }
   ],
   "source": [
    "#graficamos el dato por tipo de propiedad con el fin de observar los rangos de areas de superficie total que incluye areas adicionales a la superficie cubierta.\n",
    "#En esta grafica podemos observar la variación en la media de las areas que existen de acuerdo al Estado.\n",
    "data.groupby('state_name')['surface_total_in_m2'].mean().plot.bar()"
   ]
  },
  {
   "cell_type": "markdown",
   "metadata": {},
   "source": [
    "# Detalle de análisis de columnas:\n",
    "* `surface_total_in_m2 ` -> Esta columna tiene 39.328 datos nulos o su equivalente 32,44%. El precio se calcula sobre la superficie total asi que debemos revisar la relevancia de esta variable."
   ]
  },
  {
   "cell_type": "code",
   "execution_count": 6,
   "metadata": {},
   "outputs": [
    {
     "data": {
      "text/plain": [
       "count     81892.000000\n",
       "mean        233.795328\n",
       "std        1782.222147\n",
       "min           0.000000\n",
       "25%          50.000000\n",
       "50%          84.000000\n",
       "75%         200.000000\n",
       "max      200000.000000\n",
       "Name: surface_total_in_m2, dtype: float64"
      ]
     },
     "execution_count": 6,
     "metadata": {},
     "output_type": "execute_result"
    }
   ],
   "source": [
    "data.surface_total_in_m2.describe()"
   ]
  },
  {
   "cell_type": "markdown",
   "metadata": {},
   "source": [
    "### Detalle de valores extremos en la  columna `surface_total_in_m2`:\n",
    "\n",
    "En el catplot elaborado para esta variable comparada por tipo de propiedad podemos observar como en apartamentos se evidencias valores muy por encima de los valores medios, en el caso de las casas se observan algunas propiedades alejadas de la media."
   ]
  },
  {
   "cell_type": "code",
   "execution_count": 7,
   "metadata": {},
   "outputs": [
    {
     "data": {
      "text/plain": [
       "<seaborn.axisgrid.FacetGrid at 0x1b89d093df0>"
      ]
     },
     "execution_count": 7,
     "metadata": {},
     "output_type": "execute_result"
    },
    {
     "data": {
      "image/png": "[encoded data removed]",
      "text/plain": [
       "<Figure size 1800x360 with 1 Axes>"
      ]
     },
     "metadata": {
      "needs_background": "light"
     },
     "output_type": "display_data"
    }
   ],
   "source": [
    "sns.catplot(data=data, x= 'surface_total_in_m2', y=\"property_type\", kind=\"box\", height=5, aspect=5,)\n"
   ]
  },
  {
   "cell_type": "markdown",
   "metadata": {},
   "source": [
    "### Regex para rellenar la columna `surface_total_in_m2`:\n",
    "\n",
    "Vamos a extraer datos de las columnas title y description para extraer esta información, para ello utilizaremos las expresiones de numeros que vengan acompañados del texto m2, M2, metros2, Metros2, mts2 y Mts2"
   ]
  },
  {
   "cell_type": "code",
   "execution_count": 8,
   "metadata": {},
   "outputs": [
    {
     "name": "stdout",
     "output_type": "stream",
     "text": [
      "Unnamed: 0                     0.000000\n",
      "operation                      0.000000\n",
      "property_type                  0.000000\n",
      "place_name                     0.018974\n",
      "place_with_parent_names        0.000000\n",
      "country_name                   0.000000\n",
      "state_name                     0.000000\n",
      "geonames_id                   15.440521\n",
      "lat-lon                       42.525986\n",
      "lat                           42.525986\n",
      "lon                           42.525986\n",
      "price                         16.837156\n",
      "currency                      16.837981\n",
      "price_aprox_local_currency    16.837156\n",
      "price_aprox_usd               16.837156\n",
      "surface_total_in_m2           23.528296\n",
      "surface_covered_in_m2         16.422208\n",
      "price_usd_per_m2              43.394654\n",
      "price_per_m2                  27.686850\n",
      "floor                         93.483749\n",
      "rooms                         60.905791\n",
      "expenses                      88.234615\n",
      "properati_url                  0.000000\n",
      "description                    0.000000\n",
      "title                          0.000000\n",
      "image_thumbnail                2.567233\n",
      "dtype: float64\n",
      "entradas: 121220\n"
     ]
    }
   ],
   "source": [
    "# Buscamos superficie total en metros cuadrado en los titulos y en la descripción con Mts2\n",
    "\n",
    "#el area más pequeña es de 0 m2 hay 383 registos en ceros, trae a la base m2, debemos eliminarlos y transformar . a , ???\n",
    "\n",
    "data[['description', 'title']] = data[['description', 'title']].apply(lambda x: x.astype(str))\n",
    "\n",
    "patron = r'([0-9]*\\.?\\,?[0-9]*)\\s?[m|M|mts|Mts|metros|Metros|METROS]\\.?\\S*2'\n",
    "    \n",
    "regex = re.compile(patron, flags = re.IGNORECASE)\n",
    "\n",
    "superficie_total_titulo=data['title'].replace(np.NAN,\"\").apply(lambda x: regex.findall(x)[0] if regex.findall(x) else np.NaN)\n",
    "data['surface_total_in_m2'].fillna(superficie_total_titulo, inplace=True)\n",
    "\n",
    "superficie_total_descripcion=data['description'].replace(np.NAN,\"\").apply(lambda x: regex.findall(x)[0] if regex.findall(x) else np.NaN)\n",
    "data['surface_total_in_m2'].fillna(superficie_total_descripcion, inplace=True)\n",
    "\n",
    "print (data.isna().sum()/data.shape[0]*100)\n",
    "print (f'entradas: {data.shape[0]}')"
   ]
  },
  {
   "cell_type": "code",
   "execution_count": 9,
   "metadata": {},
   "outputs": [
    {
     "data": {
      "text/plain": [
       "22729       112\n",
       "75293       NaN\n",
       "84598       115\n",
       "38373        42\n",
       "56381       NaN\n",
       "17684       333\n",
       "73018       105\n",
       "6564           \n",
       "46896       300\n",
       "85264       NaN\n",
       "72536        28\n",
       "86433       100\n",
       "72060        50\n",
       "12051       625\n",
       "93670       133\n",
       "13226       NaN\n",
       "45123       NaN\n",
       "120813       70\n",
       "56564        52\n",
       "96995        34\n",
       "75326       478\n",
       "13412       NaN\n",
       "15733        65\n",
       "108644      NaN\n",
       "53686       NaN\n",
       "84277        53\n",
       "104285       65\n",
       "60509       150\n",
       "56532       325\n",
       "103895       86\n",
       "35764        70\n",
       "35747        42\n",
       "62085        33\n",
       "28949       NaN\n",
       "108930       62\n",
       "68526      1000\n",
       "79818       260\n",
       "94712        55\n",
       "81165        45\n",
       "96376       160\n",
       "79941       163\n",
       "48658       600\n",
       "116368      NaN\n",
       "110104       47\n",
       "71662       483\n",
       "40283       NaN\n",
       "108264      NaN\n",
       "46178        75\n",
       "103181         \n",
       "36223     1.000\n",
       "Name: surface_total_in_m2, dtype: object"
      ]
     },
     "execution_count": 9,
     "metadata": {},
     "output_type": "execute_result"
    }
   ],
   "source": [
    "data.surface_total_in_m2.sample(50)"
   ]
  }
 ],
 "metadata": {
  "kernelspec": {
   "display_name": "Python 3.8.13 ('dhdsblend2021')",
   "language": "python",
   "name": "python3"
  },
  "language_info": {
   "codemirror_mode": {
    "name": "ipython",
    "version": 3
   },
   "file_extension": ".py",
   "mimetype": "text/x-python",
   "name": "python",
   "nbconvert_exporter": "python",
   "pygments_lexer": "ipython3",
   "version": "3.8.13"
  },
  "orig_nbformat": 4,
  "vscode": {
   "interpreter": {
    "hash": "efc208fdaa12fe71d644c382e37592789e7715eab6097afaedaaf3f1e1734556"
   }
  }
 },
 "nbformat": 4,
 "nbformat_minor": 2
}
