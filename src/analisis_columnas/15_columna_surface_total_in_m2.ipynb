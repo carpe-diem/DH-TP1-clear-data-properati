{
 "cells": [
  {
   "cell_type": "code",
   "execution_count": 2,
   "metadata": {},
   "outputs": [],
   "source": [
    "# Lo primero que hacemos es importar todas las librerias necesarias.\n",
    "#importamos librerias para tratamiento de datos\n",
    "import numpy as np\n",
    "import pandas as pd\n",
    "import re\n",
    "import math as mat\n",
    "\n",
    "#importamos librerias la visualizacion de datos\n",
    "import matplotlib.pyplot as plt\n",
    "import seaborn as sns\n",
    "import os\n",
    "%matplotlib inline"
   ]
  },
  {
   "cell_type": "code",
   "execution_count": 3,
   "metadata": {},
   "outputs": [
    {
     "data": {
      "text/html": [
       "<div>\n",
       "<style scoped>\n",
       "    .dataframe tbody tr th:only-of-type {\n",
       "        vertical-align: middle;\n",
       "    }\n",
       "\n",
       "    .dataframe tbody tr th {\n",
       "        vertical-align: top;\n",
       "    }\n",
       "\n",
       "    .dataframe thead th {\n",
       "        text-align: right;\n",
       "    }\n",
       "</style>\n",
       "<table border=\"1\" class=\"dataframe\">\n",
       "  <thead>\n",
       "    <tr style=\"text-align: right;\">\n",
       "      <th></th>\n",
       "      <th>Unnamed: 0</th>\n",
       "      <th>operation</th>\n",
       "      <th>property_type</th>\n",
       "      <th>place_name</th>\n",
       "      <th>place_with_parent_names</th>\n",
       "      <th>country_name</th>\n",
       "      <th>state_name</th>\n",
       "      <th>geonames_id</th>\n",
       "      <th>lat-lon</th>\n",
       "      <th>lat</th>\n",
       "      <th>...</th>\n",
       "      <th>surface_covered_in_m2</th>\n",
       "      <th>price_usd_per_m2</th>\n",
       "      <th>price_per_m2</th>\n",
       "      <th>floor</th>\n",
       "      <th>rooms</th>\n",
       "      <th>expenses</th>\n",
       "      <th>properati_url</th>\n",
       "      <th>description</th>\n",
       "      <th>title</th>\n",
       "      <th>image_thumbnail</th>\n",
       "    </tr>\n",
       "  </thead>\n",
       "  <tbody>\n",
       "    <tr>\n",
       "      <th>33820</th>\n",
       "      <td>33820</td>\n",
       "      <td>sell</td>\n",
       "      <td>PH</td>\n",
       "      <td>Palermo</td>\n",
       "      <td>|Argentina|Capital Federal|Palermo|</td>\n",
       "      <td>Argentina</td>\n",
       "      <td>Capital Federal</td>\n",
       "      <td>3430234.0</td>\n",
       "      <td>-34.593868,-58.424613</td>\n",
       "      <td>-34.593868</td>\n",
       "      <td>...</td>\n",
       "      <td>20.0</td>\n",
       "      <td>NaN</td>\n",
       "      <td>9350.000000</td>\n",
       "      <td>NaN</td>\n",
       "      <td>3.0</td>\n",
       "      <td>NaN</td>\n",
       "      <td>http://www.properati.com.ar/18ap2_venta_ph_pal...</td>\n",
       "      <td>Corredor Responsable: Mónica Silvia Martinuzzi...</td>\n",
       "      <td>VENTA PH 3 AMB APTO PROF EN PALERMO - SIN EXPE...</td>\n",
       "      <td>https://thumbs4.properati.com/6/h61FyTdDf70TgU...</td>\n",
       "    </tr>\n",
       "    <tr>\n",
       "      <th>74610</th>\n",
       "      <td>74610</td>\n",
       "      <td>sell</td>\n",
       "      <td>apartment</td>\n",
       "      <td>Caballito</td>\n",
       "      <td>|Argentina|Capital Federal|Caballito|</td>\n",
       "      <td>Argentina</td>\n",
       "      <td>Capital Federal</td>\n",
       "      <td>3435874.0</td>\n",
       "      <td>NaN</td>\n",
       "      <td>NaN</td>\n",
       "      <td>...</td>\n",
       "      <td>47.0</td>\n",
       "      <td>2488.765957</td>\n",
       "      <td>2488.765957</td>\n",
       "      <td>NaN</td>\n",
       "      <td>NaN</td>\n",
       "      <td>NaN</td>\n",
       "      <td>http://www.properati.com.ar/1ap7h_venta_depart...</td>\n",
       "      <td>VENTA MONOAMBIENTE - CABALLITOVENTA EN POZO - ...</td>\n",
       "      <td>Departamento en Caballito</td>\n",
       "      <td>https://thumbs4.properati.com/0/6GeiWJS2w6VRZG...</td>\n",
       "    </tr>\n",
       "    <tr>\n",
       "      <th>103405</th>\n",
       "      <td>103405</td>\n",
       "      <td>sell</td>\n",
       "      <td>apartment</td>\n",
       "      <td>Güemes</td>\n",
       "      <td>|Argentina|Buenos Aires Costa Atlántica|Mar de...</td>\n",
       "      <td>Argentina</td>\n",
       "      <td>Buenos Aires Costa Atlántica</td>\n",
       "      <td>3854454.0</td>\n",
       "      <td>NaN</td>\n",
       "      <td>NaN</td>\n",
       "      <td>...</td>\n",
       "      <td>73.0</td>\n",
       "      <td>2823.529412</td>\n",
       "      <td>3287.671233</td>\n",
       "      <td>NaN</td>\n",
       "      <td>NaN</td>\n",
       "      <td>NaN</td>\n",
       "      <td>http://www.properati.com.ar/1brx3_venta_depart...</td>\n",
       "      <td>DEPARTAMENTO EN CONSTRUCCION 3 AMB 85 M2 A EST...</td>\n",
       "      <td>SEMIPISO EN CONSTRUCCION EN POZO GUEMES MAR DE...</td>\n",
       "      <td>https://thumbs4.properati.com/5/YjWbubl-gkDqny...</td>\n",
       "    </tr>\n",
       "    <tr>\n",
       "      <th>67367</th>\n",
       "      <td>67367</td>\n",
       "      <td>sell</td>\n",
       "      <td>house</td>\n",
       "      <td>Tigre</td>\n",
       "      <td>|Argentina|Bs.As. G.B.A. Zona Norte|Tigre|</td>\n",
       "      <td>Argentina</td>\n",
       "      <td>Bs.As. G.B.A. Zona Norte</td>\n",
       "      <td>3427753.0</td>\n",
       "      <td>NaN</td>\n",
       "      <td>NaN</td>\n",
       "      <td>...</td>\n",
       "      <td>180.0</td>\n",
       "      <td>1151.960784</td>\n",
       "      <td>1305.555556</td>\n",
       "      <td>NaN</td>\n",
       "      <td>NaN</td>\n",
       "      <td>NaN</td>\n",
       "      <td>http://www.properati.com.ar/1af6u_venta_casa_t...</td>\n",
       "      <td>Casa alquilada hasta Marzo 2018, ideal inverso...</td>\n",
       "      <td>CASA en Santa Clara TOMA DEPTO en parte de pago</td>\n",
       "      <td>https://thumbs4.properati.com/8/N7LxBZmLkLW1N8...</td>\n",
       "    </tr>\n",
       "    <tr>\n",
       "      <th>74017</th>\n",
       "      <td>74017</td>\n",
       "      <td>sell</td>\n",
       "      <td>store</td>\n",
       "      <td>Coghlan</td>\n",
       "      <td>|Argentina|Capital Federal|Coghlan|</td>\n",
       "      <td>Argentina</td>\n",
       "      <td>Capital Federal</td>\n",
       "      <td>3435359.0</td>\n",
       "      <td>-34.5613024417,-58.4688422346</td>\n",
       "      <td>-34.561302</td>\n",
       "      <td>...</td>\n",
       "      <td>160.0</td>\n",
       "      <td>2260.638298</td>\n",
       "      <td>5312.500000</td>\n",
       "      <td>NaN</td>\n",
       "      <td>NaN</td>\n",
       "      <td>NaN</td>\n",
       "      <td>http://www.properati.com.ar/1aof5_venta_local_...</td>\n",
       "      <td>PROPIEDAD COMERCIAL Y/O INDUSTRIALDESARROLLADA...</td>\n",
       "      <td>PROPIEDAD COMERCIAL Y/O INDUSTRIAL DESARROLLAD...</td>\n",
       "      <td>https://thumbs4.properati.com/0/ZRGuuxNbkfTt5T...</td>\n",
       "    </tr>\n",
       "    <tr>\n",
       "      <th>97411</th>\n",
       "      <td>97411</td>\n",
       "      <td>sell</td>\n",
       "      <td>apartment</td>\n",
       "      <td>Castelar</td>\n",
       "      <td>|Argentina|Bs.As. G.B.A. Zona Oeste|Morón|Cast...</td>\n",
       "      <td>Argentina</td>\n",
       "      <td>Bs.As. G.B.A. Zona Oeste</td>\n",
       "      <td>3435607.0</td>\n",
       "      <td>NaN</td>\n",
       "      <td>NaN</td>\n",
       "      <td>...</td>\n",
       "      <td>45.0</td>\n",
       "      <td>NaN</td>\n",
       "      <td>NaN</td>\n",
       "      <td>NaN</td>\n",
       "      <td>NaN</td>\n",
       "      <td>900.0</td>\n",
       "      <td>http://www.properati.com.ar/1bk0e_venta_depart...</td>\n",
       "      <td>DEPARTAMENTO DE 2 AMBIENTES EN CASTELAR NORTE ...</td>\n",
       "      <td>Departamento - Castelar Norte</td>\n",
       "      <td>https://thumbs4.properati.com/3/f6sRcjddw3cUQE...</td>\n",
       "    </tr>\n",
       "  </tbody>\n",
       "</table>\n",
       "<p>6 rows × 26 columns</p>\n",
       "</div>"
      ],
      "text/plain": [
       "        Unnamed: 0 operation property_type place_name  \\\n",
       "33820        33820      sell            PH    Palermo   \n",
       "74610        74610      sell     apartment  Caballito   \n",
       "103405      103405      sell     apartment     Güemes   \n",
       "67367        67367      sell         house      Tigre   \n",
       "74017        74017      sell         store    Coghlan   \n",
       "97411        97411      sell     apartment   Castelar   \n",
       "\n",
       "                                  place_with_parent_names country_name  \\\n",
       "33820                 |Argentina|Capital Federal|Palermo|    Argentina   \n",
       "74610               |Argentina|Capital Federal|Caballito|    Argentina   \n",
       "103405  |Argentina|Buenos Aires Costa Atlántica|Mar de...    Argentina   \n",
       "67367          |Argentina|Bs.As. G.B.A. Zona Norte|Tigre|    Argentina   \n",
       "74017                 |Argentina|Capital Federal|Coghlan|    Argentina   \n",
       "97411   |Argentina|Bs.As. G.B.A. Zona Oeste|Morón|Cast...    Argentina   \n",
       "\n",
       "                          state_name  geonames_id  \\\n",
       "33820                Capital Federal    3430234.0   \n",
       "74610                Capital Federal    3435874.0   \n",
       "103405  Buenos Aires Costa Atlántica    3854454.0   \n",
       "67367       Bs.As. G.B.A. Zona Norte    3427753.0   \n",
       "74017                Capital Federal    3435359.0   \n",
       "97411       Bs.As. G.B.A. Zona Oeste    3435607.0   \n",
       "\n",
       "                              lat-lon        lat  ...  surface_covered_in_m2  \\\n",
       "33820           -34.593868,-58.424613 -34.593868  ...                   20.0   \n",
       "74610                             NaN        NaN  ...                   47.0   \n",
       "103405                            NaN        NaN  ...                   73.0   \n",
       "67367                             NaN        NaN  ...                  180.0   \n",
       "74017   -34.5613024417,-58.4688422346 -34.561302  ...                  160.0   \n",
       "97411                             NaN        NaN  ...                   45.0   \n",
       "\n",
       "        price_usd_per_m2 price_per_m2  floor  rooms  expenses  \\\n",
       "33820                NaN  9350.000000    NaN    3.0       NaN   \n",
       "74610        2488.765957  2488.765957    NaN    NaN       NaN   \n",
       "103405       2823.529412  3287.671233    NaN    NaN       NaN   \n",
       "67367        1151.960784  1305.555556    NaN    NaN       NaN   \n",
       "74017        2260.638298  5312.500000    NaN    NaN       NaN   \n",
       "97411                NaN          NaN    NaN    NaN     900.0   \n",
       "\n",
       "                                            properati_url  \\\n",
       "33820   http://www.properati.com.ar/18ap2_venta_ph_pal...   \n",
       "74610   http://www.properati.com.ar/1ap7h_venta_depart...   \n",
       "103405  http://www.properati.com.ar/1brx3_venta_depart...   \n",
       "67367   http://www.properati.com.ar/1af6u_venta_casa_t...   \n",
       "74017   http://www.properati.com.ar/1aof5_venta_local_...   \n",
       "97411   http://www.properati.com.ar/1bk0e_venta_depart...   \n",
       "\n",
       "                                              description  \\\n",
       "33820   Corredor Responsable: Mónica Silvia Martinuzzi...   \n",
       "74610   VENTA MONOAMBIENTE - CABALLITOVENTA EN POZO - ...   \n",
       "103405  DEPARTAMENTO EN CONSTRUCCION 3 AMB 85 M2 A EST...   \n",
       "67367   Casa alquilada hasta Marzo 2018, ideal inverso...   \n",
       "74017   PROPIEDAD COMERCIAL Y/O INDUSTRIALDESARROLLADA...   \n",
       "97411   DEPARTAMENTO DE 2 AMBIENTES EN CASTELAR NORTE ...   \n",
       "\n",
       "                                                    title  \\\n",
       "33820   VENTA PH 3 AMB APTO PROF EN PALERMO - SIN EXPE...   \n",
       "74610                           Departamento en Caballito   \n",
       "103405  SEMIPISO EN CONSTRUCCION EN POZO GUEMES MAR DE...   \n",
       "67367     CASA en Santa Clara TOMA DEPTO en parte de pago   \n",
       "74017   PROPIEDAD COMERCIAL Y/O INDUSTRIAL DESARROLLAD...   \n",
       "97411                       Departamento - Castelar Norte   \n",
       "\n",
       "                                          image_thumbnail  \n",
       "33820   https://thumbs4.properati.com/6/h61FyTdDf70TgU...  \n",
       "74610   https://thumbs4.properati.com/0/6GeiWJS2w6VRZG...  \n",
       "103405  https://thumbs4.properati.com/5/YjWbubl-gkDqny...  \n",
       "67367   https://thumbs4.properati.com/8/N7LxBZmLkLW1N8...  \n",
       "74017   https://thumbs4.properati.com/0/ZRGuuxNbkfTt5T...  \n",
       "97411   https://thumbs4.properati.com/3/f6sRcjddw3cUQE...  \n",
       "\n",
       "[6 rows x 26 columns]"
      ]
     },
     "metadata": {},
     "output_type": "display_data"
    },
    {
     "name": "stdout",
     "output_type": "stream",
     "text": [
      "(Cantidad de Filas, Cantidad de columnas) -> (121220, 26)\n"
     ]
    }
   ],
   "source": [
    "# Abrimos el dataset y hacemos un chequeo rápido para saber cantidad de registros y miramos la composición del mismo.\n",
    "filename = \"../../dataset/properati.csv\"\n",
    "data = pd.read_csv(filename)\n",
    "\n",
    "display(data.sample(n=6))\n",
    "print(f\"(Cantidad de Filas, Cantidad de columnas) -> {data.shape}\")"
   ]
  },
  {
   "cell_type": "code",
   "execution_count": 4,
   "metadata": {},
   "outputs": [
    {
     "name": "stdout",
     "output_type": "stream",
     "text": [
      "Unnamed: 0                     0.000000\n",
      "operation                      0.000000\n",
      "property_type                  0.000000\n",
      "place_name                     0.018974\n",
      "place_with_parent_names        0.000000\n",
      "country_name                   0.000000\n",
      "state_name                     0.000000\n",
      "geonames_id                   15.440521\n",
      "lat-lon                       42.525986\n",
      "lat                           42.525986\n",
      "lon                           42.525986\n",
      "price                         16.837156\n",
      "currency                      16.837981\n",
      "price_aprox_local_currency    16.837156\n",
      "price_aprox_usd               16.837156\n",
      "surface_total_in_m2           32.443491\n",
      "surface_covered_in_m2         16.422208\n",
      "price_usd_per_m2              43.394654\n",
      "price_per_m2                  27.686850\n",
      "floor                         93.483749\n",
      "rooms                         60.905791\n",
      "expenses                      88.234615\n",
      "properati_url                  0.000000\n",
      "description                    0.001650\n",
      "title                          0.000000\n",
      "image_thumbnail                2.567233\n",
      "dtype: float64\n"
     ]
    }
   ],
   "source": [
    "print (data.isna().sum()/data.shape[0]*100)"
   ]
  },
  {
   "cell_type": "code",
   "execution_count": 5,
   "metadata": {},
   "outputs": [
    {
     "name": "stdout",
     "output_type": "stream",
     "text": [
      "Cantidad de registros con NaN: 39328\n",
      "Porcentaje de registros con NaN: 32.44349117307375\n",
      "Contamos cantidad de registros unicos:\n",
      "      surface_total_in_m2  count\n",
      "0                     0.0    383\n",
      "1                    10.0     21\n",
      "2                    11.0      8\n",
      "3                    12.0     12\n",
      "4                    13.0      6\n",
      "...                   ...    ...\n",
      "1682             100350.0      1\n",
      "1683             107000.0      4\n",
      "1684             110000.0      3\n",
      "1685             154438.0      1\n",
      "1686             200000.0      2\n",
      "\n",
      "[1687 rows x 2 columns]\n"
     ]
    }
   ],
   "source": [
    "# Columna surface_total_in_m2: revisamos que opciones tiene, o si se repite lo mismo.\n",
    "print(f'Cantidad de registros con NaN: {data.surface_total_in_m2.isnull().sum()}')\n",
    "print(f'Porcentaje de registros con NaN: {data.surface_total_in_m2.isnull().mean()*100}')\n",
    "print(\"Contamos cantidad de registros unicos:\")\n",
    "print(data.groupby(['surface_total_in_m2']).size().reset_index(name='count'))"
   ]
  },
  {
   "cell_type": "code",
   "execution_count": 6,
   "metadata": {},
   "outputs": [
    {
     "data": {
      "text/plain": [
       "<AxesSubplot:xlabel='state_name'>"
      ]
     },
     "execution_count": 6,
     "metadata": {},
     "output_type": "execute_result"
    },
    {
     "data": {
      "image/png": "[encoded data removed]",
      "text/plain": [
       "<Figure size 432x288 with 1 Axes>"
      ]
     },
     "metadata": {
      "needs_background": "light"
     },
     "output_type": "display_data"
    }
   ],
   "source": [
    "#graficamos el dato por estado con el fin de observar los rangos de areas de superficie total.\n",
    "#En esta grafica podemos observar la variación en la media de las areas que existen de acuerdo al Estado, se observa como en Juluy el valor medio se eleva, deberia revisarse si corresponde al valor extremo de alguna o algunas propiedades.\n",
    "data.groupby('state_name')['surface_total_in_m2'].mean().plot.bar()"
   ]
  },
  {
   "cell_type": "code",
   "execution_count": 7,
   "metadata": {},
   "outputs": [
    {
     "data": {
      "image/png": "[encoded data removed]",
      "text/plain": [
       "<Figure size 432x288 with 1 Axes>"
      ]
     },
     "metadata": {
      "needs_background": "light"
     },
     "output_type": "display_data"
    }
   ],
   "source": [
    "#graficamos un plot para visualizar la dispersión de las superficies totales por longitud \n",
    "# y observamos como los valores más extremos en areas totales se ubican en en la longitud cercana a -58 y -61\n",
    "my_plot_surface_total = data.plot(\"lon\", \"surface_total_in_m2\", kind=\"scatter\")\n",
    "plt.show()"
   ]
  },
  {
   "cell_type": "code",
   "execution_count": 14,
   "metadata": {},
   "outputs": [
    {
     "data": {
      "image/png": "[encoded data removed]",
      "text/plain": [
       "<Figure size 432x288 with 1 Axes>"
      ]
     },
     "metadata": {
      "needs_background": "light"
     },
     "output_type": "display_data"
    }
   ],
   "source": [
    "#graficamos un plot para visualizar la dispersión de las superficies totales por latitud\n",
    "# y observamos como los valores más extremos en areas totales se ubican en en la latitud entre -32 y -35\n",
    "my_plot_surface_total = data.plot(\"lat\", \"surface_total_in_m2\", kind=\"scatter\")\n",
    "plt.show()"
   ]
  },
  {
   "cell_type": "markdown",
   "metadata": {},
   "source": [
    "# Detalle de análisis de columnas:\n",
    "* `surface_total_in_m2 ` -> Esta columna tiene 39.328 datos nulos o su equivalente 32,44%. El precio aprox en U$D se calcula sobre esta superficie, por esta razón se considera un dato relevante. Tiene un valor minimo de cero y un maximo de 200.000, datos que se alejan de la media de 233 m2.\n",
    "Podemos completar algunos de los datos extrayendolos de las columnas title y description\n",
    "Si se completan las columnas Precio aprox en U$D y Precio en U$d por metro cuadrado puede realizarse un calculo de ete valor."
   ]
  },
  {
   "cell_type": "code",
   "execution_count": 8,
   "metadata": {},
   "outputs": [
    {
     "data": {
      "text/plain": [
       "count     81892.000000\n",
       "mean        233.795328\n",
       "std        1782.222147\n",
       "min           0.000000\n",
       "25%          50.000000\n",
       "50%          84.000000\n",
       "75%         200.000000\n",
       "max      200000.000000\n",
       "Name: surface_total_in_m2, dtype: float64"
      ]
     },
     "execution_count": 8,
     "metadata": {},
     "output_type": "execute_result"
    }
   ],
   "source": [
    "data.surface_total_in_m2.describe()"
   ]
  },
  {
   "cell_type": "markdown",
   "metadata": {},
   "source": [
    "### Detalle de valores extremos en la  columna `surface_total_in_m2`:\n",
    "\n",
    "En el catplot elaborado para esta variable comparada por tipo de propiedad podemos observar como en apartamentos se evidencian areas muy por encima de los valores medios, en el caso de las casas se observan algunas propiedades alejadas de la media."
   ]
  },
  {
   "cell_type": "code",
   "execution_count": 9,
   "metadata": {},
   "outputs": [
    {
     "data": {
      "text/plain": [
       "<seaborn.axisgrid.FacetGrid at 0x26cfb34ddc0>"
      ]
     },
     "execution_count": 9,
     "metadata": {},
     "output_type": "execute_result"
    },
    {
     "data": {
      "image/png": "[encoded data removed]",
      "text/plain": [
       "<Figure size 1800x360 with 1 Axes>"
      ]
     },
     "metadata": {
      "needs_background": "light"
     },
     "output_type": "display_data"
    }
   ],
   "source": [
    "sns.catplot(data=data, x= 'surface_total_in_m2', y=\"property_type\", kind=\"box\", height=5, aspect=5,)\n"
   ]
  },
  {
   "cell_type": "markdown",
   "metadata": {},
   "source": [
    "### Regex para rellenar la columna `surface_total_in_m2`:\n",
    "\n",
    "Vamos a extraer datos de las columnas title y description para extraer esta información, para ello utilizaremos las expresiones de numeros que vengan acompañados del texto m2, M2, metros2, Metros2, mts2 y Mts2, no se consideran los datos separados del número 2 porque se podría incurrir en el error de que haya un dato con el valor M y luego figure el número 2 correspondiente a otras variables."
   ]
  },
  {
   "cell_type": "code",
   "execution_count": 10,
   "metadata": {},
   "outputs": [],
   "source": [
    "# Buscamos superficie total en metros cuadrado en los titulos y en la descripción con Mts2\n",
    "\n",
    "#el area más pequeña es de 0 m2 hay 383 registos en ceros, trae a la base m2, debemos eliminarlos y transformar . a , ???\n",
    "\n",
    "data[['description', 'title']] = data[['description', 'title']].apply(lambda x: x.astype(str))\n",
    "\n",
    "patron = r'([0-9]*\\.?\\,?[0-9]*)\\s?[m|M|mts|Mts|metros|Metros|METROS]\\.?\\S*2'\n",
    "    \n",
    "regex = re.compile(patron, flags = re.IGNORECASE)\n",
    "\n",
    "superficie_total_titulo=data['title'].replace(np.NAN,\"\").apply(lambda x: regex.findall(x)[0] if regex.findall(x) else np.NaN)\n",
    "data['surface_total_in_m2'].fillna(superficie_total_titulo, inplace=True)\n",
    "\n",
    "superficie_total_descripcion=data['description'].replace(np.NAN,\"\").apply(lambda x: regex.findall(x)[0] if regex.findall(x) else np.NaN)\n",
    "data['surface_total_in_m2'].fillna(superficie_total_descripcion, inplace=True)\n"
   ]
  },
  {
   "cell_type": "code",
   "execution_count": 11,
   "metadata": {},
   "outputs": [
    {
     "name": "stdout",
     "output_type": "stream",
     "text": [
      "% de valores nulos que quedan luego de aplicar regex: 23.52829566078205\n",
      "entradas: 121220\n"
     ]
    }
   ],
   "source": [
    "#luego de aplicar el regex se logran recucir el porcentaje de nans al pasar del 32.44% al 23.52%.\n",
    "print (f'% de valores nulos que quedan luego de aplicar regex: {data.surface_total_in_m2.isna().sum()/data.surface_total_in_m2.shape[0]*100}')\n",
    "print (f'entradas: {data.surface_total_in_m2.shape[0]}')"
   ]
  },
  {
   "cell_type": "code",
   "execution_count": 12,
   "metadata": {},
   "outputs": [],
   "source": [
    "#Vamos a transformar los datos de la columna ya que al extraer datos de regex se convirtieron en tipo object\n",
    "data['surface_total_in_m2'] = pd.to_numeric(data['surface_total_in_m2'],errors = 'coerce')"
   ]
  },
  {
   "cell_type": "code",
   "execution_count": 13,
   "metadata": {},
   "outputs": [
    {
     "name": "stdout",
     "output_type": "stream",
     "text": [
      "% de valores nulos que quedan luego de aplicar regex: 16.837155584886982\n",
      "entradas: 121220\n"
     ]
    }
   ],
   "source": [
    "print (f'% de valores nulos que quedan luego de aplicar regex: {data.price_aprox_local_currency.isna().sum()/data.price_aprox_local_currency.shape[0]*100}')\n",
    "print (f'entradas: {data.price_aprox_local_currency.shape[0]}')"
   ]
  },
  {
   "cell_type": "code",
   "execution_count": null,
   "metadata": {},
   "outputs": [],
   "source": []
  }
 ],
 "metadata": {
  "kernelspec": {
   "display_name": "Python 3.8.13 ('dhdsblend2021')",
   "language": "python",
   "name": "python3"
  },
  "language_info": {
   "codemirror_mode": {
    "name": "ipython",
    "version": 3
   },
   "file_extension": ".py",
   "mimetype": "text/x-python",
   "name": "python",
   "nbconvert_exporter": "python",
   "pygments_lexer": "ipython3",
   "version": "3.8.13"
  },
  "orig_nbformat": 4,
  "vscode": {
   "interpreter": {
    "hash": "efc208fdaa12fe71d644c382e37592789e7715eab6097afaedaaf3f1e1734556"
   }
  }
 },
 "nbformat": 4,
 "nbformat_minor": 2
}
