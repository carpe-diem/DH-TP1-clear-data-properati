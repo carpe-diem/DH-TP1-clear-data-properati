{
 "cells": [
  {
   "cell_type": "code",
   "execution_count": 1,
   "metadata": {},
   "outputs": [],
   "source": [
    "# Lo primero que hacemos es importar todas las librerias necesarias.\n",
    "#importamos librerias para tratamiento de datos\n",
    "import numpy as np\n",
    "import pandas as pd\n",
    "import re\n",
    "import math as mat\n",
    "\n",
    "#importamos librerias la visualizacion de datos\n",
    "import matplotlib.pyplot as plt\n",
    "import seaborn as sns\n",
    "import os\n",
    "%matplotlib inline"
   ]
  },
  {
   "cell_type": "code",
   "execution_count": 2,
   "metadata": {},
   "outputs": [
    {
     "data": {
      "text/html": [
       "<div>\n",
       "<style scoped>\n",
       "    .dataframe tbody tr th:only-of-type {\n",
       "        vertical-align: middle;\n",
       "    }\n",
       "\n",
       "    .dataframe tbody tr th {\n",
       "        vertical-align: top;\n",
       "    }\n",
       "\n",
       "    .dataframe thead th {\n",
       "        text-align: right;\n",
       "    }\n",
       "</style>\n",
       "<table border=\"1\" class=\"dataframe\">\n",
       "  <thead>\n",
       "    <tr style=\"text-align: right;\">\n",
       "      <th></th>\n",
       "      <th>Unnamed: 0</th>\n",
       "      <th>operation</th>\n",
       "      <th>property_type</th>\n",
       "      <th>place_name</th>\n",
       "      <th>place_with_parent_names</th>\n",
       "      <th>country_name</th>\n",
       "      <th>state_name</th>\n",
       "      <th>geonames_id</th>\n",
       "      <th>lat-lon</th>\n",
       "      <th>lat</th>\n",
       "      <th>...</th>\n",
       "      <th>surface_covered_in_m2</th>\n",
       "      <th>price_usd_per_m2</th>\n",
       "      <th>price_per_m2</th>\n",
       "      <th>floor</th>\n",
       "      <th>rooms</th>\n",
       "      <th>expenses</th>\n",
       "      <th>properati_url</th>\n",
       "      <th>description</th>\n",
       "      <th>title</th>\n",
       "      <th>image_thumbnail</th>\n",
       "    </tr>\n",
       "  </thead>\n",
       "  <tbody>\n",
       "    <tr>\n",
       "      <th>80008</th>\n",
       "      <td>80008</td>\n",
       "      <td>sell</td>\n",
       "      <td>house</td>\n",
       "      <td>Lomas de Zamora</td>\n",
       "      <td>|Argentina|Bs.As. G.B.A. Zona Sur|Lomas de Zam...</td>\n",
       "      <td>Argentina</td>\n",
       "      <td>Bs.As. G.B.A. Zona Sur</td>\n",
       "      <td>NaN</td>\n",
       "      <td>-34.7561801,-58.4118804</td>\n",
       "      <td>-34.756180</td>\n",
       "      <td>...</td>\n",
       "      <td>180.0</td>\n",
       "      <td>1166.666667</td>\n",
       "      <td>1166.666667</td>\n",
       "      <td>NaN</td>\n",
       "      <td>NaN</td>\n",
       "      <td>NaN</td>\n",
       "      <td>http://www.properati.com.ar/1awb0_venta_casa_l...</td>\n",
       "      <td>chalet en dos plantas con gge ,hall de recepci...</td>\n",
       "      <td>Casa en Lomas de Zamora Oeste</td>\n",
       "      <td>https://thumbs4.properati.com/6/sYP_eQRHM4C4EP...</td>\n",
       "    </tr>\n",
       "    <tr>\n",
       "      <th>32381</th>\n",
       "      <td>32381</td>\n",
       "      <td>sell</td>\n",
       "      <td>PH</td>\n",
       "      <td>Villa Devoto</td>\n",
       "      <td>|Argentina|Capital Federal|Villa Devoto|</td>\n",
       "      <td>Argentina</td>\n",
       "      <td>Capital Federal</td>\n",
       "      <td>3427451.0</td>\n",
       "      <td>-34.591624,-58.51921</td>\n",
       "      <td>-34.591624</td>\n",
       "      <td>...</td>\n",
       "      <td>30.0</td>\n",
       "      <td>NaN</td>\n",
       "      <td>3000.000000</td>\n",
       "      <td>2.0</td>\n",
       "      <td>1.0</td>\n",
       "      <td>NaN</td>\n",
       "      <td>http://www.properati.com.ar/186wi_venta_ph_vil...</td>\n",
       "      <td>Corredor Responsable: Uno Bienes Raices SRL - ...</td>\n",
       "      <td>MONOAMBIENTE NO ES APTO CRÉDITO JARDÍN Y PARRILLA</td>\n",
       "      <td>https://thumbs4.properati.com/0/-CSJHwdJZDY8wP...</td>\n",
       "    </tr>\n",
       "    <tr>\n",
       "      <th>119849</th>\n",
       "      <td>119849</td>\n",
       "      <td>sell</td>\n",
       "      <td>apartment</td>\n",
       "      <td>Mar del Plata</td>\n",
       "      <td>|Argentina|Buenos Aires Costa Atlántica|Mar de...</td>\n",
       "      <td>Argentina</td>\n",
       "      <td>Buenos Aires Costa Atlántica</td>\n",
       "      <td>3430863.0</td>\n",
       "      <td>-38.0146191,-57.5437094</td>\n",
       "      <td>-38.014619</td>\n",
       "      <td>...</td>\n",
       "      <td>136.0</td>\n",
       "      <td>3225.677419</td>\n",
       "      <td>3676.323529</td>\n",
       "      <td>NaN</td>\n",
       "      <td>3.0</td>\n",
       "      <td>NaN</td>\n",
       "      <td>http://www.properati.com.ar/1ch6v_venta_depart...</td>\n",
       "      <td>ESPECTACULAR DEPARTAMENTO 3 AMB EN VENTA - ZON...</td>\n",
       "      <td>ESPECTACULAR DEPARTAMENTO 3 AMB EN VENTA - ZON...</td>\n",
       "      <td>https://thumbs4.properati.com/4/Ksvfhaj9arj2JC...</td>\n",
       "    </tr>\n",
       "    <tr>\n",
       "      <th>116947</th>\n",
       "      <td>116947</td>\n",
       "      <td>sell</td>\n",
       "      <td>apartment</td>\n",
       "      <td>Nordelta</td>\n",
       "      <td>|Argentina|Bs.As. G.B.A. Zona Norte|Tigre|Nord...</td>\n",
       "      <td>Argentina</td>\n",
       "      <td>Bs.As. G.B.A. Zona Norte</td>\n",
       "      <td>NaN</td>\n",
       "      <td>-34.4244888454,-58.6597014121</td>\n",
       "      <td>-34.424489</td>\n",
       "      <td>...</td>\n",
       "      <td>1.0</td>\n",
       "      <td>NaN</td>\n",
       "      <td>215000.000000</td>\n",
       "      <td>NaN</td>\n",
       "      <td>3.0</td>\n",
       "      <td>NaN</td>\n",
       "      <td>http://www.properati.com.ar/1ccwi_venta_depart...</td>\n",
       "      <td>Departamento tres ambientes, planta baja con j...</td>\n",
       "      <td>Departamento en venta en complejo El Palmar, N...</td>\n",
       "      <td>https://thumbs4.properati.com/6/lK0tcPUaj5GOCt...</td>\n",
       "    </tr>\n",
       "    <tr>\n",
       "      <th>20135</th>\n",
       "      <td>20135</td>\n",
       "      <td>sell</td>\n",
       "      <td>house</td>\n",
       "      <td>Pinamar</td>\n",
       "      <td>|Argentina|Buenos Aires Costa Atlántica|Pinamar|</td>\n",
       "      <td>Argentina</td>\n",
       "      <td>Buenos Aires Costa Atlántica</td>\n",
       "      <td>3429971.0</td>\n",
       "      <td>-37.0837219021,-56.8350678145</td>\n",
       "      <td>-37.083722</td>\n",
       "      <td>...</td>\n",
       "      <td>250.0</td>\n",
       "      <td>377.777778</td>\n",
       "      <td>1360.000000</td>\n",
       "      <td>NaN</td>\n",
       "      <td>NaN</td>\n",
       "      <td>NaN</td>\n",
       "      <td>http://www.properati.com.ar/17bop_venta_casa_p...</td>\n",
       "      <td>CODIGO: 2714-370 ubicado en: etoneo -  Publica...</td>\n",
       "      <td>Venta Casa Zona Norte</td>\n",
       "      <td>https://thumbs4.properati.com/5/z7UbmajPcumnba...</td>\n",
       "    </tr>\n",
       "    <tr>\n",
       "      <th>15590</th>\n",
       "      <td>15590</td>\n",
       "      <td>sell</td>\n",
       "      <td>apartment</td>\n",
       "      <td>Ramos Mejía</td>\n",
       "      <td>|Argentina|Bs.As. G.B.A. Zona Oeste|La Matanza...</td>\n",
       "      <td>Argentina</td>\n",
       "      <td>Bs.As. G.B.A. Zona Oeste</td>\n",
       "      <td>3429617.0</td>\n",
       "      <td>-34.647038,-58.5754454</td>\n",
       "      <td>-34.647038</td>\n",
       "      <td>...</td>\n",
       "      <td>37.0</td>\n",
       "      <td>1800.000000</td>\n",
       "      <td>1945.945946</td>\n",
       "      <td>1.0</td>\n",
       "      <td>1.0</td>\n",
       "      <td>NaN</td>\n",
       "      <td>http://www.properati.com.ar/16vgy_venta_depart...</td>\n",
       "      <td>Venta de Departamento 1 AMBIENTE en Ramos Mejí...</td>\n",
       "      <td>DEPARTAMENTO EN VENTA</td>\n",
       "      <td>https://thumbs4.properati.com/0/rj68uOurMXFihM...</td>\n",
       "    </tr>\n",
       "  </tbody>\n",
       "</table>\n",
       "<p>6 rows × 26 columns</p>\n",
       "</div>"
      ],
      "text/plain": [
       "        Unnamed: 0 operation property_type       place_name  \\\n",
       "80008        80008      sell         house  Lomas de Zamora   \n",
       "32381        32381      sell            PH     Villa Devoto   \n",
       "119849      119849      sell     apartment    Mar del Plata   \n",
       "116947      116947      sell     apartment         Nordelta   \n",
       "20135        20135      sell         house          Pinamar   \n",
       "15590        15590      sell     apartment      Ramos Mejía   \n",
       "\n",
       "                                  place_with_parent_names country_name  \\\n",
       "80008   |Argentina|Bs.As. G.B.A. Zona Sur|Lomas de Zam...    Argentina   \n",
       "32381            |Argentina|Capital Federal|Villa Devoto|    Argentina   \n",
       "119849  |Argentina|Buenos Aires Costa Atlántica|Mar de...    Argentina   \n",
       "116947  |Argentina|Bs.As. G.B.A. Zona Norte|Tigre|Nord...    Argentina   \n",
       "20135    |Argentina|Buenos Aires Costa Atlántica|Pinamar|    Argentina   \n",
       "15590   |Argentina|Bs.As. G.B.A. Zona Oeste|La Matanza...    Argentina   \n",
       "\n",
       "                          state_name  geonames_id  \\\n",
       "80008         Bs.As. G.B.A. Zona Sur          NaN   \n",
       "32381                Capital Federal    3427451.0   \n",
       "119849  Buenos Aires Costa Atlántica    3430863.0   \n",
       "116947      Bs.As. G.B.A. Zona Norte          NaN   \n",
       "20135   Buenos Aires Costa Atlántica    3429971.0   \n",
       "15590       Bs.As. G.B.A. Zona Oeste    3429617.0   \n",
       "\n",
       "                              lat-lon        lat  ...  surface_covered_in_m2  \\\n",
       "80008         -34.7561801,-58.4118804 -34.756180  ...                  180.0   \n",
       "32381            -34.591624,-58.51921 -34.591624  ...                   30.0   \n",
       "119849        -38.0146191,-57.5437094 -38.014619  ...                  136.0   \n",
       "116947  -34.4244888454,-58.6597014121 -34.424489  ...                    1.0   \n",
       "20135   -37.0837219021,-56.8350678145 -37.083722  ...                  250.0   \n",
       "15590          -34.647038,-58.5754454 -34.647038  ...                   37.0   \n",
       "\n",
       "        price_usd_per_m2   price_per_m2  floor  rooms  expenses  \\\n",
       "80008        1166.666667    1166.666667    NaN    NaN       NaN   \n",
       "32381                NaN    3000.000000    2.0    1.0       NaN   \n",
       "119849       3225.677419    3676.323529    NaN    3.0       NaN   \n",
       "116947               NaN  215000.000000    NaN    3.0       NaN   \n",
       "20135         377.777778    1360.000000    NaN    NaN       NaN   \n",
       "15590        1800.000000    1945.945946    1.0    1.0       NaN   \n",
       "\n",
       "                                            properati_url  \\\n",
       "80008   http://www.properati.com.ar/1awb0_venta_casa_l...   \n",
       "32381   http://www.properati.com.ar/186wi_venta_ph_vil...   \n",
       "119849  http://www.properati.com.ar/1ch6v_venta_depart...   \n",
       "116947  http://www.properati.com.ar/1ccwi_venta_depart...   \n",
       "20135   http://www.properati.com.ar/17bop_venta_casa_p...   \n",
       "15590   http://www.properati.com.ar/16vgy_venta_depart...   \n",
       "\n",
       "                                              description  \\\n",
       "80008   chalet en dos plantas con gge ,hall de recepci...   \n",
       "32381   Corredor Responsable: Uno Bienes Raices SRL - ...   \n",
       "119849  ESPECTACULAR DEPARTAMENTO 3 AMB EN VENTA - ZON...   \n",
       "116947  Departamento tres ambientes, planta baja con j...   \n",
       "20135   CODIGO: 2714-370 ubicado en: etoneo -  Publica...   \n",
       "15590   Venta de Departamento 1 AMBIENTE en Ramos Mejí...   \n",
       "\n",
       "                                                    title  \\\n",
       "80008                       Casa en Lomas de Zamora Oeste   \n",
       "32381   MONOAMBIENTE NO ES APTO CRÉDITO JARDÍN Y PARRILLA   \n",
       "119849  ESPECTACULAR DEPARTAMENTO 3 AMB EN VENTA - ZON...   \n",
       "116947  Departamento en venta en complejo El Palmar, N...   \n",
       "20135                               Venta Casa Zona Norte   \n",
       "15590                               DEPARTAMENTO EN VENTA   \n",
       "\n",
       "                                          image_thumbnail  \n",
       "80008   https://thumbs4.properati.com/6/sYP_eQRHM4C4EP...  \n",
       "32381   https://thumbs4.properati.com/0/-CSJHwdJZDY8wP...  \n",
       "119849  https://thumbs4.properati.com/4/Ksvfhaj9arj2JC...  \n",
       "116947  https://thumbs4.properati.com/6/lK0tcPUaj5GOCt...  \n",
       "20135   https://thumbs4.properati.com/5/z7UbmajPcumnba...  \n",
       "15590   https://thumbs4.properati.com/0/rj68uOurMXFihM...  \n",
       "\n",
       "[6 rows x 26 columns]"
      ]
     },
     "metadata": {},
     "output_type": "display_data"
    },
    {
     "name": "stdout",
     "output_type": "stream",
     "text": [
      "(Cantidad de Filas, Cantidad de columnas) -> (121220, 26)\n"
     ]
    }
   ],
   "source": [
    "# Abrimos el dataset y hacemos un chequeo rápido para saber cantidad de registros y miramos la composición del mismo.\n",
    "filename = \"../../dataset/properati.csv\"\n",
    "data = pd.read_csv(filename)\n",
    "\n",
    "display(data.sample(n=6))\n",
    "print(f\"(Cantidad de Filas, Cantidad de columnas) -> {data.shape}\")"
   ]
  },
  {
   "cell_type": "code",
   "execution_count": 3,
   "metadata": {},
   "outputs": [
    {
     "name": "stdout",
     "output_type": "stream",
     "text": [
      "Cantidad de registros con NaN: 19907\n",
      "Porcentaje de registros con NaN: 16.422207556508827\n",
      "Contamos cantidad de registros unicos:\n",
      "     surface_covered_in_m2  count\n",
      "0                      0.0      2\n",
      "1                      1.0    367\n",
      "2                      2.0     12\n",
      "3                      3.0      7\n",
      "4                      4.0     10\n",
      "..                     ...    ...\n",
      "990                30000.0      1\n",
      "991                35000.0      1\n",
      "992                38240.0      1\n",
      "993                49000.0      1\n",
      "994               187000.0      1\n",
      "\n",
      "[995 rows x 2 columns]\n"
     ]
    }
   ],
   "source": [
    "# Columna surface_covered_in_m2: revisamos que opciones tiene, o si se repite lo mismo.\n",
    "print(f'Cantidad de registros con NaN: {data.surface_covered_in_m2.isnull().sum()}')\n",
    "print(f'Porcentaje de registros con NaN: {data.surface_covered_in_m2.isnull().mean()*100}')\n",
    "print(\"Contamos cantidad de registros unicos:\")\n",
    "print(data.groupby(['surface_covered_in_m2']).size().reset_index(name='count'))"
   ]
  },
  {
   "cell_type": "code",
   "execution_count": 4,
   "metadata": {},
   "outputs": [
    {
     "data": {
      "text/plain": [
       "<AxesSubplot:xlabel='state_name'>"
      ]
     },
     "execution_count": 4,
     "metadata": {},
     "output_type": "execute_result"
    },
    {
     "data": {
      "image/png": "[encoded data removed]",
      "text/plain": [
       "<Figure size 432x288 with 1 Axes>"
      ]
     },
     "metadata": {
      "needs_background": "light"
     },
     "output_type": "display_data"
    }
   ],
   "source": [
    "#graficamos el dato por Estado con el fin de observar los rangos de areas de superficie cubierta. Se observa como en los etados de Catamarca y de Chubut las areas exceden el promedio de los demás estados.\n",
    "data.groupby('state_name')['surface_covered_in_m2'].mean().plot.bar()"
   ]
  },
  {
   "cell_type": "code",
   "execution_count": 5,
   "metadata": {},
   "outputs": [
    {
     "data": {
      "text/plain": [
       "count    101313.000000\n",
       "mean        133.050181\n",
       "std         724.351479\n",
       "min           0.000000\n",
       "25%          45.000000\n",
       "50%          75.000000\n",
       "75%         150.000000\n",
       "max      187000.000000\n",
       "Name: surface_covered_in_m2, dtype: float64"
      ]
     },
     "execution_count": 5,
     "metadata": {},
     "output_type": "execute_result"
    }
   ],
   "source": [
    "data.surface_covered_in_m2.describe()"
   ]
  },
  {
   "cell_type": "markdown",
   "metadata": {},
   "source": [
    "# Detalle de análisis de columnas:\n",
    "* `surface_covered_in_m2 ` -> Esta columna tiene 19.907 datos nulos o su equivalente 16,42%. Esta variable se emplea para calcular el precio por m2, tomando como base el precio aprox en U$D asi que es una columna relevante. Tiene un valor máximo de 187.000 metros cuadrados valor que se aleja de la media de 133 metros cuadrados.\n",
    "\n",
    "Esta columna podriamos completarla extrayendo datos de las columnas title y description, tambien calculando el valor tomando el precio en USD y el valor del metro cuadrado "
   ]
  },
  {
   "cell_type": "markdown",
   "metadata": {},
   "source": [
    "### Detalle de valores extremos en la  columna `surface_covered_in_m2`:\n",
    "\n",
    "En el catplot elaborado para esta variable comparada por tipo de propiedad podemos observar especialmente el area de un apartamento cuya area sobrepasa los 180.000 metros cuadrados."
   ]
  },
  {
   "cell_type": "code",
   "execution_count": 6,
   "metadata": {},
   "outputs": [
    {
     "data": {
      "text/plain": [
       "<seaborn.axisgrid.FacetGrid at 0x258088e7370>"
      ]
     },
     "execution_count": 6,
     "metadata": {},
     "output_type": "execute_result"
    },
    {
     "data": {
      "image/png": "[encoded data removed]",
      "text/plain": [
       "<Figure size 1800x360 with 1 Axes>"
      ]
     },
     "metadata": {
      "needs_background": "light"
     },
     "output_type": "display_data"
    }
   ],
   "source": [
    "sns.catplot(data=data, x= 'surface_covered_in_m2', y=\"property_type\", kind=\"box\", height=5, aspect=5,)\n"
   ]
  },
  {
   "cell_type": "markdown",
   "metadata": {},
   "source": [
    "### Regex para rellenar la columna `surface_covered_in_m2`:\n",
    "\n",
    "Vamos a extraer datos de las columnas title y description para extraer esta información, para ello tomaremos las diferentes denominaciónes de metros cuadrados: (m,M,mts, Mts, metros, Metros, METROS), tambien se emplean las terminaciones despues del número 2 (c,cub,cubiertos)"
   ]
  },
  {
   "cell_type": "code",
   "execution_count": 7,
   "metadata": {},
   "outputs": [
    {
     "name": "stdout",
     "output_type": "stream",
     "text": [
      "Unnamed: 0                     0.000000\n",
      "operation                      0.000000\n",
      "property_type                  0.000000\n",
      "place_name                     0.018974\n",
      "place_with_parent_names        0.000000\n",
      "country_name                   0.000000\n",
      "state_name                     0.000000\n",
      "geonames_id                   15.440521\n",
      "lat-lon                       42.525986\n",
      "lat                           42.525986\n",
      "lon                           42.525986\n",
      "price                         16.837156\n",
      "currency                      16.837981\n",
      "price_aprox_local_currency    16.837156\n",
      "price_aprox_usd               16.837156\n",
      "surface_total_in_m2           32.443491\n",
      "surface_covered_in_m2         15.808447\n",
      "price_usd_per_m2              43.394654\n",
      "price_per_m2                  27.686850\n",
      "floor                         93.483749\n",
      "rooms                         60.905791\n",
      "expenses                      88.234615\n",
      "properati_url                  0.000000\n",
      "description                    0.000000\n",
      "title                          0.000000\n",
      "image_thumbnail                2.567233\n",
      "dtype: float64\n",
      "entradas: 121220\n"
     ]
    }
   ],
   "source": [
    "# Buscamos superficies cubiertas en metros cuadrado en los titulos y en la descripción\n",
    "\n",
    "#el area más pequeña es de 1 m2, 161 aptos, 146 casas, deberiamos sacar el dato para aquellas que sean null o tengan menos de 10 m2 trae a la base m2, debemos eliminarlos y transformar . a , ???\n",
    "\n",
    "data[['description', 'title']] = data[['description', 'title']].apply(lambda x: x.astype(str))\n",
    "\n",
    "patron = r'([0-9]*\\.?\\,?[0-9]*)\\s?[m|M|mts|Mts|metros|Metros|METROS]\\.?\\S*2\\S*[c|cub|cubiertos]'\n",
    "\n",
    "regex = re.compile(patron, flags = re.IGNORECASE)\n",
    "\n",
    "superficie_cubierta_titulo=data['title'].replace(np.NAN,\"\").apply(lambda x: regex.findall(x)[0] if regex.findall(x) else np.NaN)\n",
    "data['surface_covered_in_m2'].fillna(superficie_cubierta_titulo, inplace=True)\n",
    "\n",
    "superficie_cubierta_descripcion=data['description'].replace(np.NAN,\"\").apply(lambda x: regex.findall(x)[0] if regex.findall(x) else np.NaN)\n",
    "data['surface_covered_in_m2'].fillna(superficie_cubierta_descripcion, inplace=True)\n",
    "\n",
    "print (data.isna().sum()/data.shape[0]*100)\n",
    "print (f'entradas: {data.shape[0]}')"
   ]
  },
  {
   "cell_type": "code",
   "execution_count": 9,
   "metadata": {},
   "outputs": [
    {
     "name": "stdout",
     "output_type": "stream",
     "text": [
      "% de valores nulos que quedan luego de aplicar regex: 15.808447450915692\n",
      "entradas: 121220\n"
     ]
    }
   ],
   "source": [
    "#luego de aplicar el regex se logran recucir el porcentaje de nans al pasar del 16.42% al 15.80%.\n",
    "print (f'% de valores nulos que quedan luego de aplicar regex: {data.surface_covered_in_m2.isna().sum()/data.surface_covered_in_m2.shape[0]*100}')\n",
    "print (f'entradas: {data.surface_covered_in_m2.shape[0]}')"
   ]
  },
  {
   "cell_type": "code",
   "execution_count": 10,
   "metadata": {},
   "outputs": [],
   "source": [
    "#Vamos a transformar los datos de la columna ya que al extraer datos de regex se convirtieron en tipo object\n",
    "data['surface_covered_in_m2'] = pd.to_numeric(data['surface_covered_in_m2'],errors = 'coerce')"
   ]
  }
 ],
 "metadata": {
  "kernelspec": {
   "display_name": "Python 3.8.13 ('dhdsblend2021')",
   "language": "python",
   "name": "python3"
  },
  "language_info": {
   "codemirror_mode": {
    "name": "ipython",
    "version": 3
   },
   "file_extension": ".py",
   "mimetype": "text/x-python",
   "name": "python",
   "nbconvert_exporter": "python",
   "pygments_lexer": "ipython3",
   "version": "3.8.13"
  },
  "orig_nbformat": 4,
  "vscode": {
   "interpreter": {
    "hash": "efc208fdaa12fe71d644c382e37592789e7715eab6097afaedaaf3f1e1734556"
   }
  }
 },
 "nbformat": 4,
 "nbformat_minor": 2
}
