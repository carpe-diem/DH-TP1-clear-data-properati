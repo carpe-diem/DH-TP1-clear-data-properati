{
 "cells": [
  {
   "cell_type": "code",
   "execution_count": 1,
   "metadata": {},
   "outputs": [],
   "source": [
    "# Lo primero que hacemos es importar todas las librerias necesarias.\n",
    "#importamos librerias para tratamiento de datos\n",
    "import numpy as np\n",
    "import pandas as pd\n",
    "pd.options.display.float_format = '{:,}'.format\n",
    "import re\n",
    "import math as mat\n",
    "\n",
    "#importamos librerias la visualizacion de datos\n",
    "import matplotlib.pyplot as plt\n",
    "import seaborn as sns\n",
    "import os\n",
    "%matplotlib inline"
   ]
  },
  {
   "cell_type": "code",
   "execution_count": 2,
   "metadata": {},
   "outputs": [
    {
     "data": {
      "text/html": [
       "<div>\n",
       "<style scoped>\n",
       "    .dataframe tbody tr th:only-of-type {\n",
       "        vertical-align: middle;\n",
       "    }\n",
       "\n",
       "    .dataframe tbody tr th {\n",
       "        vertical-align: top;\n",
       "    }\n",
       "\n",
       "    .dataframe thead th {\n",
       "        text-align: right;\n",
       "    }\n",
       "</style>\n",
       "<table border=\"1\" class=\"dataframe\">\n",
       "  <thead>\n",
       "    <tr style=\"text-align: right;\">\n",
       "      <th></th>\n",
       "      <th>Unnamed: 0</th>\n",
       "      <th>operation</th>\n",
       "      <th>property_type</th>\n",
       "      <th>place_name</th>\n",
       "      <th>place_with_parent_names</th>\n",
       "      <th>country_name</th>\n",
       "      <th>state_name</th>\n",
       "      <th>geonames_id</th>\n",
       "      <th>lat-lon</th>\n",
       "      <th>lat</th>\n",
       "      <th>...</th>\n",
       "      <th>surface_covered_in_m2</th>\n",
       "      <th>price_usd_per_m2</th>\n",
       "      <th>price_per_m2</th>\n",
       "      <th>floor</th>\n",
       "      <th>rooms</th>\n",
       "      <th>expenses</th>\n",
       "      <th>properati_url</th>\n",
       "      <th>description</th>\n",
       "      <th>title</th>\n",
       "      <th>image_thumbnail</th>\n",
       "    </tr>\n",
       "  </thead>\n",
       "  <tbody>\n",
       "    <tr>\n",
       "      <th>73795</th>\n",
       "      <td>73795</td>\n",
       "      <td>sell</td>\n",
       "      <td>apartment</td>\n",
       "      <td>Villa Devoto</td>\n",
       "      <td>|Argentina|Capital Federal|Villa Devoto|</td>\n",
       "      <td>Argentina</td>\n",
       "      <td>Capital Federal</td>\n",
       "      <td>3,427,451.0</td>\n",
       "      <td>-34.5918286422,-58.5108560341</td>\n",
       "      <td>-34.5918286422</td>\n",
       "      <td>...</td>\n",
       "      <td>47.0</td>\n",
       "      <td>1,798.0769230769226</td>\n",
       "      <td>1,989.3617021276602</td>\n",
       "      <td>nan</td>\n",
       "      <td>nan</td>\n",
       "      <td>nan</td>\n",
       "      <td>http://www.properati.com.ar/1ao4s_venta_depart...</td>\n",
       "      <td>Departamento 52m² en San Martin Av. 6900, Capi...</td>\n",
       "      <td>Departamento en V.Devoto</td>\n",
       "      <td>https://thumbs4.properati.com/6/jreHSWXZpLDz1w...</td>\n",
       "    </tr>\n",
       "    <tr>\n",
       "      <th>78264</th>\n",
       "      <td>78264</td>\n",
       "      <td>sell</td>\n",
       "      <td>apartment</td>\n",
       "      <td>Mataderos</td>\n",
       "      <td>|Argentina|Capital Federal|Mataderos|</td>\n",
       "      <td>Argentina</td>\n",
       "      <td>Capital Federal</td>\n",
       "      <td>3,430,787.0</td>\n",
       "      <td>-34.6530683936,-58.5120320346</td>\n",
       "      <td>-34.6530683936</td>\n",
       "      <td>...</td>\n",
       "      <td>40.0</td>\n",
       "      <td>2,211.5384615384614</td>\n",
       "      <td>2,875.0</td>\n",
       "      <td>nan</td>\n",
       "      <td>nan</td>\n",
       "      <td>nan</td>\n",
       "      <td>http://www.properati.com.ar/1atxb_venta_depart...</td>\n",
       "      <td>Venta Departamento de 2 ambientes en Pozo – Ma...</td>\n",
       "      <td>Venta Departamento 2 Ambientes en Pozo - Matad...</td>\n",
       "      <td>https://thumbs4.properati.com/9/NJ3BqDqR2WTyrv...</td>\n",
       "    </tr>\n",
       "    <tr>\n",
       "      <th>93497</th>\n",
       "      <td>93497</td>\n",
       "      <td>sell</td>\n",
       "      <td>apartment</td>\n",
       "      <td>Mar del Plata</td>\n",
       "      <td>|Argentina|Buenos Aires Costa Atlántica|Mar de...</td>\n",
       "      <td>Argentina</td>\n",
       "      <td>Buenos Aires Costa Atlántica</td>\n",
       "      <td>3,430,863.0</td>\n",
       "      <td>NaN</td>\n",
       "      <td>nan</td>\n",
       "      <td>...</td>\n",
       "      <td>85.0</td>\n",
       "      <td>2,936.842105263158</td>\n",
       "      <td>3,282.3529411764707</td>\n",
       "      <td>nan</td>\n",
       "      <td>nan</td>\n",
       "      <td>1,900.0</td>\n",
       "      <td>http://www.properati.com.ar/1be9e_venta_depart...</td>\n",
       "      <td>Venta de 3 amb. a la calle con amplio balcon, ...</td>\n",
       "      <td>3 amb. moderno, con cochera para 2 autos - Edi...</td>\n",
       "      <td>https://thumbs4.properati.com/3/9shhhUukGzeFFr...</td>\n",
       "    </tr>\n",
       "    <tr>\n",
       "      <th>46587</th>\n",
       "      <td>46587</td>\n",
       "      <td>sell</td>\n",
       "      <td>apartment</td>\n",
       "      <td>Rosario</td>\n",
       "      <td>|Argentina|Santa Fe|Rosario|</td>\n",
       "      <td>Argentina</td>\n",
       "      <td>Santa Fe</td>\n",
       "      <td>3,838,574.0</td>\n",
       "      <td>-32.945106,-60.640814</td>\n",
       "      <td>-32.945106</td>\n",
       "      <td>...</td>\n",
       "      <td>45.0</td>\n",
       "      <td>1,822.2222222222226</td>\n",
       "      <td>1,822.2222222222226</td>\n",
       "      <td>nan</td>\n",
       "      <td>4.0</td>\n",
       "      <td>nan</td>\n",
       "      <td>http://www.properati.com.ar/196cd_venta_depart...</td>\n",
       "      <td>1119-JM00023 Rosario: Entre Rios 720, piso 5. ...</td>\n",
       "      <td>Rosario: Entre Rios 720, Departamento 1 dormit...</td>\n",
       "      <td>https://thumbs4.properati.com/2/m71uIfNRRCBbvd...</td>\n",
       "    </tr>\n",
       "    <tr>\n",
       "      <th>3284</th>\n",
       "      <td>3284</td>\n",
       "      <td>sell</td>\n",
       "      <td>house</td>\n",
       "      <td>Ituzaingó</td>\n",
       "      <td>|Argentina|Bs.As. G.B.A. Zona Oeste|Ituzaingó|</td>\n",
       "      <td>Argentina</td>\n",
       "      <td>Bs.As. G.B.A. Zona Oeste</td>\n",
       "      <td>3,433,359.0</td>\n",
       "      <td>-34.65702438,-58.67539597</td>\n",
       "      <td>-34.65702438</td>\n",
       "      <td>...</td>\n",
       "      <td>36.0</td>\n",
       "      <td>nan</td>\n",
       "      <td>nan</td>\n",
       "      <td>nan</td>\n",
       "      <td>1.0</td>\n",
       "      <td>nan</td>\n",
       "      <td>http://www.properati.com.ar/15l08_venta_casa_i...</td>\n",
       "      <td>Loft conformado por un living comedor, cocina ...</td>\n",
       "      <td>U$D 120.000 - Casa en Venta -</td>\n",
       "      <td>https://thumbs4.properati.com/1/fruVpU8cHfi1oi...</td>\n",
       "    </tr>\n",
       "    <tr>\n",
       "      <th>101799</th>\n",
       "      <td>101799</td>\n",
       "      <td>sell</td>\n",
       "      <td>apartment</td>\n",
       "      <td>El Palomar</td>\n",
       "      <td>|Argentina|Bs.As. G.B.A. Zona Oeste|Morón|El P...</td>\n",
       "      <td>Argentina</td>\n",
       "      <td>Bs.As. G.B.A. Zona Oeste</td>\n",
       "      <td>3,434,509.0</td>\n",
       "      <td>NaN</td>\n",
       "      <td>nan</td>\n",
       "      <td>...</td>\n",
       "      <td>40.0</td>\n",
       "      <td>1,925.0</td>\n",
       "      <td>1,925.0</td>\n",
       "      <td>nan</td>\n",
       "      <td>nan</td>\n",
       "      <td>nan</td>\n",
       "      <td>http://www.properati.com.ar/1bptk_venta_depart...</td>\n",
       "      <td>Departamentos de dos ambientes.  A una cuadra ...</td>\n",
       "      <td>Departamento - El Palomar</td>\n",
       "      <td>https://thumbs4.properati.com/2/nmMXI0Q-NiMbT6...</td>\n",
       "    </tr>\n",
       "  </tbody>\n",
       "</table>\n",
       "<p>6 rows × 26 columns</p>\n",
       "</div>"
      ],
      "text/plain": [
       "        Unnamed: 0 operation property_type     place_name  \\\n",
       "73795        73795      sell     apartment   Villa Devoto   \n",
       "78264        78264      sell     apartment      Mataderos   \n",
       "93497        93497      sell     apartment  Mar del Plata   \n",
       "46587        46587      sell     apartment        Rosario   \n",
       "3284          3284      sell         house      Ituzaingó   \n",
       "101799      101799      sell     apartment     El Palomar   \n",
       "\n",
       "                                  place_with_parent_names country_name  \\\n",
       "73795            |Argentina|Capital Federal|Villa Devoto|    Argentina   \n",
       "78264               |Argentina|Capital Federal|Mataderos|    Argentina   \n",
       "93497   |Argentina|Buenos Aires Costa Atlántica|Mar de...    Argentina   \n",
       "46587                        |Argentina|Santa Fe|Rosario|    Argentina   \n",
       "3284       |Argentina|Bs.As. G.B.A. Zona Oeste|Ituzaingó|    Argentina   \n",
       "101799  |Argentina|Bs.As. G.B.A. Zona Oeste|Morón|El P...    Argentina   \n",
       "\n",
       "                          state_name  geonames_id  \\\n",
       "73795                Capital Federal  3,427,451.0   \n",
       "78264                Capital Federal  3,430,787.0   \n",
       "93497   Buenos Aires Costa Atlántica  3,430,863.0   \n",
       "46587                       Santa Fe  3,838,574.0   \n",
       "3284        Bs.As. G.B.A. Zona Oeste  3,433,359.0   \n",
       "101799      Bs.As. G.B.A. Zona Oeste  3,434,509.0   \n",
       "\n",
       "                              lat-lon            lat  ...  \\\n",
       "73795   -34.5918286422,-58.5108560341 -34.5918286422  ...   \n",
       "78264   -34.6530683936,-58.5120320346 -34.6530683936  ...   \n",
       "93497                             NaN            nan  ...   \n",
       "46587           -32.945106,-60.640814     -32.945106  ...   \n",
       "3284        -34.65702438,-58.67539597   -34.65702438  ...   \n",
       "101799                            NaN            nan  ...   \n",
       "\n",
       "        surface_covered_in_m2    price_usd_per_m2        price_per_m2  floor  \\\n",
       "73795                    47.0 1,798.0769230769226 1,989.3617021276602    nan   \n",
       "78264                    40.0 2,211.5384615384614             2,875.0    nan   \n",
       "93497                    85.0  2,936.842105263158 3,282.3529411764707    nan   \n",
       "46587                    45.0 1,822.2222222222226 1,822.2222222222226    nan   \n",
       "3284                     36.0                 nan                 nan    nan   \n",
       "101799                   40.0             1,925.0             1,925.0    nan   \n",
       "\n",
       "        rooms  expenses                                      properati_url  \\\n",
       "73795     nan       nan  http://www.properati.com.ar/1ao4s_venta_depart...   \n",
       "78264     nan       nan  http://www.properati.com.ar/1atxb_venta_depart...   \n",
       "93497     nan   1,900.0  http://www.properati.com.ar/1be9e_venta_depart...   \n",
       "46587     4.0       nan  http://www.properati.com.ar/196cd_venta_depart...   \n",
       "3284      1.0       nan  http://www.properati.com.ar/15l08_venta_casa_i...   \n",
       "101799    nan       nan  http://www.properati.com.ar/1bptk_venta_depart...   \n",
       "\n",
       "                                              description  \\\n",
       "73795   Departamento 52m² en San Martin Av. 6900, Capi...   \n",
       "78264   Venta Departamento de 2 ambientes en Pozo – Ma...   \n",
       "93497   Venta de 3 amb. a la calle con amplio balcon, ...   \n",
       "46587   1119-JM00023 Rosario: Entre Rios 720, piso 5. ...   \n",
       "3284    Loft conformado por un living comedor, cocina ...   \n",
       "101799  Departamentos de dos ambientes.  A una cuadra ...   \n",
       "\n",
       "                                                    title  \\\n",
       "73795                            Departamento en V.Devoto   \n",
       "78264   Venta Departamento 2 Ambientes en Pozo - Matad...   \n",
       "93497   3 amb. moderno, con cochera para 2 autos - Edi...   \n",
       "46587   Rosario: Entre Rios 720, Departamento 1 dormit...   \n",
       "3284                      U$D 120.000 - Casa en Venta -     \n",
       "101799                          Departamento - El Palomar   \n",
       "\n",
       "                                          image_thumbnail  \n",
       "73795   https://thumbs4.properati.com/6/jreHSWXZpLDz1w...  \n",
       "78264   https://thumbs4.properati.com/9/NJ3BqDqR2WTyrv...  \n",
       "93497   https://thumbs4.properati.com/3/9shhhUukGzeFFr...  \n",
       "46587   https://thumbs4.properati.com/2/m71uIfNRRCBbvd...  \n",
       "3284    https://thumbs4.properati.com/1/fruVpU8cHfi1oi...  \n",
       "101799  https://thumbs4.properati.com/2/nmMXI0Q-NiMbT6...  \n",
       "\n",
       "[6 rows x 26 columns]"
      ]
     },
     "metadata": {},
     "output_type": "display_data"
    },
    {
     "name": "stdout",
     "output_type": "stream",
     "text": [
      "(Cantidad de Filas, Cantidad de columnas) -> (121220, 26)\n"
     ]
    }
   ],
   "source": [
    "# Abrimos el dataset y hacemos un chequeo rápido para saber cantidad de registros y miramos la composición del mismo.\n",
    "filename = \"../../dataset/properati.csv\"\n",
    "data = pd.read_csv(filename)\n",
    "\n",
    "display(data.sample(n=6))\n",
    "print(f\"(Cantidad de Filas, Cantidad de columnas) -> {data.shape}\")"
   ]
  },
  {
   "cell_type": "code",
   "execution_count": 4,
   "metadata": {},
   "outputs": [
    {
     "name": "stdout",
     "output_type": "stream",
     "text": [
      "Cantidad de registros con NaN: 33562\n",
      "Porcentaje de registros con NaN: 27.686850354726943\n",
      "Contamos cantidad de registros unicos:\n",
      "            price_per_m2  count\n",
      "0     1.5102040816326532      1\n",
      "1     3.2085561497326203      1\n",
      "2      7.462100384887282      1\n",
      "3      7.987660441800253      1\n",
      "4      8.291223078055243      1\n",
      "...                  ...    ...\n",
      "25180        1,825,000.0      1\n",
      "25181        2,000,000.0      1\n",
      "25182        2,300,000.0      1\n",
      "25183        2,600,000.0      1\n",
      "25184       3,999,999.96      1\n",
      "\n",
      "[25185 rows x 2 columns]\n"
     ]
    }
   ],
   "source": [
    "# Columna price_per_m2 : revisamos que opciones tiene, o si se repite lo mismo.\n",
    "print(f'Cantidad de registros con NaN: {data.price_per_m2.isnull().sum()}')\n",
    "print(f'Porcentaje de registros con NaN: {data.price_per_m2.isnull().mean()*100}')\n",
    "print(\"Contamos cantidad de registros unicos:\")\n",
    "print(data.groupby(['price_per_m2']).size().reset_index(name='count'))"
   ]
  },
  {
   "cell_type": "code",
   "execution_count": 5,
   "metadata": {},
   "outputs": [
    {
     "data": {
      "text/plain": [
       "<AxesSubplot:xlabel='state_name'>"
      ]
     },
     "execution_count": 5,
     "metadata": {},
     "output_type": "execute_result"
    },
    {
     "data": {
      "image/png": "[encoded data removed]",
      "text/plain": [
       "<Figure size 432x288 with 1 Axes>"
      ]
     },
     "metadata": {
      "needs_background": "light"
     },
     "output_type": "display_data"
    }
   ],
   "source": [
    "#graficamos el dato por Estado con el fin de observar los rangos de precios por metro cuadrado\n",
    "#En esta grafica podemos observar la variación en la media de las areas que existen de acuerdo al Estado.\n",
    "data.groupby('state_name')['price_per_m2'].mean().plot.bar()"
   ]
  },
  {
   "cell_type": "code",
   "execution_count": 7,
   "metadata": {},
   "outputs": [
    {
     "data": {
      "text/plain": [
       "count              87,658.0\n",
       "mean     6,912.215704519683\n",
       "std     28,378.644733892193\n",
       "min      1.5102040816326532\n",
       "25%                 1,550.0\n",
       "50%      2,213.114754098361\n",
       "75%     3,355.5486111111113\n",
       "max            3,999,999.96\n",
       "Name: price_per_m2, dtype: float64"
      ]
     },
     "execution_count": 7,
     "metadata": {},
     "output_type": "execute_result"
    }
   ],
   "source": [
    "data.price_per_m2.describe()"
   ]
  },
  {
   "cell_type": "markdown",
   "metadata": {},
   "source": [
    "Detalle de análisis de columnas:\n",
    "* `price_per_m2` -> Esta columna tiene 33.562 datos nulos o su equivalente 27.68%. Consideramos que esta variable es relevante para la proyección, y podriamos completarla realizando diferentes operaciones:\n",
    "Los datos tienen un valor máximo de 3,999,999 dolares por metro cuadrado, frente a una media de 6,912 dolares por metro cuadrado.\n",
    "1. Extrayendo el dato de las columnas title y description\n",
    "2. calculando el precio al dividir el precio aprox en usd entre la superficie cubierta en m2\n",
    "3. calculando un valor promedio para el metro cuadrado de las propiedades de acuerdo al barrio o place name donde se encuentren ubicados."
   ]
  },
  {
   "cell_type": "markdown",
   "metadata": {},
   "source": [
    "### Detalle de valores extremos en la  columna `price_per_m2`:\n",
    "\n",
    "En el catplot elaborado para esta variable comparada por tipo de propiedad podemos observar 10 datos que se alejan significativamente de la media principalmente en el tipo de propiedad apartamentos."
   ]
  },
  {
   "cell_type": "code",
   "execution_count": 8,
   "metadata": {},
   "outputs": [
    {
     "data": {
      "text/plain": [
       "<seaborn.axisgrid.FacetGrid at 0x23cc4ab0b20>"
      ]
     },
     "execution_count": 8,
     "metadata": {},
     "output_type": "execute_result"
    },
    {
     "data": {
      "image/png": "[encoded data removed]",
      "text/plain": [
       "<Figure size 1800x360 with 1 Axes>"
      ]
     },
     "metadata": {
      "needs_background": "light"
     },
     "output_type": "display_data"
    }
   ],
   "source": [
    "sns.catplot(data=data, x= 'price_per_m2', y=\"property_type\", kind=\"box\", height=5, aspect=5,)\n"
   ]
  }
 ],
 "metadata": {
  "kernelspec": {
   "display_name": "Python 3.8.13 ('dhdsblend2021')",
   "language": "python",
   "name": "python3"
  },
  "language_info": {
   "codemirror_mode": {
    "name": "ipython",
    "version": 3
   },
   "file_extension": ".py",
   "mimetype": "text/x-python",
   "name": "python",
   "nbconvert_exporter": "python",
   "pygments_lexer": "ipython3",
   "version": "3.8.13"
  },
  "orig_nbformat": 4,
  "vscode": {
   "interpreter": {
    "hash": "efc208fdaa12fe71d644c382e37592789e7715eab6097afaedaaf3f1e1734556"
   }
  }
 },
 "nbformat": 4,
 "nbformat_minor": 2
}
