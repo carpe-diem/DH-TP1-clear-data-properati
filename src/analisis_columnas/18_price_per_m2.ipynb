{
 "cells": [
  {
   "cell_type": "code",
   "execution_count": 2,
   "metadata": {},
   "outputs": [],
   "source": [
    "# Lo primero que hacemos es importar todas las librerias necesarias.\n",
    "#importamos librerias para tratamiento de datos\n",
    "import numpy as np\n",
    "import pandas as pd\n",
    "pd.options.display.float_format = '{:,}'.format\n",
    "import re\n",
    "import math as mat\n",
    "\n",
    "#importamos librerias la visualizacion de datos\n",
    "import matplotlib.pyplot as plt\n",
    "import seaborn as sns\n",
    "import os\n",
    "%matplotlib inline"
   ]
  },
  {
   "cell_type": "code",
   "execution_count": 3,
   "metadata": {},
   "outputs": [
    {
     "data": {
      "text/html": [
       "<div>\n",
       "<style scoped>\n",
       "    .dataframe tbody tr th:only-of-type {\n",
       "        vertical-align: middle;\n",
       "    }\n",
       "\n",
       "    .dataframe tbody tr th {\n",
       "        vertical-align: top;\n",
       "    }\n",
       "\n",
       "    .dataframe thead th {\n",
       "        text-align: right;\n",
       "    }\n",
       "</style>\n",
       "<table border=\"1\" class=\"dataframe\">\n",
       "  <thead>\n",
       "    <tr style=\"text-align: right;\">\n",
       "      <th></th>\n",
       "      <th>Unnamed: 0</th>\n",
       "      <th>operation</th>\n",
       "      <th>property_type</th>\n",
       "      <th>place_name</th>\n",
       "      <th>place_with_parent_names</th>\n",
       "      <th>country_name</th>\n",
       "      <th>state_name</th>\n",
       "      <th>geonames_id</th>\n",
       "      <th>lat-lon</th>\n",
       "      <th>lat</th>\n",
       "      <th>...</th>\n",
       "      <th>surface_covered_in_m2</th>\n",
       "      <th>price_usd_per_m2</th>\n",
       "      <th>price_per_m2</th>\n",
       "      <th>floor</th>\n",
       "      <th>rooms</th>\n",
       "      <th>expenses</th>\n",
       "      <th>properati_url</th>\n",
       "      <th>description</th>\n",
       "      <th>title</th>\n",
       "      <th>image_thumbnail</th>\n",
       "    </tr>\n",
       "  </thead>\n",
       "  <tbody>\n",
       "    <tr>\n",
       "      <th>72995</th>\n",
       "      <td>72995</td>\n",
       "      <td>sell</td>\n",
       "      <td>apartment</td>\n",
       "      <td>Recoleta</td>\n",
       "      <td>|Argentina|Capital Federal|Recoleta|</td>\n",
       "      <td>Argentina</td>\n",
       "      <td>Capital Federal</td>\n",
       "      <td>3,429,595.0</td>\n",
       "      <td>NaN</td>\n",
       "      <td>nan</td>\n",
       "      <td>...</td>\n",
       "      <td>nan</td>\n",
       "      <td>nan</td>\n",
       "      <td>nan</td>\n",
       "      <td>nan</td>\n",
       "      <td>nan</td>\n",
       "      <td>nan</td>\n",
       "      <td>http://www.properati.com.ar/1an4r_venta_depart...</td>\n",
       "      <td>AVISO LEGAL: Las descripciones arquitectónicas...</td>\n",
       "      <td>Departamento - Recoleta</td>\n",
       "      <td>NaN</td>\n",
       "    </tr>\n",
       "    <tr>\n",
       "      <th>33746</th>\n",
       "      <td>33746</td>\n",
       "      <td>sell</td>\n",
       "      <td>apartment</td>\n",
       "      <td>Posadas</td>\n",
       "      <td>|Argentina|Misiones|Posadas|</td>\n",
       "      <td>Argentina</td>\n",
       "      <td>Misiones</td>\n",
       "      <td>3,429,886.0</td>\n",
       "      <td>-27.3577742,-55.8972</td>\n",
       "      <td>-27.3577742</td>\n",
       "      <td>...</td>\n",
       "      <td>30.0</td>\n",
       "      <td>nan</td>\n",
       "      <td>31,666.66666666667</td>\n",
       "      <td>nan</td>\n",
       "      <td>1.0</td>\n",
       "      <td>nan</td>\n",
       "      <td>http://www.properati.com.ar/18ajb_venta_depart...</td>\n",
       "      <td>Muy lindo y luminoso departamento en el barrio...</td>\n",
       "      <td>VILLA SARITA - EN VENTA MUY LINDO DEPTO DE 1 DORM</td>\n",
       "      <td>https://thumbs4.properati.com/7/3TlHAXsEncEY8H...</td>\n",
       "    </tr>\n",
       "    <tr>\n",
       "      <th>103921</th>\n",
       "      <td>103921</td>\n",
       "      <td>sell</td>\n",
       "      <td>apartment</td>\n",
       "      <td>Villa La Angostura</td>\n",
       "      <td>|Argentina|Neuquén|Villa La Angostura|</td>\n",
       "      <td>Argentina</td>\n",
       "      <td>Neuquén</td>\n",
       "      <td>3,832,711.0</td>\n",
       "      <td>NaN</td>\n",
       "      <td>nan</td>\n",
       "      <td>...</td>\n",
       "      <td>55.0</td>\n",
       "      <td>nan</td>\n",
       "      <td>nan</td>\n",
       "      <td>nan</td>\n",
       "      <td>nan</td>\n",
       "      <td>nan</td>\n",
       "      <td>http://www.properati.com.ar/1bslh_venta_depart...</td>\n",
       "      <td>96 unidades exclusivas. Amenities de categoría...</td>\n",
       "      <td>Departamento - La Villa</td>\n",
       "      <td>https://thumbs4.properati.com/0/8QfsgjAJ16wwGI...</td>\n",
       "    </tr>\n",
       "    <tr>\n",
       "      <th>101850</th>\n",
       "      <td>101850</td>\n",
       "      <td>sell</td>\n",
       "      <td>house</td>\n",
       "      <td>Tigre</td>\n",
       "      <td>|Argentina|Bs.As. G.B.A. Zona Norte|Tigre|</td>\n",
       "      <td>Argentina</td>\n",
       "      <td>Bs.As. G.B.A. Zona Norte</td>\n",
       "      <td>3,427,753.0</td>\n",
       "      <td>NaN</td>\n",
       "      <td>nan</td>\n",
       "      <td>...</td>\n",
       "      <td>220.0</td>\n",
       "      <td>nan</td>\n",
       "      <td>2,045.4545454545453</td>\n",
       "      <td>nan</td>\n",
       "      <td>nan</td>\n",
       "      <td>8,500.0</td>\n",
       "      <td>http://www.properati.com.ar/1bpw2_venta_casa_t...</td>\n",
       "      <td>MIERES PROPIEDADES - COMERCIALIZACIÓN EN EXCLU...</td>\n",
       "      <td>Santa Catalina, Villanueva -  Casa en Venta</td>\n",
       "      <td>https://thumbs4.properati.com/8/YsKIaO6CWL5vWi...</td>\n",
       "    </tr>\n",
       "    <tr>\n",
       "      <th>20185</th>\n",
       "      <td>20185</td>\n",
       "      <td>sell</td>\n",
       "      <td>house</td>\n",
       "      <td>Villa Ballester</td>\n",
       "      <td>|Argentina|Bs.As. G.B.A. Zona Norte|General Sa...</td>\n",
       "      <td>Argentina</td>\n",
       "      <td>Bs.As. G.B.A. Zona Norte</td>\n",
       "      <td>3,427,467.0</td>\n",
       "      <td>-34.556141,-58.550386</td>\n",
       "      <td>-34.556141</td>\n",
       "      <td>...</td>\n",
       "      <td>20.0</td>\n",
       "      <td>nan</td>\n",
       "      <td>16,500.0</td>\n",
       "      <td>nan</td>\n",
       "      <td>5.0</td>\n",
       "      <td>nan</td>\n",
       "      <td>http://www.properati.com.ar/17btd_venta_casa_v...</td>\n",
       "      <td>Corredor Responsable: Daniel Acosta - CSI 5953...</td>\n",
       "      <td>Casa 5 ambientes, Villa Ballester</td>\n",
       "      <td>https://thumbs4.properati.com/3/d_RT4W9E98m7sq...</td>\n",
       "    </tr>\n",
       "    <tr>\n",
       "      <th>94253</th>\n",
       "      <td>94253</td>\n",
       "      <td>sell</td>\n",
       "      <td>apartment</td>\n",
       "      <td>Barrio Norte</td>\n",
       "      <td>|Argentina|Capital Federal|Barrio Norte|</td>\n",
       "      <td>Argentina</td>\n",
       "      <td>Capital Federal</td>\n",
       "      <td>3,436,109.0</td>\n",
       "      <td>NaN</td>\n",
       "      <td>nan</td>\n",
       "      <td>...</td>\n",
       "      <td>101.0</td>\n",
       "      <td>2,783.0188679245284</td>\n",
       "      <td>2,920.7920792079212</td>\n",
       "      <td>nan</td>\n",
       "      <td>nan</td>\n",
       "      <td>nan</td>\n",
       "      <td>http://www.properati.com.ar/1bfaz_venta_depart...</td>\n",
       "      <td>Semipiso de 4 ambientes al contrafrente.- Entr...</td>\n",
       "      <td>Departamento en Barrio Norte</td>\n",
       "      <td>https://thumbs4.properati.com/6/I_xKTmoI4BhLpL...</td>\n",
       "    </tr>\n",
       "  </tbody>\n",
       "</table>\n",
       "<p>6 rows × 26 columns</p>\n",
       "</div>"
      ],
      "text/plain": [
       "        Unnamed: 0 operation property_type          place_name  \\\n",
       "72995        72995      sell     apartment            Recoleta   \n",
       "33746        33746      sell     apartment             Posadas   \n",
       "103921      103921      sell     apartment  Villa La Angostura   \n",
       "101850      101850      sell         house               Tigre   \n",
       "20185        20185      sell         house     Villa Ballester   \n",
       "94253        94253      sell     apartment        Barrio Norte   \n",
       "\n",
       "                                  place_with_parent_names country_name  \\\n",
       "72995                |Argentina|Capital Federal|Recoleta|    Argentina   \n",
       "33746                        |Argentina|Misiones|Posadas|    Argentina   \n",
       "103921             |Argentina|Neuquén|Villa La Angostura|    Argentina   \n",
       "101850         |Argentina|Bs.As. G.B.A. Zona Norte|Tigre|    Argentina   \n",
       "20185   |Argentina|Bs.As. G.B.A. Zona Norte|General Sa...    Argentina   \n",
       "94253            |Argentina|Capital Federal|Barrio Norte|    Argentina   \n",
       "\n",
       "                      state_name  geonames_id                lat-lon  \\\n",
       "72995            Capital Federal  3,429,595.0                    NaN   \n",
       "33746                   Misiones  3,429,886.0   -27.3577742,-55.8972   \n",
       "103921                   Neuquén  3,832,711.0                    NaN   \n",
       "101850  Bs.As. G.B.A. Zona Norte  3,427,753.0                    NaN   \n",
       "20185   Bs.As. G.B.A. Zona Norte  3,427,467.0  -34.556141,-58.550386   \n",
       "94253            Capital Federal  3,436,109.0                    NaN   \n",
       "\n",
       "               lat  ...  surface_covered_in_m2    price_usd_per_m2  \\\n",
       "72995          nan  ...                    nan                 nan   \n",
       "33746  -27.3577742  ...                   30.0                 nan   \n",
       "103921         nan  ...                   55.0                 nan   \n",
       "101850         nan  ...                  220.0                 nan   \n",
       "20185   -34.556141  ...                   20.0                 nan   \n",
       "94253          nan  ...                  101.0 2,783.0188679245284   \n",
       "\n",
       "              price_per_m2  floor  rooms  expenses  \\\n",
       "72995                  nan    nan    nan       nan   \n",
       "33746   31,666.66666666667    nan    1.0       nan   \n",
       "103921                 nan    nan    nan       nan   \n",
       "101850 2,045.4545454545453    nan    nan   8,500.0   \n",
       "20185             16,500.0    nan    5.0       nan   \n",
       "94253  2,920.7920792079212    nan    nan       nan   \n",
       "\n",
       "                                            properati_url  \\\n",
       "72995   http://www.properati.com.ar/1an4r_venta_depart...   \n",
       "33746   http://www.properati.com.ar/18ajb_venta_depart...   \n",
       "103921  http://www.properati.com.ar/1bslh_venta_depart...   \n",
       "101850  http://www.properati.com.ar/1bpw2_venta_casa_t...   \n",
       "20185   http://www.properati.com.ar/17btd_venta_casa_v...   \n",
       "94253   http://www.properati.com.ar/1bfaz_venta_depart...   \n",
       "\n",
       "                                              description  \\\n",
       "72995   AVISO LEGAL: Las descripciones arquitectónicas...   \n",
       "33746   Muy lindo y luminoso departamento en el barrio...   \n",
       "103921  96 unidades exclusivas. Amenities de categoría...   \n",
       "101850  MIERES PROPIEDADES - COMERCIALIZACIÓN EN EXCLU...   \n",
       "20185   Corredor Responsable: Daniel Acosta - CSI 5953...   \n",
       "94253   Semipiso de 4 ambientes al contrafrente.- Entr...   \n",
       "\n",
       "                                                    title  \\\n",
       "72995                             Departamento - Recoleta   \n",
       "33746   VILLA SARITA - EN VENTA MUY LINDO DEPTO DE 1 DORM   \n",
       "103921                            Departamento - La Villa   \n",
       "101850        Santa Catalina, Villanueva -  Casa en Venta   \n",
       "20185                   Casa 5 ambientes, Villa Ballester   \n",
       "94253                        Departamento en Barrio Norte   \n",
       "\n",
       "                                          image_thumbnail  \n",
       "72995                                                 NaN  \n",
       "33746   https://thumbs4.properati.com/7/3TlHAXsEncEY8H...  \n",
       "103921  https://thumbs4.properati.com/0/8QfsgjAJ16wwGI...  \n",
       "101850  https://thumbs4.properati.com/8/YsKIaO6CWL5vWi...  \n",
       "20185   https://thumbs4.properati.com/3/d_RT4W9E98m7sq...  \n",
       "94253   https://thumbs4.properati.com/6/I_xKTmoI4BhLpL...  \n",
       "\n",
       "[6 rows x 26 columns]"
      ]
     },
     "metadata": {},
     "output_type": "display_data"
    },
    {
     "name": "stdout",
     "output_type": "stream",
     "text": [
      "(Cantidad de Filas, Cantidad de columnas) -> (121220, 26)\n"
     ]
    }
   ],
   "source": [
    "# Abrimos el dataset y hacemos un chequeo rápido para saber cantidad de registros y miramos la composición del mismo.\n",
    "filename = \"../../dataset/properati.csv\"\n",
    "data = pd.read_csv(filename)\n",
    "\n",
    "display(data.sample(n=6))\n",
    "print(f\"(Cantidad de Filas, Cantidad de columnas) -> {data.shape}\")"
   ]
  },
  {
   "cell_type": "code",
   "execution_count": 4,
   "metadata": {},
   "outputs": [
    {
     "name": "stdout",
     "output_type": "stream",
     "text": [
      "Cantidad de registros con NaN: 33562\n",
      "Porcentaje de registros con NaN: 27.686850354726943\n",
      "Contamos cantidad de registros unicos:\n",
      "            price_per_m2  count\n",
      "0     1.5102040816326532      1\n",
      "1     3.2085561497326203      1\n",
      "2      7.462100384887282      1\n",
      "3      7.987660441800253      1\n",
      "4      8.291223078055243      1\n",
      "...                  ...    ...\n",
      "25180        1,825,000.0      1\n",
      "25181        2,000,000.0      1\n",
      "25182        2,300,000.0      1\n",
      "25183        2,600,000.0      1\n",
      "25184       3,999,999.96      1\n",
      "\n",
      "[25185 rows x 2 columns]\n"
     ]
    }
   ],
   "source": [
    "# Columna price_per_m2 : revisamos que opciones tiene, o si se repite lo mismo.\n",
    "print(f'Cantidad de registros con NaN: {data.price_per_m2.isnull().sum()}')\n",
    "print(f'Porcentaje de registros con NaN: {data.price_per_m2.isnull().mean()*100}')\n",
    "print(\"Contamos cantidad de registros unicos:\")\n",
    "print(data.groupby(['price_per_m2']).size().reset_index(name='count'))"
   ]
  },
  {
   "cell_type": "code",
   "execution_count": 5,
   "metadata": {},
   "outputs": [
    {
     "data": {
      "text/plain": [
       "<AxesSubplot:xlabel='state_name'>"
      ]
     },
     "execution_count": 5,
     "metadata": {},
     "output_type": "execute_result"
    },
    {
     "data": {
      "image/png": "[encoded data removed]",
      "text/plain": [
       "<Figure size 432x288 with 1 Axes>"
      ]
     },
     "metadata": {
      "needs_background": "light"
     },
     "output_type": "display_data"
    }
   ],
   "source": [
    "#graficamos el dato por Estado con el fin de observar los rangos de precios por metro cuadrado\n",
    "#En esta grafica podemos observar la variación en la media de las areas que existen de acuerdo al Estado.\n",
    "data.groupby('state_name')['price_per_m2'].mean().plot.bar()"
   ]
  },
  {
   "cell_type": "code",
   "execution_count": 6,
   "metadata": {},
   "outputs": [
    {
     "data": {
      "image/png": "[encoded data removed]",
      "text/plain": [
       "<Figure size 432x288 with 1 Axes>"
      ]
     },
     "metadata": {
      "needs_background": "light"
     },
     "output_type": "display_data"
    }
   ],
   "source": [
    "#graficamos un plot para visualizar la dispersión del precio por metro cuadrado que se calcula sobre la superficie cubierta por longitud \n",
    "# y observamos como los valores más extremos se ubican en en la longitud cercana a -58 y -65\n",
    "my_plot_price_per_m2 = data.plot(\"lon\", \"price_per_m2\", kind=\"scatter\")\n",
    "plt.show()"
   ]
  },
  {
   "cell_type": "code",
   "execution_count": 10,
   "metadata": {},
   "outputs": [
    {
     "data": {
      "image/png": "[encoded data removed]",
      "text/plain": [
       "<Figure size 432x288 with 1 Axes>"
      ]
     },
     "metadata": {
      "needs_background": "light"
     },
     "output_type": "display_data"
    }
   ],
   "source": [
    "#graficamos un plot para visualizar la dispersión del precio por metro cuadrado que se calcula sobre la superficie cubierta por longitud \n",
    "# y observamos como los valores más extremos se ubican en en la longitud cercana a -31 y -35\n",
    "my_plot_price_per_m2 = data.plot(\"lat\", \"price_per_m2\", kind=\"scatter\")\n",
    "plt.show()"
   ]
  },
  {
   "cell_type": "code",
   "execution_count": 7,
   "metadata": {},
   "outputs": [
    {
     "data": {
      "text/plain": [
       "count              87,658.0\n",
       "mean     6,912.215704519683\n",
       "std     28,378.644733892193\n",
       "min      1.5102040816326532\n",
       "25%                 1,550.0\n",
       "50%      2,213.114754098361\n",
       "75%     3,355.5486111111113\n",
       "max            3,999,999.96\n",
       "Name: price_per_m2, dtype: float64"
      ]
     },
     "execution_count": 7,
     "metadata": {},
     "output_type": "execute_result"
    }
   ],
   "source": [
    "data.price_per_m2.describe()"
   ]
  },
  {
   "cell_type": "markdown",
   "metadata": {},
   "source": [
    "Detalle de análisis de columnas:\n",
    "* `price_per_m2` -> Esta columna tiene 33.562 datos nulos o su equivalente 27.68%. Consideramos que esta variable es relevante para la proyección, y podriamos completarla realizando diferentes operaciones:\n",
    "Los datos tienen un valor máximo de 3,999,999 dolares por metro cuadrado, frente a una media de 6,912 dolares por metro cuadrado.\n",
    "1. Extrayendo el dato de las columnas title y description\n",
    "2. calculando el precio al dividir el precio aprox en usd entre la superficie cubierta en m2\n",
    "3. calculando un valor promedio para el metro cuadrado de las propiedades de acuerdo al barrio o place name donde se encuentren ubicados."
   ]
  },
  {
   "cell_type": "markdown",
   "metadata": {},
   "source": [
    "### Detalle de valores extremos en la  columna `price_per_m2`:\n",
    "\n",
    "En el catplot elaborado para esta variable comparada por tipo de propiedad podemos observar 10 datos que se alejan significativamente de la media principalmente en el tipo de propiedad apartamentos."
   ]
  },
  {
   "cell_type": "code",
   "execution_count": 8,
   "metadata": {},
   "outputs": [
    {
     "data": {
      "text/plain": [
       "<seaborn.axisgrid.FacetGrid at 0x28e2b4a47c0>"
      ]
     },
     "execution_count": 8,
     "metadata": {},
     "output_type": "execute_result"
    },
    {
     "data": {
      "image/png": "[encoded data removed]",
      "text/plain": [
       "<Figure size 1800x360 with 1 Axes>"
      ]
     },
     "metadata": {
      "needs_background": "light"
     },
     "output_type": "display_data"
    }
   ],
   "source": [
    "sns.catplot(data=data, x= 'price_per_m2', y=\"property_type\", kind=\"box\", height=5, aspect=5,)\n"
   ]
  }
 ],
 "metadata": {
  "kernelspec": {
   "display_name": "Python 3.8.13 ('dhdsblend2021')",
   "language": "python",
   "name": "python3"
  },
  "language_info": {
   "codemirror_mode": {
    "name": "ipython",
    "version": 3
   },
   "file_extension": ".py",
   "mimetype": "text/x-python",
   "name": "python",
   "nbconvert_exporter": "python",
   "pygments_lexer": "ipython3",
   "version": "3.8.13"
  },
  "orig_nbformat": 4,
  "vscode": {
   "interpreter": {
    "hash": "efc208fdaa12fe71d644c382e37592789e7715eab6097afaedaaf3f1e1734556"
   }
  }
 },
 "nbformat": 4,
 "nbformat_minor": 2
}
