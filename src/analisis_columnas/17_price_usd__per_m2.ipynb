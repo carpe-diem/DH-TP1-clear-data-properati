{
 "cells": [
  {
   "cell_type": "code",
   "execution_count": 2,
   "metadata": {},
   "outputs": [],
   "source": [
    "# Lo primero que hacemos es importar todas las librerias necesarias.\n",
    "#importamos librerias para tratamiento de datos\n",
    "import numpy as np\n",
    "import pandas as pd\n",
    "pd.options.display.float_format = '{:,}'.format\n",
    "import re\n",
    "import math as mat\n",
    "\n",
    "#importamos librerias la visualizacion de datos\n",
    "import matplotlib.pyplot as plt\n",
    "import seaborn as sns\n",
    "import os\n",
    "%matplotlib inline"
   ]
  },
  {
   "cell_type": "code",
   "execution_count": 3,
   "metadata": {},
   "outputs": [
    {
     "data": {
      "text/html": [
       "<div>\n",
       "<style scoped>\n",
       "    .dataframe tbody tr th:only-of-type {\n",
       "        vertical-align: middle;\n",
       "    }\n",
       "\n",
       "    .dataframe tbody tr th {\n",
       "        vertical-align: top;\n",
       "    }\n",
       "\n",
       "    .dataframe thead th {\n",
       "        text-align: right;\n",
       "    }\n",
       "</style>\n",
       "<table border=\"1\" class=\"dataframe\">\n",
       "  <thead>\n",
       "    <tr style=\"text-align: right;\">\n",
       "      <th></th>\n",
       "      <th>Unnamed: 0</th>\n",
       "      <th>operation</th>\n",
       "      <th>property_type</th>\n",
       "      <th>place_name</th>\n",
       "      <th>place_with_parent_names</th>\n",
       "      <th>country_name</th>\n",
       "      <th>state_name</th>\n",
       "      <th>geonames_id</th>\n",
       "      <th>lat-lon</th>\n",
       "      <th>lat</th>\n",
       "      <th>...</th>\n",
       "      <th>surface_covered_in_m2</th>\n",
       "      <th>price_usd_per_m2</th>\n",
       "      <th>price_per_m2</th>\n",
       "      <th>floor</th>\n",
       "      <th>rooms</th>\n",
       "      <th>expenses</th>\n",
       "      <th>properati_url</th>\n",
       "      <th>description</th>\n",
       "      <th>title</th>\n",
       "      <th>image_thumbnail</th>\n",
       "    </tr>\n",
       "  </thead>\n",
       "  <tbody>\n",
       "    <tr>\n",
       "      <th>73923</th>\n",
       "      <td>73923</td>\n",
       "      <td>sell</td>\n",
       "      <td>store</td>\n",
       "      <td>Vicente López</td>\n",
       "      <td>|Argentina|Bs.As. G.B.A. Zona Norte|Vicente Ló...</td>\n",
       "      <td>Argentina</td>\n",
       "      <td>Bs.As. G.B.A. Zona Norte</td>\n",
       "      <td>nan</td>\n",
       "      <td>NaN</td>\n",
       "      <td>nan</td>\n",
       "      <td>...</td>\n",
       "      <td>200.0</td>\n",
       "      <td>5,970.1492537313425</td>\n",
       "      <td>10,000.0</td>\n",
       "      <td>nan</td>\n",
       "      <td>nan</td>\n",
       "      <td>nan</td>\n",
       "      <td>http://www.properati.com.ar/1aoax_venta_local_...</td>\n",
       "      <td>Local comercial, con 8 m de vidrieras sobre la...</td>\n",
       "      <td>Local en Vicente Lopez</td>\n",
       "      <td>https://thumbs4.properati.com/6/6Bq-NJJj7NqaK-...</td>\n",
       "    </tr>\n",
       "    <tr>\n",
       "      <th>5007</th>\n",
       "      <td>5007</td>\n",
       "      <td>sell</td>\n",
       "      <td>apartment</td>\n",
       "      <td>Villa Luro</td>\n",
       "      <td>|Argentina|Capital Federal|Villa Luro|</td>\n",
       "      <td>Argentina</td>\n",
       "      <td>Capital Federal</td>\n",
       "      <td>3,427,407.0</td>\n",
       "      <td>-34.6297753,-58.5043208</td>\n",
       "      <td>-34.6297753</td>\n",
       "      <td>...</td>\n",
       "      <td>nan</td>\n",
       "      <td>nan</td>\n",
       "      <td>nan</td>\n",
       "      <td>nan</td>\n",
       "      <td>nan</td>\n",
       "      <td>nan</td>\n",
       "      <td>http://www.properati.com.ar/15ovx_venta_depart...</td>\n",
       "      <td>VENTA MONOAMBIENTE EN VILLA LURO.Unidad monoam...</td>\n",
       "      <td>Av. Lope de Vega 1000</td>\n",
       "      <td>https://thumbs4.properati.com/8/cOyEukcRL5Oeh-...</td>\n",
       "    </tr>\n",
       "    <tr>\n",
       "      <th>24772</th>\n",
       "      <td>24772</td>\n",
       "      <td>sell</td>\n",
       "      <td>house</td>\n",
       "      <td>Benavidez</td>\n",
       "      <td>|Argentina|Bs.As. G.B.A. Zona Norte|Tigre|Bena...</td>\n",
       "      <td>Argentina</td>\n",
       "      <td>Bs.As. G.B.A. Zona Norte</td>\n",
       "      <td>3,436,048.0</td>\n",
       "      <td>NaN</td>\n",
       "      <td>nan</td>\n",
       "      <td>...</td>\n",
       "      <td>143.0</td>\n",
       "      <td>442.0731707317073</td>\n",
       "      <td>2,027.972027972028</td>\n",
       "      <td>nan</td>\n",
       "      <td>nan</td>\n",
       "      <td>nan</td>\n",
       "      <td>http://www.properati.com.ar/17p38_venta_casa_b...</td>\n",
       "      <td>Hermosa casa en el barrio San Agustin de dos p...</td>\n",
       "      <td>Casa 656m² con 2 Plantas, Tigre, Benavidez, po...</td>\n",
       "      <td>https://thumbs4.properati.com/7/ZFbOowdqJPET3A...</td>\n",
       "    </tr>\n",
       "    <tr>\n",
       "      <th>86656</th>\n",
       "      <td>86656</td>\n",
       "      <td>sell</td>\n",
       "      <td>house</td>\n",
       "      <td>Luis Guillón</td>\n",
       "      <td>|Argentina|Bs.As. G.B.A. Zona Sur|Esteban Eche...</td>\n",
       "      <td>Argentina</td>\n",
       "      <td>Bs.As. G.B.A. Zona Sur</td>\n",
       "      <td>3,430,992.0</td>\n",
       "      <td>NaN</td>\n",
       "      <td>nan</td>\n",
       "      <td>...</td>\n",
       "      <td>170.0</td>\n",
       "      <td>1,041.1764705882354</td>\n",
       "      <td>1,041.1764705882354</td>\n",
       "      <td>nan</td>\n",
       "      <td>nan</td>\n",
       "      <td>nan</td>\n",
       "      <td>http://www.properati.com.ar/1b4qv_venta_casa_l...</td>\n",
       "      <td>Hermoso chalet de 170m2 aprox cubiertos.Consta...</td>\n",
       "      <td>Casa en Luis Guillon</td>\n",
       "      <td>https://thumbs4.properati.com/5/nPRSyUYJe6o8Dy...</td>\n",
       "    </tr>\n",
       "    <tr>\n",
       "      <th>66480</th>\n",
       "      <td>66480</td>\n",
       "      <td>sell</td>\n",
       "      <td>house</td>\n",
       "      <td>San Carlos de Bariloche</td>\n",
       "      <td>|Argentina|Río Negro|San Carlos de Bariloche|S...</td>\n",
       "      <td>Argentina</td>\n",
       "      <td>Río Negro</td>\n",
       "      <td>3,837,856.0</td>\n",
       "      <td>NaN</td>\n",
       "      <td>nan</td>\n",
       "      <td>...</td>\n",
       "      <td>130.0</td>\n",
       "      <td>nan</td>\n",
       "      <td>nan</td>\n",
       "      <td>nan</td>\n",
       "      <td>nan</td>\n",
       "      <td>nan</td>\n",
       "      <td>http://www.properati.com.ar/1adv6_venta_casa_s...</td>\n",
       "      <td>Muy buena vista al lago.Calefaccion por calefa...</td>\n",
       "      <td>Casa - Golf</td>\n",
       "      <td>https://thumbs4.properati.com/1/qe9wAerDolOGTx...</td>\n",
       "    </tr>\n",
       "    <tr>\n",
       "      <th>34149</th>\n",
       "      <td>34149</td>\n",
       "      <td>sell</td>\n",
       "      <td>house</td>\n",
       "      <td>Haedo</td>\n",
       "      <td>|Argentina|Bs.As. G.B.A. Zona Oeste|Morón|Haedo|</td>\n",
       "      <td>Argentina</td>\n",
       "      <td>Bs.As. G.B.A. Zona Oeste</td>\n",
       "      <td>nan</td>\n",
       "      <td>NaN</td>\n",
       "      <td>nan</td>\n",
       "      <td>...</td>\n",
       "      <td>50.0</td>\n",
       "      <td>566.6666666666666</td>\n",
       "      <td>3,400.0</td>\n",
       "      <td>nan</td>\n",
       "      <td>3.0</td>\n",
       "      <td>nan</td>\n",
       "      <td>http://www.properati.com.ar/18bby_venta_casa_h...</td>\n",
       "      <td>Valor de lote. - Publicado a traves de VisualG...</td>\n",
       "      <td>Casa  en Venta Haedo / Moron (B110 10)</td>\n",
       "      <td>NaN</td>\n",
       "    </tr>\n",
       "  </tbody>\n",
       "</table>\n",
       "<p>6 rows × 26 columns</p>\n",
       "</div>"
      ],
      "text/plain": [
       "       Unnamed: 0 operation property_type               place_name  \\\n",
       "73923       73923      sell         store            Vicente López   \n",
       "5007         5007      sell     apartment               Villa Luro   \n",
       "24772       24772      sell         house                Benavidez   \n",
       "86656       86656      sell         house             Luis Guillón   \n",
       "66480       66480      sell         house  San Carlos de Bariloche   \n",
       "34149       34149      sell         house                    Haedo   \n",
       "\n",
       "                                 place_with_parent_names country_name  \\\n",
       "73923  |Argentina|Bs.As. G.B.A. Zona Norte|Vicente Ló...    Argentina   \n",
       "5007              |Argentina|Capital Federal|Villa Luro|    Argentina   \n",
       "24772  |Argentina|Bs.As. G.B.A. Zona Norte|Tigre|Bena...    Argentina   \n",
       "86656  |Argentina|Bs.As. G.B.A. Zona Sur|Esteban Eche...    Argentina   \n",
       "66480  |Argentina|Río Negro|San Carlos de Bariloche|S...    Argentina   \n",
       "34149   |Argentina|Bs.As. G.B.A. Zona Oeste|Morón|Haedo|    Argentina   \n",
       "\n",
       "                     state_name  geonames_id                  lat-lon  \\\n",
       "73923  Bs.As. G.B.A. Zona Norte          nan                      NaN   \n",
       "5007            Capital Federal  3,427,407.0  -34.6297753,-58.5043208   \n",
       "24772  Bs.As. G.B.A. Zona Norte  3,436,048.0                      NaN   \n",
       "86656    Bs.As. G.B.A. Zona Sur  3,430,992.0                      NaN   \n",
       "66480                 Río Negro  3,837,856.0                      NaN   \n",
       "34149  Bs.As. G.B.A. Zona Oeste          nan                      NaN   \n",
       "\n",
       "              lat  ...  surface_covered_in_m2    price_usd_per_m2  \\\n",
       "73923         nan  ...                  200.0 5,970.1492537313425   \n",
       "5007  -34.6297753  ...                    nan                 nan   \n",
       "24772         nan  ...                  143.0   442.0731707317073   \n",
       "86656         nan  ...                  170.0 1,041.1764705882354   \n",
       "66480         nan  ...                  130.0                 nan   \n",
       "34149         nan  ...                   50.0   566.6666666666666   \n",
       "\n",
       "             price_per_m2  floor  rooms  expenses  \\\n",
       "73923            10,000.0    nan    nan       nan   \n",
       "5007                  nan    nan    nan       nan   \n",
       "24772  2,027.972027972028    nan    nan       nan   \n",
       "86656 1,041.1764705882354    nan    nan       nan   \n",
       "66480                 nan    nan    nan       nan   \n",
       "34149             3,400.0    nan    3.0       nan   \n",
       "\n",
       "                                           properati_url  \\\n",
       "73923  http://www.properati.com.ar/1aoax_venta_local_...   \n",
       "5007   http://www.properati.com.ar/15ovx_venta_depart...   \n",
       "24772  http://www.properati.com.ar/17p38_venta_casa_b...   \n",
       "86656  http://www.properati.com.ar/1b4qv_venta_casa_l...   \n",
       "66480  http://www.properati.com.ar/1adv6_venta_casa_s...   \n",
       "34149  http://www.properati.com.ar/18bby_venta_casa_h...   \n",
       "\n",
       "                                             description  \\\n",
       "73923  Local comercial, con 8 m de vidrieras sobre la...   \n",
       "5007   VENTA MONOAMBIENTE EN VILLA LURO.Unidad monoam...   \n",
       "24772  Hermosa casa en el barrio San Agustin de dos p...   \n",
       "86656  Hermoso chalet de 170m2 aprox cubiertos.Consta...   \n",
       "66480  Muy buena vista al lago.Calefaccion por calefa...   \n",
       "34149  Valor de lote. - Publicado a traves de VisualG...   \n",
       "\n",
       "                                                   title  \\\n",
       "73923                             Local en Vicente Lopez   \n",
       "5007                               Av. Lope de Vega 1000   \n",
       "24772  Casa 656m² con 2 Plantas, Tigre, Benavidez, po...   \n",
       "86656                               Casa en Luis Guillon   \n",
       "66480                                        Casa - Golf   \n",
       "34149             Casa  en Venta Haedo / Moron (B110 10)   \n",
       "\n",
       "                                         image_thumbnail  \n",
       "73923  https://thumbs4.properati.com/6/6Bq-NJJj7NqaK-...  \n",
       "5007   https://thumbs4.properati.com/8/cOyEukcRL5Oeh-...  \n",
       "24772  https://thumbs4.properati.com/7/ZFbOowdqJPET3A...  \n",
       "86656  https://thumbs4.properati.com/5/nPRSyUYJe6o8Dy...  \n",
       "66480  https://thumbs4.properati.com/1/qe9wAerDolOGTx...  \n",
       "34149                                                NaN  \n",
       "\n",
       "[6 rows x 26 columns]"
      ]
     },
     "metadata": {},
     "output_type": "display_data"
    },
    {
     "name": "stdout",
     "output_type": "stream",
     "text": [
      "(Cantidad de Filas, Cantidad de columnas) -> (121220, 26)\n"
     ]
    }
   ],
   "source": [
    "# Abrimos el dataset y hacemos un chequeo rápido para saber cantidad de registros y miramos la composición del mismo.\n",
    "filename = \"../../dataset/properati.csv\"\n",
    "data = pd.read_csv(filename)\n",
    "\n",
    "display(data.sample(n=6))\n",
    "print(f\"(Cantidad de Filas, Cantidad de columnas) -> {data.shape}\")"
   ]
  },
  {
   "cell_type": "code",
   "execution_count": 4,
   "metadata": {},
   "outputs": [
    {
     "name": "stdout",
     "output_type": "stream",
     "text": [
      "Cantidad de registros con NaN: 52603\n",
      "Porcentaje de registros con NaN: 43.394654347467416\n",
      "Contamos cantidad de registros unicos:\n",
      "         price_usd_per_m2  count\n",
      "0                     0.6      1\n",
      "1                     1.0      1\n",
      "2      1.1845710280373831      1\n",
      "3      1.2369857009345795      1\n",
      "4      1.5734420828905418      1\n",
      "...                   ...    ...\n",
      "25562  78,533.33333333331      1\n",
      "25563            80,000.0      1\n",
      "25564 104,486.11428571428      1\n",
      "25565 173,826.06666666668      1\n",
      "25566 206,333.33333333328      1\n",
      "\n",
      "[25567 rows x 2 columns]\n"
     ]
    }
   ],
   "source": [
    "# Columna price_usd_per_m2 : revisamos que opciones tiene, o si se repite lo mismo.\n",
    "print(f'Cantidad de registros con NaN: {data.price_usd_per_m2.isnull().sum()}')\n",
    "print(f'Porcentaje de registros con NaN: {data.price_usd_per_m2.isnull().mean()*100}')\n",
    "print(\"Contamos cantidad de registros unicos:\")\n",
    "print(data.groupby(['price_usd_per_m2']).size().reset_index(name='count'))"
   ]
  },
  {
   "cell_type": "code",
   "execution_count": 5,
   "metadata": {},
   "outputs": [
    {
     "data": {
      "text/plain": [
       "<AxesSubplot:xlabel='state_name'>"
      ]
     },
     "execution_count": 5,
     "metadata": {},
     "output_type": "execute_result"
    },
    {
     "data": {
      "image/png": "[encoded data removed]",
      "text/plain": [
       "<Figure size 432x288 with 1 Axes>"
      ]
     },
     "metadata": {
      "needs_background": "light"
     },
     "output_type": "display_data"
    }
   ],
   "source": [
    "#graficamos el dato por Estado con el fin de observar los rangos de precios en dolares por metro cuadrado\n",
    "#En esta grafica podemos observar la variación en la media de las areas que existen de acuerdo al Estado.\n",
    "data.groupby('state_name')['price_usd_per_m2'].mean().plot.bar()"
   ]
  },
  {
   "cell_type": "code",
   "execution_count": 6,
   "metadata": {},
   "outputs": [
    {
     "data": {
      "text/plain": [
       "count              68,617.0\n",
       "mean     2,160.086915888256\n",
       "std     2,759.2886214684504\n",
       "min                     0.6\n",
       "25%     1,218.1818181818182\n",
       "50%                 1,800.0\n",
       "75%     2,486.4117647058824\n",
       "max     206,333.33333333328\n",
       "Name: price_usd_per_m2, dtype: float64"
      ]
     },
     "execution_count": 6,
     "metadata": {},
     "output_type": "execute_result"
    }
   ],
   "source": [
    "data.price_usd_per_m2.describe()"
   ]
  },
  {
   "cell_type": "markdown",
   "metadata": {},
   "source": [
    "Detalle de análisis de columnas:\n",
    "* `price_usd_per_m2` -> Esta columna tiene 52.603 datos nulos o su equivalente 43.39%. Consideramos que esta variable es relevante para la proyección, por esta razón consideramos que podriamos completarla realizando diferentes operaciones:\n",
    "1. Extrayendo el dato de las columnas description y title\n",
    "2. Calculando el valor al dividir el precio aprox en usd entre la superficie en m2\n",
    "3. Calculando un valor promedio por metro cuadrado en cada estado para cada tipo de propiedad."
   ]
  },
  {
   "cell_type": "markdown",
   "metadata": {},
   "source": [
    "### Detalle de valores extremos en la  columna `price_usd_per_m2`:\n",
    "\n",
    "En el catplot elaborado para esta variable comparada por tipo de propiedad podemos observar 6 datos que se alejan significativamente de la media principalmente en el tipo de propiedad apartamentos."
   ]
  },
  {
   "cell_type": "code",
   "execution_count": 7,
   "metadata": {},
   "outputs": [
    {
     "data": {
      "text/plain": [
       "<seaborn.axisgrid.FacetGrid at 0x2ac237423d0>"
      ]
     },
     "execution_count": 7,
     "metadata": {},
     "output_type": "execute_result"
    },
    {
     "data": {
      "image/png": "[encoded data removed]",
      "text/plain": [
       "<Figure size 1800x360 with 1 Axes>"
      ]
     },
     "metadata": {
      "needs_background": "light"
     },
     "output_type": "display_data"
    }
   ],
   "source": [
    "sns.catplot(data=data, x= 'price_usd_per_m2', y=\"property_type\", kind=\"box\", height=5, aspect=5,)\n"
   ]
  },
  {
   "cell_type": "code",
   "execution_count": 8,
   "metadata": {},
   "outputs": [
    {
     "ename": "SyntaxError",
     "evalue": "invalid syntax (1631594979.py, line 1)",
     "output_type": "error",
     "traceback": [
      "\u001b[1;36m  Input \u001b[1;32mIn [8]\u001b[1;36m\u001b[0m\n\u001b[1;33m    Calculo de información a partir de las columnas normalizadas de Superficie y precio aprox en dolares\u001b[0m\n\u001b[1;37m            ^\u001b[0m\n\u001b[1;31mSyntaxError\u001b[0m\u001b[1;31m:\u001b[0m invalid syntax\n"
     ]
    }
   ],
   "source": [
    "Calculo de información a partir de las columnas normalizadas de Superficie y precio aprox en dolares"
   ]
  },
  {
   "cell_type": "code",
   "execution_count": null,
   "metadata": {},
   "outputs": [],
   "source": [
    "Precio_Usd_m2_calculado="
   ]
  },
  {
   "cell_type": "code",
   "execution_count": 10,
   "metadata": {},
   "outputs": [
    {
     "ename": "AttributeError",
     "evalue": "'DataFrameGroupBy' object has no attribute 'precio_usd_per_m2'",
     "output_type": "error",
     "traceback": [
      "\u001b[1;31m---------------------------------------------------------------------------\u001b[0m",
      "\u001b[1;31mAttributeError\u001b[0m                            Traceback (most recent call last)",
      "\u001b[1;32mc:\\Users\\usuario\\Documents\\dh\\DH-TP1-clear-data-properati\\src\\analisis_columnas\\17_price_usd__per_m2.ipynb Celda 11\u001b[0m in \u001b[0;36m<cell line: 5>\u001b[1;34m()\u001b[0m\n\u001b[0;32m      <a href='vscode-notebook-cell:/c%3A/Users/usuario/Documents/dh/DH-TP1-clear-data-properati/src/analisis_columnas/17_price_usd__per_m2.ipynb#X13sZmlsZQ%3D%3D?line=0'>1</a>\u001b[0m \u001b[39m#Precio_Usd_m2 trayendo el valor medio por Place Name\u001b[39;00m\n\u001b[0;32m      <a href='vscode-notebook-cell:/c%3A/Users/usuario/Documents/dh/DH-TP1-clear-data-properati/src/analisis_columnas/17_price_usd__per_m2.ipynb#X13sZmlsZQ%3D%3D?line=1'>2</a>\u001b[0m \u001b[39m#media_precio_usd_place_name=data[place_name] data[price_usd_per_m2]\u001b[39;00m\n\u001b[0;32m      <a href='vscode-notebook-cell:/c%3A/Users/usuario/Documents/dh/DH-TP1-clear-data-properati/src/analisis_columnas/17_price_usd__per_m2.ipynb#X13sZmlsZQ%3D%3D?line=2'>3</a>\u001b[0m \u001b[39m#data[price_usd_per_m2].fillna(data[nueva variable].mean(), inplace:True)\u001b[39;00m\n\u001b[1;32m----> <a href='vscode-notebook-cell:/c%3A/Users/usuario/Documents/dh/DH-TP1-clear-data-properati/src/analisis_columnas/17_price_usd__per_m2.ipynb#X13sZmlsZQ%3D%3D?line=4'>5</a>\u001b[0m valores_promedio_place_name\u001b[39m=\u001b[39mdata\u001b[39m.\u001b[39;49mgroupby(\u001b[39m'\u001b[39;49m\u001b[39mplace_name\u001b[39;49m\u001b[39m'\u001b[39;49m)\u001b[39m.\u001b[39;49mprecio_usd_per_m2\u001b[39m.\u001b[39mmean()\n\u001b[0;32m      <a href='vscode-notebook-cell:/c%3A/Users/usuario/Documents/dh/DH-TP1-clear-data-properati/src/analisis_columnas/17_price_usd__per_m2.ipynb#X13sZmlsZQ%3D%3D?line=5'>6</a>\u001b[0m valores_promedio_place_name\u001b[39m.\u001b[39mhead()\n",
      "File \u001b[1;32mc:\\Users\\usuario\\anaconda3\\envs\\dhdsblend2021\\lib\\site-packages\\pandas\\core\\groupby\\groupby.py:703\u001b[0m, in \u001b[0;36m_GroupBy.__getattr__\u001b[1;34m(self, attr)\u001b[0m\n\u001b[0;32m    700\u001b[0m \u001b[39mif\u001b[39;00m attr \u001b[39min\u001b[39;00m \u001b[39mself\u001b[39m\u001b[39m.\u001b[39mobj:\n\u001b[0;32m    701\u001b[0m     \u001b[39mreturn\u001b[39;00m \u001b[39mself\u001b[39m[attr]\n\u001b[1;32m--> 703\u001b[0m \u001b[39mraise\u001b[39;00m \u001b[39mAttributeError\u001b[39;00m(\n\u001b[0;32m    704\u001b[0m     \u001b[39mf\u001b[39m\u001b[39m\"\u001b[39m\u001b[39m'\u001b[39m\u001b[39m{\u001b[39;00m\u001b[39mtype\u001b[39m(\u001b[39mself\u001b[39m)\u001b[39m.\u001b[39m\u001b[39m__name__\u001b[39m\u001b[39m}\u001b[39;00m\u001b[39m'\u001b[39m\u001b[39m object has no attribute \u001b[39m\u001b[39m'\u001b[39m\u001b[39m{\u001b[39;00mattr\u001b[39m}\u001b[39;00m\u001b[39m'\u001b[39m\u001b[39m\"\u001b[39m\n\u001b[0;32m    705\u001b[0m )\n",
      "\u001b[1;31mAttributeError\u001b[0m: 'DataFrameGroupBy' object has no attribute 'precio_usd_per_m2'"
     ]
    }
   ],
   "source": [
    "#Precio_Usd_m2 trayendo el valor medio por Place Name\n",
    "#media_precio_usd_place_name=data[place_name] data[price_usd_per_m2]\n",
    "#data[price_usd_per_m2].fillna(data[nueva variable].mean(), inplace:True)\n",
    "\n",
    "valores_promedio_place_name=data.groupby('place_name').precio_usd_per_m2.mean()\n",
    "valores_promedio_place_name.head()"
   ]
  },
  {
   "cell_type": "markdown",
   "metadata": {},
   "source": [
    "##Calculo de la columna Price_usd_covered_per_m2\n",
    "\n",
    "Calculo de información a partir de las columnas normalizadas de Superficie y precio aprox en dolares"
   ]
  }
 ],
 "metadata": {
  "kernelspec": {
   "display_name": "Python 3.8.13 ('dhdsblend2021')",
   "language": "python",
   "name": "python3"
  },
  "language_info": {
   "codemirror_mode": {
    "name": "ipython",
    "version": 3
   },
   "file_extension": ".py",
   "mimetype": "text/x-python",
   "name": "python",
   "nbconvert_exporter": "python",
   "pygments_lexer": "ipython3",
   "version": "3.8.13"
  },
  "orig_nbformat": 4,
  "vscode": {
   "interpreter": {
    "hash": "efc208fdaa12fe71d644c382e37592789e7715eab6097afaedaaf3f1e1734556"
   }
  }
 },
 "nbformat": 4,
 "nbformat_minor": 2
}
