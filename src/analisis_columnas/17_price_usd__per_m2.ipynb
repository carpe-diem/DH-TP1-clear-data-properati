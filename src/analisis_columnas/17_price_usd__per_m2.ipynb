{
 "cells": [
  {
   "cell_type": "code",
   "execution_count": 2,
   "metadata": {},
   "outputs": [],
   "source": [
    "# Lo primero que hacemos es importar todas las librerias necesarias.\n",
    "#importamos librerias para tratamiento de datos\n",
    "import numpy as np\n",
    "import pandas as pd\n",
    "pd.options.display.float_format = '{:,}'.format\n",
    "import re\n",
    "import math as mat\n",
    "\n",
    "#importamos librerias la visualizacion de datos\n",
    "import matplotlib.pyplot as plt\n",
    "import seaborn as sns\n",
    "import os\n",
    "%matplotlib inline"
   ]
  },
  {
   "cell_type": "code",
   "execution_count": 3,
   "metadata": {},
   "outputs": [
    {
     "data": {
      "text/html": [
       "<div>\n",
       "<style scoped>\n",
       "    .dataframe tbody tr th:only-of-type {\n",
       "        vertical-align: middle;\n",
       "    }\n",
       "\n",
       "    .dataframe tbody tr th {\n",
       "        vertical-align: top;\n",
       "    }\n",
       "\n",
       "    .dataframe thead th {\n",
       "        text-align: right;\n",
       "    }\n",
       "</style>\n",
       "<table border=\"1\" class=\"dataframe\">\n",
       "  <thead>\n",
       "    <tr style=\"text-align: right;\">\n",
       "      <th></th>\n",
       "      <th>Unnamed: 0</th>\n",
       "      <th>operation</th>\n",
       "      <th>property_type</th>\n",
       "      <th>place_name</th>\n",
       "      <th>place_with_parent_names</th>\n",
       "      <th>country_name</th>\n",
       "      <th>state_name</th>\n",
       "      <th>geonames_id</th>\n",
       "      <th>lat-lon</th>\n",
       "      <th>lat</th>\n",
       "      <th>...</th>\n",
       "      <th>surface_covered_in_m2</th>\n",
       "      <th>price_usd_per_m2</th>\n",
       "      <th>price_per_m2</th>\n",
       "      <th>floor</th>\n",
       "      <th>rooms</th>\n",
       "      <th>expenses</th>\n",
       "      <th>properati_url</th>\n",
       "      <th>description</th>\n",
       "      <th>title</th>\n",
       "      <th>image_thumbnail</th>\n",
       "    </tr>\n",
       "  </thead>\n",
       "  <tbody>\n",
       "    <tr>\n",
       "      <th>54256</th>\n",
       "      <td>54256</td>\n",
       "      <td>sell</td>\n",
       "      <td>apartment</td>\n",
       "      <td>Pilar</td>\n",
       "      <td>|Argentina|Bs.As. G.B.A. Zona Norte|Pilar|</td>\n",
       "      <td>Argentina</td>\n",
       "      <td>Bs.As. G.B.A. Zona Norte</td>\n",
       "      <td>3,429,979.0</td>\n",
       "      <td>NaN</td>\n",
       "      <td>nan</td>\n",
       "      <td>...</td>\n",
       "      <td>82.0</td>\n",
       "      <td>1,951.219512195122</td>\n",
       "      <td>1,951.219512195122</td>\n",
       "      <td>nan</td>\n",
       "      <td>3.0</td>\n",
       "      <td>nan</td>\n",
       "      <td>http://www.properati.com.ar/19mpv_venta_depart...</td>\n",
       "      <td>Muy buen departamento ya escriturado. Living c...</td>\n",
       "      <td>Bustamante Propiedades | North Ville en Venta</td>\n",
       "      <td>https://thumbs4.properati.com/3/LbX80D-i0c3Ps5...</td>\n",
       "    </tr>\n",
       "    <tr>\n",
       "      <th>11352</th>\n",
       "      <td>11352</td>\n",
       "      <td>sell</td>\n",
       "      <td>apartment</td>\n",
       "      <td>Saavedra</td>\n",
       "      <td>|Argentina|Capital Federal|Saavedra|</td>\n",
       "      <td>Argentina</td>\n",
       "      <td>Capital Federal</td>\n",
       "      <td>3,429,422.0</td>\n",
       "      <td>NaN</td>\n",
       "      <td>nan</td>\n",
       "      <td>...</td>\n",
       "      <td>47.0</td>\n",
       "      <td>2,058.8235294117653</td>\n",
       "      <td>2,978.723404255319</td>\n",
       "      <td>1.0</td>\n",
       "      <td>nan</td>\n",
       "      <td>nan</td>\n",
       "      <td>http://www.properati.com.ar/16bck_venta_depart...</td>\n",
       "      <td>Excelente departamento al frente a estrenar. L...</td>\n",
       "      <td>Departamento 68m² con Plantas en Pinto, Gral. ...</td>\n",
       "      <td>https://thumbs4.properati.com/2/wcf68gKvx19UXi...</td>\n",
       "    </tr>\n",
       "    <tr>\n",
       "      <th>84621</th>\n",
       "      <td>84621</td>\n",
       "      <td>sell</td>\n",
       "      <td>apartment</td>\n",
       "      <td>Villa Urquiza</td>\n",
       "      <td>|Argentina|Capital Federal|Villa Urquiza|</td>\n",
       "      <td>Argentina</td>\n",
       "      <td>Capital Federal</td>\n",
       "      <td>3,433,775.0</td>\n",
       "      <td>NaN</td>\n",
       "      <td>nan</td>\n",
       "      <td>...</td>\n",
       "      <td>49.0</td>\n",
       "      <td>nan</td>\n",
       "      <td>nan</td>\n",
       "      <td>nan</td>\n",
       "      <td>nan</td>\n",
       "      <td>nan</td>\n",
       "      <td>http://www.properati.com.ar/1b1xj_venta_depart...</td>\n",
       "      <td>BBU2956 AP192223</td>\n",
       "      <td>EVOQUE</td>\n",
       "      <td>https://thumbs4.properati.com/5/KoHYK6-2CUEnpu...</td>\n",
       "    </tr>\n",
       "    <tr>\n",
       "      <th>74999</th>\n",
       "      <td>74999</td>\n",
       "      <td>sell</td>\n",
       "      <td>apartment</td>\n",
       "      <td>Mar del Plata</td>\n",
       "      <td>|Argentina|Buenos Aires Costa Atlántica|Mar de...</td>\n",
       "      <td>Argentina</td>\n",
       "      <td>Buenos Aires Costa Atlántica</td>\n",
       "      <td>3,430,863.0</td>\n",
       "      <td>NaN</td>\n",
       "      <td>nan</td>\n",
       "      <td>...</td>\n",
       "      <td>44.0</td>\n",
       "      <td>1,800.0</td>\n",
       "      <td>1,800.0</td>\n",
       "      <td>nan</td>\n",
       "      <td>nan</td>\n",
       "      <td>nan</td>\n",
       "      <td>http://www.properati.com.ar/1apq1_venta_depart...</td>\n",
       "      <td>Monoambiente de 44 m2 al frenteventa en pozo f...</td>\n",
       "      <td>Monoambiente venta en pozo</td>\n",
       "      <td>https://thumbs4.properati.com/9/GyRJBhYhv1uI4g...</td>\n",
       "    </tr>\n",
       "    <tr>\n",
       "      <th>116474</th>\n",
       "      <td>116474</td>\n",
       "      <td>sell</td>\n",
       "      <td>house</td>\n",
       "      <td>Open Door</td>\n",
       "      <td>|Argentina|Buenos Aires Interior|Luján|Open Door|</td>\n",
       "      <td>Argentina</td>\n",
       "      <td>Buenos Aires Interior</td>\n",
       "      <td>3,430,287.0</td>\n",
       "      <td>-34.4971739,-59.0789221</td>\n",
       "      <td>-34.4971739</td>\n",
       "      <td>...</td>\n",
       "      <td>200.0</td>\n",
       "      <td>200.0</td>\n",
       "      <td>250.0</td>\n",
       "      <td>nan</td>\n",
       "      <td>5.0</td>\n",
       "      <td>nan</td>\n",
       "      <td>http://www.properati.com.ar/1ccd2_venta_casa_o...</td>\n",
       "      <td>Venta sólo contado SIN FINANCIACIÓN. Casa fren...</td>\n",
       "      <td>Casa venta</td>\n",
       "      <td>https://thumbs4.properati.com/4/9Wc-Lr9p0t0hN1...</td>\n",
       "    </tr>\n",
       "    <tr>\n",
       "      <th>87590</th>\n",
       "      <td>87590</td>\n",
       "      <td>sell</td>\n",
       "      <td>apartment</td>\n",
       "      <td>Córdoba</td>\n",
       "      <td>|Argentina|Córdoba|Córdoba|</td>\n",
       "      <td>Argentina</td>\n",
       "      <td>Córdoba</td>\n",
       "      <td>3,860,259.0</td>\n",
       "      <td>NaN</td>\n",
       "      <td>nan</td>\n",
       "      <td>...</td>\n",
       "      <td>50.0</td>\n",
       "      <td>1,003.8978</td>\n",
       "      <td>17,900.0</td>\n",
       "      <td>nan</td>\n",
       "      <td>nan</td>\n",
       "      <td>nan</td>\n",
       "      <td>http://www.properati.com.ar/1b64p_venta_depart...</td>\n",
       "      <td>ALBERDI. DUARTE QUIROZ AL 2400. A 10 CUADRAS D...</td>\n",
       "      <td>Departamento - Alberdi</td>\n",
       "      <td>https://thumbs4.properati.com/7/-lK8c7Of9oYP3y...</td>\n",
       "    </tr>\n",
       "  </tbody>\n",
       "</table>\n",
       "<p>6 rows × 26 columns</p>\n",
       "</div>"
      ],
      "text/plain": [
       "        Unnamed: 0 operation property_type     place_name  \\\n",
       "54256        54256      sell     apartment          Pilar   \n",
       "11352        11352      sell     apartment       Saavedra   \n",
       "84621        84621      sell     apartment  Villa Urquiza   \n",
       "74999        74999      sell     apartment  Mar del Plata   \n",
       "116474      116474      sell         house      Open Door   \n",
       "87590        87590      sell     apartment        Córdoba   \n",
       "\n",
       "                                  place_with_parent_names country_name  \\\n",
       "54256          |Argentina|Bs.As. G.B.A. Zona Norte|Pilar|    Argentina   \n",
       "11352                |Argentina|Capital Federal|Saavedra|    Argentina   \n",
       "84621           |Argentina|Capital Federal|Villa Urquiza|    Argentina   \n",
       "74999   |Argentina|Buenos Aires Costa Atlántica|Mar de...    Argentina   \n",
       "116474  |Argentina|Buenos Aires Interior|Luján|Open Door|    Argentina   \n",
       "87590                         |Argentina|Córdoba|Córdoba|    Argentina   \n",
       "\n",
       "                          state_name  geonames_id                  lat-lon  \\\n",
       "54256       Bs.As. G.B.A. Zona Norte  3,429,979.0                      NaN   \n",
       "11352                Capital Federal  3,429,422.0                      NaN   \n",
       "84621                Capital Federal  3,433,775.0                      NaN   \n",
       "74999   Buenos Aires Costa Atlántica  3,430,863.0                      NaN   \n",
       "116474         Buenos Aires Interior  3,430,287.0  -34.4971739,-59.0789221   \n",
       "87590                        Córdoba  3,860,259.0                      NaN   \n",
       "\n",
       "               lat  ...  surface_covered_in_m2    price_usd_per_m2  \\\n",
       "54256          nan  ...                   82.0  1,951.219512195122   \n",
       "11352          nan  ...                   47.0 2,058.8235294117653   \n",
       "84621          nan  ...                   49.0                 nan   \n",
       "74999          nan  ...                   44.0             1,800.0   \n",
       "116474 -34.4971739  ...                  200.0               200.0   \n",
       "87590          nan  ...                   50.0          1,003.8978   \n",
       "\n",
       "             price_per_m2  floor  rooms  expenses  \\\n",
       "54256  1,951.219512195122    nan    3.0       nan   \n",
       "11352  2,978.723404255319    1.0    nan       nan   \n",
       "84621                 nan    nan    nan       nan   \n",
       "74999             1,800.0    nan    nan       nan   \n",
       "116474              250.0    nan    5.0       nan   \n",
       "87590            17,900.0    nan    nan       nan   \n",
       "\n",
       "                                            properati_url  \\\n",
       "54256   http://www.properati.com.ar/19mpv_venta_depart...   \n",
       "11352   http://www.properati.com.ar/16bck_venta_depart...   \n",
       "84621   http://www.properati.com.ar/1b1xj_venta_depart...   \n",
       "74999   http://www.properati.com.ar/1apq1_venta_depart...   \n",
       "116474  http://www.properati.com.ar/1ccd2_venta_casa_o...   \n",
       "87590   http://www.properati.com.ar/1b64p_venta_depart...   \n",
       "\n",
       "                                              description  \\\n",
       "54256   Muy buen departamento ya escriturado. Living c...   \n",
       "11352   Excelente departamento al frente a estrenar. L...   \n",
       "84621                                    BBU2956 AP192223   \n",
       "74999   Monoambiente de 44 m2 al frenteventa en pozo f...   \n",
       "116474  Venta sólo contado SIN FINANCIACIÓN. Casa fren...   \n",
       "87590   ALBERDI. DUARTE QUIROZ AL 2400. A 10 CUADRAS D...   \n",
       "\n",
       "                                                    title  \\\n",
       "54256       Bustamante Propiedades | North Ville en Venta   \n",
       "11352   Departamento 68m² con Plantas en Pinto, Gral. ...   \n",
       "84621                                              EVOQUE   \n",
       "74999                          Monoambiente venta en pozo   \n",
       "116474                                         Casa venta   \n",
       "87590                              Departamento - Alberdi   \n",
       "\n",
       "                                          image_thumbnail  \n",
       "54256   https://thumbs4.properati.com/3/LbX80D-i0c3Ps5...  \n",
       "11352   https://thumbs4.properati.com/2/wcf68gKvx19UXi...  \n",
       "84621   https://thumbs4.properati.com/5/KoHYK6-2CUEnpu...  \n",
       "74999   https://thumbs4.properati.com/9/GyRJBhYhv1uI4g...  \n",
       "116474  https://thumbs4.properati.com/4/9Wc-Lr9p0t0hN1...  \n",
       "87590   https://thumbs4.properati.com/7/-lK8c7Of9oYP3y...  \n",
       "\n",
       "[6 rows x 26 columns]"
      ]
     },
     "metadata": {},
     "output_type": "display_data"
    },
    {
     "name": "stdout",
     "output_type": "stream",
     "text": [
      "(Cantidad de Filas, Cantidad de columnas) -> (121220, 26)\n"
     ]
    }
   ],
   "source": [
    "# Abrimos el dataset y hacemos un chequeo rápido para saber cantidad de registros y miramos la composición del mismo.\n",
    "filename = \"../../dataset/properati.csv\"\n",
    "data = pd.read_csv(filename)\n",
    "\n",
    "display(data.sample(n=6))\n",
    "print(f\"(Cantidad de Filas, Cantidad de columnas) -> {data.shape}\")"
   ]
  },
  {
   "cell_type": "code",
   "execution_count": 4,
   "metadata": {},
   "outputs": [
    {
     "name": "stdout",
     "output_type": "stream",
     "text": [
      "Cantidad de registros con NaN: 52603\n",
      "Porcentaje de registros con NaN: 43.394654347467416\n",
      "Contamos cantidad de registros unicos:\n",
      "         price_usd_per_m2  count\n",
      "0                     0.6      1\n",
      "1                     1.0      1\n",
      "2      1.1845710280373831      1\n",
      "3      1.2369857009345795      1\n",
      "4      1.5734420828905418      1\n",
      "...                   ...    ...\n",
      "25562  78,533.33333333331      1\n",
      "25563            80,000.0      1\n",
      "25564 104,486.11428571428      1\n",
      "25565 173,826.06666666668      1\n",
      "25566 206,333.33333333328      1\n",
      "\n",
      "[25567 rows x 2 columns]\n"
     ]
    }
   ],
   "source": [
    "# Columna price_usd_per_m2 : revisamos que opciones tiene, o si se repite lo mismo.\n",
    "print(f'Cantidad de registros con NaN: {data.price_usd_per_m2.isnull().sum()}')\n",
    "print(f'Porcentaje de registros con NaN: {data.price_usd_per_m2.isnull().mean()*100}')\n",
    "print(\"Contamos cantidad de registros unicos:\")\n",
    "print(data.groupby(['price_usd_per_m2']).size().reset_index(name='count'))"
   ]
  },
  {
   "cell_type": "code",
   "execution_count": 5,
   "metadata": {},
   "outputs": [
    {
     "data": {
      "text/plain": [
       "<AxesSubplot:xlabel='state_name'>"
      ]
     },
     "execution_count": 5,
     "metadata": {},
     "output_type": "execute_result"
    },
    {
     "data": {
      "image/png": "[encoded data removed]",
      "text/plain": [
       "<Figure size 432x288 with 1 Axes>"
      ]
     },
     "metadata": {
      "needs_background": "light"
     },
     "output_type": "display_data"
    }
   ],
   "source": [
    "#graficamos el dato por Estado con el fin de observar los rangos de precios en dolares por metro cuadrado\n",
    "#En esta grafica podemos observar la variación en la media de las areas que existen de acuerdo al Estado.\n",
    "data.groupby('state_name')['price_usd_per_m2'].mean().plot.bar()"
   ]
  },
  {
   "cell_type": "code",
   "execution_count": 18,
   "metadata": {},
   "outputs": [
    {
     "data": {
      "image/png": "[encoded data removed]",
      "text/plain": [
       "<Figure size 432x288 with 1 Axes>"
      ]
     },
     "metadata": {
      "needs_background": "light"
     },
     "output_type": "display_data"
    }
   ],
   "source": [
    "#graficamos un plot para visualizar la dispersión del precio por metro cuadrado en dolares por longitud \n",
    "# y observamos como los valores más extremos precios en USD por metro cuadrado se ubican en en la longitud cercana a -58 y -61\n",
    "my_plot_surface_total = data.plot(\"lon\", \"price_usd_per_m2\", kind=\"scatter\")\n",
    "plt.show()"
   ]
  },
  {
   "cell_type": "code",
   "execution_count": 19,
   "metadata": {},
   "outputs": [
    {
     "data": {
      "image/png": "[encoded data removed]",
      "text/plain": [
       "<Figure size 432x288 with 1 Axes>"
      ]
     },
     "metadata": {
      "needs_background": "light"
     },
     "output_type": "display_data"
    }
   ],
   "source": [
    "#graficamos un plot para visualizar la dispersión del precio por metro cuadrado en dolares por latitud\n",
    "# y observamos como los valores más extremos precios en USD por metro cuadrado se ubican en en la latitud cercana a -35\n",
    "my_plot_surface_total = data.plot(\"lat\", \"price_usd_per_m2\", kind=\"scatter\")\n",
    "plt.show()"
   ]
  },
  {
   "cell_type": "code",
   "execution_count": 6,
   "metadata": {},
   "outputs": [
    {
     "data": {
      "text/plain": [
       "count              68,617.0\n",
       "mean     2,160.086915888256\n",
       "std     2,759.2886214684504\n",
       "min                     0.6\n",
       "25%     1,218.1818181818182\n",
       "50%                 1,800.0\n",
       "75%     2,486.4117647058824\n",
       "max     206,333.33333333328\n",
       "Name: price_usd_per_m2, dtype: float64"
      ]
     },
     "execution_count": 6,
     "metadata": {},
     "output_type": "execute_result"
    }
   ],
   "source": [
    "data.price_usd_per_m2.describe()"
   ]
  },
  {
   "cell_type": "markdown",
   "metadata": {},
   "source": [
    "Detalle de análisis de columnas:\n",
    "* `price_usd_per_m2` -> Esta columna tiene 52.603 datos nulos o su equivalente 43.39%. Consideramos que esta variable es relevante para la proyección, por esta razón consideramos que podriamos completarla realizando diferentes operaciones:\n",
    "1. Extrayendo el dato de las columnas description y title\n",
    "2. Calculando el valor al dividir el precio aprox en usd entre la superficie en m2\n",
    "3. Calculando un valor promedio por metro cuadrado en cada estado para cada tipo de propiedad."
   ]
  },
  {
   "cell_type": "markdown",
   "metadata": {},
   "source": [
    "### Detalle de valores extremos en la  columna `price_usd_per_m2`:\n",
    "\n",
    "En el catplot elaborado para esta variable comparada por tipo de propiedad podemos observar 6 datos que se alejan significativamente de la media principalmente en el tipo de propiedad apartamentos."
   ]
  },
  {
   "cell_type": "code",
   "execution_count": 7,
   "metadata": {},
   "outputs": [
    {
     "data": {
      "text/plain": [
       "<seaborn.axisgrid.FacetGrid at 0x13a6a745580>"
      ]
     },
     "execution_count": 7,
     "metadata": {},
     "output_type": "execute_result"
    },
    {
     "data": {
      "image/png": "[encoded data removed]",
      "text/plain": [
       "<Figure size 1800x360 with 1 Axes>"
      ]
     },
     "metadata": {
      "needs_background": "light"
     },
     "output_type": "display_data"
    }
   ],
   "source": [
    "sns.catplot(data=data, x= 'price_usd_per_m2', y=\"property_type\", kind=\"box\", height=5, aspect=5,)\n"
   ]
  },
  {
   "cell_type": "markdown",
   "metadata": {},
   "source": [
    "Calculo de información a partir de las columnas normalizadas de Superficie y precio aprox en dolares"
   ]
  },
  {
   "cell_type": "code",
   "execution_count": 17,
   "metadata": {},
   "outputs": [
    {
     "ename": "AttributeError",
     "evalue": "'DataFrameGroupBy' object has no attribute 'datos_no_nulos_precio_usd_m2'",
     "output_type": "error",
     "traceback": [
      "\u001b[1;31m---------------------------------------------------------------------------\u001b[0m",
      "\u001b[1;31mAttributeError\u001b[0m                            Traceback (most recent call last)",
      "\u001b[1;32mc:\\Users\\usuario\\Documents\\dh\\DH-TP1-clear-data-properati\\src\\analisis_columnas\\17_price_usd__per_m2.ipynb Celda 10\u001b[0m in \u001b[0;36m<cell line: 2>\u001b[1;34m()\u001b[0m\n\u001b[0;32m      <a href='vscode-notebook-cell:/c%3A/Users/usuario/Documents/dh/DH-TP1-clear-data-properati/src/analisis_columnas/17_price_usd__per_m2.ipynb#X12sZmlsZQ%3D%3D?line=0'>1</a>\u001b[0m datos_no_nulos_precio_usd_m2\u001b[39m=\u001b[39mdata\u001b[39m.\u001b[39mprice_usd_per_m2\u001b[39m.\u001b[39mnotnull()\n\u001b[1;32m----> <a href='vscode-notebook-cell:/c%3A/Users/usuario/Documents/dh/DH-TP1-clear-data-properati/src/analisis_columnas/17_price_usd__per_m2.ipynb#X12sZmlsZQ%3D%3D?line=1'>2</a>\u001b[0m precio_usd_m2_calculado\u001b[39m=\u001b[39mdata\u001b[39m.\u001b[39;49mgroupby(\u001b[39m'\u001b[39;49m\u001b[39mplace_name\u001b[39;49m\u001b[39m'\u001b[39;49m)\u001b[39m.\u001b[39;49mdatos_no_nulos_precio_usd_m2\u001b[39m.\u001b[39mmean()\n\u001b[0;32m      <a href='vscode-notebook-cell:/c%3A/Users/usuario/Documents/dh/DH-TP1-clear-data-properati/src/analisis_columnas/17_price_usd__per_m2.ipynb#X12sZmlsZQ%3D%3D?line=2'>3</a>\u001b[0m \u001b[39mtype\u001b[39m(precio_usd_m2_calculado)\n",
      "File \u001b[1;32mc:\\Users\\usuario\\anaconda3\\envs\\dhdsblend2021\\lib\\site-packages\\pandas\\core\\groupby\\groupby.py:703\u001b[0m, in \u001b[0;36m_GroupBy.__getattr__\u001b[1;34m(self, attr)\u001b[0m\n\u001b[0;32m    700\u001b[0m \u001b[39mif\u001b[39;00m attr \u001b[39min\u001b[39;00m \u001b[39mself\u001b[39m\u001b[39m.\u001b[39mobj:\n\u001b[0;32m    701\u001b[0m     \u001b[39mreturn\u001b[39;00m \u001b[39mself\u001b[39m[attr]\n\u001b[1;32m--> 703\u001b[0m \u001b[39mraise\u001b[39;00m \u001b[39mAttributeError\u001b[39;00m(\n\u001b[0;32m    704\u001b[0m     \u001b[39mf\u001b[39m\u001b[39m\"\u001b[39m\u001b[39m'\u001b[39m\u001b[39m{\u001b[39;00m\u001b[39mtype\u001b[39m(\u001b[39mself\u001b[39m)\u001b[39m.\u001b[39m\u001b[39m__name__\u001b[39m\u001b[39m}\u001b[39;00m\u001b[39m'\u001b[39m\u001b[39m object has no attribute \u001b[39m\u001b[39m'\u001b[39m\u001b[39m{\u001b[39;00mattr\u001b[39m}\u001b[39;00m\u001b[39m'\u001b[39m\u001b[39m\"\u001b[39m\n\u001b[0;32m    705\u001b[0m )\n",
      "\u001b[1;31mAttributeError\u001b[0m: 'DataFrameGroupBy' object has no attribute 'datos_no_nulos_precio_usd_m2'"
     ]
    }
   ],
   "source": [
    "#tomamos los datos no nulos de price_usd_per_m2 para podr calcular la media de esos datos por barrio pero no vamos a tomar todos los datos sino que tomaremos \n",
    "#los datos hasta el quantil 90\n",
    "\n",
    "\n",
    "datos_no_nulos_precio_usd_m2=data.price_usd_per_m2.notnull()\n",
    "precio_usd_m2_calculado=data.groupby('place_name').datos_no_nulos_precio_usd_m2\n",
    "\n",
    "data['price_usd_per_m2'].fillna(data.precio_usd_m2_calculado].mean(), inplace:True)"
   ]
  },
  {
   "cell_type": "markdown",
   "metadata": {},
   "source": [
    "##Calculo de la columna Price_usd_covered_per_m2\n",
    "\n",
    "Calculo de información a partir de las columnas normalizadas de Superficie y precio aprox en dolares"
   ]
  }
 ],
 "metadata": {
  "kernelspec": {
   "display_name": "Python 3.8.13 ('dhdsblend2021')",
   "language": "python",
   "name": "python3"
  },
  "language_info": {
   "codemirror_mode": {
    "name": "ipython",
    "version": 3
   },
   "file_extension": ".py",
   "mimetype": "text/x-python",
   "name": "python",
   "nbconvert_exporter": "python",
   "pygments_lexer": "ipython3",
   "version": "3.8.13"
  },
  "orig_nbformat": 4,
  "vscode": {
   "interpreter": {
    "hash": "efc208fdaa12fe71d644c382e37592789e7715eab6097afaedaaf3f1e1734556"
   }
  }
 },
 "nbformat": 4,
 "nbformat_minor": 2
}
