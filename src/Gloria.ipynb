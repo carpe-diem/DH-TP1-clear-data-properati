{
 "cells": [
  {
   "cell_type": "markdown",
   "metadata": {},
   "source": [
    "# Digital House - Trabajo Práctico Nº1\n",
    "## Desafío 1. Análisis exploratorio de un dataset de precios de propiedades\n",
    "Grupo Nª2\n",
    "Alumnos:\n",
    "* Alberto Paparelli\n",
    "* André Song\n",
    "* Marianela Riz\n",
    "* Gloria Caravajal\n",
    "* Franco Emanuel Rodriguez\n",
    "* Iván Axel Schweizer\n",
    "\n",
    "Objetivos:\n",
    "* Efectuar una limpieza del dataset provisto. Particularmente, deberá diseñar estrategias para lidiar con los datos perdidos en ciertas variables.\n",
    "* Realizar un análisis descriptivo de las principales variables.\n",
    "* Crear nuevas columnas a partir de las características dadas que puedan tener valor\n",
    "predictivo."
   ]
  },
  {
   "cell_type": "markdown",
   "metadata": {},
   "source": [
    "# Exploración de datos"
   ]
  },
  {
   "cell_type": "code",
   "execution_count": 1,
   "metadata": {},
   "outputs": [],
   "source": [
    "# Lo primero que hacemos es importar todas las librerias necesarias.\n",
    "#importamos librerias para tratamiento de datos\n",
    "import numpy as np\n",
    "import pandas as pd\n",
    "pd.options.display.float_format = '{:,}'.format\n",
    "import re\n",
    "import math as mat\n",
    "\n",
    "#importamos librerias la visualizacion de datos\n",
    "import matplotlib.pyplot as plt\n",
    "import seaborn as sns\n",
    "import os\n",
    "%matplotlib inline"
   ]
  },
  {
   "cell_type": "code",
   "execution_count": 2,
   "metadata": {},
   "outputs": [
    {
     "data": {
      "text/html": [
       "<div>\n",
       "<style scoped>\n",
       "    .dataframe tbody tr th:only-of-type {\n",
       "        vertical-align: middle;\n",
       "    }\n",
       "\n",
       "    .dataframe tbody tr th {\n",
       "        vertical-align: top;\n",
       "    }\n",
       "\n",
       "    .dataframe thead th {\n",
       "        text-align: right;\n",
       "    }\n",
       "</style>\n",
       "<table border=\"1\" class=\"dataframe\">\n",
       "  <thead>\n",
       "    <tr style=\"text-align: right;\">\n",
       "      <th></th>\n",
       "      <th>Unnamed: 0</th>\n",
       "      <th>operation</th>\n",
       "      <th>property_type</th>\n",
       "      <th>place_name</th>\n",
       "      <th>place_with_parent_names</th>\n",
       "      <th>country_name</th>\n",
       "      <th>state_name</th>\n",
       "      <th>geonames_id</th>\n",
       "      <th>lat-lon</th>\n",
       "      <th>lat</th>\n",
       "      <th>...</th>\n",
       "      <th>surface_covered_in_m2</th>\n",
       "      <th>price_usd_per_m2</th>\n",
       "      <th>price_per_m2</th>\n",
       "      <th>floor</th>\n",
       "      <th>rooms</th>\n",
       "      <th>expenses</th>\n",
       "      <th>properati_url</th>\n",
       "      <th>description</th>\n",
       "      <th>title</th>\n",
       "      <th>image_thumbnail</th>\n",
       "    </tr>\n",
       "  </thead>\n",
       "  <tbody>\n",
       "    <tr>\n",
       "      <th>14531</th>\n",
       "      <td>14531</td>\n",
       "      <td>sell</td>\n",
       "      <td>PH</td>\n",
       "      <td>Villa Madero</td>\n",
       "      <td>|Argentina|Bs.As. G.B.A. Zona Oeste|La Matanza...</td>\n",
       "      <td>Argentina</td>\n",
       "      <td>Bs.As. G.B.A. Zona Oeste</td>\n",
       "      <td>3,427,405.0</td>\n",
       "      <td>-34.6867376,-58.4965809</td>\n",
       "      <td>-34.6867376</td>\n",
       "      <td>...</td>\n",
       "      <td>81.0</td>\n",
       "      <td>885.4166666666665</td>\n",
       "      <td>1,049.3827160493827</td>\n",
       "      <td>nan</td>\n",
       "      <td>2.0</td>\n",
       "      <td>nan</td>\n",
       "      <td>http://www.properati.com.ar/16shx_venta_ph_vil...</td>\n",
       "      <td>PH tipo casa de 2 ambientes en planta baja con...</td>\n",
       "      <td>PH FTE 2 AMB Garaje Terraza</td>\n",
       "      <td>https://thumbs4.properati.com/7/Cg1vYy7kjlP9iv...</td>\n",
       "    </tr>\n",
       "    <tr>\n",
       "      <th>9111</th>\n",
       "      <td>9111</td>\n",
       "      <td>sell</td>\n",
       "      <td>apartment</td>\n",
       "      <td>CÃ³rdoba</td>\n",
       "      <td>|Argentina|CÃ³rdoba|</td>\n",
       "      <td>Argentina</td>\n",
       "      <td>CÃ³rdoba</td>\n",
       "      <td>3,860,255.0</td>\n",
       "      <td>-31.4011809,-64.165956</td>\n",
       "      <td>-31.4011809</td>\n",
       "      <td>...</td>\n",
       "      <td>nan</td>\n",
       "      <td>nan</td>\n",
       "      <td>nan</td>\n",
       "      <td>nan</td>\n",
       "      <td>nan</td>\n",
       "      <td>nan</td>\n",
       "      <td>http://www.properati.com.ar/162zc_venta_depart...</td>\n",
       "      <td>CODIGO: 2242-MAR69 ubicado en: COCHABAMBA 1684...</td>\n",
       "      <td>CON ESCRITURA! Excelente UbicaciÃ³n y Buen Pre...</td>\n",
       "      <td>https://thumbs4.properati.com/7/AtIW5FVH65oOg8...</td>\n",
       "    </tr>\n",
       "    <tr>\n",
       "      <th>105537</th>\n",
       "      <td>105537</td>\n",
       "      <td>sell</td>\n",
       "      <td>house</td>\n",
       "      <td>Burzaco</td>\n",
       "      <td>|Argentina|Bs.As. G.B.A. Zona Sur|Almirante Br...</td>\n",
       "      <td>Argentina</td>\n",
       "      <td>Bs.As. G.B.A. Zona Sur</td>\n",
       "      <td>3,435,894.0</td>\n",
       "      <td>-34.8343988,-58.3881726</td>\n",
       "      <td>-34.834398799999995</td>\n",
       "      <td>...</td>\n",
       "      <td>nan</td>\n",
       "      <td>nan</td>\n",
       "      <td>nan</td>\n",
       "      <td>nan</td>\n",
       "      <td>nan</td>\n",
       "      <td>nan</td>\n",
       "      <td>http://www.properati.com.ar/1buua_venta_casa_b...</td>\n",
       "      <td>CODIGO: 2484-FB0108 ubicado en: Etchegoyen 23 ...</td>\n",
       "      <td>BURZACO : MUY LINDA CASA C/DPTO AL FONDO Y GAR...</td>\n",
       "      <td>https://thumbs4.properati.com/4/wKUbV5ALFNC29t...</td>\n",
       "    </tr>\n",
       "    <tr>\n",
       "      <th>96682</th>\n",
       "      <td>96682</td>\n",
       "      <td>sell</td>\n",
       "      <td>apartment</td>\n",
       "      <td>MorÃ³n</td>\n",
       "      <td>|Argentina|Bs.As. G.B.A. Zona Oeste|MorÃ³n|Mor...</td>\n",
       "      <td>Argentina</td>\n",
       "      <td>Bs.As. G.B.A. Zona Oeste</td>\n",
       "      <td>3,430,544.0</td>\n",
       "      <td>NaN</td>\n",
       "      <td>nan</td>\n",
       "      <td>...</td>\n",
       "      <td>44.0</td>\n",
       "      <td>1,367.34693877551</td>\n",
       "      <td>1,522.7272727272727</td>\n",
       "      <td>nan</td>\n",
       "      <td>nan</td>\n",
       "      <td>nan</td>\n",
       "      <td>http://www.properati.com.ar/1bj1f_venta_depart...</td>\n",
       "      <td>Excelente proyecto ubicado en la c...</td>\n",
       "      <td>Departamento en Moron</td>\n",
       "      <td>https://thumbs4.properati.com/1/9hhpwMVhhDs660...</td>\n",
       "    </tr>\n",
       "    <tr>\n",
       "      <th>61453</th>\n",
       "      <td>61453</td>\n",
       "      <td>sell</td>\n",
       "      <td>apartment</td>\n",
       "      <td>San Miguel</td>\n",
       "      <td>|Argentina|Bs.As. G.B.A. Zona Norte|San Miguel|</td>\n",
       "      <td>Argentina</td>\n",
       "      <td>Bs.As. G.B.A. Zona Norte</td>\n",
       "      <td>nan</td>\n",
       "      <td>-34.5364264,-58.7224603</td>\n",
       "      <td>-34.5364264</td>\n",
       "      <td>...</td>\n",
       "      <td>nan</td>\n",
       "      <td>1,458.333333333333</td>\n",
       "      <td>nan</td>\n",
       "      <td>nan</td>\n",
       "      <td>nan</td>\n",
       "      <td>nan</td>\n",
       "      <td>http://www.properati.com.ar/1a5gy_venta_depart...</td>\n",
       "      <td>Venta de Departamento 3 AMBIENTES, San MiguelD...</td>\n",
       "      <td>DEPARTAMENTO EN VENTA</td>\n",
       "      <td>https://thumbs4.properati.com/0/SWz9mNDlqhvoFP...</td>\n",
       "    </tr>\n",
       "    <tr>\n",
       "      <th>60509</th>\n",
       "      <td>60509</td>\n",
       "      <td>sell</td>\n",
       "      <td>house</td>\n",
       "      <td>Rosario</td>\n",
       "      <td>|Argentina|Santa Fe|Rosario|</td>\n",
       "      <td>Argentina</td>\n",
       "      <td>Santa Fe</td>\n",
       "      <td>3,838,574.0</td>\n",
       "      <td>-32.9547814,-60.7199385</td>\n",
       "      <td>-32.9547814</td>\n",
       "      <td>...</td>\n",
       "      <td>115.0</td>\n",
       "      <td>224.33466666666664</td>\n",
       "      <td>5,217.391304347826</td>\n",
       "      <td>nan</td>\n",
       "      <td>2.0</td>\n",
       "      <td>nan</td>\n",
       "      <td>http://www.properati.com.ar/1a3qn_venta_casa_r...</td>\n",
       "      <td>2 DORMITORIOS LIVING, COMEDOR, COCINA, PATIO  ...</td>\n",
       "      <td>VENTA CASA FRENTE RIOBANBA 7385</td>\n",
       "      <td>https://thumbs4.properati.com/7/-YindAg6CqK4Iv...</td>\n",
       "    </tr>\n",
       "  </tbody>\n",
       "</table>\n",
       "<p>6 rows × 26 columns</p>\n",
       "</div>"
      ],
      "text/plain": [
       "        Unnamed: 0 operation property_type    place_name  \\\n",
       "14531        14531      sell            PH  Villa Madero   \n",
       "9111          9111      sell     apartment      CÃ³rdoba   \n",
       "105537      105537      sell         house       Burzaco   \n",
       "96682        96682      sell     apartment        MorÃ³n   \n",
       "61453        61453      sell     apartment    San Miguel   \n",
       "60509        60509      sell         house       Rosario   \n",
       "\n",
       "                                  place_with_parent_names country_name  \\\n",
       "14531   |Argentina|Bs.As. G.B.A. Zona Oeste|La Matanza...    Argentina   \n",
       "9111                                 |Argentina|CÃ³rdoba|    Argentina   \n",
       "105537  |Argentina|Bs.As. G.B.A. Zona Sur|Almirante Br...    Argentina   \n",
       "96682   |Argentina|Bs.As. G.B.A. Zona Oeste|MorÃ³n|Mor...    Argentina   \n",
       "61453     |Argentina|Bs.As. G.B.A. Zona Norte|San Miguel|    Argentina   \n",
       "60509                        |Argentina|Santa Fe|Rosario|    Argentina   \n",
       "\n",
       "                      state_name  geonames_id                  lat-lon  \\\n",
       "14531   Bs.As. G.B.A. Zona Oeste  3,427,405.0  -34.6867376,-58.4965809   \n",
       "9111                    CÃ³rdoba  3,860,255.0   -31.4011809,-64.165956   \n",
       "105537    Bs.As. G.B.A. Zona Sur  3,435,894.0  -34.8343988,-58.3881726   \n",
       "96682   Bs.As. G.B.A. Zona Oeste  3,430,544.0                      NaN   \n",
       "61453   Bs.As. G.B.A. Zona Norte          nan  -34.5364264,-58.7224603   \n",
       "60509                   Santa Fe  3,838,574.0  -32.9547814,-60.7199385   \n",
       "\n",
       "                       lat  ...  surface_covered_in_m2   price_usd_per_m2  \\\n",
       "14531          -34.6867376  ...                   81.0  885.4166666666665   \n",
       "9111           -31.4011809  ...                    nan                nan   \n",
       "105537 -34.834398799999995  ...                    nan                nan   \n",
       "96682                  nan  ...                   44.0  1,367.34693877551   \n",
       "61453          -34.5364264  ...                    nan 1,458.333333333333   \n",
       "60509          -32.9547814  ...                  115.0 224.33466666666664   \n",
       "\n",
       "              price_per_m2  floor  rooms  expenses  \\\n",
       "14531  1,049.3827160493827    nan    2.0       nan   \n",
       "9111                   nan    nan    nan       nan   \n",
       "105537                 nan    nan    nan       nan   \n",
       "96682  1,522.7272727272727    nan    nan       nan   \n",
       "61453                  nan    nan    nan       nan   \n",
       "60509   5,217.391304347826    nan    2.0       nan   \n",
       "\n",
       "                                            properati_url  \\\n",
       "14531   http://www.properati.com.ar/16shx_venta_ph_vil...   \n",
       "9111    http://www.properati.com.ar/162zc_venta_depart...   \n",
       "105537  http://www.properati.com.ar/1buua_venta_casa_b...   \n",
       "96682   http://www.properati.com.ar/1bj1f_venta_depart...   \n",
       "61453   http://www.properati.com.ar/1a5gy_venta_depart...   \n",
       "60509   http://www.properati.com.ar/1a3qn_venta_casa_r...   \n",
       "\n",
       "                                              description  \\\n",
       "14531   PH tipo casa de 2 ambientes en planta baja con...   \n",
       "9111    CODIGO: 2242-MAR69 ubicado en: COCHABAMBA 1684...   \n",
       "105537  CODIGO: 2484-FB0108 ubicado en: Etchegoyen 23 ...   \n",
       "96682               Excelente proyecto ubicado en la c...   \n",
       "61453   Venta de Departamento 3 AMBIENTES, San MiguelD...   \n",
       "60509   2 DORMITORIOS LIVING, COMEDOR, COCINA, PATIO  ...   \n",
       "\n",
       "                                                    title  \\\n",
       "14531                         PH FTE 2 AMB Garaje Terraza   \n",
       "9111    CON ESCRITURA! Excelente UbicaciÃ³n y Buen Pre...   \n",
       "105537  BURZACO : MUY LINDA CASA C/DPTO AL FONDO Y GAR...   \n",
       "96682                               Departamento en Moron   \n",
       "61453                               DEPARTAMENTO EN VENTA   \n",
       "60509                    VENTA CASA FRENTE RIOBANBA 7385    \n",
       "\n",
       "                                          image_thumbnail  \n",
       "14531   https://thumbs4.properati.com/7/Cg1vYy7kjlP9iv...  \n",
       "9111    https://thumbs4.properati.com/7/AtIW5FVH65oOg8...  \n",
       "105537  https://thumbs4.properati.com/4/wKUbV5ALFNC29t...  \n",
       "96682   https://thumbs4.properati.com/1/9hhpwMVhhDs660...  \n",
       "61453   https://thumbs4.properati.com/0/SWz9mNDlqhvoFP...  \n",
       "60509   https://thumbs4.properati.com/7/-YindAg6CqK4Iv...  \n",
       "\n",
       "[6 rows x 26 columns]"
      ]
     },
     "metadata": {},
     "output_type": "display_data"
    },
    {
     "name": "stdout",
     "output_type": "stream",
     "text": [
      "(Cantidad de Filas, Cantidad de columnas) -> (121220, 26)\n"
     ]
    }
   ],
   "source": [
    "# Abrimos el dataset y hacemos un chequeo para saber cantidad de registros y miramos la composición del mismo, para ello vamos a seleccionar una muestra de datos.\n",
    "filename = \"../dataset/properati.csv\"\n",
    "data = pd.read_csv(filename, encoding='Latin1', sep=\",\")\n",
    "display(data.sample(n=6))\n",
    "print(f\"(Cantidad de Filas, Cantidad de columnas) -> {data.shape}\")"
   ]
  },
  {
   "cell_type": "markdown",
   "metadata": {},
   "source": [
    "#Realizamos un analisis general de los datos"
   ]
  },
  {
   "cell_type": "code",
   "execution_count": 3,
   "metadata": {},
   "outputs": [
    {
     "data": {
      "text/html": [
       "<div>\n",
       "<style scoped>\n",
       "    .dataframe tbody tr th:only-of-type {\n",
       "        vertical-align: middle;\n",
       "    }\n",
       "\n",
       "    .dataframe tbody tr th {\n",
       "        vertical-align: top;\n",
       "    }\n",
       "\n",
       "    .dataframe thead th {\n",
       "        text-align: right;\n",
       "    }\n",
       "</style>\n",
       "<table border=\"1\" class=\"dataframe\">\n",
       "  <thead>\n",
       "    <tr style=\"text-align: right;\">\n",
       "      <th></th>\n",
       "      <th>Unnamed: 0</th>\n",
       "      <th>geonames_id</th>\n",
       "      <th>lat</th>\n",
       "      <th>lon</th>\n",
       "      <th>price</th>\n",
       "      <th>price_aprox_local_currency</th>\n",
       "      <th>price_aprox_usd</th>\n",
       "      <th>surface_total_in_m2</th>\n",
       "      <th>surface_covered_in_m2</th>\n",
       "      <th>price_usd_per_m2</th>\n",
       "      <th>price_per_m2</th>\n",
       "      <th>floor</th>\n",
       "      <th>rooms</th>\n",
       "      <th>expenses</th>\n",
       "    </tr>\n",
       "  </thead>\n",
       "  <tbody>\n",
       "    <tr>\n",
       "      <th>count</th>\n",
       "      <td>121,220.0</td>\n",
       "      <td>102,503.0</td>\n",
       "      <td>69,670.0</td>\n",
       "      <td>69,670.0</td>\n",
       "      <td>100,810.0</td>\n",
       "      <td>100,810.0</td>\n",
       "      <td>100,810.0</td>\n",
       "      <td>81,892.0</td>\n",
       "      <td>101,313.0</td>\n",
       "      <td>68,617.0</td>\n",
       "      <td>87,658.0</td>\n",
       "      <td>7,899.0</td>\n",
       "      <td>47,390.0</td>\n",
       "      <td>14,262.0</td>\n",
       "    </tr>\n",
       "    <tr>\n",
       "      <th>mean</th>\n",
       "      <td>60,609.5</td>\n",
       "      <td>3,574,442.317893135</td>\n",
       "      <td>-34.62620984295557</td>\n",
       "      <td>-59.26628952225032</td>\n",
       "      <td>468,525.92544390436</td>\n",
       "      <td>4,229,396.828742585</td>\n",
       "      <td>239,700.5769284793</td>\n",
       "      <td>233.79532799296635</td>\n",
       "      <td>133.05018112186985</td>\n",
       "      <td>2,160.086915888256</td>\n",
       "      <td>6,912.215704519683</td>\n",
       "      <td>17.4523357387011</td>\n",
       "      <td>3.080839839628614</td>\n",
       "      <td>5,009.2344692189035</td>\n",
       "    </tr>\n",
       "    <tr>\n",
       "      <th>std</th>\n",
       "      <td>34,993.34415285284</td>\n",
       "      <td>354,130.6241567996</td>\n",
       "      <td>1.9809362513227842</td>\n",
       "      <td>2.2999223901611723</td>\n",
       "      <td>2,260,100.589128372</td>\n",
       "      <td>6,904,714.125573507</td>\n",
       "      <td>391,323.8757320808</td>\n",
       "      <td>1,782.2221470053162</td>\n",
       "      <td>724.3514788261274</td>\n",
       "      <td>2,759.2886214684504</td>\n",
       "      <td>28,378.644733892193</td>\n",
       "      <td>120.24362077401646</td>\n",
       "      <td>1.8607731130936809</td>\n",
       "      <td>120,440.25565008624</td>\n",
       "    </tr>\n",
       "    <tr>\n",
       "      <th>min</th>\n",
       "      <td>0.0</td>\n",
       "      <td>3,427,208.0</td>\n",
       "      <td>-54.82398489999999</td>\n",
       "      <td>-75.67893099</td>\n",
       "      <td>0.0</td>\n",
       "      <td>0.0</td>\n",
       "      <td>0.0</td>\n",
       "      <td>0.0</td>\n",
       "      <td>0.0</td>\n",
       "      <td>0.6</td>\n",
       "      <td>1.5102040816326532</td>\n",
       "      <td>1.0</td>\n",
       "      <td>1.0</td>\n",
       "      <td>1.0</td>\n",
       "    </tr>\n",
       "    <tr>\n",
       "      <th>25%</th>\n",
       "      <td>30,304.75</td>\n",
       "      <td>3,430,234.0</td>\n",
       "      <td>-34.669065</td>\n",
       "      <td>-58.727040349999996</td>\n",
       "      <td>110,000.0</td>\n",
       "      <td>1,583,309.44</td>\n",
       "      <td>89,733.88</td>\n",
       "      <td>50.0</td>\n",
       "      <td>45.0</td>\n",
       "      <td>1,218.1818181818182</td>\n",
       "      <td>1,550.0</td>\n",
       "      <td>1.0</td>\n",
       "      <td>2.0</td>\n",
       "      <td>1,000.0</td>\n",
       "    </tr>\n",
       "    <tr>\n",
       "      <th>50%</th>\n",
       "      <td>60,609.5</td>\n",
       "      <td>3,433,910.0</td>\n",
       "      <td>-34.597985113</td>\n",
       "      <td>-58.4801284</td>\n",
       "      <td>185,000.0</td>\n",
       "      <td>2,558,452.5</td>\n",
       "      <td>145,000.0</td>\n",
       "      <td>84.0</td>\n",
       "      <td>75.0</td>\n",
       "      <td>1,800.0</td>\n",
       "      <td>2,213.114754098361</td>\n",
       "      <td>3.0</td>\n",
       "      <td>3.0</td>\n",
       "      <td>2,000.0</td>\n",
       "    </tr>\n",
       "    <tr>\n",
       "      <th>75%</th>\n",
       "      <td>90,914.25</td>\n",
       "      <td>3,836,668.0</td>\n",
       "      <td>-34.441299275</td>\n",
       "      <td>-58.395907675000004</td>\n",
       "      <td>420,000.0</td>\n",
       "      <td>4,675,792.5</td>\n",
       "      <td>265,000.0</td>\n",
       "      <td>200.0</td>\n",
       "      <td>150.0</td>\n",
       "      <td>2,486.4117647058824</td>\n",
       "      <td>3,355.5486111111113</td>\n",
       "      <td>6.0</td>\n",
       "      <td>4.0</td>\n",
       "      <td>4,000.0</td>\n",
       "    </tr>\n",
       "    <tr>\n",
       "      <th>max</th>\n",
       "      <td>121,219.0</td>\n",
       "      <td>6,948,895.0</td>\n",
       "      <td>4.5458426</td>\n",
       "      <td>-53.73332979999999</td>\n",
       "      <td>650,000,000.0</td>\n",
       "      <td>821,271,104.3</td>\n",
       "      <td>46,545,445.0</td>\n",
       "      <td>200,000.0</td>\n",
       "      <td>187,000.0</td>\n",
       "      <td>206,333.33333333328</td>\n",
       "      <td>3,999,999.96</td>\n",
       "      <td>3,150.0</td>\n",
       "      <td>32.0</td>\n",
       "      <td>10,001,500.0</td>\n",
       "    </tr>\n",
       "  </tbody>\n",
       "</table>\n",
       "</div>"
      ],
      "text/plain": [
       "              Unnamed: 0         geonames_id                lat  \\\n",
       "count          121,220.0           102,503.0           69,670.0   \n",
       "mean            60,609.5 3,574,442.317893135 -34.62620984295557   \n",
       "std   34,993.34415285284  354,130.6241567996 1.9809362513227842   \n",
       "min                  0.0         3,427,208.0 -54.82398489999999   \n",
       "25%            30,304.75         3,430,234.0         -34.669065   \n",
       "50%             60,609.5         3,433,910.0      -34.597985113   \n",
       "75%            90,914.25         3,836,668.0      -34.441299275   \n",
       "max            121,219.0         6,948,895.0          4.5458426   \n",
       "\n",
       "                      lon               price  price_aprox_local_currency  \\\n",
       "count            69,670.0           100,810.0                   100,810.0   \n",
       "mean   -59.26628952225032 468,525.92544390436         4,229,396.828742585   \n",
       "std    2.2999223901611723 2,260,100.589128372         6,904,714.125573507   \n",
       "min          -75.67893099                 0.0                         0.0   \n",
       "25%   -58.727040349999996           110,000.0                1,583,309.44   \n",
       "50%           -58.4801284           185,000.0                 2,558,452.5   \n",
       "75%   -58.395907675000004           420,000.0                 4,675,792.5   \n",
       "max    -53.73332979999999       650,000,000.0               821,271,104.3   \n",
       "\n",
       "         price_aprox_usd  surface_total_in_m2  surface_covered_in_m2  \\\n",
       "count          100,810.0             81,892.0              101,313.0   \n",
       "mean  239,700.5769284793   233.79532799296635     133.05018112186985   \n",
       "std   391,323.8757320808  1,782.2221470053162      724.3514788261274   \n",
       "min                  0.0                  0.0                    0.0   \n",
       "25%            89,733.88                 50.0                   45.0   \n",
       "50%            145,000.0                 84.0                   75.0   \n",
       "75%            265,000.0                200.0                  150.0   \n",
       "max         46,545,445.0            200,000.0              187,000.0   \n",
       "\n",
       "         price_usd_per_m2        price_per_m2              floor  \\\n",
       "count            68,617.0            87,658.0            7,899.0   \n",
       "mean   2,160.086915888256  6,912.215704519683   17.4523357387011   \n",
       "std   2,759.2886214684504 28,378.644733892193 120.24362077401646   \n",
       "min                   0.6  1.5102040816326532                1.0   \n",
       "25%   1,218.1818181818182             1,550.0                1.0   \n",
       "50%               1,800.0  2,213.114754098361                3.0   \n",
       "75%   2,486.4117647058824 3,355.5486111111113                6.0   \n",
       "max   206,333.33333333328        3,999,999.96            3,150.0   \n",
       "\n",
       "                   rooms            expenses  \n",
       "count           47,390.0            14,262.0  \n",
       "mean   3.080839839628614 5,009.2344692189035  \n",
       "std   1.8607731130936809 120,440.25565008624  \n",
       "min                  1.0                 1.0  \n",
       "25%                  2.0             1,000.0  \n",
       "50%                  3.0             2,000.0  \n",
       "75%                  4.0             4,000.0  \n",
       "max                 32.0        10,001,500.0  "
      ]
     },
     "execution_count": 3,
     "metadata": {},
     "output_type": "execute_result"
    }
   ],
   "source": [
    "#empleamos la función describe para identificar las principales variables estadisticas de cada columna.\n",
    "\n",
    "data.describe()"
   ]
  },
  {
   "cell_type": "code",
   "execution_count": null,
   "metadata": {},
   "outputs": [],
   "source": [
    "data.price_aprox_usd"
   ]
  },
  {
   "cell_type": "code",
   "execution_count": 4,
   "metadata": {},
   "outputs": [
    {
     "name": "stdout",
     "output_type": "stream",
     "text": [
      "<class 'pandas.core.frame.DataFrame'>\n",
      "RangeIndex: 121220 entries, 0 to 121219\n",
      "Data columns (total 26 columns):\n",
      " #   Column                      Non-Null Count   Dtype  \n",
      "---  ------                      --------------   -----  \n",
      " 0   Unnamed: 0                  121220 non-null  int64  \n",
      " 1   operation                   121220 non-null  object \n",
      " 2   property_type               121220 non-null  object \n",
      " 3   place_name                  121197 non-null  object \n",
      " 4   place_with_parent_names     121220 non-null  object \n",
      " 5   country_name                121220 non-null  object \n",
      " 6   state_name                  121220 non-null  object \n",
      " 7   geonames_id                 102503 non-null  float64\n",
      " 8   lat-lon                     69670 non-null   object \n",
      " 9   lat                         69670 non-null   float64\n",
      " 10  lon                         69670 non-null   float64\n",
      " 11  price                       100810 non-null  float64\n",
      " 12  currency                    100809 non-null  object \n",
      " 13  price_aprox_local_currency  100810 non-null  float64\n",
      " 14  price_aprox_usd             100810 non-null  float64\n",
      " 15  surface_total_in_m2         81892 non-null   float64\n",
      " 16  surface_covered_in_m2       101313 non-null  float64\n",
      " 17  price_usd_per_m2            68617 non-null   float64\n",
      " 18  price_per_m2                87658 non-null   float64\n",
      " 19  floor                       7899 non-null    float64\n",
      " 20  rooms                       47390 non-null   float64\n",
      " 21  expenses                    14262 non-null   float64\n",
      " 22  properati_url               121220 non-null  object \n",
      " 23  description                 121218 non-null  object \n",
      " 24  title                       121220 non-null  object \n",
      " 25  image_thumbnail             118108 non-null  object \n",
      "dtypes: float64(13), int64(1), object(12)\n",
      "memory usage: 24.0+ MB\n"
     ]
    }
   ],
   "source": [
    "#empleamos la función info para identificar los tipos de datos de cada columna y a la vez la cantidad de datos no nulos por columna.\n",
    "pd.set_option('display.max_rows', 100)\n",
    "data.info()"
   ]
  },
  {
   "cell_type": "code",
   "execution_count": 5,
   "metadata": {},
   "outputs": [
    {
     "data": {
      "text/plain": [
       "Unnamed: 0                         0\n",
       "operation                          0\n",
       "property_type                      0\n",
       "place_name                        23\n",
       "place_with_parent_names            0\n",
       "country_name                       0\n",
       "state_name                         0\n",
       "geonames_id                    18717\n",
       "lat-lon                        51550\n",
       "lat                            51550\n",
       "lon                            51550\n",
       "price                          20410\n",
       "currency                       20411\n",
       "price_aprox_local_currency     20410\n",
       "price_aprox_usd                20410\n",
       "surface_total_in_m2            39328\n",
       "surface_covered_in_m2          19907\n",
       "price_usd_per_m2               52603\n",
       "price_per_m2                   33562\n",
       "floor                         113321\n",
       "rooms                          73830\n",
       "expenses                      106958\n",
       "properati_url                      0\n",
       "description                        2\n",
       "title                              0\n",
       "image_thumbnail                 3112\n",
       "dtype: int64"
      ]
     },
     "execution_count": 5,
     "metadata": {},
     "output_type": "execute_result"
    }
   ],
   "source": [
    "#empleamos la funcion isnull para identificar los datos nulos por columna\n",
    "data.isnull().sum()"
   ]
  },
  {
   "cell_type": "code",
   "execution_count": 6,
   "metadata": {},
   "outputs": [
    {
     "data": {
      "text/plain": [
       "Unnamed: 0                                    0.0\n",
       "operation                                     0.0\n",
       "property_type                                 0.0\n",
       "place_name                   0.018973766705164163\n",
       "place_with_parent_names                       0.0\n",
       "country_name                                  0.0\n",
       "state_name                                    0.0\n",
       "geonames_id                    15.440521366111204\n",
       "lat-lon                         42.52598581092229\n",
       "lat                             42.52598581092229\n",
       "lon                             42.52598581092229\n",
       "price                          16.837155584886982\n",
       "currency                        16.83798053126547\n",
       "price_aprox_local_currency     16.837155584886982\n",
       "price_aprox_usd                16.837155584886982\n",
       "surface_total_in_m2             32.44349117307375\n",
       "surface_covered_in_m2          16.422207556508827\n",
       "price_usd_per_m2               43.394654347467416\n",
       "price_per_m2                   27.686850354726943\n",
       "floor                           93.48374855634384\n",
       "rooms                           60.90579112357697\n",
       "expenses                        88.23461475004125\n",
       "properati_url                                 0.0\n",
       "description                  0.001649892756970797\n",
       "title                                         0.0\n",
       "image_thumbnail                  2.56723312984656\n",
       "dtype: float64"
      ]
     },
     "execution_count": 6,
     "metadata": {},
     "output_type": "execute_result"
    }
   ],
   "source": [
    "#empleamos la funcion isnull junto con mean para identificar los datos nulos por columna\n",
    "data.isnull().mean()*100"
   ]
  },
  {
   "cell_type": "markdown",
   "metadata": {},
   "source": [
    "# TODO \n",
    "completar análisis de columnas: que columnas hay y que significan cada una.\n"
   ]
  },
  {
   "cell_type": "markdown",
   "metadata": {},
   "source": [
    "Analizamos contenido de cada una de las columnas"
   ]
  },
  {
   "cell_type": "code",
   "execution_count": 7,
   "metadata": {},
   "outputs": [
    {
     "name": "stdout",
     "output_type": "stream",
     "text": [
      "Cantidad de registros con NaN: 20410\n",
      "Porcentaje de registros con NaN: 16.837155584886982\n",
      "Contamos cantidad de registros unicos:\n",
      "       price_aprox_local_currency  count\n",
      "0                             0.0      1\n",
      "1                       82,340.17      1\n",
      "2                        87,383.5      1\n",
      "3                        88,222.5      2\n",
      "4                       89,061.14      5\n",
      "...                           ...    ...\n",
      "10359               282,312,000.0      1\n",
      "10360               344,067,750.0      1\n",
      "10361              405,477,284.73      1\n",
      "10362               441,112,500.0      1\n",
      "10363               821,271,104.3      1\n",
      "\n",
      "[10364 rows x 2 columns]\n"
     ]
    }
   ],
   "source": [
    "# Columna price_aprox_local_currency: revisamos que opciones tiene, o si se repite lo mismo.\n",
    "print(f'Cantidad de registros con NaN: {data.price_aprox_local_currency.isnull().sum()}')\n",
    "print(f'Porcentaje de registros con NaN: {data.price_aprox_local_currency.isnull().mean()*100}')\n",
    "print(\"Contamos cantidad de registros unicos:\")\n",
    "print(data.groupby(['price_aprox_local_currency']).size().reset_index(name='count'))"
   ]
  },
  {
   "cell_type": "code",
   "execution_count": 8,
   "metadata": {},
   "outputs": [
    {
     "data": {
      "text/plain": [
       "<AxesSubplot:xlabel='property_type'>"
      ]
     },
     "execution_count": 8,
     "metadata": {},
     "output_type": "execute_result"
    },
    {
     "data": {
      "image/png": "[encoded data removed]",
      "text/plain": [
       "<Figure size 432x288 with 1 Axes>"
      ]
     },
     "metadata": {
      "needs_background": "light"
     },
     "output_type": "display_data"
    }
   ],
   "source": [
    "data.groupby('property_type')['price_aprox_local_currency'].mean().plot.bar()"
   ]
  },
  {
   "cell_type": "markdown",
   "metadata": {},
   "source": [
    "Detalle de análisis de columnas:\n",
    "* `price_aprox_local_currency` -> Esta columna tiene 20.410 datos nulos o su equivalente 16,83%. Consideramos que esta variable es relevante para la proyección, y podriamos completarla realizando diferentes operaciones:\n",
    "1. Extrayendo este dato de las columnas description y title\n",
    "2. Diviendo el precio total en usd por el precio del metro cuadrado\n",
    " "
   ]
  },
  {
   "cell_type": "code",
   "execution_count": 9,
   "metadata": {},
   "outputs": [
    {
     "name": "stdout",
     "output_type": "stream",
     "text": [
      "Cantidad de registros con NaN: 20410\n",
      "Porcentaje de registros con NaN: 16.837155584886982\n",
      "Contamos cantidad de registros unicos:\n",
      "       price_aprox_usd  count\n",
      "0                  0.0      1\n",
      "1             4,666.62      1\n",
      "2             4,952.45      1\n",
      "3              5,000.0      2\n",
      "4             5,047.53      5\n",
      "...                ...    ...\n",
      "10359     16,000,000.0      1\n",
      "10360     19,500,000.0      1\n",
      "10361    22,980,378.29      1\n",
      "10362     25,000,000.0      1\n",
      "10363     46,545,445.0      1\n",
      "\n",
      "[10364 rows x 2 columns]\n"
     ]
    },
    {
     "data": {
      "text/plain": [
       "<AxesSubplot:>"
      ]
     },
     "execution_count": 9,
     "metadata": {},
     "output_type": "execute_result"
    },
    {
     "data": {
      "image/png": "[encoded data removed]",
      "text/plain": [
       "<Figure size 432x288 with 1 Axes>"
      ]
     },
     "metadata": {
      "needs_background": "light"
     },
     "output_type": "display_data"
    }
   ],
   "source": [
    "# Columna price_aprox_usd: revisamos que opciones tiene, o si se repite lo mismo.\n",
    "print(f'Cantidad de registros con NaN: {data.price_aprox_usd.isnull().sum()}')\n",
    "print(f'Porcentaje de registros con NaN: {data.price_aprox_usd.isnull().mean()*100}')\n",
    "print(\"Contamos cantidad de registros unicos:\")\n",
    "print(data.groupby(['price_aprox_usd']).size().reset_index(name='count'))\n",
    "data.price_aprox_usd.hist()"
   ]
  },
  {
   "cell_type": "code",
   "execution_count": 10,
   "metadata": {},
   "outputs": [
    {
     "data": {
      "text/plain": [
       "<AxesSubplot:xlabel='property_type'>"
      ]
     },
     "execution_count": 10,
     "metadata": {},
     "output_type": "execute_result"
    },
    {
     "data": {
      "image/png": "[encoded data removed]",
      "text/plain": [
       "<Figure size 432x288 with 1 Axes>"
      ]
     },
     "metadata": {
      "needs_background": "light"
     },
     "output_type": "display_data"
    }
   ],
   "source": [
    "data.groupby('property_type')['price_aprox_usd'].mean().plot.bar()"
   ]
  },
  {
   "cell_type": "code",
   "execution_count": null,
   "metadata": {},
   "outputs": [],
   "source": []
  },
  {
   "cell_type": "markdown",
   "metadata": {},
   "source": [
    "Detalle de análisis de columnas:\n",
    "* `price_aprox_usd` -> Esta columna tiene 20.410 datos nulos o su equivalente 16.83%. Consideramos que esta variable es relevante para la proyección, y podriamos completarla realizando diferentes operaciones:\n",
    "1. Extrayendo este dato de las columnas description y title\n",
    "2. Diviendo el precio total en usd por el precio del metro cuadrado"
   ]
  },
  {
   "cell_type": "code",
   "execution_count": 11,
   "metadata": {},
   "outputs": [
    {
     "name": "stdout",
     "output_type": "stream",
     "text": [
      "Cantidad de registros con NaN: 39328\n",
      "Porcentaje de registros con NaN: 32.44349117307375\n",
      "Contamos cantidad de registros unicos:\n",
      "      surface_total_in_m2  count\n",
      "0                     0.0    383\n",
      "1                    10.0     21\n",
      "2                    11.0      8\n",
      "3                    12.0     12\n",
      "4                    13.0      6\n",
      "...                   ...    ...\n",
      "1682            100,350.0      1\n",
      "1683            107,000.0      4\n",
      "1684            110,000.0      3\n",
      "1685            154,438.0      1\n",
      "1686            200,000.0      2\n",
      "\n",
      "[1687 rows x 2 columns]\n"
     ]
    }
   ],
   "source": [
    "# Columna surface_total_in_m2: revisamos que opciones tiene, o si se repite lo mismo.\n",
    "print(f'Cantidad de registros con NaN: {data.surface_total_in_m2.isnull().sum()}')\n",
    "print(f'Porcentaje de registros con NaN: {data.surface_total_in_m2.isnull().mean()*100}')\n",
    "print(\"Contamos cantidad de registros unicos:\")\n",
    "print(data.groupby(['surface_total_in_m2']).size().reset_index(name='count'))"
   ]
  },
  {
   "cell_type": "code",
   "execution_count": 12,
   "metadata": {},
   "outputs": [
    {
     "data": {
      "text/plain": [
       "<AxesSubplot:xlabel='state_name'>"
      ]
     },
     "execution_count": 12,
     "metadata": {},
     "output_type": "execute_result"
    },
    {
     "data": {
      "image/png": "[encoded data removed]",
      "text/plain": [
       "<Figure size 432x288 with 1 Axes>"
      ]
     },
     "metadata": {
      "needs_background": "light"
     },
     "output_type": "display_data"
    }
   ],
   "source": [
    "data.groupby('state_name')['surface_total_in_m2'].mean().plot.bar()"
   ]
  },
  {
   "cell_type": "markdown",
   "metadata": {},
   "source": []
  },
  {
   "cell_type": "code",
   "execution_count": 13,
   "metadata": {},
   "outputs": [
    {
     "name": "stdout",
     "output_type": "stream",
     "text": [
      "Cantidad de registros con NaN: 19907\n",
      "Porcentaje de registros con NaN: 16.422207556508827\n",
      "Contamos cantidad de registros unicos:\n",
      "     surface_covered_in_m2  count\n",
      "0                      0.0      2\n",
      "1                      1.0    367\n",
      "2                      2.0     12\n",
      "3                      3.0      7\n",
      "4                      4.0     10\n",
      "..                     ...    ...\n",
      "990               30,000.0      1\n",
      "991               35,000.0      1\n",
      "992               38,240.0      1\n",
      "993               49,000.0      1\n",
      "994              187,000.0      1\n",
      "\n",
      "[995 rows x 2 columns]\n"
     ]
    }
   ],
   "source": [
    "# Columna surface_covered_in_m2: revisamos que opciones tiene, o si se repite lo mismo.\n",
    "print(f'Cantidad de registros con NaN: {data.surface_covered_in_m2.isnull().sum()}')\n",
    "print(f'Porcentaje de registros con NaN: {data.surface_covered_in_m2.isnull().mean()*100}')\n",
    "print(\"Contamos cantidad de registros unicos:\")\n",
    "print(data.groupby(['surface_covered_in_m2']).size().reset_index(name='count'))"
   ]
  },
  {
   "cell_type": "code",
   "execution_count": 14,
   "metadata": {},
   "outputs": [
    {
     "data": {
      "text/plain": [
       "<AxesSubplot:xlabel='state_name'>"
      ]
     },
     "execution_count": 14,
     "metadata": {},
     "output_type": "execute_result"
    },
    {
     "data": {
      "image/png": "[encoded data removed]",
      "text/plain": [
       "<Figure size 432x288 with 1 Axes>"
      ]
     },
     "metadata": {
      "needs_background": "light"
     },
     "output_type": "display_data"
    }
   ],
   "source": [
    "data.groupby('state_name')['surface_covered_in_m2'].mean().plot.bar()"
   ]
  },
  {
   "cell_type": "markdown",
   "metadata": {},
   "source": [
    "Detalle de análisis de columnas:\n",
    "* `surface_covered_in_m2 ` -> Esta columna tiene 19.907 datos nulos o su equivalente 16,42%. El precio se calcula sobre la superficie total asi que debemos revisar la relevancia de esta variable."
   ]
  },
  {
   "cell_type": "code",
   "execution_count": 15,
   "metadata": {},
   "outputs": [
    {
     "name": "stdout",
     "output_type": "stream",
     "text": [
      "Cantidad de registros con NaN: 52603\n",
      "Porcentaje de registros con NaN: 43.394654347467416\n",
      "Contamos cantidad de registros unicos:\n",
      "         price_usd_per_m2  count\n",
      "0                     0.6      1\n",
      "1                     1.0      1\n",
      "2      1.1845710280373831      1\n",
      "3      1.2369857009345795      1\n",
      "4      1.5734420828905418      1\n",
      "...                   ...    ...\n",
      "25562  78,533.33333333331      1\n",
      "25563            80,000.0      1\n",
      "25564 104,486.11428571428      1\n",
      "25565 173,826.06666666668      1\n",
      "25566 206,333.33333333328      1\n",
      "\n",
      "[25567 rows x 2 columns]\n"
     ]
    }
   ],
   "source": [
    "# Columna price_usd_per_m2 : revisamos que opciones tiene, o si se repite lo mismo.\n",
    "print(f'Cantidad de registros con NaN: {data.price_usd_per_m2.isnull().sum()}')\n",
    "print(f'Porcentaje de registros con NaN: {data.price_usd_per_m2.isnull().mean()*100}')\n",
    "print(\"Contamos cantidad de registros unicos:\")\n",
    "print(data.groupby(['price_usd_per_m2']).size().reset_index(name='count'))"
   ]
  },
  {
   "cell_type": "code",
   "execution_count": 16,
   "metadata": {},
   "outputs": [
    {
     "data": {
      "text/plain": [
       "<AxesSubplot:xlabel='state_name'>"
      ]
     },
     "execution_count": 16,
     "metadata": {},
     "output_type": "execute_result"
    },
    {
     "data": {
      "image/png": "[encoded data removed]",
      "text/plain": [
       "<Figure size 432x288 with 1 Axes>"
      ]
     },
     "metadata": {
      "needs_background": "light"
     },
     "output_type": "display_data"
    }
   ],
   "source": [
    "data.groupby('state_name')['price_usd_per_m2'].mean().plot.bar()"
   ]
  },
  {
   "cell_type": "markdown",
   "metadata": {},
   "source": [
    "Detalle de análisis de columnas:\n",
    "* `price_usd_per_m2` -> Esta columna tiene 52.603 datos nulos o su equivalente 43.39%. Consideramos que esta variable es relevante para la proyección, por esta razón consideramos que podriamos completarla realizando diferentes operaciones:\n",
    "1. Calculando una tasa de cambio promedio para calcular asi el valor en dolares partiendo del valor en la moneda local\n",
    "2. Calculando el valor al dividir el precio en moneda local entre el area total\n",
    "3. Extrayendo el dato de las columnas description y title"
   ]
  },
  {
   "cell_type": "code",
   "execution_count": 17,
   "metadata": {},
   "outputs": [
    {
     "name": "stdout",
     "output_type": "stream",
     "text": [
      "Cantidad de registros con NaN: 33562\n",
      "Porcentaje de registros con NaN: 27.686850354726943\n",
      "Contamos cantidad de registros unicos:\n",
      "            price_per_m2  count\n",
      "0     1.5102040816326532      1\n",
      "1     3.2085561497326203      1\n",
      "2      7.462100384887282      1\n",
      "3      7.987660441800253      1\n",
      "4      8.291223078055243      1\n",
      "...                  ...    ...\n",
      "25180        1,825,000.0      1\n",
      "25181        2,000,000.0      1\n",
      "25182        2,300,000.0      1\n",
      "25183        2,600,000.0      1\n",
      "25184       3,999,999.96      1\n",
      "\n",
      "[25185 rows x 2 columns]\n"
     ]
    }
   ],
   "source": [
    "# Columna price_per_m2 : revisamos que opciones tiene, o si se repite lo mismo.\n",
    "print(f'Cantidad de registros con NaN: {data.price_per_m2.isnull().sum()}')\n",
    "print(f'Porcentaje de registros con NaN: {data.price_per_m2.isnull().mean()*100}')\n",
    "print(\"Contamos cantidad de registros unicos:\")\n",
    "print(data.groupby(['price_per_m2']).size().reset_index(name='count'))\n"
   ]
  },
  {
   "cell_type": "code",
   "execution_count": 18,
   "metadata": {},
   "outputs": [
    {
     "data": {
      "text/plain": [
       "<AxesSubplot:xlabel='state_name'>"
      ]
     },
     "execution_count": 18,
     "metadata": {},
     "output_type": "execute_result"
    },
    {
     "data": {
      "image/png": "[encoded data removed]",
      "text/plain": [
       "<Figure size 432x288 with 1 Axes>"
      ]
     },
     "metadata": {
      "needs_background": "light"
     },
     "output_type": "display_data"
    }
   ],
   "source": [
    "data.groupby('state_name')['price_per_m2'].mean().plot.bar()"
   ]
  },
  {
   "cell_type": "markdown",
   "metadata": {},
   "source": [
    "Detalle de análisis de columnas:\n",
    "* `price_per_m2` -> Esta columna tiene 33.562 datos nulos o su equivalente 27.68%. Consideramos que esta variable es relevante para la proyección, y podriamos completarla realizando diferentes operaciones:\n",
    "1. Calculando una tasa de cambio promedio para calcular asi el valor en moneda local partiendo del valor en dolares\n",
    "2. Calculando el valor del precio de venta total dividido entre el area total\n",
    "2. Extrayendo el dato de las columnas description y title"
   ]
  },
  {
   "cell_type": "markdown",
   "metadata": {},
   "source": [
    "# RELLENAR DATOS POR COLUMNAS"
   ]
  },
  {
   "cell_type": "markdown",
   "metadata": {},
   "source": []
  },
  {
   "cell_type": "markdown",
   "metadata": {},
   "source": [
    "# LIMPIEZA DE DATOS POR COLUMNA"
   ]
  },
  {
   "cell_type": "markdown",
   "metadata": {},
   "source": [
    "# ELIMINAR COLUMNAS INNECESARIAS\n",
    "Estas columnas no se considera aporten a la prediccion de precios o tienen el mismo dato en todas la filas\n",
    "\n"
   ]
  },
  {
   "cell_type": "code",
   "execution_count": 19,
   "metadata": {},
   "outputs": [],
   "source": [
    "#Este sería el código\n",
    "#cols = ['operation','pais','expenses', 'properati_url', 'image_thumbnail', 'lat', 'lon']\n",
    "#data_ajustado=data.drop(cols, axis=1, inplace=True)"
   ]
  },
  {
   "cell_type": "markdown",
   "metadata": {},
   "source": [
    "# ELIMINAR DUPLICADOS QUE TIENEN LOS MISMOS DATOS EN TODAS LAS COLUMNAS\n",
    "Estas son propiedades que tienen la misma información en todas las columnas y se mantendrá solamente el dato del último registro"
   ]
  },
  {
   "cell_type": "code",
   "execution_count": 20,
   "metadata": {},
   "outputs": [],
   "source": [
    "#Este sería el código\n",
    "#columnas = ['operation','country_name','expenses', 'properati_url', 'image_thumbnail', 'lat', 'lon', 'floor']\n",
    "#data.drop(cols, axis=1, inplace=True)\n",
    "#data.head()"
   ]
  },
  {
   "cell_type": "markdown",
   "metadata": {},
   "source": [
    "# ELIMINAR DUPLICADOS QUE TIENEN LOS MISMOS DATOS EN ALGUNAS COLUMNAS\n",
    "Vamos eliminar duplicados por que se repiten los datos en algunas columnas\n",
    "\n",
    "\n",
    "\n"
   ]
  },
  {
   "cell_type": "code",
   "execution_count": 21,
   "metadata": {},
   "outputs": [],
   "source": [
    "#Este sería el código para identificar duplicados\n",
    "\n",
    "#mask_duplicados=data.duplicated(['title', 'description', 'surface_total_in_m2', 'surface_covered_in_m2'])\n",
    "#data_duplicados= data[mask_duplicados].sort_values(['title']) \n",
    "#data_duplicados.head()\n",
    "#data_duplicados.shape\n"
   ]
  },
  {
   "cell_type": "code",
   "execution_count": 22,
   "metadata": {},
   "outputs": [
    {
     "name": "stdout",
     "output_type": "stream",
     "text": [
      "las dimensiones de la base que quedan despues de eliminar duplicados (121220, 26)\n"
     ]
    }
   ],
   "source": [
    "#Este sería el código para eliminarlos\n",
    "\n",
    "#data_ajustado= data.drop_duplicates(['title', 'description', 'surface_total_in_m2', 'surface_covered_in_m2'],keep='last', inplace=True )\n",
    "\n",
    "print('las dimensiones de la base que quedan despues de eliminar duplicados', data.shape)"
   ]
  },
  {
   "cell_type": "code",
   "execution_count": null,
   "metadata": {},
   "outputs": [],
   "source": []
  }
 ],
 "metadata": {
  "kernelspec": {
   "display_name": "Python 3.8.13 ('dhdsblend2021')",
   "language": "python",
   "name": "python3"
  },
  "language_info": {
   "codemirror_mode": {
    "name": "ipython",
    "version": 3
   },
   "file_extension": ".py",
   "mimetype": "text/x-python",
   "name": "python",
   "nbconvert_exporter": "python",
   "pygments_lexer": "ipython3",
   "version": "3.8.13"
  },
  "vscode": {
   "interpreter": {
    "hash": "efc208fdaa12fe71d644c382e37592789e7715eab6097afaedaaf3f1e1734556"
   }
  }
 },
 "nbformat": 4,
 "nbformat_minor": 4
}
