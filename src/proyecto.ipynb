{
 "cells": [
  {
   "cell_type": "markdown",
   "metadata": {},
   "source": [
    "# Digital House - Trabajo Práctico Nº1\n",
    "## Desafío 1. Análisis exploratorio de un dataset de precios de propiedades\n",
    "Grupo Nª2\n",
    "Alumnos:\n",
    "* Alberto Paparelli\n",
    "* André Song\n",
    "* Marianela Riz\n",
    "* Gloria Caravajal\n",
    "* Franco Emanuel Rodriguez\n",
    "* Iván Axel Schweizer\n",
    "\n",
    "Objetivos:\n",
    "* Efectuar una limpieza del dataset provisto. Particularmente, deberá diseñar estrategias para lidiar con los datos perdidos en ciertas variables.\n",
    "* Realizar un análisis descriptivo de las principales variables.\n",
    "* Crear nuevas columnas a partir de las características dadas que puedan tener valor\n",
    "predictivo."
   ]
  },
  {
   "cell_type": "code",
   "execution_count": null,
   "metadata": {},
   "outputs": [],
   "source": [
    "# Lo primero que hacemos es importar todas las librerias necesarias.\n",
    "import numpy as np\n",
    "import pandas as pd\n",
    "import requests"
   ]
  },
  {
   "cell_type": "code",
   "execution_count": null,
   "metadata": {},
   "outputs": [],
   "source": [
    "# Abrimos el dataset y hacemos un chequeo rápido para saber cantidad de registros y miramos la composición del mismo.\n",
    "filename = \"../dataset/properati.csv\"\n",
    "data = pd.read_csv(filename, on_bad_lines='skip')\n",
    "display(data.sample(n=6)) \n",
    "print(f\"(Cantidad de Filas, Cantidad de columnas) -> {data.shape}\")"
   ]
  },
  {
   "cell_type": "markdown",
   "metadata": {},
   "source": [
    "# Columnas\n",
    "1. `operation`                      -> Tipo de operación (Rent y Sell)\n",
    "2. `property_type`                  -> Tipo de propiedad (PH, apartment, house y store)\n",
    "3. `place_name`                     -> Nombre del lugar (Ciudad)\n",
    "4. `place_with_parent_names`        -> Nombre del lugar + nombre de sus ‘padres’\n",
    "5. `country_name`                   -> País\n",
    "6. `state_name`                     -> ID de geonames del lugar (si está disponible)\n",
    "7. `geonames_id`                    -> ID de geonames del lugar (si está disponible) \n",
    "8. `lat-lon`                        ->\n",
    "9. `lat`                            ->\n",
    "10. `lon`                           ->\n",
    "11. `price`                         ->\n",
    "12. `currency`                      ->\n",
    "13. `price_aprox_local_currency`    ->\n",
    "14. `price_aprox_usd`               ->\n",
    "15. `surface_total_in_m2`           ->\n",
    "16. `surface_covered_in_m2`         ->\n",
    "17. `price_usd_per_m2`              ->\n",
    "18. `price_per_m2`                  ->\n",
    "19. `floor`                         ->\n",
    "20. `rooms`                         ->\n",
    "21. `expenses`                      ->\n",
    "22. `properati_url`                 ->\n",
    "23. `description`                   ->\n",
    "24. `title`                         ->\n",
    "25. `image_thumbnail`               ->\n",
    "\n",
    "A continuación analizamos cada una de las columnas."
   ]
  },
  {
   "cell_type": "markdown",
   "metadata": {},
   "source": [
    "## Columna `operations`\n",
    "Columna operation: revisamos que opciones tiene, o si se repite lo mismo."
   ]
  },
  {
   "cell_type": "code",
   "execution_count": null,
   "metadata": {},
   "outputs": [],
   "source": [
    "# Columna operation: revisamos que opciones tiene, o si se repite lo mismo.\n",
    "print(f'Cantidad de registros con NaN: {data.operation.isnull().sum()}')\n",
    "print(\"Contamos cantidad de registros unicos:\")\n",
    "print(data.groupby(['operation']).size().reset_index(name='count'))\n"
   ]
  },
  {
   "cell_type": "markdown",
   "metadata": {},
   "source": [
    "### Detalle de análisis de columna `operation`:\n",
    "\n",
    "Vemos que no tiene NaNs y solo tiene la opción `sell`. Por este motivo la vamos a eliminar."
   ]
  },
  {
   "cell_type": "code",
   "execution_count": null,
   "metadata": {},
   "outputs": [],
   "source": [
    "# Borrado de columna operation. Utilizamos inplace=True para que no imprima el resultado.\n",
    "data.drop(['operation'], axis=1, inplace=True)"
   ]
  },
  {
   "cell_type": "markdown",
   "metadata": {},
   "source": [
    "## Columna `proporty_type`\n",
    "Columna operation: revisamos que información tiene, para ver si las categorias tienen datos sustaciales y no se repiten escritos de manera diferente."
   ]
  },
  {
   "cell_type": "code",
   "execution_count": null,
   "metadata": {},
   "outputs": [],
   "source": [
    "print(f'Cantidad de registros con NaN: {data.property_type.isnull().sum()}')\n",
    "print(\"Contamos cantidad de registros unicos:\")\n",
    "print(data.groupby(['property_type']).size().reset_index(name='count'))"
   ]
  },
  {
   "cell_type": "markdown",
   "metadata": {},
   "source": [
    "### Detalle de análisis de columna `proporty_type`:\n",
    "\n",
    "Vemos que no tiene NaNs y tiene 4 categorias `PH`, `apartment`, `house` y `store`.\n",
    "\n",
    "Todas las categorias tienen una cantidad razonable de datos, por lo que vamos a dejarla sin modificar."
   ]
  },
  {
   "cell_type": "markdown",
   "metadata": {},
   "source": [
    "## Columna `place_name`\n",
    "Columna place_name: Revisamos que opciones tiene, cantidad de registros que se repiten, Nulls, etc."
   ]
  },
  {
   "cell_type": "code",
   "execution_count": null,
   "metadata": {},
   "outputs": [],
   "source": [
    "# Revisamos si existen valores nulos.\n",
    "print(f'Cantidad de registros con NaN: {data.place_name.isnull().sum()}')"
   ]
  },
  {
   "cell_type": "markdown",
   "metadata": {},
   "source": [
    "Hay 23 registros Nulos. Al ser pocos podemos imprimiros para ver si se pueden completar de alguna forma.\n",
    "\n",
    "Para ello, al ser pocos registros, los vamos a imprimir para analizar."
   ]
  },
  {
   "cell_type": "code",
   "execution_count": null,
   "metadata": {},
   "outputs": [],
   "source": [
    "mask = data.place_name.isnull()\n",
    "display(data[mask])"
   ]
  },
  {
   "cell_type": "markdown",
   "metadata": {},
   "source": [
    "Notamos que tenemos todas las geo-localizaciones de los datos faltantes, por lo que vamos a utilizar un endpoint de openstreetmap para obtener la ciudad.\n",
    "\n",
    "Para ello, creamo funciones auxiliares "
   ]
  },
  {
   "cell_type": "code",
   "execution_count": null,
   "metadata": {},
   "outputs": [],
   "source": [
    "# Funciones Auxiliares\n",
    "def get_city(display_name):\n",
    "    \"\"\" Función para obtener la ciudad en base al string completo de la ubicación.\n",
    "    Convertimos el string en una lista, separandolo en base a las comas, y si matchea con el Partido de Tigre\n",
    "    retornamos la posición anterior de la lista.\n",
    "    \"\"\"\n",
    "    city_list = [x.strip() for x in display_name.split(',')]\n",
    "    new_name = np.nan\n",
    "\n",
    "    for index, name in enumerate(city_list):\n",
    "        if name.strip() == \"Partido de Tigre\":\n",
    "            new_name = city_list[index-1]\n",
    "            break\n",
    "\n",
    "    return new_name\n",
    "\n",
    "def get_location_from_geo(lat_lon):\n",
    "    \"\"\"Funcion que llama al endpoint de openstreetmap para obtener información en base a la latitud y longitud.\"\"\"\n",
    "    url = f\"https://nominatim.openstreetmap.org/search.php?q={lat_lon}&polygon_geojson=1&format=json\"\n",
    "    response = requests.get(url=url)\n",
    "    location = response.json()\n",
    "    return get_city(location[0][\"display_name\"])\n",
    "\n",
    "def complete_city_parent_names(place, city):\n",
    "    \"\"\"Función para completar place_with_parent_names con la ciudad.\"\"\"\n",
    "    return place[:-1] + city  + place[-1]"
   ]
  },
  {
   "cell_type": "markdown",
   "metadata": {},
   "source": [
    "Ahora que tenemos las funciones para obtener la ciudad, vamos a buscar las mismas para cada registro del dataset en donde el campo no este y guardamos esta nueva información en el dataset."
   ]
  },
  {
   "cell_type": "code",
   "execution_count": null,
   "metadata": {},
   "outputs": [],
   "source": [
    "# Creamos la mascara\n",
    "mask = data.place_name.isnull()\n",
    "# Aplicamos la mascara y por cada item llamamos a la función que se encarga de buscar el nombre faltante.\n",
    "locations = data[mask][\"lat-lon\"].apply(get_location_from_geo)\n",
    "# Guardamos estos nombre es el dataset\n",
    "data.loc[mask, \"place_name\"] = locations"
   ]
  },
  {
   "cell_type": "markdown",
   "metadata": {},
   "source": [
    "Nos dimos cuenta que este nombre tambien falta en el campo `place_with_parent_names` y aprovechando que ya tenemos la mascara y la información, procedemos a actualizarlos."
   ]
  },
  {
   "cell_type": "code",
   "execution_count": null,
   "metadata": {},
   "outputs": [],
   "source": [
    "places = data[mask].apply(lambda x: complete_city_parent_names(x['place_with_parent_names'], x['place_name']), axis=1)\n",
    "data.loc[mask, \"place_with_parent_names\"] = places"
   ]
  },
  {
   "cell_type": "markdown",
   "metadata": {},
   "source": [
    "Ahora que no tenemos valores nulos, vamos a crear una nueva columna, donde pondremos el contenido de `place_name` en los casos en que existan más de 10 propiedades en la ciudad.\n",
    "En el caso de que la ciudad tenga 10 o menos propiedades, las agruparemos con la categoría `Ciudad Chica`.\n",
    "La nueva columna se va a llamar: `ciudad_chica`"
   ]
  },
  {
   "cell_type": "code",
   "execution_count": null,
   "metadata": {},
   "outputs": [],
   "source": [
    "# Filtro de ciudades con mas de 10 propiedades\n",
    "list_city_gt_10 = data.groupby(['place_name']).size().reset_index(name='count').query('count > 10').place_name.tolist()\n",
    "# Se crea la mascara\n",
    "mask_city_gt_10 = data['place_name'].isin(list_city_gt_10)\n",
    "print(f\"Registros de ciudades con más de 10 propiedades: {mask_city_gt_10.value_counts().loc[True]}\")\n",
    "print(f\"Registros de ciudades con 10 o menos propiedades: {mask_city_gt_10.value_counts().loc[False]}\")\n",
    "\n",
    "# se crea la columna nueva ciudad_chica\n",
    "data['ciudad_chica'] = np.where(data['place_name'].isin(list_city_gt_10), data['place_name'], \"Ciudad Chica\")\n",
    "\n",
    "# Chequeo\n",
    "# 3     Abasto                  139\n",
    "# 4     Abril Club de Campo     19\n",
    "# 399   Garuhapé                1\n",
    "# 1059  Álvarez                 1\n",
    "display(data[data.place_name.eq(\"Abasto\")][['place_name', 'ciudad_chica']].sample(1))\n",
    "display(data[data.place_name.eq(\"Abril Club de Campo\")][['place_name', 'ciudad_chica']].sample(1))\n",
    "display(data[data.place_name.eq(\"Garuhapé\")][['place_name', 'ciudad_chica']].sample(1))\n",
    "display(data[data.place_name.eq(\"Álvarez\")][['place_name', 'ciudad_chica']].sample(1))"
   ]
  },
  {
   "cell_type": "code",
   "execution_count": null,
   "metadata": {},
   "outputs": [],
   "source": [
    "# Eliminamos espacios en blanco al principio y final de la ciudad\n",
    "data['place_name'] = data['place_name'].str.strip()\n",
    "data['ciudad_chica'] = data['ciudad_chica'].str.strip()"
   ]
  },
  {
   "cell_type": "markdown",
   "metadata": {},
   "source": [
    "## Columna `place_with_parent_names`: \n",
    "\n",
    "En esta columna vamos revisar que no existan valores nulos, y probar si hay consistencia entre los datos que tiene y las columnas `place_name`, `country_name` y `state_name`"
   ]
  },
  {
   "cell_type": "code",
   "execution_count": null,
   "metadata": {},
   "outputs": [],
   "source": [
    "# Revisamos si existen valores nulos.\n",
    "print(f'Cantidad de registros con NaN: {data.place_with_parent_names.isnull().sum()}')"
   ]
  },
  {
   "cell_type": "code",
   "execution_count": null,
   "metadata": {},
   "outputs": [],
   "source": [
    "# Convertimos los datos de la columna en una lista\n",
    "#places_parent = data.apply(lambda x: complete_city_parent_names(x['place_with_parent_names'], x['place_name']), axis=1)\n",
    "def compare_places(place_with_parent_names, name):\n",
    "    city = [x.strip() for x in place_with_parent_names.split(\"|\")]\n",
    "    return True if name in city else False\n",
    "\n",
    "mask_places_name = data.apply(lambda x: compare_places(x['place_with_parent_names'], x['place_name']), axis=1)\n",
    "print(f\"La con place_name tiene False: Respuesta: {False in mask_places_name.values}\")\n",
    "\n",
    "mask_places_name = data.apply(lambda x: compare_places(x['place_with_parent_names'], x['country_name']), axis=1)\n",
    "print(f\"La con country_name tiene False: Respuesta: {False in mask_places_name.values}\")\n",
    "\n",
    "mask_places_name = data.apply(lambda x: compare_places(x['place_with_parent_names'], x['state_name']), axis=1)\n",
    "print(f\"La con state_name tiene False: Respuesta: {False in mask_places_name.values}\")"
   ]
  },
  {
   "cell_type": "markdown",
   "metadata": {},
   "source": [
    "### Detalle de análisis de columna `place_with_parent_names`:\n",
    "\n",
    "No hay nada que solucionar, ya que todos los datos estan correctos.\n",
    "En la columna anterior ya se habían completado los datos faltantes."
   ]
  },
  {
   "cell_type": "markdown",
   "metadata": {},
   "source": [
    "## Columna `country_name`\n",
    "Columna country_name: revisamos que opciones tiene, o si se repite lo mismo."
   ]
  },
  {
   "cell_type": "code",
   "execution_count": null,
   "metadata": {},
   "outputs": [],
   "source": [
    "# Columna operation: revisamos que opciones tiene, o si se repite lo mismo.\n",
    "print(f'Cantidad de registros con NaN: {data.country_name.isnull().sum()}')\n",
    "print(\"Contamos cantidad de registros unicos:\")\n",
    "print(data.groupby(['country_name']).size().reset_index(name='count'))"
   ]
  },
  {
   "cell_type": "markdown",
   "metadata": {},
   "source": [
    "### Detalle de análisis de columna `country_name`:\n",
    "\n",
    "Vemos que no tiene NaNs y solo tiene la opción `Argentina`. Por este motivo la vamos a eliminar."
   ]
  },
  {
   "cell_type": "code",
   "execution_count": null,
   "metadata": {},
   "outputs": [],
   "source": [
    "# Borrado de columna operation. Utilizamos inplace=True para que no imprima el resultado.\n",
    "data.drop(['country_name'], axis=1, inplace=True)"
   ]
  },
  {
   "cell_type": "markdown",
   "metadata": {},
   "source": [
    "\n",
    "--------- ### Template acá abajo ### ---------"
   ]
  },
  {
   "cell_type": "markdown",
   "metadata": {},
   "source": [
    "\n",
    "--------- ### Template acá abajo ### ---------"
   ]
  },
  {
   "cell_type": "markdown",
   "metadata": {},
   "source": [
    "\n",
    "--------- ### Template acá abajo ### ---------"
   ]
  },
  {
   "cell_type": "markdown",
   "metadata": {},
   "source": [
    "## Columna `xxxxxx`\n",
    "Columna xxx: revisamos xxxxxx"
   ]
  },
  {
   "cell_type": "code",
   "execution_count": null,
   "metadata": {},
   "outputs": [],
   "source": [
    "# Que hacemos\n",
    "# code para analizar la columna"
   ]
  },
  {
   "cell_type": "markdown",
   "metadata": {},
   "source": [
    "### Detalle de análisis de columna `xxxxxx`:\n",
    "\n",
    "Lo que encontramos\n",
    "\n",
    "Lo que vamos a hacer para solucionarlo"
   ]
  },
  {
   "cell_type": "code",
   "execution_count": null,
   "metadata": {},
   "outputs": [],
   "source": [
    "# Que hacemos\n",
    "# code para resolver\n"
   ]
  }
 ],
 "metadata": {
  "kernelspec": {
   "display_name": "Python 3.8.13 ('dhdsblend2021')",
   "language": "python",
   "name": "python3"
  },
  "language_info": {
   "codemirror_mode": {
    "name": "ipython",
    "version": 3
   },
   "file_extension": ".py",
   "mimetype": "text/x-python",
   "name": "python",
   "nbconvert_exporter": "python",
   "pygments_lexer": "ipython3",
   "version": "3.8.13"
  },
  "vscode": {
   "interpreter": {
    "hash": "efc208fdaa12fe71d644c382e37592789e7715eab6097afaedaaf3f1e1734556"
   }
  }
 },
 "nbformat": 4,
 "nbformat_minor": 4
}
