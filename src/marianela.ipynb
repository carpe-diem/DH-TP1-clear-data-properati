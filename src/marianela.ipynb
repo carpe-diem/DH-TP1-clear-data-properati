{
 "cells": [
  {
   "cell_type": "markdown",
   "metadata": {},
   "source": [
    "# Digital House - Trabajo Práctico Nº1\n",
    "## Desafío 1. Análisis exploratorio de un dataset de precios de propiedades\n",
    "Grupo Nª2\n",
    "Alumnos:\n",
    "* Alberto Paparelli\n",
    "* André Song\n",
    "* Marianela Riz\n",
    "* Gloria Caravajal\n",
    "* Franco Emanuel Rodriguez\n",
    "* Iván Axel Schweizer\n",
    "\n",
    "Objetivos:\n",
    "* Efectuar una limpieza del dataset provisto. Particularmente, deberá diseñar estrategias para lidiar con los datos perdidos en ciertas variables.\n",
    "* Realizar un análisis descriptivo de las principales variables.\n",
    "* Crear nuevas columnas a partir de las características dadas que puedan tener valor\n",
    "predictivo."
   ]
  },
  {
   "cell_type": "code",
   "execution_count": 3,
   "metadata": {},
   "outputs": [],
   "source": [
    "# Lo primero que hacemos es importar todas las librerias necesarias.\n",
    "import pandas as pd"
   ]
  },
  {
   "cell_type": "code",
   "execution_count": 4,
   "metadata": {},
   "outputs": [
    {
     "data": {
      "text/html": [
       "<div>\n",
       "<style scoped>\n",
       "    .dataframe tbody tr th:only-of-type {\n",
       "        vertical-align: middle;\n",
       "    }\n",
       "\n",
       "    .dataframe tbody tr th {\n",
       "        vertical-align: top;\n",
       "    }\n",
       "\n",
       "    .dataframe thead th {\n",
       "        text-align: right;\n",
       "    }\n",
       "</style>\n",
       "<table border=\"1\" class=\"dataframe\">\n",
       "  <thead>\n",
       "    <tr style=\"text-align: right;\">\n",
       "      <th></th>\n",
       "      <th>Unnamed: 0</th>\n",
       "      <th>operation</th>\n",
       "      <th>property_type</th>\n",
       "      <th>place_name</th>\n",
       "      <th>place_with_parent_names</th>\n",
       "      <th>country_name</th>\n",
       "      <th>state_name</th>\n",
       "      <th>geonames_id</th>\n",
       "      <th>lat-lon</th>\n",
       "      <th>lat</th>\n",
       "      <th>...</th>\n",
       "      <th>surface_covered_in_m2</th>\n",
       "      <th>price_usd_per_m2</th>\n",
       "      <th>price_per_m2</th>\n",
       "      <th>floor</th>\n",
       "      <th>rooms</th>\n",
       "      <th>expenses</th>\n",
       "      <th>properati_url</th>\n",
       "      <th>description</th>\n",
       "      <th>title</th>\n",
       "      <th>image_thumbnail</th>\n",
       "    </tr>\n",
       "  </thead>\n",
       "  <tbody>\n",
       "    <tr>\n",
       "      <th>19076</th>\n",
       "      <td>19076</td>\n",
       "      <td>sell</td>\n",
       "      <td>apartment</td>\n",
       "      <td>Santa Fe</td>\n",
       "      <td>|Argentina|Santa Fe|Santa Fe|</td>\n",
       "      <td>Argentina</td>\n",
       "      <td>Santa Fe</td>\n",
       "      <td>3836277.0</td>\n",
       "      <td>NaN</td>\n",
       "      <td>NaN</td>\n",
       "      <td>...</td>\n",
       "      <td>NaN</td>\n",
       "      <td>NaN</td>\n",
       "      <td>NaN</td>\n",
       "      <td>NaN</td>\n",
       "      <td>NaN</td>\n",
       "      <td>NaN</td>\n",
       "      <td>http://www.properati.com.ar/178pn_venta_depart...</td>\n",
       "      <td>Corredor Responsable: Marcos Provvidenti - CCI...</td>\n",
       "      <td>Venta PLAN PILAY</td>\n",
       "      <td>NaN</td>\n",
       "    </tr>\n",
       "    <tr>\n",
       "      <th>12866</th>\n",
       "      <td>12866</td>\n",
       "      <td>sell</td>\n",
       "      <td>house</td>\n",
       "      <td>Capital Federal</td>\n",
       "      <td>|Argentina|Capital Federal|</td>\n",
       "      <td>Argentina</td>\n",
       "      <td>Capital Federal</td>\n",
       "      <td>3433955.0</td>\n",
       "      <td>NaN</td>\n",
       "      <td>NaN</td>\n",
       "      <td>...</td>\n",
       "      <td>650.0</td>\n",
       "      <td>611.111111</td>\n",
       "      <td>1692.307692</td>\n",
       "      <td>NaN</td>\n",
       "      <td>NaN</td>\n",
       "      <td>NaN</td>\n",
       "      <td>http://www.properati.com.ar/16nge_venta_casa_b...</td>\n",
       "      <td>Terreno 1800m2 cubiertos 650m2 5 Dormitorios 4...</td>\n",
       "      <td>Casa 1800m² con Cochera, Argentina, Capital Fe...</td>\n",
       "      <td>https://thumbs4.properati.com/8/Hv2HvsgzwTRWC0...</td>\n",
       "    </tr>\n",
       "    <tr>\n",
       "      <th>99535</th>\n",
       "      <td>99535</td>\n",
       "      <td>sell</td>\n",
       "      <td>house</td>\n",
       "      <td>San Fernando</td>\n",
       "      <td>|Argentina|Bs.As. G.B.A. Zona Norte|San Fernando|</td>\n",
       "      <td>Argentina</td>\n",
       "      <td>Bs.As. G.B.A. Zona Norte</td>\n",
       "      <td>3429088.0</td>\n",
       "      <td>NaN</td>\n",
       "      <td>NaN</td>\n",
       "      <td>...</td>\n",
       "      <td>115.0</td>\n",
       "      <td>NaN</td>\n",
       "      <td>1913.043478</td>\n",
       "      <td>NaN</td>\n",
       "      <td>NaN</td>\n",
       "      <td>NaN</td>\n",
       "      <td>http://www.properati.com.ar/1bmrc_venta_casa_s...</td>\n",
       "      <td>Amplia casa de época en zona céntrica.PB: herm...</td>\n",
       "      <td>Casa- San Fernando</td>\n",
       "      <td>https://thumbs4.properati.com/5/t719zGUuS0XYy9...</td>\n",
       "    </tr>\n",
       "    <tr>\n",
       "      <th>20958</th>\n",
       "      <td>20958</td>\n",
       "      <td>sell</td>\n",
       "      <td>house</td>\n",
       "      <td>Ingeniero Juan Allan</td>\n",
       "      <td>|Argentina|Bs.As. G.B.A. Zona Sur|Florencio Va...</td>\n",
       "      <td>Argentina</td>\n",
       "      <td>Bs.As. G.B.A. Zona Sur</td>\n",
       "      <td>NaN</td>\n",
       "      <td>-34.8631164395,-58.1990958802</td>\n",
       "      <td>-34.863116</td>\n",
       "      <td>...</td>\n",
       "      <td>NaN</td>\n",
       "      <td>NaN</td>\n",
       "      <td>NaN</td>\n",
       "      <td>NaN</td>\n",
       "      <td>NaN</td>\n",
       "      <td>NaN</td>\n",
       "      <td>http://www.properati.com.ar/17e9l_venta_casa_i...</td>\n",
       "      <td>CODIGO: 1612-205 ubicado en: 1.128 n° 2.669 - ...</td>\n",
       "      <td>Casa en Ingeniero Allan, La Carolina, Florenci...</td>\n",
       "      <td>https://thumbs4.properati.com/8/Ss2S3mCWshrFoI...</td>\n",
       "    </tr>\n",
       "    <tr>\n",
       "      <th>120487</th>\n",
       "      <td>120487</td>\n",
       "      <td>sell</td>\n",
       "      <td>house</td>\n",
       "      <td>Córdoba</td>\n",
       "      <td>|Argentina|Córdoba|Córdoba|</td>\n",
       "      <td>Argentina</td>\n",
       "      <td>Córdoba</td>\n",
       "      <td>3860259.0</td>\n",
       "      <td>NaN</td>\n",
       "      <td>NaN</td>\n",
       "      <td>...</td>\n",
       "      <td>100.0</td>\n",
       "      <td>NaN</td>\n",
       "      <td>NaN</td>\n",
       "      <td>NaN</td>\n",
       "      <td>NaN</td>\n",
       "      <td>NaN</td>\n",
       "      <td>http://www.properati.com.ar/1ci0l_venta_casa_c...</td>\n",
       "      <td>Es una casa bien ubicada a Mts de Donato Alvar...</td>\n",
       "      <td>Casa - Villa Cornu</td>\n",
       "      <td>https://thumbs4.properati.com/4/5NrHWA1P0IfFkb...</td>\n",
       "    </tr>\n",
       "    <tr>\n",
       "      <th>21234</th>\n",
       "      <td>21234</td>\n",
       "      <td>sell</td>\n",
       "      <td>house</td>\n",
       "      <td>Belén de Escobar</td>\n",
       "      <td>|Argentina|Bs.As. G.B.A. Zona Norte|Escobar|Be...</td>\n",
       "      <td>Argentina</td>\n",
       "      <td>Bs.As. G.B.A. Zona Norte</td>\n",
       "      <td>3436079.0</td>\n",
       "      <td>NaN</td>\n",
       "      <td>NaN</td>\n",
       "      <td>...</td>\n",
       "      <td>153.0</td>\n",
       "      <td>246.002460</td>\n",
       "      <td>1307.189542</td>\n",
       "      <td>NaN</td>\n",
       "      <td>NaN</td>\n",
       "      <td>NaN</td>\n",
       "      <td>http://www.properati.com.ar/17f30_venta_casa_b...</td>\n",
       "      <td>Casa en construcciÃ³n fecha probable de culmin...</td>\n",
       "      <td>Casa 813m² con Plantas, Escobar, Belén de Esco...</td>\n",
       "      <td>NaN</td>\n",
       "    </tr>\n",
       "  </tbody>\n",
       "</table>\n",
       "<p>6 rows × 26 columns</p>\n",
       "</div>"
      ],
      "text/plain": [
       "        Unnamed: 0 operation property_type            place_name  \\\n",
       "19076        19076      sell     apartment              Santa Fe   \n",
       "12866        12866      sell         house       Capital Federal   \n",
       "99535        99535      sell         house          San Fernando   \n",
       "20958        20958      sell         house  Ingeniero Juan Allan   \n",
       "120487      120487      sell         house               Córdoba   \n",
       "21234        21234      sell         house      Belén de Escobar   \n",
       "\n",
       "                                  place_with_parent_names country_name  \\\n",
       "19076                       |Argentina|Santa Fe|Santa Fe|    Argentina   \n",
       "12866                         |Argentina|Capital Federal|    Argentina   \n",
       "99535   |Argentina|Bs.As. G.B.A. Zona Norte|San Fernando|    Argentina   \n",
       "20958   |Argentina|Bs.As. G.B.A. Zona Sur|Florencio Va...    Argentina   \n",
       "120487                        |Argentina|Córdoba|Córdoba|    Argentina   \n",
       "21234   |Argentina|Bs.As. G.B.A. Zona Norte|Escobar|Be...    Argentina   \n",
       "\n",
       "                      state_name  geonames_id                        lat-lon  \\\n",
       "19076                   Santa Fe    3836277.0                            NaN   \n",
       "12866            Capital Federal    3433955.0                            NaN   \n",
       "99535   Bs.As. G.B.A. Zona Norte    3429088.0                            NaN   \n",
       "20958     Bs.As. G.B.A. Zona Sur          NaN  -34.8631164395,-58.1990958802   \n",
       "120487                   Córdoba    3860259.0                            NaN   \n",
       "21234   Bs.As. G.B.A. Zona Norte    3436079.0                            NaN   \n",
       "\n",
       "              lat  ...  surface_covered_in_m2  price_usd_per_m2 price_per_m2  \\\n",
       "19076         NaN  ...                    NaN               NaN          NaN   \n",
       "12866         NaN  ...                  650.0        611.111111  1692.307692   \n",
       "99535         NaN  ...                  115.0               NaN  1913.043478   \n",
       "20958  -34.863116  ...                    NaN               NaN          NaN   \n",
       "120487        NaN  ...                  100.0               NaN          NaN   \n",
       "21234         NaN  ...                  153.0        246.002460  1307.189542   \n",
       "\n",
       "        floor  rooms  expenses  \\\n",
       "19076     NaN    NaN       NaN   \n",
       "12866     NaN    NaN       NaN   \n",
       "99535     NaN    NaN       NaN   \n",
       "20958     NaN    NaN       NaN   \n",
       "120487    NaN    NaN       NaN   \n",
       "21234     NaN    NaN       NaN   \n",
       "\n",
       "                                            properati_url  \\\n",
       "19076   http://www.properati.com.ar/178pn_venta_depart...   \n",
       "12866   http://www.properati.com.ar/16nge_venta_casa_b...   \n",
       "99535   http://www.properati.com.ar/1bmrc_venta_casa_s...   \n",
       "20958   http://www.properati.com.ar/17e9l_venta_casa_i...   \n",
       "120487  http://www.properati.com.ar/1ci0l_venta_casa_c...   \n",
       "21234   http://www.properati.com.ar/17f30_venta_casa_b...   \n",
       "\n",
       "                                              description  \\\n",
       "19076   Corredor Responsable: Marcos Provvidenti - CCI...   \n",
       "12866   Terreno 1800m2 cubiertos 650m2 5 Dormitorios 4...   \n",
       "99535   Amplia casa de época en zona céntrica.PB: herm...   \n",
       "20958   CODIGO: 1612-205 ubicado en: 1.128 n° 2.669 - ...   \n",
       "120487  Es una casa bien ubicada a Mts de Donato Alvar...   \n",
       "21234   Casa en construcciÃ³n fecha probable de culmin...   \n",
       "\n",
       "                                                    title  \\\n",
       "19076                                    Venta PLAN PILAY   \n",
       "12866   Casa 1800m² con Cochera, Argentina, Capital Fe...   \n",
       "99535                                  Casa- San Fernando   \n",
       "20958   Casa en Ingeniero Allan, La Carolina, Florenci...   \n",
       "120487                                 Casa - Villa Cornu   \n",
       "21234   Casa 813m² con Plantas, Escobar, Belén de Esco...   \n",
       "\n",
       "                                          image_thumbnail  \n",
       "19076                                                 NaN  \n",
       "12866   https://thumbs4.properati.com/8/Hv2HvsgzwTRWC0...  \n",
       "99535   https://thumbs4.properati.com/5/t719zGUuS0XYy9...  \n",
       "20958   https://thumbs4.properati.com/8/Ss2S3mCWshrFoI...  \n",
       "120487  https://thumbs4.properati.com/4/5NrHWA1P0IfFkb...  \n",
       "21234                                                 NaN  \n",
       "\n",
       "[6 rows x 26 columns]"
      ]
     },
     "metadata": {},
     "output_type": "display_data"
    },
    {
     "name": "stdout",
     "output_type": "stream",
     "text": [
      "(Cantidad de Filas, Cantidad de columnas) -> (121220, 26)\n"
     ]
    }
   ],
   "source": [
    "# Abrimos el dataset y hacemos un chequeo rápido para saber cantidad de registros y miramos la composición del mismo.\n",
    "filename = \"../dataset/properati.csv\"\n",
    "data = pd.read_csv(filename)\n",
    "display(data.sample(n=6)) \n",
    "print(f\"(Cantidad de Filas, Cantidad de columnas) -> {data.shape}\")\n"
   ]
  },
  {
   "cell_type": "code",
   "execution_count": 44,
   "metadata": {},
   "outputs": [
    {
     "name": "stdout",
     "output_type": "stream",
     "text": [
      "<class 'pandas.core.frame.DataFrame'>\n",
      "RangeIndex: 121220 entries, 0 to 121219\n",
      "Data columns (total 26 columns):\n",
      " #   Column                      Non-Null Count   Dtype  \n",
      "---  ------                      --------------   -----  \n",
      " 0   Unnamed: 0                  121220 non-null  int64  \n",
      " 1   operation                   121220 non-null  object \n",
      " 2   property_type               121220 non-null  object \n",
      " 3   place_name                  121197 non-null  object \n",
      " 4   place_with_parent_names     121220 non-null  object \n",
      " 5   country_name                121220 non-null  object \n",
      " 6   state_name                  121220 non-null  object \n",
      " 7   geonames_id                 102503 non-null  float64\n",
      " 8   lat-lon                     69670 non-null   object \n",
      " 9   lat                         69670 non-null   float64\n",
      " 10  lon                         69670 non-null   float64\n",
      " 11  price                       100810 non-null  float64\n",
      " 12  currency                    100809 non-null  object \n",
      " 13  price_aprox_local_currency  100810 non-null  float64\n",
      " 14  price_aprox_usd             100810 non-null  float64\n",
      " 15  surface_total_in_m2         81892 non-null   float64\n",
      " 16  surface_covered_in_m2       101313 non-null  float64\n",
      " 17  price_usd_per_m2            68617 non-null   float64\n",
      " 18  price_per_m2                87658 non-null   float64\n",
      " 19  floor                       7899 non-null    float64\n",
      " 20  rooms                       47390 non-null   float64\n",
      " 21  expenses                    14262 non-null   float64\n",
      " 22  properati_url               121220 non-null  object \n",
      " 23  description                 121218 non-null  object \n",
      " 24  title                       121220 non-null  object \n",
      " 25  image_thumbnail             118108 non-null  object \n",
      "dtypes: float64(13), int64(1), object(12)\n",
      "memory usage: 24.0+ MB\n"
     ]
    }
   ],
   "source": [
    "data.info()"
   ]
  },
  {
   "cell_type": "code",
   "execution_count": 48,
   "metadata": {},
   "outputs": [
    {
     "name": "stdout",
     "output_type": "stream",
     "text": [
      "Informacion de la columna Unnamed: 0:\n"
     ]
    },
    {
     "data": {
      "text/plain": [
       "count    121220.000000\n",
       "mean      60609.500000\n",
       "std       34993.344153\n",
       "min           0.000000\n",
       "25%       30304.750000\n",
       "50%       60609.500000\n",
       "75%       90914.250000\n",
       "max      121219.000000\n",
       "Name: Unnamed: 0, dtype: float64"
      ]
     },
     "metadata": {},
     "output_type": "display_data"
    },
    {
     "name": "stdout",
     "output_type": "stream",
     "text": [
      "\n",
      "\n",
      "Informacion de la columna operation:\n"
     ]
    },
    {
     "data": {
      "text/plain": [
       "count     121220\n",
       "unique         1\n",
       "top         sell\n",
       "freq      121220\n",
       "Name: operation, dtype: object"
      ]
     },
     "metadata": {},
     "output_type": "display_data"
    },
    {
     "name": "stdout",
     "output_type": "stream",
     "text": [
      "\n",
      "\n",
      "Informacion de la columna property_type:\n"
     ]
    },
    {
     "data": {
      "text/plain": [
       "count        121220\n",
       "unique            4\n",
       "top       apartment\n",
       "freq          71065\n",
       "Name: property_type, dtype: object"
      ]
     },
     "metadata": {},
     "output_type": "display_data"
    },
    {
     "name": "stdout",
     "output_type": "stream",
     "text": [
      "\n",
      "\n",
      "Informacion de la columna place_name:\n"
     ]
    },
    {
     "data": {
      "text/plain": [
       "count      121197\n",
       "unique       1060\n",
       "top       Córdoba\n",
       "freq         9254\n",
       "Name: place_name, dtype: object"
      ]
     },
     "metadata": {},
     "output_type": "display_data"
    },
    {
     "name": "stdout",
     "output_type": "stream",
     "text": [
      "\n",
      "\n",
      "Informacion de la columna place_with_parent_names:\n"
     ]
    },
    {
     "data": {
      "text/plain": [
       "count                           121220\n",
       "unique                            1164\n",
       "top       |Argentina|Santa Fe|Rosario|\n",
       "freq                              8504\n",
       "Name: place_with_parent_names, dtype: object"
      ]
     },
     "metadata": {},
     "output_type": "display_data"
    },
    {
     "name": "stdout",
     "output_type": "stream",
     "text": [
      "\n",
      "\n",
      "Informacion de la columna country_name:\n"
     ]
    },
    {
     "data": {
      "text/plain": [
       "count        121220\n",
       "unique            1\n",
       "top       Argentina\n",
       "freq         121220\n",
       "Name: country_name, dtype: object"
      ]
     },
     "metadata": {},
     "output_type": "display_data"
    },
    {
     "name": "stdout",
     "output_type": "stream",
     "text": [
      "\n",
      "\n",
      "Informacion de la columna state_name:\n"
     ]
    },
    {
     "data": {
      "text/plain": [
       "count              121220\n",
       "unique                 28\n",
       "top       Capital Federal\n",
       "freq                32316\n",
       "Name: state_name, dtype: object"
      ]
     },
     "metadata": {},
     "output_type": "display_data"
    },
    {
     "name": "stdout",
     "output_type": "stream",
     "text": [
      "\n",
      "\n",
      "Informacion de la columna geonames_id:\n"
     ]
    },
    {
     "data": {
      "text/plain": [
       "count    1.025030e+05\n",
       "mean     3.574442e+06\n",
       "std      3.541306e+05\n",
       "min      3.427208e+06\n",
       "25%      3.430234e+06\n",
       "50%      3.433910e+06\n",
       "75%      3.836668e+06\n",
       "max      6.948895e+06\n",
       "Name: geonames_id, dtype: float64"
      ]
     },
     "metadata": {},
     "output_type": "display_data"
    },
    {
     "name": "stdout",
     "output_type": "stream",
     "text": [
      "\n",
      "\n",
      "Informacion de la columna lat-lon:\n"
     ]
    },
    {
     "data": {
      "text/plain": [
       "count                       69670\n",
       "unique                      47203\n",
       "top       -34.4026444,-58.6684776\n",
       "freq                          312\n",
       "Name: lat-lon, dtype: object"
      ]
     },
     "metadata": {},
     "output_type": "display_data"
    },
    {
     "name": "stdout",
     "output_type": "stream",
     "text": [
      "\n",
      "\n",
      "Informacion de la columna lat:\n"
     ]
    },
    {
     "data": {
      "text/plain": [
       "count    69670.000000\n",
       "mean       -34.626210\n",
       "std          1.980936\n",
       "min        -54.823985\n",
       "25%        -34.669065\n",
       "50%        -34.597985\n",
       "75%        -34.441299\n",
       "max          4.545843\n",
       "Name: lat, dtype: float64"
      ]
     },
     "metadata": {},
     "output_type": "display_data"
    },
    {
     "name": "stdout",
     "output_type": "stream",
     "text": [
      "\n",
      "\n",
      "Informacion de la columna lon:\n"
     ]
    },
    {
     "data": {
      "text/plain": [
       "count    69670.000000\n",
       "mean       -59.266290\n",
       "std          2.299922\n",
       "min        -75.678931\n",
       "25%        -58.727040\n",
       "50%        -58.480128\n",
       "75%        -58.395908\n",
       "max        -53.733330\n",
       "Name: lon, dtype: float64"
      ]
     },
     "metadata": {},
     "output_type": "display_data"
    },
    {
     "name": "stdout",
     "output_type": "stream",
     "text": [
      "\n",
      "\n",
      "Informacion de la columna price:\n"
     ]
    },
    {
     "data": {
      "text/plain": [
       "count    1.008100e+05\n",
       "mean     4.685259e+05\n",
       "std      2.260101e+06\n",
       "min      0.000000e+00\n",
       "25%      1.100000e+05\n",
       "50%      1.850000e+05\n",
       "75%      4.200000e+05\n",
       "max      6.500000e+08\n",
       "Name: price, dtype: float64"
      ]
     },
     "metadata": {},
     "output_type": "display_data"
    },
    {
     "name": "stdout",
     "output_type": "stream",
     "text": [
      "\n",
      "\n",
      "Informacion de la columna currency:\n"
     ]
    },
    {
     "data": {
      "text/plain": [
       "count     100809\n",
       "unique         4\n",
       "top          USD\n",
       "freq       87587\n",
       "Name: currency, dtype: object"
      ]
     },
     "metadata": {},
     "output_type": "display_data"
    },
    {
     "name": "stdout",
     "output_type": "stream",
     "text": [
      "\n",
      "\n",
      "Informacion de la columna price_aprox_local_currency:\n"
     ]
    },
    {
     "data": {
      "text/plain": [
       "count    1.008100e+05\n",
       "mean     4.229397e+06\n",
       "std      6.904714e+06\n",
       "min      0.000000e+00\n",
       "25%      1.583309e+06\n",
       "50%      2.558452e+06\n",
       "75%      4.675792e+06\n",
       "max      8.212711e+08\n",
       "Name: price_aprox_local_currency, dtype: float64"
      ]
     },
     "metadata": {},
     "output_type": "display_data"
    },
    {
     "name": "stdout",
     "output_type": "stream",
     "text": [
      "\n",
      "\n",
      "Informacion de la columna price_aprox_usd:\n"
     ]
    },
    {
     "data": {
      "text/plain": [
       "count    1.008100e+05\n",
       "mean     2.397006e+05\n",
       "std      3.913239e+05\n",
       "min      0.000000e+00\n",
       "25%      8.973388e+04\n",
       "50%      1.450000e+05\n",
       "75%      2.650000e+05\n",
       "max      4.654544e+07\n",
       "Name: price_aprox_usd, dtype: float64"
      ]
     },
     "metadata": {},
     "output_type": "display_data"
    },
    {
     "name": "stdout",
     "output_type": "stream",
     "text": [
      "\n",
      "\n",
      "Informacion de la columna surface_total_in_m2:\n"
     ]
    },
    {
     "data": {
      "text/plain": [
       "count     81892.000000\n",
       "mean        233.795328\n",
       "std        1782.222147\n",
       "min           0.000000\n",
       "25%          50.000000\n",
       "50%          84.000000\n",
       "75%         200.000000\n",
       "max      200000.000000\n",
       "Name: surface_total_in_m2, dtype: float64"
      ]
     },
     "metadata": {},
     "output_type": "display_data"
    },
    {
     "name": "stdout",
     "output_type": "stream",
     "text": [
      "\n",
      "\n",
      "Informacion de la columna surface_covered_in_m2:\n"
     ]
    },
    {
     "data": {
      "text/plain": [
       "count    101313.000000\n",
       "mean        133.050181\n",
       "std         724.351479\n",
       "min           0.000000\n",
       "25%          45.000000\n",
       "50%          75.000000\n",
       "75%         150.000000\n",
       "max      187000.000000\n",
       "Name: surface_covered_in_m2, dtype: float64"
      ]
     },
     "metadata": {},
     "output_type": "display_data"
    },
    {
     "name": "stdout",
     "output_type": "stream",
     "text": [
      "\n",
      "\n",
      "Informacion de la columna price_usd_per_m2:\n"
     ]
    },
    {
     "data": {
      "text/plain": [
       "count     68617.000000\n",
       "mean       2160.086916\n",
       "std        2759.288621\n",
       "min           0.600000\n",
       "25%        1218.181818\n",
       "50%        1800.000000\n",
       "75%        2486.411765\n",
       "max      206333.333333\n",
       "Name: price_usd_per_m2, dtype: float64"
      ]
     },
     "metadata": {},
     "output_type": "display_data"
    },
    {
     "name": "stdout",
     "output_type": "stream",
     "text": [
      "\n",
      "\n",
      "Informacion de la columna price_per_m2:\n"
     ]
    },
    {
     "data": {
      "text/plain": [
       "count    8.765800e+04\n",
       "mean     6.912216e+03\n",
       "std      2.837864e+04\n",
       "min      1.510204e+00\n",
       "25%      1.550000e+03\n",
       "50%      2.213115e+03\n",
       "75%      3.355549e+03\n",
       "max      4.000000e+06\n",
       "Name: price_per_m2, dtype: float64"
      ]
     },
     "metadata": {},
     "output_type": "display_data"
    },
    {
     "name": "stdout",
     "output_type": "stream",
     "text": [
      "\n",
      "\n",
      "Informacion de la columna floor:\n"
     ]
    },
    {
     "data": {
      "text/plain": [
       "count    7899.000000\n",
       "mean       17.452336\n",
       "std       120.243621\n",
       "min         1.000000\n",
       "25%         1.000000\n",
       "50%         3.000000\n",
       "75%         6.000000\n",
       "max      3150.000000\n",
       "Name: floor, dtype: float64"
      ]
     },
     "metadata": {},
     "output_type": "display_data"
    },
    {
     "name": "stdout",
     "output_type": "stream",
     "text": [
      "\n",
      "\n",
      "Informacion de la columna rooms:\n"
     ]
    },
    {
     "data": {
      "text/plain": [
       "count    47390.000000\n",
       "mean         3.080840\n",
       "std          1.860773\n",
       "min          1.000000\n",
       "25%          2.000000\n",
       "50%          3.000000\n",
       "75%          4.000000\n",
       "max         32.000000\n",
       "Name: rooms, dtype: float64"
      ]
     },
     "metadata": {},
     "output_type": "display_data"
    },
    {
     "name": "stdout",
     "output_type": "stream",
     "text": [
      "\n",
      "\n",
      "Informacion de la columna expenses:\n"
     ]
    },
    {
     "data": {
      "text/plain": [
       "count    1.426200e+04\n",
       "mean     5.009234e+03\n",
       "std      1.204403e+05\n",
       "min      1.000000e+00\n",
       "25%      1.000000e+03\n",
       "50%      2.000000e+03\n",
       "75%      4.000000e+03\n",
       "max      1.000150e+07\n",
       "Name: expenses, dtype: float64"
      ]
     },
     "metadata": {},
     "output_type": "display_data"
    },
    {
     "name": "stdout",
     "output_type": "stream",
     "text": [
      "\n",
      "\n",
      "Informacion de la columna properati_url:\n"
     ]
    },
    {
     "data": {
      "text/plain": [
       "count                                                121220\n",
       "unique                                               121220\n",
       "top       http://www.properati.com.ar/15bo8_venta_ph_mat...\n",
       "freq                                                      1\n",
       "Name: properati_url, dtype: object"
      ]
     },
     "metadata": {},
     "output_type": "display_data"
    },
    {
     "name": "stdout",
     "output_type": "stream",
     "text": [
      "\n",
      "\n",
      "Informacion de la columna description:\n"
     ]
    },
    {
     "data": {
      "text/plain": [
       "count                                                121218\n",
       "unique                                               104055\n",
       "top       AVISO LEGAL: Las descripciones arquitectónicas...\n",
       "freq                                                    358\n",
       "Name: description, dtype: object"
      ]
     },
     "metadata": {},
     "output_type": "display_data"
    },
    {
     "name": "stdout",
     "output_type": "stream",
     "text": [
      "\n",
      "\n",
      "Informacion de la columna title:\n"
     ]
    },
    {
     "data": {
      "text/plain": [
       "count                    121220\n",
       "unique                    72705\n",
       "top       DEPARTAMENTO EN VENTA\n",
       "freq                       4855\n",
       "Name: title, dtype: object"
      ]
     },
     "metadata": {},
     "output_type": "display_data"
    },
    {
     "name": "stdout",
     "output_type": "stream",
     "text": [
      "\n",
      "\n",
      "Informacion de la columna image_thumbnail:\n"
     ]
    },
    {
     "data": {
      "text/plain": [
       "count                                                118108\n",
       "unique                                               114389\n",
       "top       https://thumbs4.properati.com/5/yyMiu8BHQI9KXC...\n",
       "freq                                                    255\n",
       "Name: image_thumbnail, dtype: object"
      ]
     },
     "metadata": {},
     "output_type": "display_data"
    },
    {
     "name": "stdout",
     "output_type": "stream",
     "text": [
      "\n",
      "\n"
     ]
    }
   ],
   "source": [
    "for column in data.columns:\n",
    "    print (f\"Informacion de la columna {column}:\")\n",
    "    display (data[column].describe())            #info de cada columna\n",
    "    print (\"\\n\")\n"
   ]
  },
  {
   "cell_type": "markdown",
   "metadata": {},
   "source": [
    "# Tipo de info de cada columna \n"
   ]
  },
  {
   "cell_type": "markdown",
   "metadata": {},
   "source": [
    "PLACE NAME:"
   ]
  },
  {
   "cell_type": "code",
   "execution_count": 58,
   "metadata": {},
   "outputs": [
    {
     "data": {
      "text/plain": [
       "Córdoba               9254\n",
       "Rosario               8504\n",
       "Mar del Plata         6534\n",
       "Tigre                 3324\n",
       "Nordelta              3315\n",
       "                      ... \n",
       "Sierras Bayas            1\n",
       "Paso de los Libres       1\n",
       "Azara                    1\n",
       "Coronel Du Graty         1\n",
       "Altos de Hudson I        1\n",
       "Name: place_name, Length: 1060, dtype: int64"
      ]
     },
     "execution_count": 58,
     "metadata": {},
     "output_type": "execute_result"
    }
   ],
   "source": [
    "data['place_name'].value_counts()"
   ]
  },
  {
   "cell_type": "markdown",
   "metadata": {},
   "source": [
    "PLCE WITH PARENT NAMES:"
   ]
  },
  {
   "cell_type": "code",
   "execution_count": 59,
   "metadata": {},
   "outputs": [
    {
     "data": {
      "text/plain": [
       "|Argentina|Santa Fe|Rosario|                                        8504\n",
       "|Argentina|Córdoba|Córdoba|                                         6606\n",
       "|Argentina|Buenos Aires Costa Atlántica|Mar del Plata|              6534\n",
       "|Argentina|Bs.As. G.B.A. Zona Norte|Tigre|Nordelta|                 3315\n",
       "|Argentina|Capital Federal|Belgrano|                                2992\n",
       "                                                                    ... \n",
       "|Argentina|Entre Ríos|Villa Paranacito|                                1\n",
       "|Argentina|San Juan|Villa Mercedes|                                    1\n",
       "|Argentina|Buenos Aires Interior|Chascomús|Barrio Parque Girado|       1\n",
       "|Argentina|Buenos Aires Costa Atlántica|Mar del Plata|Alfar|           1\n",
       "|Argentina|Bs.As. G.B.A. Zona Sur|Berazategui|Altos de Hudson I|       1\n",
       "Name: place_with_parent_names, Length: 1164, dtype: int64"
      ]
     },
     "execution_count": 59,
     "metadata": {},
     "output_type": "execute_result"
    }
   ],
   "source": [
    "data['place_with_parent_names'].value_counts()"
   ]
  },
  {
   "cell_type": "markdown",
   "metadata": {},
   "source": [
    "COUNTRY NAME:"
   ]
  },
  {
   "cell_type": "code",
   "execution_count": 60,
   "metadata": {},
   "outputs": [
    {
     "data": {
      "text/plain": [
       "Argentina    121220\n",
       "Name: country_name, dtype: int64"
      ]
     },
     "execution_count": 60,
     "metadata": {},
     "output_type": "execute_result"
    }
   ],
   "source": [
    "data['country_name'].value_counts()"
   ]
  },
  {
   "cell_type": "markdown",
   "metadata": {},
   "source": [
    "STATE NAME:"
   ]
  },
  {
   "cell_type": "code",
   "execution_count": 61,
   "metadata": {},
   "outputs": [
    {
     "data": {
      "text/plain": [
       "Capital Federal                 32316\n",
       "Bs.As. G.B.A. Zona Norte        25560\n",
       "Bs.As. G.B.A. Zona Sur          13952\n",
       "Córdoba                         12069\n",
       "Santa Fe                        10172\n",
       "Buenos Aires Costa Atlántica    10006\n",
       "Bs.As. G.B.A. Zona Oeste         9322\n",
       "Buenos Aires Interior            2291\n",
       "Río Negro                         808\n",
       "Neuquén                           733\n",
       "Mendoza                           681\n",
       "Tucumán                           674\n",
       "Corrientes                        583\n",
       "Misiones                          464\n",
       "Entre Ríos                        369\n",
       "Salta                             278\n",
       "Chubut                            259\n",
       "San Luis                          252\n",
       "La Pampa                          157\n",
       "Formosa                            65\n",
       "Chaco                              57\n",
       "San Juan                           40\n",
       "Tierra Del Fuego                   31\n",
       "Catamarca                          27\n",
       "Jujuy                              26\n",
       "Santa Cruz                         20\n",
       "Santiago Del Estero                 4\n",
       "La Rioja                            4\n",
       "Name: state_name, dtype: int64"
      ]
     },
     "execution_count": 61,
     "metadata": {},
     "output_type": "execute_result"
    }
   ],
   "source": [
    "data['state_name'].value_counts()"
   ]
  },
  {
   "cell_type": "markdown",
   "metadata": {},
   "source": [
    "GEONAMES ID:"
   ]
  },
  {
   "cell_type": "code",
   "execution_count": 62,
   "metadata": {},
   "outputs": [
    {
     "data": {
      "text/plain": [
       "3838574.0    8504\n",
       "3860259.0    6606\n",
       "3430863.0    6534\n",
       "3430234.0    3279\n",
       "3436077.0    2992\n",
       "             ... \n",
       "3834971.0       1\n",
       "3835354.0       1\n",
       "3835711.0       1\n",
       "3855135.0       1\n",
       "3430940.0       1\n",
       "Name: geonames_id, Length: 646, dtype: int64"
      ]
     },
     "execution_count": 62,
     "metadata": {},
     "output_type": "execute_result"
    }
   ],
   "source": [
    "data['geonames_id'].value_counts()"
   ]
  },
  {
   "cell_type": "markdown",
   "metadata": {},
   "source": [
    "LAT-LON:"
   ]
  },
  {
   "cell_type": "code",
   "execution_count": 63,
   "metadata": {},
   "outputs": [
    {
     "data": {
      "text/plain": [
       "-34.4026444,-58.6684776          312\n",
       "-34.40014,-58.64985              271\n",
       "-34.6428675967,-58.4376599743    259\n",
       "-34.425087,-58.5796585           224\n",
       "-34.5895459,-58.3973636          156\n",
       "                                ... \n",
       "-34.5933338,-58.4430338            1\n",
       "-34.5513449,-58.6876066            1\n",
       "-38.0801129219,-57.5860380405      1\n",
       "-38.020255,-57.5281042             1\n",
       "-34.6295045177,-58.460641832       1\n",
       "Name: lat-lon, Length: 47203, dtype: int64"
      ]
     },
     "execution_count": 63,
     "metadata": {},
     "output_type": "execute_result"
    }
   ],
   "source": [
    "data['lat-lon'].value_counts()"
   ]
  },
  {
   "cell_type": "markdown",
   "metadata": {},
   "source": [
    "LAT:"
   ]
  },
  {
   "cell_type": "code",
   "execution_count": 64,
   "metadata": {},
   "outputs": [
    {
     "data": {
      "text/plain": [
       "-34.402644    312\n",
       "-34.400140    271\n",
       "-34.642868    259\n",
       "-34.425087    224\n",
       "-34.589546    157\n",
       "             ... \n",
       "-34.536701      1\n",
       "-34.647220      1\n",
       "-34.880130      1\n",
       "-34.678710      1\n",
       "-34.629505      1\n",
       "Name: lat, Length: 46495, dtype: int64"
      ]
     },
     "execution_count": 64,
     "metadata": {},
     "output_type": "execute_result"
    }
   ],
   "source": [
    "data['lat'].value_counts()"
   ]
  },
  {
   "cell_type": "markdown",
   "metadata": {},
   "source": [
    "LON:"
   ]
  },
  {
   "cell_type": "code",
   "execution_count": 68,
   "metadata": {},
   "outputs": [
    {
     "data": {
      "text/plain": [
       "-58.668478    312\n",
       "-58.649850    272\n",
       "-58.437660    259\n",
       "-58.579659    225\n",
       "-58.397364    176\n",
       "             ... \n",
       "-58.377785      1\n",
       "-58.488385      1\n",
       "-58.694755      1\n",
       "-58.451329      1\n",
       "-58.460642      1\n",
       "Name: lon, Length: 46522, dtype: int64"
      ]
     },
     "execution_count": 68,
     "metadata": {},
     "output_type": "execute_result"
    }
   ],
   "source": [
    "data['lon'].value_counts()"
   ]
  },
  {
   "cell_type": "markdown",
   "metadata": {},
   "source": [
    "SURFACE TOTAL IN M2:   "
   ]
  },
  {
   "cell_type": "code",
   "execution_count": 70,
   "metadata": {},
   "outputs": [
    {
     "data": {
      "text/plain": [
       "50.0       1721\n",
       "40.0       1698\n",
       "45.0       1404\n",
       "60.0       1396\n",
       "70.0       1115\n",
       "           ... \n",
       "881.0         1\n",
       "1247.0        1\n",
       "1983.0        1\n",
       "943.0         1\n",
       "25186.0       1\n",
       "Name: surface_total_in_m2, Length: 1687, dtype: int64"
      ]
     },
     "execution_count": 70,
     "metadata": {},
     "output_type": "execute_result"
    }
   ],
   "source": [
    "data['surface_total_in_m2'].value_counts()"
   ]
  },
  {
   "cell_type": "markdown",
   "metadata": {},
   "source": [
    "SURFACE COVERED IN M2:"
   ]
  },
  {
   "cell_type": "code",
   "execution_count": 71,
   "metadata": {},
   "outputs": [
    {
     "data": {
      "text/plain": [
       "40.0       2736\n",
       "50.0       2184\n",
       "45.0       2142\n",
       "60.0       1888\n",
       "100.0      1848\n",
       "           ... \n",
       "705.0         1\n",
       "891.0         1\n",
       "14000.0       1\n",
       "835.0         1\n",
       "12000.0       1\n",
       "Name: surface_covered_in_m2, Length: 995, dtype: int64"
      ]
     },
     "execution_count": 71,
     "metadata": {},
     "output_type": "execute_result"
    }
   ],
   "source": [
    "data['surface_covered_in_m2'].value_counts()"
   ]
  },
  {
   "cell_type": "markdown",
   "metadata": {},
   "source": [
    "# TODO \n",
    "completar análisis de columnas: que columnas hay y que significan cada una.\n"
   ]
  },
  {
   "cell_type": "markdown",
   "metadata": {},
   "source": [
    "Analizamos contenido de las columnas que creemos que pueden eliminarse."
   ]
  },
  {
   "cell_type": "code",
   "execution_count": 5,
   "metadata": {},
   "outputs": [
    {
     "name": "stdout",
     "output_type": "stream",
     "text": [
      "Cantidad de registros con NaN: 0\n",
      "Contamos cantidad de registros unicos:\n",
      "  operation   count\n",
      "0      sell  121220\n"
     ]
    }
   ],
   "source": [
    "# Columna operation: revisamos que opciones tiene, o si se repite lo mismo.\n",
    "print(f'Cantidad de registros con NaN: {data.operation.isnull().sum()}')\n",
    "print(\"Contamos cantidad de registros unicos:\")\n",
    "print(data.groupby(['operation']).size().reset_index(name='count'))\n"
   ]
  },
  {
   "cell_type": "markdown",
   "metadata": {},
   "source": [
    "Detalle de análisis de columnas:\n",
    "* `operation` (sell/ventas) -> Vemos que no tiene NaNs y solo tiene la opción `sell`. Por este motivo la vamos a eliminar.\n",
    "\n",
    "* `country_name` (nombre de paises) -> Vemos que no tiene NaNs y solo tiene la opción `Argentina`. Por este motivo la podriamos eliminar.\n",
    "\n",
    "* `state_name` (nombre de estados) -> Vemos que no tiene NaNs.\n",
    "\n",
    "* `place_name` (localidades) -> Vemos que tiene 23 NaNs.\n",
    "\n",
    "* `place_with_parent_names` (nombre completo) -> Vemos que no tiene NaNs. El mismo esta formado con las columnas \n",
    "country_name|state_name|place_name. Podriamos utilizar esta columna eliminando o desestimando las 3 anteriores. \n",
    "\n",
    "* `geonames` (geonombres) -> Vemos que tiene 18717 NaNs. \n",
    "\n",
    "* `lat` (latitud) -> Vemos que tiene 51550 NaNs. Si comparamos los valores de la columna lon con los de la columna lat-lon, podemos observar que difieren 18025 valores. Los mismos presentan diferencias por \",\" en vez de \".\", esto podria ser ocasionado por un mal tipeo en la carga de datos. \n",
    "\n",
    "* `lon` (longitud) -> Vemos que tiene 51550 NaNs. Si comparamos los valores de la columna lon con los de la columna lat-lon, podemos observar que difieren 27485 valores. Los mismos presentan diferencias por \",\" en vez de \".\", esto podria ser ocasionado por un mal tipeo en la carga de datos. \n",
    "\n",
    "* `lat-lon` (latitud-longitud) -> Podemos confirmar que por algun error estos valores no coinciden con los desplegados en la columna lat y lon, por ende debemos evaluar que hacemos con estas 3 columnas, con que valor certero nos quedamos, con lat y lon o con lat-lon?\n",
    "\n",
    "* `surface_total_in_m2` (superficie total m2) --> Vemos que tiene 19907 NaNs.\n",
    "\n",
    "* `surface_covered_in_m2` (superficie m2) --> Vemos que tiene 19907 NaNs.\n",
    "\n",
    "\n"
   ]
  },
  {
   "cell_type": "code",
   "execution_count": 17,
   "metadata": {},
   "outputs": [
    {
     "name": "stdout",
     "output_type": "stream",
     "text": [
      "Cantidad de registros con NaN: 0\n",
      "Contamos cantidad de registros unicos:\n",
      "  country_name   count\n",
      "0    Argentina  121220\n"
     ]
    }
   ],
   "source": [
    "# Columna operation: revisamos que opciones tiene, o si se repite lo mismo.\n",
    "print(f'Cantidad de registros con NaN: {data.country_name.isnull().sum()}')\n",
    "print(\"Contamos cantidad de registros unicos:\")\n",
    "print(data.groupby(['country_name']).size().reset_index(name='count'))"
   ]
  },
  {
   "cell_type": "code",
   "execution_count": 9,
   "metadata": {},
   "outputs": [
    {
     "name": "stdout",
     "output_type": "stream",
     "text": [
      "Cantidad de registros con NaN: 0\n",
      "Contamos cantidad de registros unicos:\n",
      "                      state_name  count\n",
      "0       Bs.As. G.B.A. Zona Norte  25560\n",
      "1       Bs.As. G.B.A. Zona Oeste   9322\n",
      "2         Bs.As. G.B.A. Zona Sur  13952\n",
      "3   Buenos Aires Costa Atlántica  10006\n",
      "4          Buenos Aires Interior   2291\n",
      "5                Capital Federal  32316\n",
      "6                      Catamarca     27\n",
      "7                          Chaco     57\n",
      "8                         Chubut    259\n",
      "9                     Corrientes    583\n",
      "10                       Córdoba  12069\n",
      "11                    Entre Ríos    369\n",
      "12                       Formosa     65\n",
      "13                         Jujuy     26\n",
      "14                      La Pampa    157\n",
      "15                      La Rioja      4\n",
      "16                       Mendoza    681\n",
      "17                      Misiones    464\n",
      "18                       Neuquén    733\n",
      "19                     Río Negro    808\n",
      "20                         Salta    278\n",
      "21                      San Juan     40\n",
      "22                      San Luis    252\n",
      "23                    Santa Cruz     20\n",
      "24                      Santa Fe  10172\n",
      "25           Santiago Del Estero      4\n",
      "26              Tierra Del Fuego     31\n",
      "27                       Tucumán    674\n"
     ]
    }
   ],
   "source": [
    "# Columna operation: revisamos que opciones tiene, o si se repite lo mismo.\n",
    "print(f'Cantidad de registros con NaN: {data.state_name.isnull().sum()}')\n",
    "print(\"Contamos cantidad de registros unicos:\")\n",
    "print(data.groupby(['state_name']).size().reset_index(name='count'))  #cantidad de valores por provincia\n"
   ]
  },
  {
   "cell_type": "code",
   "execution_count": 11,
   "metadata": {},
   "outputs": [
    {
     "name": "stdout",
     "output_type": "stream",
     "text": [
      "Cantidad de registros con NaN: 23\n",
      "Contamos cantidad de registros unicos:\n",
      "                   place_name  count\n",
      "0      Country Maschwitz Club      3\n",
      "1                  los alamos      1\n",
      "2                  9 de Abril      3\n",
      "3                      Abasto    139\n",
      "4         Abril Club de Campo     19\n",
      "...                       ...    ...\n",
      "1055              Yerba Buena    191\n",
      "1056                   Zelaya      7\n",
      "1057                   Zárate     15\n",
      "1058    coordenadas 34.255511      1\n",
      "1059                  Álvarez      1\n",
      "\n",
      "[1060 rows x 2 columns]\n"
     ]
    }
   ],
   "source": [
    "# Columna operation: revisamos que opciones tiene, o si se repite lo mismo.\n",
    "print(f'Cantidad de registros con NaN: {data.place_name.isnull().sum()}')\n",
    "print(\"Contamos cantidad de registros unicos:\")\n",
    "print(data.groupby(['place_name']).size().reset_index(name='count')) #cantidad de valores por barrios/localidades\n",
    "\n"
   ]
  },
  {
   "cell_type": "code",
   "execution_count": 18,
   "metadata": {},
   "outputs": [
    {
     "name": "stdout",
     "output_type": "stream",
     "text": [
      "Cantidad de registros con NaN: 18717\n",
      "Contamos cantidad de registros unicos:\n",
      "     geonames_id  count\n",
      "0      3427208.0      7\n",
      "1      3427212.0      8\n",
      "2      3427326.0    139\n",
      "3      3427354.0     41\n",
      "4      3427366.0     15\n",
      "..           ...    ...\n",
      "641    6693230.0     57\n",
      "642    6942538.0     17\n",
      "643    6942539.0     15\n",
      "644    6942842.0      2\n",
      "645    6948895.0      2\n",
      "\n",
      "[646 rows x 2 columns]\n"
     ]
    }
   ],
   "source": [
    "# Columna operation: revisamos que opciones tiene, o si se repite lo mismo.\n",
    "print(f'Cantidad de registros con NaN: {data.geonames_id.isnull().sum()}')\n",
    "print(\"Contamos cantidad de registros unicos:\")\n",
    "print(data.groupby(['geonames_id']).size().reset_index(name='count'))\n"
   ]
  },
  {
   "cell_type": "code",
   "execution_count": 23,
   "metadata": {},
   "outputs": [
    {
     "name": "stdout",
     "output_type": "stream",
     "text": [
      "Cantidad de registros con NaN: 51550\n",
      "Contamos cantidad de registros unicos:\n",
      "             lat  count\n",
      "0     -54.823985      1\n",
      "1     -54.819736      2\n",
      "2     -54.806598      1\n",
      "3     -54.806017      1\n",
      "4     -54.801452      1\n",
      "...          ...    ...\n",
      "46490 -24.168071      1\n",
      "46491 -24.166966      1\n",
      "46492 -24.165218      1\n",
      "46493 -23.137164      2\n",
      "46494   4.545843      1\n",
      "\n",
      "[46495 rows x 2 columns]\n"
     ]
    }
   ],
   "source": [
    "# Columna operation: revisamos que opciones tiene, o si se repite lo mismo.\n",
    "print(f'Cantidad de registros con NaN: {data.lat.isnull().sum()}')\n",
    "print(\"Contamos cantidad de registros unicos:\")\n",
    "print(data.groupby(['lat']).size().reset_index(name='count'))\n"
   ]
  },
  {
   "cell_type": "code",
   "execution_count": 24,
   "metadata": {},
   "outputs": [
    {
     "name": "stdout",
     "output_type": "stream",
     "text": [
      "Cantidad de registros con NaN: 51550\n",
      "Contamos cantidad de registros unicos:\n",
      "             lon  count\n",
      "0     -75.678931      1\n",
      "1     -71.665143      1\n",
      "2     -71.664029      1\n",
      "3     -71.663814      1\n",
      "4     -71.663515     15\n",
      "...          ...    ...\n",
      "46517 -54.580379      1\n",
      "46518 -54.560043      1\n",
      "46519 -54.559587      1\n",
      "46520 -54.556127      1\n",
      "46521 -53.733330      1\n",
      "\n",
      "[46522 rows x 2 columns]\n"
     ]
    }
   ],
   "source": [
    "# Columna operation: revisamos que opciones tiene, o si se repite lo mismo.\n",
    "print(f'Cantidad de registros con NaN: {data.lon.isnull().sum()}')\n",
    "print(\"Contamos cantidad de registros unicos:\")\n",
    "print(data.groupby(['lon']).size().reset_index(name='count'))"
   ]
  },
  {
   "cell_type": "code",
   "execution_count": 72,
   "metadata": {},
   "outputs": [
    {
     "name": "stdout",
     "output_type": "stream",
     "text": [
      "Cantidad de registros con NaN: 19907\n",
      "Contamos cantidad de registros unicos:\n",
      "     surface_covered_in_m2  count\n",
      "0                      0.0      2\n",
      "1                      1.0    367\n",
      "2                      2.0     12\n",
      "3                      3.0      7\n",
      "4                      4.0     10\n",
      "..                     ...    ...\n",
      "990                30000.0      1\n",
      "991                35000.0      1\n",
      "992                38240.0      1\n",
      "993                49000.0      1\n",
      "994               187000.0      1\n",
      "\n",
      "[995 rows x 2 columns]\n"
     ]
    }
   ],
   "source": [
    "# Columna operation: revisamos que opciones tiene, o si se repite lo mismo.\n",
    "print(f'Cantidad de registros con NaN: {data.surface_covered_in_m2.isnull().sum()}')\n",
    "print(\"Contamos cantidad de registros unicos:\")\n",
    "print(data.groupby(['surface_covered_in_m2']).size().reset_index(name='count'))\n"
   ]
  },
  {
   "cell_type": "code",
   "execution_count": 74,
   "metadata": {},
   "outputs": [
    {
     "name": "stdout",
     "output_type": "stream",
     "text": [
      "Cantidad de registros con NaN: 19907\n",
      "Contamos cantidad de registros unicos:\n",
      "     surface_covered_in_m2  count\n",
      "0                      0.0      2\n",
      "1                      1.0    367\n",
      "2                      2.0     12\n",
      "3                      3.0      7\n",
      "4                      4.0     10\n",
      "..                     ...    ...\n",
      "990                30000.0      1\n",
      "991                35000.0      1\n",
      "992                38240.0      1\n",
      "993                49000.0      1\n",
      "994               187000.0      1\n",
      "\n",
      "[995 rows x 2 columns]\n"
     ]
    }
   ],
   "source": [
    "# Columna operation: revisamos que opciones tiene, o si se repite lo mismo.\n",
    "print(f'Cantidad de registros con NaN: {data.surface_covered_in_m2.isnull().sum()}')\n",
    "print(\"Contamos cantidad de registros unicos:\")\n",
    "print(data.groupby(['surface_covered_in_m2']).size().reset_index(name='count'))\n"
   ]
  },
  {
   "cell_type": "code",
   "execution_count": 30,
   "metadata": {},
   "outputs": [
    {
     "ename": "SyntaxError",
     "evalue": "invalid syntax (857400283.py, line 1)",
     "output_type": "error",
     "traceback": [
      "\u001b[1;36m  Input \u001b[1;32mIn [30]\u001b[1;36m\u001b[0m\n\u001b[1;33m    mask_lat_lon=data.apply(lambda x: x[\"lat-lon\"]== x[\"lat\"] + \"-\" + x[\"lon\"] if any(x[\"lat-lon\"],x[\"lat\"], x[\"lon\"])==np.NaN)\u001b[0m\n\u001b[1;37m                                                                                                                              ^\u001b[0m\n\u001b[1;31mSyntaxError\u001b[0m\u001b[1;31m:\u001b[0m invalid syntax\n"
     ]
    }
   ],
   "source": [
    "mask_lat_lon=data.apply(lambda x: x[\"lat-lon\"]== x[\"lat\"] + \"-\" + x[\"lon\"] if any(x[\"lat-lon\"],x[\"lat\"], x[\"lon\"])==np.NaN)"
   ]
  },
  {
   "cell_type": "code",
   "execution_count": 29,
   "metadata": {},
   "outputs": [
    {
     "ename": "KeyError",
     "evalue": "'lat-lon'",
     "output_type": "error",
     "traceback": [
      "\u001b[1;31m---------------------------------------------------------------------------\u001b[0m",
      "\u001b[1;31mKeyError\u001b[0m                                  Traceback (most recent call last)",
      "\u001b[1;32mc:\\Users\\Usuario\\Desktop\\dh\\DH-TP1-clear-data-properati\\src\\marianela.ipynb Celda 17\u001b[0m in \u001b[0;36m<cell line: 1>\u001b[1;34m()\u001b[0m\n\u001b[1;32m----> <a href='vscode-notebook-cell:/c%3A/Users/Usuario/Desktop/dh/DH-TP1-clear-data-properati/src/marianela.ipynb#X24sZmlsZQ%3D%3D?line=0'>1</a>\u001b[0m mask\u001b[39m=\u001b[39mdata\u001b[39m.\u001b[39;49mapply(\u001b[39mlambda\u001b[39;49;00m x: x[\u001b[39m\"\u001b[39;49m\u001b[39mlat-lon\u001b[39;49m\u001b[39m\"\u001b[39;49m]\u001b[39m==\u001b[39;49m x[\u001b[39m\"\u001b[39;49m\u001b[39mlat\u001b[39;49m\u001b[39m\"\u001b[39;49m] \u001b[39m+\u001b[39;49m \u001b[39m\"\u001b[39;49m\u001b[39m-\u001b[39;49m\u001b[39m\"\u001b[39;49m \u001b[39m+\u001b[39;49m x[\u001b[39m\"\u001b[39;49m\u001b[39mlon\u001b[39;49m\u001b[39m\"\u001b[39;49m])\n\u001b[0;32m      <a href='vscode-notebook-cell:/c%3A/Users/Usuario/Desktop/dh/DH-TP1-clear-data-properati/src/marianela.ipynb#X24sZmlsZQ%3D%3D?line=1'>2</a>\u001b[0m mask\n",
      "File \u001b[1;32mc:\\Users\\Usuario\\anaconda\\lib\\site-packages\\pandas\\core\\frame.py:8839\u001b[0m, in \u001b[0;36mDataFrame.apply\u001b[1;34m(self, func, axis, raw, result_type, args, **kwargs)\u001b[0m\n\u001b[0;32m   8828\u001b[0m \u001b[39mfrom\u001b[39;00m \u001b[39mpandas\u001b[39;00m\u001b[39m.\u001b[39;00m\u001b[39mcore\u001b[39;00m\u001b[39m.\u001b[39;00m\u001b[39mapply\u001b[39;00m \u001b[39mimport\u001b[39;00m frame_apply\n\u001b[0;32m   8830\u001b[0m op \u001b[39m=\u001b[39m frame_apply(\n\u001b[0;32m   8831\u001b[0m     \u001b[39mself\u001b[39m,\n\u001b[0;32m   8832\u001b[0m     func\u001b[39m=\u001b[39mfunc,\n\u001b[1;32m   (...)\u001b[0m\n\u001b[0;32m   8837\u001b[0m     kwargs\u001b[39m=\u001b[39mkwargs,\n\u001b[0;32m   8838\u001b[0m )\n\u001b[1;32m-> 8839\u001b[0m \u001b[39mreturn\u001b[39;00m op\u001b[39m.\u001b[39;49mapply()\u001b[39m.\u001b[39m__finalize__(\u001b[39mself\u001b[39m, method\u001b[39m=\u001b[39m\u001b[39m\"\u001b[39m\u001b[39mapply\u001b[39m\u001b[39m\"\u001b[39m)\n",
      "File \u001b[1;32mc:\\Users\\Usuario\\anaconda\\lib\\site-packages\\pandas\\core\\apply.py:727\u001b[0m, in \u001b[0;36mFrameApply.apply\u001b[1;34m(self)\u001b[0m\n\u001b[0;32m    724\u001b[0m \u001b[39melif\u001b[39;00m \u001b[39mself\u001b[39m\u001b[39m.\u001b[39mraw:\n\u001b[0;32m    725\u001b[0m     \u001b[39mreturn\u001b[39;00m \u001b[39mself\u001b[39m\u001b[39m.\u001b[39mapply_raw()\n\u001b[1;32m--> 727\u001b[0m \u001b[39mreturn\u001b[39;00m \u001b[39mself\u001b[39;49m\u001b[39m.\u001b[39;49mapply_standard()\n",
      "File \u001b[1;32mc:\\Users\\Usuario\\anaconda\\lib\\site-packages\\pandas\\core\\apply.py:851\u001b[0m, in \u001b[0;36mFrameApply.apply_standard\u001b[1;34m(self)\u001b[0m\n\u001b[0;32m    850\u001b[0m \u001b[39mdef\u001b[39;00m \u001b[39mapply_standard\u001b[39m(\u001b[39mself\u001b[39m):\n\u001b[1;32m--> 851\u001b[0m     results, res_index \u001b[39m=\u001b[39m \u001b[39mself\u001b[39;49m\u001b[39m.\u001b[39;49mapply_series_generator()\n\u001b[0;32m    853\u001b[0m     \u001b[39m# wrap results\u001b[39;00m\n\u001b[0;32m    854\u001b[0m     \u001b[39mreturn\u001b[39;00m \u001b[39mself\u001b[39m\u001b[39m.\u001b[39mwrap_results(results, res_index)\n",
      "File \u001b[1;32mc:\\Users\\Usuario\\anaconda\\lib\\site-packages\\pandas\\core\\apply.py:867\u001b[0m, in \u001b[0;36mFrameApply.apply_series_generator\u001b[1;34m(self)\u001b[0m\n\u001b[0;32m    864\u001b[0m \u001b[39mwith\u001b[39;00m option_context(\u001b[39m\"\u001b[39m\u001b[39mmode.chained_assignment\u001b[39m\u001b[39m\"\u001b[39m, \u001b[39mNone\u001b[39;00m):\n\u001b[0;32m    865\u001b[0m     \u001b[39mfor\u001b[39;00m i, v \u001b[39min\u001b[39;00m \u001b[39menumerate\u001b[39m(series_gen):\n\u001b[0;32m    866\u001b[0m         \u001b[39m# ignore SettingWithCopy here in case the user mutates\u001b[39;00m\n\u001b[1;32m--> 867\u001b[0m         results[i] \u001b[39m=\u001b[39m \u001b[39mself\u001b[39;49m\u001b[39m.\u001b[39;49mf(v)\n\u001b[0;32m    868\u001b[0m         \u001b[39mif\u001b[39;00m \u001b[39misinstance\u001b[39m(results[i], ABCSeries):\n\u001b[0;32m    869\u001b[0m             \u001b[39m# If we have a view on v, we need to make a copy because\u001b[39;00m\n\u001b[0;32m    870\u001b[0m             \u001b[39m#  series_generator will swap out the underlying data\u001b[39;00m\n\u001b[0;32m    871\u001b[0m             results[i] \u001b[39m=\u001b[39m results[i]\u001b[39m.\u001b[39mcopy(deep\u001b[39m=\u001b[39m\u001b[39mFalse\u001b[39;00m)\n",
      "\u001b[1;32mc:\\Users\\Usuario\\Desktop\\dh\\DH-TP1-clear-data-properati\\src\\marianela.ipynb Celda 17\u001b[0m in \u001b[0;36m<lambda>\u001b[1;34m(x)\u001b[0m\n\u001b[1;32m----> <a href='vscode-notebook-cell:/c%3A/Users/Usuario/Desktop/dh/DH-TP1-clear-data-properati/src/marianela.ipynb#X24sZmlsZQ%3D%3D?line=0'>1</a>\u001b[0m mask\u001b[39m=\u001b[39mdata\u001b[39m.\u001b[39mapply(\u001b[39mlambda\u001b[39;00m x: x[\u001b[39m\"\u001b[39;49m\u001b[39mlat-lon\u001b[39;49m\u001b[39m\"\u001b[39;49m]\u001b[39m==\u001b[39m x[\u001b[39m\"\u001b[39m\u001b[39mlat\u001b[39m\u001b[39m\"\u001b[39m] \u001b[39m+\u001b[39m \u001b[39m\"\u001b[39m\u001b[39m-\u001b[39m\u001b[39m\"\u001b[39m \u001b[39m+\u001b[39m x[\u001b[39m\"\u001b[39m\u001b[39mlon\u001b[39m\u001b[39m\"\u001b[39m])\n\u001b[0;32m      <a href='vscode-notebook-cell:/c%3A/Users/Usuario/Desktop/dh/DH-TP1-clear-data-properati/src/marianela.ipynb#X24sZmlsZQ%3D%3D?line=1'>2</a>\u001b[0m mask\n",
      "File \u001b[1;32mc:\\Users\\Usuario\\anaconda\\lib\\site-packages\\pandas\\core\\series.py:958\u001b[0m, in \u001b[0;36mSeries.__getitem__\u001b[1;34m(self, key)\u001b[0m\n\u001b[0;32m    955\u001b[0m     \u001b[39mreturn\u001b[39;00m \u001b[39mself\u001b[39m\u001b[39m.\u001b[39m_values[key]\n\u001b[0;32m    957\u001b[0m \u001b[39melif\u001b[39;00m key_is_scalar:\n\u001b[1;32m--> 958\u001b[0m     \u001b[39mreturn\u001b[39;00m \u001b[39mself\u001b[39;49m\u001b[39m.\u001b[39;49m_get_value(key)\n\u001b[0;32m    960\u001b[0m \u001b[39mif\u001b[39;00m is_hashable(key):\n\u001b[0;32m    961\u001b[0m     \u001b[39m# Otherwise index.get_value will raise InvalidIndexError\u001b[39;00m\n\u001b[0;32m    962\u001b[0m     \u001b[39mtry\u001b[39;00m:\n\u001b[0;32m    963\u001b[0m         \u001b[39m# For labels that don't resolve as scalars like tuples and frozensets\u001b[39;00m\n",
      "File \u001b[1;32mc:\\Users\\Usuario\\anaconda\\lib\\site-packages\\pandas\\core\\series.py:1069\u001b[0m, in \u001b[0;36mSeries._get_value\u001b[1;34m(self, label, takeable)\u001b[0m\n\u001b[0;32m   1066\u001b[0m     \u001b[39mreturn\u001b[39;00m \u001b[39mself\u001b[39m\u001b[39m.\u001b[39m_values[label]\n\u001b[0;32m   1068\u001b[0m \u001b[39m# Similar to Index.get_value, but we do not fall back to positional\u001b[39;00m\n\u001b[1;32m-> 1069\u001b[0m loc \u001b[39m=\u001b[39m \u001b[39mself\u001b[39;49m\u001b[39m.\u001b[39;49mindex\u001b[39m.\u001b[39;49mget_loc(label)\n\u001b[0;32m   1070\u001b[0m \u001b[39mreturn\u001b[39;00m \u001b[39mself\u001b[39m\u001b[39m.\u001b[39mindex\u001b[39m.\u001b[39m_get_values_for_loc(\u001b[39mself\u001b[39m, loc, label)\n",
      "File \u001b[1;32mc:\\Users\\Usuario\\anaconda\\lib\\site-packages\\pandas\\core\\indexes\\range.py:389\u001b[0m, in \u001b[0;36mRangeIndex.get_loc\u001b[1;34m(self, key, method, tolerance)\u001b[0m\n\u001b[0;32m    387\u001b[0m             \u001b[39mraise\u001b[39;00m \u001b[39mKeyError\u001b[39;00m(key) \u001b[39mfrom\u001b[39;00m \u001b[39merr\u001b[39;00m\n\u001b[0;32m    388\u001b[0m     \u001b[39mself\u001b[39m\u001b[39m.\u001b[39m_check_indexing_error(key)\n\u001b[1;32m--> 389\u001b[0m     \u001b[39mraise\u001b[39;00m \u001b[39mKeyError\u001b[39;00m(key)\n\u001b[0;32m    390\u001b[0m \u001b[39mreturn\u001b[39;00m \u001b[39msuper\u001b[39m()\u001b[39m.\u001b[39mget_loc(key, method\u001b[39m=\u001b[39mmethod, tolerance\u001b[39m=\u001b[39mtolerance)\n",
      "\u001b[1;31mKeyError\u001b[0m: 'lat-lon'"
     ]
    }
   ],
   "source": [
    "mask=data.apply(lambda x: x[\"lat-lon\"]== x[\"lat\"] + \"-\" + x[\"lon\"])\n",
    "mask"
   ]
  },
  {
   "cell_type": "markdown",
   "metadata": {},
   "source": [
    "# Porcentaje de valores nulos"
   ]
  },
  {
   "cell_type": "code",
   "execution_count": 19,
   "metadata": {},
   "outputs": [
    {
     "data": {
      "text/plain": [
       "Unnamed: 0                     0.000000\n",
       "operation                      0.000000\n",
       "property_type                  0.000000\n",
       "place_name                     0.018974\n",
       "place_with_parent_names        0.000000\n",
       "country_name                   0.000000\n",
       "state_name                     0.000000\n",
       "geonames_id                   15.440521\n",
       "lat-lon                       42.525986\n",
       "lat                           42.525986\n",
       "lon                           42.525986\n",
       "price                         16.837156\n",
       "currency                      16.837981\n",
       "price_aprox_local_currency    16.837156\n",
       "price_aprox_usd               16.837156\n",
       "surface_total_in_m2           32.443491\n",
       "surface_covered_in_m2         16.422208\n",
       "price_usd_per_m2              43.394654\n",
       "price_per_m2                  27.686850\n",
       "floor                         93.483749\n",
       "rooms                         60.905791\n",
       "expenses                      88.234615\n",
       "properati_url                  0.000000\n",
       "description                    0.001650\n",
       "title                          0.000000\n",
       "image_thumbnail                2.567233\n",
       "dtype: float64"
      ]
     },
     "execution_count": 19,
     "metadata": {},
     "output_type": "execute_result"
    }
   ],
   "source": [
    "data.isnull().mean()*100"
   ]
  }
 ],
 "metadata": {
  "kernelspec": {
   "display_name": "Python 3.9.12 ('base')",
   "language": "python",
   "name": "python3"
  },
  "language_info": {
   "codemirror_mode": {
    "name": "ipython",
    "version": 3
   },
   "file_extension": ".py",
   "mimetype": "text/x-python",
   "name": "python",
   "nbconvert_exporter": "python",
   "pygments_lexer": "ipython3",
   "version": "3.9.12"
  },
  "vscode": {
   "interpreter": {
    "hash": "b2a747836dbd3d24a41a2e0f1be3b2e08d73c43f6ab8cf54c59a433ce2434b74"
   }
  }
 },
 "nbformat": 4,
 "nbformat_minor": 4
}
